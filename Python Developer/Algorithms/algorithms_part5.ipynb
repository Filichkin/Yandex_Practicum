{
 "cells": [
  {
   "cell_type": "markdown",
   "id": "5751eaa4",
   "metadata": {
    "toc": true
   },
   "source": [
    "<h1>Dijkstra’s algorithm<span class=\"tocSkip\"></span></h1>\n",
    "<div class=\"toc\"><ul class=\"toc-item\"></ul></div>"
   ]
  },
  {
   "cell_type": "code",
   "execution_count": 1,
   "id": "c87c0fa7",
   "metadata": {},
   "outputs": [],
   "source": [
    "import math"
   ]
  },
  {
   "cell_type": "code",
   "execution_count": 3,
   "id": "931cf3fe",
   "metadata": {},
   "outputs": [],
   "source": [
    "graph = {}\n",
    "graph['my'] = ['Alisa', 'Bob', 'Klar']"
   ]
  },
  {
   "cell_type": "code",
   "execution_count": 4,
   "id": "2ad9d8b7",
   "metadata": {},
   "outputs": [
    {
     "data": {
      "text/plain": [
       "{'my': ['Alisa', 'Bob', 'Klar']}"
      ]
     },
     "execution_count": 4,
     "metadata": {},
     "output_type": "execute_result"
    }
   ],
   "source": [
    "graph"
   ]
  },
  {
   "cell_type": "code",
   "execution_count": 5,
   "id": "b923509d",
   "metadata": {
    "scrolled": true
   },
   "outputs": [],
   "source": [
    "graph['start'] = {}\n",
    "graph['start']['a'] = 6\n",
    "graph['start']['b'] = 2"
   ]
  },
  {
   "cell_type": "code",
   "execution_count": 6,
   "id": "4703425d",
   "metadata": {},
   "outputs": [
    {
     "data": {
      "text/plain": [
       "{'my': ['Alisa', 'Bob', 'Klar'], 'start': {'a': 6, 'b': 2}}"
      ]
     },
     "execution_count": 6,
     "metadata": {},
     "output_type": "execute_result"
    }
   ],
   "source": [
    "graph"
   ]
  },
  {
   "cell_type": "code",
   "execution_count": 7,
   "id": "179d1821",
   "metadata": {},
   "outputs": [
    {
     "name": "stdout",
     "output_type": "stream",
     "text": [
      "['a', 'b']\n"
     ]
    }
   ],
   "source": [
    "print(list(graph['start'].keys()))"
   ]
  },
  {
   "cell_type": "code",
   "execution_count": 8,
   "id": "85ff33be",
   "metadata": {},
   "outputs": [],
   "source": [
    "graph['a'] = {}\n",
    "graph['a']['fin'] = 1"
   ]
  },
  {
   "cell_type": "code",
   "execution_count": 9,
   "id": "0244ae05",
   "metadata": {},
   "outputs": [],
   "source": [
    "graph['b'] = {}\n",
    "graph['b']['a'] = 3\n",
    "graph['b']['fin'] = 5\n",
    "\n",
    "graph['fin'] = {}"
   ]
  },
  {
   "cell_type": "code",
   "execution_count": 10,
   "id": "5bca5565",
   "metadata": {},
   "outputs": [
    {
     "data": {
      "text/plain": [
       "{'my': ['Alisa', 'Bob', 'Klar'],\n",
       " 'start': {'a': 6, 'b': 2},\n",
       " 'a': {'fin': 1},\n",
       " 'b': {'a': 3, 'fin': 5},\n",
       " 'fin': {}}"
      ]
     },
     "execution_count": 10,
     "metadata": {},
     "output_type": "execute_result"
    }
   ],
   "source": [
    "graph"
   ]
  },
  {
   "cell_type": "markdown",
   "id": "ba6aa37a",
   "metadata": {},
   "source": [
    "Хеш-таблица для хранения стоимостей всех узлов:"
   ]
  },
  {
   "cell_type": "code",
   "execution_count": 11,
   "id": "163ca709",
   "metadata": {},
   "outputs": [],
   "source": [
    "infinity = math.inf\n",
    "costs = {}\n",
    "costs['a'] = 6\n",
    "costs['b'] = 2\n",
    "costs['fin'] = infinity"
   ]
  },
  {
   "cell_type": "markdown",
   "id": "d56477e5",
   "metadata": {},
   "source": [
    "Хеш-таблица родителей:"
   ]
  },
  {
   "cell_type": "code",
   "execution_count": 12,
   "id": "d72f2a23",
   "metadata": {},
   "outputs": [],
   "source": [
    "parents = {}\n",
    "parents['a'] = 'start'\n",
    "parents['b'] = 'start'\n",
    "parents['fin'] = None"
   ]
  },
  {
   "cell_type": "markdown",
   "id": "cc16114b",
   "metadata": {},
   "source": [
    "Массив для отслеживания всех обработанных узлов:"
   ]
  },
  {
   "cell_type": "code",
   "execution_count": 13,
   "id": "d25676e0",
   "metadata": {},
   "outputs": [],
   "source": [
    "processed = set()"
   ]
  },
  {
   "cell_type": "code",
   "execution_count": 14,
   "id": "d739bab5",
   "metadata": {},
   "outputs": [
    {
     "data": {
      "text/plain": [
       "{'a': 6, 'b': 2, 'fin': inf}"
      ]
     },
     "execution_count": 14,
     "metadata": {},
     "output_type": "execute_result"
    }
   ],
   "source": [
    "costs"
   ]
  },
  {
   "cell_type": "code",
   "execution_count": 15,
   "id": "743d8e45",
   "metadata": {},
   "outputs": [],
   "source": [
    "def find_lower_cost_node(costs):\n",
    "    lower_cost = math.inf\n",
    "    lower_cost_node = None\n",
    "    for node in costs:\n",
    "        cost = costs[node]\n",
    "        if cost < lower_cost and node not in processed:\n",
    "            lower_cost = cost\n",
    "            lower_cost_node = node\n",
    "    return lower_cost_node"
   ]
  },
  {
   "cell_type": "code",
   "execution_count": 16,
   "id": "07886a72",
   "metadata": {},
   "outputs": [],
   "source": [
    "node = find_lower_cost_node(costs)"
   ]
  },
  {
   "cell_type": "code",
   "execution_count": 17,
   "id": "cb58edf6",
   "metadata": {},
   "outputs": [
    {
     "data": {
      "text/plain": [
       "'b'"
      ]
     },
     "execution_count": 17,
     "metadata": {},
     "output_type": "execute_result"
    }
   ],
   "source": [
    "node"
   ]
  },
  {
   "cell_type": "code",
   "execution_count": 18,
   "id": "fc75de52",
   "metadata": {},
   "outputs": [
    {
     "data": {
      "text/plain": [
       "{'a': 3, 'fin': 5}"
      ]
     },
     "execution_count": 18,
     "metadata": {},
     "output_type": "execute_result"
    }
   ],
   "source": [
    "graph['b']"
   ]
  },
  {
   "cell_type": "code",
   "execution_count": 19,
   "id": "e5840b45",
   "metadata": {},
   "outputs": [
    {
     "data": {
      "text/plain": [
       "2"
      ]
     },
     "execution_count": 19,
     "metadata": {},
     "output_type": "execute_result"
    }
   ],
   "source": [
    "costs['b']"
   ]
  },
  {
   "cell_type": "code",
   "execution_count": 20,
   "id": "17735919",
   "metadata": {},
   "outputs": [],
   "source": [
    "while node is not None:\n",
    "    cost = costs[node]\n",
    "    neighbors = graph[node]\n",
    "    for n in neighbors.keys():\n",
    "        new_cost = cost + neighbors[n]\n",
    "        if costs[n] > new_cost:\n",
    "            costs[n] = new_cost\n",
    "            parents[n] = node\n",
    "    processed.add(node)\n",
    "    node = find_lower_cost_node(costs)"
   ]
  },
  {
   "cell_type": "code",
   "execution_count": 21,
   "id": "bdc604bb",
   "metadata": {},
   "outputs": [
    {
     "data": {
      "text/plain": [
       "{'a': 5, 'b': 2, 'fin': 6}"
      ]
     },
     "execution_count": 21,
     "metadata": {},
     "output_type": "execute_result"
    }
   ],
   "source": [
    "costs"
   ]
  },
  {
   "cell_type": "code",
   "execution_count": null,
   "id": "62912be2",
   "metadata": {},
   "outputs": [],
   "source": []
  }
 ],
 "metadata": {
  "kernelspec": {
   "display_name": "Python 3 (ipykernel)",
   "language": "python",
   "name": "python3"
  },
  "language_info": {
   "codemirror_mode": {
    "name": "ipython",
    "version": 3
   },
   "file_extension": ".py",
   "mimetype": "text/x-python",
   "name": "python",
   "nbconvert_exporter": "python",
   "pygments_lexer": "ipython3",
   "version": "3.12.2"
  },
  "toc": {
   "base_numbering": 1,
   "nav_menu": {},
   "number_sections": true,
   "sideBar": true,
   "skip_h1_title": false,
   "title_cell": "Dijkstra’s algorithm",
   "title_sidebar": "Contents",
   "toc_cell": true,
   "toc_position": {
    "height": "calc(100% - 180px)",
    "left": "10px",
    "top": "150px",
    "width": "302.390625px"
   },
   "toc_section_display": true,
   "toc_window_display": false
  },
  "varInspector": {
   "cols": {
    "lenName": 16,
    "lenType": 16,
    "lenVar": 40
   },
   "kernels_config": {
    "python": {
     "delete_cmd_postfix": "",
     "delete_cmd_prefix": "del ",
     "library": "var_list.py",
     "varRefreshCmd": "print(var_dic_list())"
    },
    "r": {
     "delete_cmd_postfix": ") ",
     "delete_cmd_prefix": "rm(",
     "library": "var_list.r",
     "varRefreshCmd": "cat(var_dic_list()) "
    }
   },
   "types_to_exclude": [
    "module",
    "function",
    "builtin_function_or_method",
    "instance",
    "_Feature"
   ],
   "window_display": false
  }
 },
 "nbformat": 4,
 "nbformat_minor": 5
}
