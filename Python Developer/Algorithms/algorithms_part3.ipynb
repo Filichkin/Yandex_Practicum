{
 "cells": [
  {
   "cell_type": "markdown",
   "id": "39400654",
   "metadata": {
    "toc": true
   },
   "source": [
    "<h1>Python algorithms part 3<span class=\"tocSkip\"></span></h1>\n",
    "<div class=\"toc\"><ul class=\"toc-item\"><li><span><a href=\"#Задача-«Обойди-дерево»\" data-toc-modified-id=\"Задача-«Обойди-дерево»-1\"><span class=\"toc-item-num\">1&nbsp;&nbsp;</span>Задача «Обойди дерево»</a></span></li><li><span><a href=\"#Камни-с-Марса\" data-toc-modified-id=\"Камни-с-Марса-2\"><span class=\"toc-item-num\">2&nbsp;&nbsp;</span>Камни с Марса</a></span></li><li><span><a href=\"#Динамическое-программирование:-посылка-на-Марс\" data-toc-modified-id=\"Динамическое-программирование:-посылка-на-Марс-3\"><span class=\"toc-item-num\">3&nbsp;&nbsp;</span>Динамическое программирование: посылка на Марс</a></span></li></ul></div>"
   ]
  },
  {
   "cell_type": "markdown",
   "id": "5aecf24c",
   "metadata": {},
   "source": [
    "Ваша задача — дописать функцию, которая принимает на вход бинарное дерево (генеалогическое древо) и возвращает сумму значений space_experience всех узлов этого дерева."
   ]
  },
  {
   "cell_type": "markdown",
   "id": "99fe3556",
   "metadata": {},
   "source": [
    "### Задача «Обойди дерево»"
   ]
  },
  {
   "cell_type": "code",
   "execution_count": 1,
   "id": "bd578354",
   "metadata": {},
   "outputs": [
    {
     "name": "stdout",
     "output_type": "stream",
     "text": [
      "41\n"
     ]
    }
   ],
   "source": [
    "from __future__ import annotations\n",
    "from typing import Optional\n",
    "\n",
    "\n",
    "class Spaceman:\n",
    "\n",
    "    def __init__(\n",
    "            self,\n",
    "            name: str,\n",
    "            space_experience: int,\n",
    "            father: Optional[Spaceman] = None,\n",
    "            mother: Optional[Spaceman] = None,\n",
    "    ):\n",
    "        self.name = name\n",
    "        self.space_experience = space_experience\n",
    "        self.father = father\n",
    "        self.mother = mother\n",
    "\n",
    "\n",
    "def count_dynasty_experience(spaceman: Spaceman) -> int:\n",
    "    total_experience = spaceman.space_experience\n",
    "    # Доработайте функцию, чтобы она считала\n",
    "    # суммарный опыт династии космонавтов.\n",
    "    if spaceman.father:\n",
    "        total_experience += count_dynasty_experience(spaceman.father)\n",
    "    if spaceman.mother:\n",
    "        total_experience += count_dynasty_experience(spaceman.mother)\n",
    "    return total_experience\n",
    "\n",
    "\n",
    "yu_a_tatarin = Spaceman(\n",
    "    name='Юрий Алексеевич Татарин',\n",
    "    space_experience=10,\n",
    "    father=Spaceman(\n",
    "        name='Алексей Михайлович Татарин',\n",
    "        space_experience=25,\n",
    "        mother=Spaceman(\n",
    "            name='Евгения Владимировна Беляева',\n",
    "            space_experience=1\n",
    "        )\n",
    "    ),\n",
    "    mother=Spaceman('Ангелина Васильевна Черенкова', 5)\n",
    ")\n",
    "result = count_dynasty_experience(yu_a_tatarin)\n",
    "print(result)"
   ]
  },
  {
   "cell_type": "markdown",
   "id": "ce9041dc",
   "metadata": {},
   "source": [
    "### Камни с Марса"
   ]
  },
  {
   "cell_type": "markdown",
   "id": "c59415b3",
   "metadata": {},
   "source": [
    "При отправке марсианской миссии множество научных лабораторий и музеев сделали заказы на доставку образцов марсианских горных пород.\n",
    "\n",
    "В каждом заказе обозначен минимальный вес требуемого образца: заказчик готов получить образец указанного веса или тяжелее, но никак не меньше.\n",
    "\n",
    "Марсианские булыжники были доставлены на Землю, но ни их количество, ни вес не соответствуют заказам в точности:\n",
    "\n",
    "8 5 5 8 6 9 8 2 4 7   # Заказано 10 образцов;\n",
    "\n",
    "Каждый элемент - вес заказанного образца.\n",
    "\n",
    "9 8 1 1 1 5 10 8      # Доставлено 8 образцов;\n",
    "\n",
    "Каждый элемент - вес доставленного образца.\n",
    "                      \n",
    "Ваша задача: написать программу, которая распределит образцы между заказчиками оптимальным образом — так, чтобы выполнить требования максимального числа заказчиков.\n",
    "\n",
    "Требование заказчика считается выполненным, если он получит образец, вес которого равен заказанному или превышает заказанный вес.\n",
    "\n",
    "Программа должна вернуть число заказчиков, которые получили образцы, соответствующие их требованиям.\n",
    "\n",
    "8 5 5 8 6 9 8 2 4 7   # Заказано.\n",
    "\n",
    "9 8 1 1 1 5 10 8      # Доставлено.\n",
    "\n",
    "8 5 5 8  6 9 8 2 4 7  # Доставленные образцы, распределённые между заказчиками\n",
    "\n",
    "| | | |  |            # (один из возможных вариантов).\n",
    "\n",
    "9 8 5 10 8            # Три образца весом 1 кг остались невостребованными.\n",
    "\n",
    "Результат (число заказчиков, получивших желаемое): 5\n",
    "\n",
    "Булыжники нельзя дробить на части, а каждый заказчик может получить только по одному образцу.\n"
   ]
  },
  {
   "cell_type": "code",
   "execution_count": 4,
   "id": "95856d75",
   "metadata": {
    "scrolled": true
   },
   "outputs": [
    {
     "name": "stdout",
     "output_type": "stream",
     "text": [
      "10\n",
      "8 5 5 8 6 9 8 2 4 7\n",
      "8\n",
      "9 8 1 1 1 5 10 8\n",
      "5\n"
     ]
    }
   ],
   "source": [
    "def orders_distribution(orders_arr, delivery_arr):\n",
    "    counter = 0\n",
    "    orders_arr = sorted(orders_arr)\n",
    "    delivery_arr = sorted(delivery_arr)\n",
    "    i, j = 0, 0\n",
    "\n",
    "    while i < len(orders_arr) and j < len(delivery_arr):\n",
    "        if orders_arr[i] <= delivery_arr[j]:\n",
    "            counter += 1\n",
    "            i += 1\n",
    "        j += 1\n",
    "    return counter\n",
    "\n",
    "orders_qty  = int(input().strip())\n",
    "orders_weight = [int(number) for number in input().split()]\n",
    "delivery_qty = int(input().strip())\n",
    "delivery_weight = [int(number) for number in input().split()]\n",
    "\n",
    "\n",
    "print(orders_distribution(orders_weight, delivery_weight))"
   ]
  },
  {
   "cell_type": "markdown",
   "id": "87fb73a0",
   "metadata": {},
   "source": [
    "### Динамическое программирование: посылка на Марс"
   ]
  },
  {
   "cell_type": "code",
   "execution_count": 5,
   "id": "2b5108a1",
   "metadata": {},
   "outputs": [
    {
     "name": "stdout",
     "output_type": "stream",
     "text": [
      "[[[0, []], [0, []], [0, []], [0, []], [0, []]],\n",
      " [[0, []],\n",
      "  [3, ['гигрометр']],\n",
      "  [3, ['гигрометр']],\n",
      "  [3, ['гигрометр']],\n",
      "  [3, ['гигрометр']]],\n",
      " [[0, []],\n",
      "  [3, ['гигрометр']],\n",
      "  [3, ['гигрометр']],\n",
      "  [3, ['гигрометр']],\n",
      "  [6, ['масс-спектрометр']]],\n",
      " [[0, []],\n",
      "  [3, ['гигрометр']],\n",
      "  [3, ['гигрометр']],\n",
      "  [4, ['нивелир']],\n",
      "  [7, ['гигрометр', 'нивелир']]],\n",
      " [[0, []],\n",
      "  [4, ['интерферометр']],\n",
      "  [7, ['гигрометр', 'интерферометр']],\n",
      "  [7, ['гигрометр', 'интерферометр']],\n",
      "  [8, ['нивелир', 'интерферометр']]]]\n",
      "нивелир, интерферометр\n"
     ]
    }
   ],
   "source": [
    "from pprint import pprint\n",
    "\n",
    "\n",
    "def backpack_problem_solution(\n",
    "        tools: list[tuple[str, int, int]], capacity: int\n",
    ") -> str:\n",
    "    # Сохраняем количество приборов в переменную.\n",
    "    items_count = len(tools)\n",
    "    # Создаём таблицу. В каждой ячейке должны храниться число и список:\n",
    "    # количество экспериментов и список приборов. Для простоты подсчётов \n",
    "    # добавим строку с отсутствием рассматриваемых приборов\n",
    "    # и столбец с нулевой вместимостью контейнера.\n",
    "    table = [\n",
    "        [[0, []] for _ in range(capacity + 1)] for _ in range(items_count + 1)\n",
    "    ]\n",
    "    # Для каждого прибора:\n",
    "    for row_number in range(1, items_count + 1):\n",
    "        # Распаковываем кортеж с данными о приборе.\n",
    "        name, mass, experiments = tools[row_number - 1]\n",
    "        # Для контейнера вместимостью от 1 и до максимальной вместимости:\n",
    "        for volume in range(1, capacity + 1):\n",
    "            # Если вес прибора меньше или равен \n",
    "            # вместимости рассматриваемого контейнера.\n",
    "            if mass <= volume:\n",
    "                # Считаем количество экспериментов для текущего прибора\n",
    "                # плюс наилучшее решение для оставшейся вместимости \n",
    "                # из предыдущей строки.\n",
    "                total_experiments_with_current_tool = (\n",
    "                    experiments + table[row_number - 1][volume - mass][0]\n",
    "                )\n",
    "                # Количество экспериментов \n",
    "                # в текущей колонке на предыдущей строке:\n",
    "                previous_result = table[row_number - 1][volume][0]\n",
    "                # Если результат с текущим прибором лучше:\n",
    "                if total_experiments_with_current_tool > previous_result:\n",
    "                    # Записываем количество экспериментов.\n",
    "                    table[row_number][volume][0] = (\n",
    "                        total_experiments_with_current_tool\n",
    "                    )\n",
    "                    # Копируем список приборов из предыдущей строки \n",
    "                    # из ячейки, равной оставшейся вместимости.\n",
    "                    table[row_number][volume][1] = list.copy(\n",
    "                        table[row_number - 1][volume - mass][1]\n",
    "                    )\n",
    "                    # Добавляем к списку приборов\n",
    "                    # имя текущего прибора.\n",
    "                    table[row_number][volume][1].append(name)\n",
    "                else:\n",
    "                    # Если результат с рассматриваемым прибором \n",
    "                    # хуже или такой же -\n",
    "                    # переносим результат с предыдущей строки.\n",
    "                    table[row_number][volume] = table[row_number - 1][volume]\n",
    "            else:\n",
    "                # Если масса рассматриваемого прибора \n",
    "                # больше вместимости ячейки - \n",
    "                # переносим результат с предыдущей строки.\n",
    "                table[row_number][volume] = table[row_number - 1][volume]\n",
    "    # Распечатываем таблицу для проверки.\n",
    "    pprint(table)\n",
    "    # Возвращаем строку с названиями приборов\n",
    "    # из нижней правой ячейки таблицы, через запятую.\n",
    "    return ', '.join(table[-1][-1][-1])    \n",
    "\n",
    "\n",
    "if __name__ == '__main__':\n",
    "    # [('название прибора', масса, количество экспериментов)]\n",
    "    tools = [\n",
    "        ('гигрометр', 1, 3),\n",
    "        ('масс-спектрометр', 4, 6),\n",
    "        ('нивелир', 3, 4),\n",
    "        ('интерферометр', 1, 4)\n",
    "    ]\n",
    "    result = backpack_problem_solution(tools, 4)\n",
    "    print(result)\n",
    " \n"
   ]
  },
  {
   "cell_type": "code",
   "execution_count": null,
   "id": "28cb9ed2",
   "metadata": {},
   "outputs": [],
   "source": []
  }
 ],
 "metadata": {
  "kernelspec": {
   "display_name": "Python 3 (ipykernel)",
   "language": "python",
   "name": "python3"
  },
  "language_info": {
   "codemirror_mode": {
    "name": "ipython",
    "version": 3
   },
   "file_extension": ".py",
   "mimetype": "text/x-python",
   "name": "python",
   "nbconvert_exporter": "python",
   "pygments_lexer": "ipython3",
   "version": "3.12.2"
  },
  "toc": {
   "base_numbering": 1,
   "nav_menu": {},
   "number_sections": true,
   "sideBar": true,
   "skip_h1_title": false,
   "title_cell": "Python algorithms part 3",
   "title_sidebar": "Contents",
   "toc_cell": true,
   "toc_position": {
    "height": "calc(100% - 180px)",
    "left": "10px",
    "top": "150px",
    "width": "302.390625px"
   },
   "toc_section_display": true,
   "toc_window_display": false
  },
  "varInspector": {
   "cols": {
    "lenName": 16,
    "lenType": 16,
    "lenVar": 40
   },
   "kernels_config": {
    "python": {
     "delete_cmd_postfix": "",
     "delete_cmd_prefix": "del ",
     "library": "var_list.py",
     "varRefreshCmd": "print(var_dic_list())"
    },
    "r": {
     "delete_cmd_postfix": ") ",
     "delete_cmd_prefix": "rm(",
     "library": "var_list.r",
     "varRefreshCmd": "cat(var_dic_list()) "
    }
   },
   "types_to_exclude": [
    "module",
    "function",
    "builtin_function_or_method",
    "instance",
    "_Feature"
   ],
   "window_display": false
  }
 },
 "nbformat": 4,
 "nbformat_minor": 5
}
