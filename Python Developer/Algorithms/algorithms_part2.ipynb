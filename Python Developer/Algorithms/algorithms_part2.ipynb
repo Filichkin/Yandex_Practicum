{
 "cells": [
  {
   "cell_type": "markdown",
   "id": "c1449dd4",
   "metadata": {
    "toc": true
   },
   "source": [
    "<h1>Python algorithms part 2<span class=\"tocSkip\"></span></h1>\n",
    "<div class=\"toc\"><ul class=\"toc-item\"><li><span><a href=\"#Стек-вызовов\" data-toc-modified-id=\"Стек-вызовов-1\"><span class=\"toc-item-num\">1&nbsp;&nbsp;</span>Стек вызовов</a></span></li><li><span><a href=\"#Рекурсия\" data-toc-modified-id=\"Рекурсия-2\"><span class=\"toc-item-num\">2&nbsp;&nbsp;</span>Рекурсия</a></span><ul class=\"toc-item\"><li><span><a href=\"#Барометр-Фибоначчи\" data-toc-modified-id=\"Барометр-Фибоначчи-2.1\"><span class=\"toc-item-num\">2.1&nbsp;&nbsp;</span>Барометр Фибоначчи</a></span></li><li><span><a href=\"#Проект-С.Ч.И.Т.А.Л.К.А.\" data-toc-modified-id=\"Проект-С.Ч.И.Т.А.Л.К.А.-2.2\"><span class=\"toc-item-num\">2.2&nbsp;&nbsp;</span>Проект С.Ч.И.Т.А.Л.К.А.</a></span></li><li><span><a href=\"#Рекурсивный-алгоритм-бинарного-поиска\" data-toc-modified-id=\"Рекурсивный-алгоритм-бинарного-поиска-2.3\"><span class=\"toc-item-num\">2.3&nbsp;&nbsp;</span>Рекурсивный алгоритм бинарного поиска</a></span></li></ul></li><li><span><a href=\"#Сортировка-вставками\" data-toc-modified-id=\"Сортировка-вставками-3\"><span class=\"toc-item-num\">3&nbsp;&nbsp;</span>Сортировка вставками</a></span><ul class=\"toc-item\"><li><span><a href=\"#Сортировка-по-шаблону\" data-toc-modified-id=\"Сортировка-по-шаблону-3.1\"><span class=\"toc-item-num\">3.1&nbsp;&nbsp;</span>Сортировка по шаблону</a></span></li></ul></li><li><span><a href=\"#Сортировка-вставками:-ключи-для-сортировки\" data-toc-modified-id=\"Сортировка-вставками:-ключи-для-сортировки-4\"><span class=\"toc-item-num\">4&nbsp;&nbsp;</span>Сортировка вставками: ключи для сортировки</a></span><ul class=\"toc-item\"><li><span><a href=\"#Встроенная-в-Python-сортировка-по-ключу\" data-toc-modified-id=\"Встроенная-в-Python-сортировка-по-ключу-4.1\"><span class=\"toc-item-num\">4.1&nbsp;&nbsp;</span>Встроенная в Python сортировка по ключу</a></span></li></ul></li><li><span><a href=\"#Сортировка-слиянием:-реализация-в-коде\" data-toc-modified-id=\"Сортировка-слиянием:-реализация-в-коде-5\"><span class=\"toc-item-num\">5&nbsp;&nbsp;</span>Сортировка слиянием: реализация в коде</a></span></li><li><span><a href=\"#Быстрая-сортировка\" data-toc-modified-id=\"Быстрая-сортировка-6\"><span class=\"toc-item-num\">6&nbsp;&nbsp;</span>Быстрая сортировка</a></span></li><li><span><a href=\"#Сортировка-подсчётом\" data-toc-modified-id=\"Сортировка-подсчётом-7\"><span class=\"toc-item-num\">7&nbsp;&nbsp;</span>Сортировка подсчётом</a></span><ul class=\"toc-item\"><li><span><a href=\"#Сортировка-слиянием-блоков\" data-toc-modified-id=\"Сортировка-слиянием-блоков-7.1\"><span class=\"toc-item-num\">7.1&nbsp;&nbsp;</span>Сортировка слиянием блоков</a></span></li></ul></li></ul></div>"
   ]
  },
  {
   "cell_type": "markdown",
   "id": "ef64568e",
   "metadata": {},
   "source": [
    "## Стек вызовов"
   ]
  },
  {
   "cell_type": "code",
   "execution_count": null,
   "id": "77043f1a",
   "metadata": {},
   "outputs": [],
   "source": [
    "import inspect\n",
    "\n",
    "\n",
    "def print_call_stack():\n",
    "    # Функция inspect.stack() возвращает объект-генератор.\n",
    "    # В каждом элементе генератора хранится именованный кортеж.\n",
    "    # Из этого кортежа берём элемент с названием function: frame.function.\n",
    "    # В этом элементе хранится название вызванной функции.\n",
    "    print([frame.function for frame in inspect.stack()])\n",
    "\n",
    "\n",
    "def inner():\n",
    "    print_call_stack()  # 4, 7\n",
    "\n",
    "\n",
    "def outer():\n",
    "    print_call_stack()  # 3\n",
    "    inner()\n",
    "    print_call_stack()  # 5\n",
    "\n",
    "\n",
    "# А это ответ на вопрос, который сейчас появится.\n",
    "print([frame.function for frame in inspect.stack()])  # 1\n",
    "print_call_stack()  # 2\n",
    "outer()\n",
    "print_call_stack()  # 6\n",
    "inner() "
   ]
  },
  {
   "cell_type": "markdown",
   "id": "a28fe09a",
   "metadata": {},
   "source": [
    "## Рекурсия"
   ]
  },
  {
   "cell_type": "code",
   "execution_count": 13,
   "id": "3d8421ca",
   "metadata": {},
   "outputs": [
    {
     "name": "stdout",
     "output_type": "stream",
     "text": [
      "Разобрали матрёшку размера L, разбираем дальше!\n",
      "Разобрали матрёшку размера M, разбираем дальше!\n",
      "Все матрёшки разобраны! Размер последней матрёшки: S\n"
     ]
    }
   ],
   "source": [
    "class Matryoshka:\n",
    "\n",
    "    def __init__(self, size, item=None):\n",
    "        self.size = size\n",
    "        self.inner_item = item\n",
    "\n",
    "\n",
    "def disassemble_matryoshka(matryoshka):\n",
    "    \"\"\"Функция разборки матрёшки.\"\"\"\n",
    "    inner_item = matryoshka.inner_item\n",
    "    if inner_item is None:\n",
    "        print(f'Все матрёшки разобраны! Размер последней матрёшки: {matryoshka.size}')\n",
    "        return\n",
    "    print(f'Разобрали матрёшку размера {matryoshka.size}, разбираем дальше!')\n",
    "    disassemble_matryoshka(inner_item)\n",
    "\n",
    "if __name__ == '__main__':\n",
    "    big_matryoshka = Matryoshka('L', Matryoshka('M', Matryoshka('S')))\n",
    "    disassemble_matryoshka(big_matryoshka) "
   ]
  },
  {
   "cell_type": "code",
   "execution_count": 14,
   "id": "7d52ab2d",
   "metadata": {},
   "outputs": [
    {
     "name": "stdout",
     "output_type": "stream",
     "text": [
      "Разобрали матрёшку размера L, разбираем дальше!\n",
      "Разобрали матрёшку размера M, разбираем дальше!\n",
      "Все матрёшки разобраны! Размер последней матрёшки: S\n"
     ]
    }
   ],
   "source": [
    "def disassemble_matryoshka(matryoshka):\n",
    "    \"\"\"Функция разборки матрёшки.\"\"\"\n",
    "    # В этом списке храним ту матрёшку,\n",
    "    # которую цикл разбирает в текущей итерации.\n",
    "    # В начале выполнения программы здесь хранится самая большая матрёшка.\n",
    "    items_for_disassemble = [matryoshka]\n",
    "\n",
    "    # Пока список items_for_disassemble не пуст, выполняем цикл.\n",
    "    while items_for_disassemble:\n",
    "        # Извлекаем последний (он же единственный) элемент из списка.\n",
    "        element_to_disassemble = items_for_disassemble.pop()\n",
    "        # Получаем из текущего элемента вложенный.\n",
    "        inner_item = element_to_disassemble.inner_item\n",
    "        # Если вложенный элемент существует...\n",
    "        if inner_item is not None:\n",
    "            # ...помещаем этот вложенный элемент в список.\n",
    "            # Список был пуст, но полезно вспомнить, \n",
    "            # что метод append() добавляет новый элемент в конец списка.\n",
    "            items_for_disassemble.append(inner_item)\n",
    "            print(f'Разобрали матрёшку размера {element_to_disassemble.size}, разбираем дальше!')\n",
    "    # Когда цикл выполнился, печатаем сообщение \n",
    "    # об окончании работы и данные последней матрёшки:\n",
    "    print(f'Все матрёшки разобраны! Размер последней матрёшки: {element_to_disassemble.size}')\n",
    "\n",
    "\n",
    "if __name__ == '__main__':\n",
    "    big_matryoshka = Matryoshka('L', Matryoshka('M', Matryoshka('S')))\n",
    "    disassemble_matryoshka(big_matryoshka)"
   ]
  },
  {
   "cell_type": "code",
   "execution_count": 15,
   "id": "cc679202",
   "metadata": {},
   "outputs": [
    {
     "name": "stdout",
     "output_type": "stream",
     "text": [
      "Взяли коробку размера L, внутри: [M, M].\n",
      "Взяли коробку размера M, внутри: [S, S, S, S].\n",
      "В коробке размера S больше ничего нет.\n",
      "В коробке размера S больше ничего нет.\n",
      "В коробке размера S больше ничего нет.\n",
      "В коробке размера S больше ничего нет.\n",
      "В коробке размера M больше ничего нет.\n"
     ]
    }
   ],
   "source": [
    "class Box:\n",
    "\n",
    "    def __init__(self, size, inner_items=None):\n",
    "        self.size = size\n",
    "        self.inner_items = inner_items\n",
    "\n",
    "    def __repr__(self):\n",
    "        # При распечатке объекта через print()\n",
    "        # будет выводиться свойство size - размер коробки.\n",
    "        return self.size\n",
    "\n",
    "\n",
    "def disassemble_boxes(box):\n",
    "    \"\"\"Функция разборки коробок.\"\"\"\n",
    "    items_for_disassemble = [box]\n",
    "\n",
    "    # Пока список items_for_disassemble не пуст - выполняем цикл.\n",
    "    while items_for_disassemble:\n",
    "        # Извлекаем последний элемент из списка.\n",
    "        element_to_disassemble = items_for_disassemble.pop()\n",
    "        # Получаем из текущего элемента вложенные элементы.\n",
    "        inner_items = element_to_disassemble.inner_items\n",
    "        # Если вложенные элементы существуют...\n",
    "        if inner_items is not None:\n",
    "            # ...добавляем их в список. \n",
    "            # Элементов может быть несколько, поэтому применяем extend().\n",
    "            items_for_disassemble.extend(inner_items)\n",
    "            print(f'Взяли коробку размера {element_to_disassemble.size}, '\n",
    "                  f'внутри: {inner_items}.')\n",
    "        else:\n",
    "            print(f'В коробке размера {element_to_disassemble.size} '\n",
    "                  'больше ничего нет.')\n",
    "\n",
    "\n",
    "if __name__ == '__main__':\n",
    "    # Создаём четыре маленькие коробки: четыре объекта класса Box. \n",
    "    # В них ничего нет.\n",
    "    small_boxes = [Box(size='S') for _ in range(4)]\n",
    "    # Создаём коробку среднего размера, пустую:\n",
    "    middle_box_empty = Box(size='M')\n",
    "    # Создаём ещё одну среднюю коробку, в неё кладём четыре маленькие:\n",
    "    middle_box_full = Box(size='M', inner_items=small_boxes)\n",
    "    # Создаём большую коробку, в неё вкладываем две средние:\n",
    "    large_box = Box(size='L', inner_items=[middle_box_empty, middle_box_full])\n",
    "    # Отправляем большую коробку в функцию-разбиратель:\n",
    "    disassemble_boxes(large_box)"
   ]
  },
  {
   "cell_type": "code",
   "execution_count": 16,
   "id": "e639e1d4",
   "metadata": {},
   "outputs": [
    {
     "name": "stdout",
     "output_type": "stream",
     "text": [
      "Взяли коробку размера L, внутри: [M, M].\n",
      "В коробке размера M больше ничего нет.\n",
      "Взяли коробку размера M, внутри: [S, S, S, S].\n",
      "В коробке размера S больше ничего нет.\n",
      "В коробке размера S больше ничего нет.\n",
      "В коробке размера S больше ничего нет.\n",
      "В коробке размера S больше ничего нет.\n"
     ]
    }
   ],
   "source": [
    "class Box:\n",
    "\n",
    "    def __init__(self, size, inner_items=None):\n",
    "        self.size = size\n",
    "        self.inner_items = inner_items\n",
    "\n",
    "    def __repr__(self):\n",
    "        return self.size\n",
    "\n",
    "\n",
    "def disassemble_boxes(box):\n",
    "    \"\"\"Функция разборки коробок.\"\"\"\n",
    "    print(f'Взяли коробку размера {box.size}, внутри: {box.inner_items}.')\n",
    "    for item in box.inner_items:\n",
    "        if item.inner_items is None:\n",
    "            print(f'В коробке размера {item.size} больше ничего нет.')\n",
    "            # continue - перейти к следующему шагу цикла, не выполняя код ниже.\n",
    "            continue\n",
    "        disassemble_boxes(item)\n",
    "\n",
    "\n",
    "if __name__ == '__main__':\n",
    "    small_boxes = [Box(size='S') for _ in range(4)]\n",
    "    middle_box_full = Box(size='M', inner_items=small_boxes)\n",
    "    middle_box_empty = Box(size='M')\n",
    "    large_box = Box(size='L', inner_items=[middle_box_empty, middle_box_full])\n",
    "    disassemble_boxes(large_box)"
   ]
  },
  {
   "cell_type": "markdown",
   "id": "9beb6ae9",
   "metadata": {},
   "source": [
    "### Барометр Фибоначчи"
   ]
  },
  {
   "cell_type": "markdown",
   "id": "b1cf8713",
   "metadata": {},
   "source": [
    "Для работы на Марсе разработан специализированный барометр — датчик атмосферного давления «Олимп», названный в честь самой высокой горы на Марсе. Программное обеспечение датчика постоянно обновляется; версии ПО нумеруются от нуля по порядку. К настоящему моменту работает версия 32.\n",
    "\n",
    "Каждое последующее поколение ПО может делать столько же замеров в секунду, сколько делали два предыдущих поколения в сумме.\n",
    "\n",
    "Поколения нумеруются с нуля. \n",
    "\n",
    "Нулевое и первое поколение могли выполнять по одному измерению в секунду. \n",
    "\n",
    "Второе поколение делало 1 + 1 = 2 измерения в секунду. \n",
    "\n",
    "Третье поколение — 1 + 2 = 3 измерения в секунду, четвёртое — 2 + 3 = 5, пятое — 3 + 5 = 8… От поколения к поколению число замеров растёт в соответствии с последовательностью Фибоначчи — наверное, это такая шутка инженеров.\n",
    "\n",
    "Напишите рекурсивную функцию, которая по номеру поколения будет возвращать количество измерений в секунду, которое способен выполнять датчик.\n"
   ]
  },
  {
   "cell_type": "code",
   "execution_count": null,
   "id": "4d016b32",
   "metadata": {},
   "outputs": [],
   "source": [
    "import sys\n",
    "\n",
    "fibonacchi_digit = int(sys.stdin.readline().strip())\n",
    "\n",
    "\n",
    "def fibonacci(n):\n",
    "    if n in (0, 1):\n",
    "        return 1\n",
    "    return fibonacci(n - 2) + fibonacci(n - 1)\n",
    "\n",
    "\n",
    "print(fibonacci(fibonacchi_digit))"
   ]
  },
  {
   "cell_type": "code",
   "execution_count": 12,
   "id": "8edfb11e",
   "metadata": {},
   "outputs": [
    {
     "name": "stdout",
     "output_type": "stream",
     "text": [
      "3\n"
     ]
    }
   ],
   "source": [
    "def fibonacci(n):\n",
    "    if n in (0, 1):\n",
    "        return 1\n",
    "    return fibonacci(n - 2) + fibonacci(n - 1)\n",
    "\n",
    "\n",
    "print(fibonacci(3))"
   ]
  },
  {
   "cell_type": "markdown",
   "id": "ef1f9c65",
   "metadata": {},
   "source": [
    "### Проект С.Ч.И.Т.А.Л.К.А."
   ]
  },
  {
   "cell_type": "markdown",
   "id": "563f65b9",
   "metadata": {},
   "source": [
    "Полёты на Марс с участием человека уже не за горами. Команда для полёта почти сформирована. Осталось одно свободное место и масса претендентов на него.\n",
    "\n",
    "Для решения этой задачи создан проект С.Ч.И.Т.А.Л.К.А. — Стандартный Числовой Иррационально-Точный АЛгоритм Кастинга Астронавтов.\n",
    "\n",
    "На практике алгоритм реализуется так:\n",
    "\n",
    "Группа претендентов выстраивается в круг. Число претендентов обозначим через N, претенденты получают номера от 1 до N.\n",
    "\n",
    "Претенденты получают лист бумаги, на котором написана считалка. Считалка состоит из определённого количества «ритмических частей», тактов. Число тактов обозначим через K.\n",
    "\n",
    "Претендент под номером 1 произносит вслух считалку и, начиная с себя, на каждый такт указывает на каждого из претендентов. Тот, на ком считалка закончилась, выбывает из числа претендентов.\n",
    "\n",
    "Участник, следующий за выбывшим, вновь начинает произносить считалку, начав с себя и указывая последовательно на оставшихся претендентов.\n",
    "\n",
    "Отсев продолжается до тех пор, пока не останется только один претендент — именно он и войдёт в команду."
   ]
  },
  {
   "cell_type": "code",
   "execution_count": 57,
   "id": "32b75a5a",
   "metadata": {},
   "outputs": [
    {
     "name": "stdout",
     "output_type": "stream",
     "text": [
      "5\n",
      "5\n",
      "2\n"
     ]
    }
   ],
   "source": [
    "def counting_rhyme(n, k, n_list, person_start=0):\n",
    "    person_out = (person_start + k - 1) % len(n_list)\n",
    "\n",
    "    if len(n_list) == 1:\n",
    "        return n_list[0]\n",
    "\n",
    "    n_list.pop(person_out)\n",
    "\n",
    "    person_start = person_out\n",
    "    return counting_rhyme(n, k, n_list, person_start)\n",
    "\n",
    "\n",
    "n, k = [int(input()) for _ in range(2)]\n",
    "n_list = list(range(1, n + 1))\n",
    "print(counting_rhyme(n, k, n_list))"
   ]
  },
  {
   "cell_type": "markdown",
   "id": "3e4a4d99",
   "metadata": {},
   "source": [
    "### Рекурсивный алгоритм бинарного поиска"
   ]
  },
  {
   "cell_type": "code",
   "execution_count": 59,
   "id": "2ac95763",
   "metadata": {},
   "outputs": [
    {
     "name": "stdout",
     "output_type": "stream",
     "text": [
      "7\n"
     ]
    }
   ],
   "source": [
    "wins = [1223125, 2128437, 2128500, 2741001, 4567687, 4567890, 7495938, 9314543]\n",
    "my_ticket = 9314543\n",
    "\n",
    "\n",
    "def binary_search(arr, x, left, right):\n",
    "    if right < left:  # Если правая граница оказалась левее левой.\n",
    "        return None\n",
    "\n",
    "    mid = (left + right) // 2  # Получаем индекс среднего элемента.\n",
    "    if arr[mid] == x:  # Если искомый элемент найден:\n",
    "        return mid\n",
    "    if x < arr[mid]:  # Если искомое значение меньше среднего...\n",
    "        # ...следует продолжить поиск в левой половине массива:\n",
    "        return binary_search(arr, x, left, mid - 1)\n",
    "    else:  # В ином случае продолжим поиск в правой половине массива:\n",
    "        return binary_search(arr, x, mid + 1, right)\n",
    "\n",
    "\n",
    "# На старте запускаем бинарный поиск по всей длине массива.\n",
    "index = binary_search(wins, my_ticket, left=0, right=(len(wins) - 1))\n",
    "print(index)"
   ]
  },
  {
   "cell_type": "markdown",
   "id": "f450900f",
   "metadata": {},
   "source": [
    "## Сортировка вставками"
   ]
  },
  {
   "cell_type": "code",
   "execution_count": 60,
   "id": "3572d1fe",
   "metadata": {},
   "outputs": [
    {
     "name": "stdout",
     "output_type": "stream",
     "text": [
      "Шаг 1, отсортировано элементов: 2, [2, 9, 11, 7, 1]\n",
      "Шаг 2, отсортировано элементов: 3, [2, 9, 11, 7, 1]\n",
      "Шаг 3, отсортировано элементов: 4, [2, 7, 9, 11, 1]\n",
      "Шаг 4, отсортировано элементов: 5, [1, 2, 7, 9, 11]\n"
     ]
    }
   ],
   "source": [
    "def insertion_sort(arr):\n",
    "    # Проходим по всем элементам массива, начиная со второго.\n",
    "    for i in range(1, len(arr)):\n",
    "        # Сохраняем текущий элемент в переменную current.\n",
    "        current = arr[i]\n",
    "        # Сохраняем индекс предыдущего элемента \n",
    "        # в переменную prev (от previous - предыдущий).\n",
    "        prev = i - 1\n",
    "        # Сравниваем current с предыдущим элементом \n",
    "        # и двигаем предыдущий элемент на одну позицию вправо, \n",
    "        # пока он больше current и не достигнуто начало массива.\n",
    "        while prev >= 0 and arr[prev] > current:\n",
    "            arr[prev + 1] = arr[prev]\n",
    "            prev -= 1\n",
    "        # Вставляем current в отсортированную часть массива на нужное место.\n",
    "        arr[prev + 1] = current \n",
    "        print(f'Шаг {i}, отсортировано элементов: {i + 1}, {arr}')\n",
    "\n",
    "\n",
    "insertion_sort([2, 9, 11, 7, 1])"
   ]
  },
  {
   "cell_type": "markdown",
   "id": "1cd5c60d",
   "metadata": {},
   "source": [
    "### Сортировка по шаблону"
   ]
  },
  {
   "cell_type": "markdown",
   "id": "7fc49073",
   "metadata": {},
   "source": [
    "По прибытии на Марс грузового космического корабля робот-грузчик должен расставить прибывшие контейнеры в определённом порядке. Контейнеры пронумерованы вразнобой, а номера могут повторяться. Нумерация может быть, например, такой:\n",
    "\n",
    "#Прибыло 11 контейнеров:\n",
    "2 3 1 3 2 4 6 7 9 2 19\n",
    "\n",
    "У робота-грузчика есть инструкция, шаблон, в котором указано, в каком порядке должны стоять контейнеры:\n",
    "2 1 4 3 9 6\n",
    "\n",
    "Из этой инструкции следует, что сперва должны стоять все контейнеры с номером 2 (сколько бы их ни было на борту), следом — все контейнеры с номером 1, дальше — все контейнеры с номером 4 — и так до конца шаблона-инструкции.\n",
    "\n",
    "Если же в грузовике окажутся контейнеры, не учтённые в инструкции, их надо поставить последними, в порядке возрастания.\n",
    "\n",
    "2 3 1 3 2 4 6 7 9 2 19  # Номера контейнеров в грузовике.\n",
    "\n",
    "2 1 4 3 9 6  # Шаблон-инструкция\n",
    "\n",
    "2 2 2 1 4 3 3 9 6 7 19  # Результат работы робота-грузчика.\n",
    "\n",
    "#Контейнеры 7 и 19 не были упомянуты в инструкции.\n",
    "\n",
    "#Они переставлены в конец результирующего массива\n",
    "\n",
    "#и отсортированы от меньшего к большему.\n",
    "\n",
    "#И это правильно, так и надо.\n",
    "\n",
    "Ваша задача — написать программу, которая:\n",
    "\n",
    "- будет принимать на вход массив для сортировки и массив-шаблон, в соответствии с которым должна быть выполнена сортировка;\n",
    "- вернёт массив, отсортированный в соответствии с шаблоном."
   ]
  },
  {
   "cell_type": "code",
   "execution_count": 75,
   "id": "0eb880ec",
   "metadata": {},
   "outputs": [
    {
     "name": "stdout",
     "output_type": "stream",
     "text": [
      "5\n",
      "2 2 1 3 2\n",
      "3\n",
      "3 1 2\n",
      "3 1 2 2 2\n"
     ]
    }
   ],
   "source": [
    "def sort_by_template(numbers, template):\n",
    "    order_dict = {number: index for index, number in enumerate(template)}\n",
    "    return sorted(numbers, key=lambda x: (order_dict.get(x, float('inf')), x))\n",
    "\n",
    "n  = int(input().strip())\n",
    "numbers = [int(number) for number in input().split()]\n",
    "m = int(input().strip())\n",
    "template = list(map(int, input().split()))\n",
    "print(*sort_by_template(numbers, template))"
   ]
  },
  {
   "cell_type": "markdown",
   "id": "dd4fb918",
   "metadata": {},
   "source": [
    "## Сортировка вставками: ключи для сортировки"
   ]
  },
  {
   "cell_type": "code",
   "execution_count": 76,
   "id": "158da33d",
   "metadata": {},
   "outputs": [
    {
     "name": "stdout",
     "output_type": "stream",
     "text": [
      "[2, 7, 1, 9, 11]\n"
     ]
    }
   ],
   "source": [
    "# Длины слов \"ноль\", \"один\", \"два\", \"три\", \"четыре\" - и так до двенадцати.\n",
    "digit_lengths = [4, 4, 3, 3, 6, 4, 5, 4, 6, 6, 6, 11, 10]\n",
    "\n",
    "\n",
    "def card_strength(idx):\n",
    "    # Получаем количество букв для числа idx.\n",
    "    return digit_lengths[idx]\n",
    "\n",
    "\n",
    "# Добавляем в функцию параметр key,\n",
    "# в него будет передана функция, получающая значение ключа сортировки.\n",
    "def insertion_sort_by_key(arr, key):\n",
    "    for i in range(1, len(arr)):\n",
    "        current = arr[i]\n",
    "        prev = i - 1\n",
    "        # При сравнении элементов вызываем функцию, переданную в параметр key, \n",
    "        # она вернёт значение ключа.\n",
    "        while prev >= 0 and key(arr[prev]) > key(current):\n",
    "            arr[prev + 1] = arr[prev]\n",
    "            prev -= 1\n",
    "        arr[prev + 1] = current\n",
    "\n",
    "\n",
    "cards = [2, 9, 11, 7, 1]\n",
    "# При вызове сортировки передаём в параметры функцию,\n",
    "# возвращающую значение ключа.\n",
    "insertion_sort_by_key(cards, card_strength)\n",
    "# Для контроля - напечатаем результат:\n",
    "print(cards)"
   ]
  },
  {
   "cell_type": "code",
   "execution_count": 77,
   "id": "0b393d6a",
   "metadata": {},
   "outputs": [
    {
     "name": "stdout",
     "output_type": "stream",
     "text": [
      "По длине слов: [2, 7, 1, 9, 11]\n",
      "По цветам: [2, 7, 11, 9, 1]\n"
     ]
    }
   ],
   "source": [
    "digit_lengths = [4, 4, 3, 3, 6, 4, 5, 4, 6, 6, 6, 11, 10]\n",
    "\n",
    "# Массив с другим набором ключей: это цвета карт.\n",
    "card_colors = [\n",
    "    'Аметистовый',   # [0]\n",
    "    'Чёрный',        # [1]\n",
    "    'Белый',         # [2]\n",
    "    'Жёлтый',        # [3] \n",
    "    'Синий',         # [4]\n",
    "    'Фиолетовый',    # [5]\n",
    "    'Коричневый',    # [6]\n",
    "    'Зелёный',       # [7]\n",
    "    'Розовый',       # [8]\n",
    "    'Серо-голубой',  # [9]\n",
    "    'Бобровый',      # [10]\n",
    "    'Коралловый',    # [11]\n",
    "    'Ванильный'      # [12]\n",
    "]\n",
    "\n",
    "\n",
    "def card_strength(idx):\n",
    "    # Получаем количество букв для числа idx.\n",
    "    return digit_lengths[idx]\n",
    "\n",
    "\n",
    "# Добавляем функцию, передающую значения ключей из массива card_colors:\n",
    "def card_background(idx):\n",
    "    # Получаем название цвета для карты idx.\n",
    "    return card_colors[idx]\n",
    "\n",
    "\n",
    "def insertion_sort_by_key(arr, key):\n",
    "    for i in range(1, len(arr)):\n",
    "        current = arr[i]\n",
    "        prev = i - 1\n",
    "        while prev >= 0 and key(arr[prev]) > key(current):\n",
    "            arr[prev + 1] = arr[prev]\n",
    "            prev -= 1\n",
    "        arr[prev + 1] = current\n",
    "\n",
    "\n",
    "cards = [2, 9, 11, 7, 1]\n",
    "# Сортируем по длине слов:\n",
    "insertion_sort_by_key(cards, card_strength)\n",
    "# Печатаем результат:\n",
    "print('По длине слов:', cards)\n",
    "\n",
    "# Вызываем ту же функцию, но сортируем по названиям цветов:\n",
    "insertion_sort_by_key(cards, card_background)\n",
    "# Печатаем результат:\n",
    "print('По цветам:', cards)"
   ]
  },
  {
   "cell_type": "markdown",
   "id": "230b3c50",
   "metadata": {},
   "source": [
    "### Встроенная в Python сортировка по ключу"
   ]
  },
  {
   "cell_type": "code",
   "execution_count": 78,
   "id": "16d25dcd",
   "metadata": {},
   "outputs": [
    {
     "name": "stdout",
     "output_type": "stream",
     "text": [
      "[2, 7, 1, 9, 11]\n"
     ]
    }
   ],
   "source": [
    "digit_lengths = [4, 4, 3, 3, 6, 4, 5, 4, 6, 6, 6, 11, 10]\n",
    "\n",
    "\n",
    "def card_strength(idx):\n",
    "    return digit_lengths[idx]\n",
    "\n",
    "\n",
    "cards = [2, 9, 11, 7, 1]\n",
    "# В параметр key передаём функцию, возвращающую значения ключей.\n",
    "result = sorted(cards, key=card_strength)\n",
    "print(result)"
   ]
  },
  {
   "cell_type": "code",
   "execution_count": 79,
   "id": "50a4a441",
   "metadata": {},
   "outputs": [
    {
     "name": "stdout",
     "output_type": "stream",
     "text": [
      "[2, 7, 1, 9, 11]\n"
     ]
    }
   ],
   "source": [
    "digit_lengths = [4, 4, 3, 3, 6, 4, 5, 4, 6, 6, 6, 11, 10]\n",
    "cards = [2, 9, 11, 7, 1]\n",
    "# В параметр key передаём лямбда-функцию, возвращающую значения ключей.\n",
    "result = sorted(cards, key=lambda x: digit_lengths[x])\n",
    "print(result)"
   ]
  },
  {
   "cell_type": "markdown",
   "id": "de640866",
   "metadata": {},
   "source": [
    "## Сортировка слиянием: реализация в коде"
   ]
  },
  {
   "cell_type": "code",
   "execution_count": 80,
   "id": "3bf91b45",
   "metadata": {},
   "outputs": [
    {
     "name": "stdout",
     "output_type": "stream",
     "text": [
      "[1, 2, 3, 4, 5, 6, 7, 8, 9, 10, 11]\n"
     ]
    }
   ],
   "source": [
    "def merge_sort(array):\n",
    "    # Сохраняем длину массива в переменную, чтобы не считать её каждый раз.\n",
    "    len_array = len(array)\n",
    "    # Базовый случай рекурсии.\n",
    "    if len_array <= 1:\n",
    "        return array\n",
    "    \n",
    "    # Рекурсивный разбор массива в левой половине:\n",
    "    # передаём в merge_sort() левую половину полученного на вход массива.\n",
    "    left = merge_sort(array[0 : len_array // 2])\n",
    "    \n",
    "    # Рекурсивный разбор массива в правой половине:\n",
    "    # передаём в merge_sort() правую половину полученного на вход массива.\n",
    "    right = merge_sort(array[len_array // 2 : len_array])\n",
    "    \n",
    "    return merge(left, right)\n",
    "\n",
    "\n",
    "# А функция сортировки и слияния у нас уже есть!\n",
    "def merge(left, right):\n",
    "    result = []\n",
    "    left_idx, right_idx = 0, 0\n",
    "    len_left, len_right = len(left), len(right)\n",
    "    \n",
    "    while left_idx < len_left and right_idx < len_right:\n",
    "        # Сравниваем:\n",
    "        if left[left_idx] <= right[right_idx]:\n",
    "            # Добавляем в result:\n",
    "            result.append(left[left_idx])\n",
    "            # Сдвигаем указатель:\n",
    "            left_idx += 1\n",
    "        else:\n",
    "            result.append(right[right_idx])\n",
    "            right_idx += 1\n",
    "    \n",
    "    return result + left[left_idx:] + right[right_idx:]\n",
    "\n",
    "\n",
    "test_array = [5, 4, 9, 10, 8, 3, 11, 1, 7, 6, 2]\n",
    "print(merge_sort(test_array))"
   ]
  },
  {
   "cell_type": "markdown",
   "id": "171063b1",
   "metadata": {},
   "source": [
    "## Быстрая сортировка"
   ]
  },
  {
   "cell_type": "code",
   "execution_count": 84,
   "id": "36380c7c",
   "metadata": {},
   "outputs": [
    {
     "name": "stdout",
     "output_type": "stream",
     "text": [
      "[] [] [44]\n",
      "[] [] [44, 60]\n",
      "[] [] [44, 60, 10]\n",
      "[] [] [44, 60, 10, 61]\n",
      "[] [] [44, 60, 10, 61, 60]\n",
      "[] [2] [44, 60, 10, 61, 60]\n",
      "[] [2] [44, 60, 10, 61, 60, 62]\n",
      "[] [2] [44, 60, 10, 61, 60, 62, 18]\n",
      "[] [2, 2] [44, 60, 10, 61, 60, 62, 18]\n",
      "[] [2, 2] [44, 60, 10, 61, 60, 62, 18, 69]\n",
      "L[] + C[2, 2] + R[44, 60, 10, 61, 60, 62, 18, 69]\n",
      "[44] [] []\n",
      "[44] [60] []\n",
      "[44, 10] [60] []\n",
      "[44, 10] [60] [61]\n",
      "[44, 10] [60, 60] [61]\n",
      "[44, 10] [60, 60] [61, 62]\n",
      "[44, 10, 18] [60, 60] [61, 62]\n",
      "[44, 10, 18] [60, 60] [61, 62, 69]\n",
      "L[44, 10, 18] + C[60, 60] + R[61, 62, 69]\n",
      "[] [] [44]\n",
      "[] [10] [44]\n",
      "[] [10] [44, 18]\n",
      "L[] + C[10] + R[44, 18]\n",
      "[] [] [44]\n",
      "[] [18] [44]\n",
      "L[] + C[18] + R[44]\n",
      "[61] [] []\n",
      "[61] [62] []\n",
      "[61] [62] [69]\n",
      "L[61] + C[62] + R[69]\n",
      "[2, 2, 10, 18, 44, 60, 60, 61, 62, 69]\n"
     ]
    }
   ],
   "source": [
    "def quicksort(array):\n",
    "    \"\"\"Быстрая сортировка.\"\"\"\n",
    "    len_array = len(array)\n",
    "\n",
    "    # Базовый случай рекурсии.\n",
    "    if len_array <= 1:\n",
    "        return array\n",
    "    # Определяем индекс опорного элемента.\n",
    "    middle_element_index = len_array // 2\n",
    "    # Получаем опорный элемент:\n",
    "    pivot = array[middle_element_index]\n",
    "    # Передаём в функцию partition() массив и опорный элемент.\n",
    "    left, center, right = partition(array, pivot)\n",
    "    # L - список left, C - center, R - right.\n",
    "    print(f'L{left} + C{center} + R{right}') \n",
    "    # Рекурсивно вызываем quicksort() для левого и правого списков, \n",
    "    # а затем соединяем все три списка в один.\n",
    "    return quicksort(left) + center + quicksort(right)\n",
    "\n",
    "\n",
    "def partition(array, pivot):\n",
    "    \"\"\"\n",
    "    Разбивает массив на три разных массива относительно опорного элемента.\n",
    "    \"\"\"\n",
    "    # Создаём три пустых списка.\n",
    "    left, center, right = [], [], []\n",
    "    # Раскладываем элементы по спискам.\n",
    "    for item in array:\n",
    "        if item < pivot:\n",
    "            left.append(item)\n",
    "        elif item > pivot:\n",
    "            right.append(item)\n",
    "        else:\n",
    "            center.append(item)\n",
    "        print(left, center, right)\n",
    "    # Возвращаем кортеж с тремя списками.\n",
    "    return left, center, right\n",
    "\n",
    "\n",
    "arr = [44, 60, 10, 61, 60, 2, 62, 18, 2, 69]\n",
    "result = quicksort(arr)\n",
    "print(result)"
   ]
  },
  {
   "cell_type": "markdown",
   "id": "3859cfe3",
   "metadata": {},
   "source": [
    "## Сортировка подсчётом"
   ]
  },
  {
   "cell_type": "code",
   "execution_count": 85,
   "id": "717f9353",
   "metadata": {},
   "outputs": [
    {
     "name": "stdout",
     "output_type": "stream",
     "text": [
      "[0, 1, 1, 1, 4, 4, 4, 4, 4, 5, 5, 6, 6, 7, 7, 8, 8, 9, 10, 10]\n"
     ]
    }
   ],
   "source": [
    "def counting_sort(array, maximum):\n",
    "    # Создаём массив для подсчёта вхождений каждого значения.\n",
    "    count = [0] * (maximum + 1)\n",
    "    # Перебираем массив по элементам.\n",
    "    for item in array:\n",
    "        # Для каждого значения массива array увеличиваем счётчик \n",
    "        # в соответствующей ячейке массива count.\n",
    "        # Например, увидели в array значение 2 - добавляем единицу к значению count[2].\n",
    "        count[item] += 1\n",
    "\n",
    "    # Объявляем результирующий список:\n",
    "    sorted_array = []\n",
    "    # Перебираем все уникальные элементы в списке count.\n",
    "    for item in range(maximum + 1):\n",
    "        # Добавляем в sorted_array уникальный элемент столько раз, \n",
    "        # сколько он встретился в исходном массиве.\n",
    "        sorted_array += [item] * count[item]\n",
    "    return sorted_array\n",
    "\n",
    "\n",
    "arr = [8, 1, 4, 10, 4, 1, 4, 7, 6, 8, 6, 4, 5, 10, 1, 0, 5, 4, 9, 7]\n",
    "result = counting_sort(arr, 10)\n",
    "print(result)"
   ]
  },
  {
   "cell_type": "code",
   "execution_count": 88,
   "id": "49b5e166",
   "metadata": {},
   "outputs": [],
   "source": [
    "chess_players = [\n",
    "    ('Гукеш Доммараджу', 2758),\n",
    "    ('Фабиано Каруана', 2786),\n",
    "    ('Уэсли Со', 2753),\n",
    "    ('Магнус Карлсен', 2839),\n",
    "    ('Дин Лижэнь', 2780),\n",
    "    ('Ян Непомнящий', 2771),\n",
    "    ('Аниш Гири', 2760),\n",
    "    ('Вишванатан Ананд', 2754),\n",
    "    ('Алиреза Фирузджа', 2777),\n",
    "    ('Хикару Накамура', 2780),\n",
    "]"
   ]
  },
  {
   "cell_type": "code",
   "execution_count": 89,
   "id": "215ef5d1",
   "metadata": {},
   "outputs": [],
   "source": [
    "rating_players = defaultdict(list)\n",
    "for player, rating in chess_players:\n",
    "        rating_players[rating].append((player, rating))"
   ]
  },
  {
   "cell_type": "code",
   "execution_count": 90,
   "id": "4b7784bb",
   "metadata": {},
   "outputs": [
    {
     "data": {
      "text/plain": [
       "defaultdict(list,\n",
       "            {2758: [('Гукеш Доммараджу', 2758)],\n",
       "             2786: [('Фабиано Каруана', 2786)],\n",
       "             2753: [('Уэсли Со', 2753)],\n",
       "             2839: [('Магнус Карлсен', 2839)],\n",
       "             2780: [('Дин Лижэнь', 2780), ('Хикару Накамура', 2780)],\n",
       "             2771: [('Ян Непомнящий', 2771)],\n",
       "             2760: [('Аниш Гири', 2760)],\n",
       "             2754: [('Вишванатан Ананд', 2754)],\n",
       "             2777: [('Алиреза Фирузджа', 2777)]})"
      ]
     },
     "execution_count": 90,
     "metadata": {},
     "output_type": "execute_result"
    }
   ],
   "source": [
    "rating_players"
   ]
  },
  {
   "cell_type": "code",
   "execution_count": 86,
   "id": "1d9549b4",
   "metadata": {},
   "outputs": [
    {
     "name": "stdout",
     "output_type": "stream",
     "text": [
      "[('Магнус Карлсен', 2839), ('Фабиано Каруана', 2786), ('Дин Лижэнь', 2780), ('Хикару Накамура', 2780), ('Алиреза Фирузджа', 2777), ('Ян Непомнящий', 2771), ('Аниш Гири', 2760), ('Гукеш Доммараджу', 2758), ('Вишванатан Ананд', 2754), ('Уэсли Со', 2753)]\n"
     ]
    }
   ],
   "source": [
    "from collections import defaultdict\n",
    "\n",
    "\n",
    "def counting_sort(array, rating_max):\n",
    "    # Шаг 1. Создаем словарь со значением по умолчанию: пустой список.\n",
    "    rating_players = defaultdict(list)\n",
    "\n",
    "    # Шаг 2. Раскладываем игроков в словарь, где ключами служат рейтинги,\n",
    "    # а в качестве значений - списки игроков с таким рейтингом.\n",
    "    for player, rating in array:\n",
    "        rating_players[rating].append((player, rating))\n",
    "\n",
    "    # Собираем отсортированный массив, перебирая рейтинги в порядке убывания.\n",
    "    sorted_array = []\n",
    "    for rating in range(rating_max, 0, -1):\n",
    "        # Если в словаре рассматриваемый рейтинг непустой, то все шахматисты\n",
    "        # с этим рейтингом добавляются в итоговый результат.\n",
    "        if rating_players[rating]:\n",
    "            sorted_array.extend(rating_players[rating])\n",
    "\n",
    "    return sorted_array\n",
    "\n",
    "\n",
    "chess_players = [\n",
    "    ('Гукеш Доммараджу', 2758),\n",
    "    ('Фабиано Каруана', 2786),\n",
    "    ('Уэсли Со', 2753),\n",
    "    ('Магнус Карлсен', 2839),\n",
    "    ('Дин Лижэнь', 2780),\n",
    "    ('Ян Непомнящий', 2771),\n",
    "    ('Аниш Гири', 2760),\n",
    "    ('Вишванатан Ананд', 2754),\n",
    "    ('Алиреза Фирузджа', 2777),\n",
    "    ('Хикару Накамура', 2780),\n",
    "]\n",
    "result = counting_sort(chess_players, 3000)\n",
    "print(result) "
   ]
  },
  {
   "cell_type": "markdown",
   "id": "2fce5376",
   "metadata": {},
   "source": [
    "### Сортировка слиянием блоков"
   ]
  },
  {
   "cell_type": "markdown",
   "id": "ffca9fda",
   "metadata": {},
   "source": [
    "Задание: написать программу, которая получает на вход массив и возвращает максимальное число блоков, на которое можно разбить этот массив так, чтобы сортировка отработала корректно.\n",
    "\n",
    "Ещё один пример:\n",
    "3 2 0 1 4 6 5\n",
    "\n",
    "Минимальный размер первого блока — 4.\n",
    "\n",
    "Если взять лишь первые два элемента, то отсортированная последовательность будет начинаться с двойки, а это неправильно. Если взять первые три элемента, то последовательность будет начинаться с нуля, но после него сразу же пойдёт двойка. Опять нехорошо.\n",
    "\n",
    "А вот первые четыре элемента гарантируют, что первая часть результирующего массива будет корректной.\n",
    "Четвёрку можно взять как отдельный блок из одного элемента.\n",
    "\n",
    "Последние два элемента составят третий блок. Таким образом:\n",
    "\n",
    "первый блок: 3, 2, 0, 1;\n",
    "второй блок: 4;\n",
    "третий блок: 6, 5.\n",
    "\n",
    "В этом примере ответ равен 3: чтобы сортировка блоками отработала корректно, полученный массив можно разделить максимум на три блока."
   ]
  },
  {
   "cell_type": "code",
   "execution_count": 100,
   "id": "6431b813",
   "metadata": {
    "scrolled": false
   },
   "outputs": [
    {
     "name": "stdout",
     "output_type": "stream",
     "text": [
      "4\n",
      "0 1 3 2\n",
      "3\n"
     ]
    }
   ],
   "source": [
    "qty = int(input().strip())\n",
    "array = [int(i) for i in input().split()]\n",
    "blocks = 0\n",
    "max_num = 0\n",
    "for index, num in enumerate(array):\n",
    "    max_num = max(max_num, num)\n",
    "    if max_num == index:\n",
    "        blocks += 1\n",
    "print(blocks)"
   ]
  },
  {
   "cell_type": "code",
   "execution_count": null,
   "id": "621618a2",
   "metadata": {},
   "outputs": [],
   "source": []
  }
 ],
 "metadata": {
  "kernelspec": {
   "display_name": "Python 3 (ipykernel)",
   "language": "python",
   "name": "python3"
  },
  "language_info": {
   "codemirror_mode": {
    "name": "ipython",
    "version": 3
   },
   "file_extension": ".py",
   "mimetype": "text/x-python",
   "name": "python",
   "nbconvert_exporter": "python",
   "pygments_lexer": "ipython3",
   "version": "3.11.5"
  },
  "toc": {
   "base_numbering": 1,
   "nav_menu": {},
   "number_sections": true,
   "sideBar": true,
   "skip_h1_title": true,
   "title_cell": "Python algorithms part 2",
   "title_sidebar": "Contents",
   "toc_cell": true,
   "toc_position": {
    "height": "calc(100% - 180px)",
    "left": "10px",
    "top": "150px",
    "width": "288px"
   },
   "toc_section_display": true,
   "toc_window_display": false
  },
  "varInspector": {
   "cols": {
    "lenName": 16,
    "lenType": 16,
    "lenVar": 40
   },
   "kernels_config": {
    "python": {
     "delete_cmd_postfix": "",
     "delete_cmd_prefix": "del ",
     "library": "var_list.py",
     "varRefreshCmd": "print(var_dic_list())"
    },
    "r": {
     "delete_cmd_postfix": ") ",
     "delete_cmd_prefix": "rm(",
     "library": "var_list.r",
     "varRefreshCmd": "cat(var_dic_list()) "
    }
   },
   "types_to_exclude": [
    "module",
    "function",
    "builtin_function_or_method",
    "instance",
    "_Feature"
   ],
   "window_display": false
  }
 },
 "nbformat": 4,
 "nbformat_minor": 5
}
