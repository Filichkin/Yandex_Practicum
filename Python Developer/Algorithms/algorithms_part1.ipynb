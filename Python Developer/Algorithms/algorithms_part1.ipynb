{
 "cells": [
  {
   "cell_type": "markdown",
   "id": "1f2ae0e4",
   "metadata": {
    "toc": true
   },
   "source": [
    "<h1>Python algorithms<span class=\"tocSkip\"></span></h1>\n",
    "<div class=\"toc\"><ul class=\"toc-item\"><li><span><a href=\"#Линейный-поиск\" data-toc-modified-id=\"Линейный-поиск-1\"><span class=\"toc-item-num\">1&nbsp;&nbsp;</span>Линейный поиск</a></span><ul class=\"toc-item\"><li><span><a href=\"#Task-1\" data-toc-modified-id=\"Task-1-1.1\"><span class=\"toc-item-num\">1.1&nbsp;&nbsp;</span>Task 1</a></span></li><li><span><a href=\"#Task-2\" data-toc-modified-id=\"Task-2-1.2\"><span class=\"toc-item-num\">1.2&nbsp;&nbsp;</span>Task 2</a></span></li></ul></li><li><span><a href=\"#Бинарный-поиск\" data-toc-modified-id=\"Бинарный-поиск-2\"><span class=\"toc-item-num\">2&nbsp;&nbsp;</span>Бинарный поиск</a></span><ul class=\"toc-item\"><li><span><a href=\"#Task-3\" data-toc-modified-id=\"Task-3-2.1\"><span class=\"toc-item-num\">2.1&nbsp;&nbsp;</span>Task 3</a></span></li><li><span><a href=\"#Task-4\" data-toc-modified-id=\"Task-4-2.2\"><span class=\"toc-item-num\">2.2&nbsp;&nbsp;</span>Task 4</a></span></li></ul></li><li><span><a href=\"#Сортировка-методом-пузырька\" data-toc-modified-id=\"Сортировка-методом-пузырька-3\"><span class=\"toc-item-num\">3&nbsp;&nbsp;</span>Сортировка методом пузырька</a></span></li><li><span><a href=\"#Задача-о-коммивояжере\" data-toc-modified-id=\"Задача-о-коммивояжере-4\"><span class=\"toc-item-num\">4&nbsp;&nbsp;</span>Задача о коммивояжере</a></span><ul class=\"toc-item\"><li><span><a href=\"#Task-5\" data-toc-modified-id=\"Task-5-4.1\"><span class=\"toc-item-num\">4.1&nbsp;&nbsp;</span>Task 5</a></span></li></ul></li><li><span><a href=\"#Определение-суперсписка\" data-toc-modified-id=\"Определение-суперсписка-5\"><span class=\"toc-item-num\">5&nbsp;&nbsp;</span>Определение суперсписка</a></span><ul class=\"toc-item\"><li><span><a href=\"#Task-6\" data-toc-modified-id=\"Task-6-5.1\"><span class=\"toc-item-num\">5.1&nbsp;&nbsp;</span>Task 6</a></span></li></ul></li><li><span><a href=\"#Список-как-динамический-массив\" data-toc-modified-id=\"Список-как-динамический-массив-6\"><span class=\"toc-item-num\">6&nbsp;&nbsp;</span>Список как динамический массив</a></span></li><li><span><a href=\"#Реализация-массивов\" data-toc-modified-id=\"Реализация-массивов-7\"><span class=\"toc-item-num\">7&nbsp;&nbsp;</span>Реализация массивов</a></span><ul class=\"toc-item\"><li><span><a href=\"#Task-7\" data-toc-modified-id=\"Task-7-7.1\"><span class=\"toc-item-num\">7.1&nbsp;&nbsp;</span>Task 7</a></span></li></ul></li><li><span><a href=\"#Связные-списки\" data-toc-modified-id=\"Связные-списки-8\"><span class=\"toc-item-num\">8&nbsp;&nbsp;</span>Связные списки</a></span><ul class=\"toc-item\"><li><span><a href=\"#Task-8\" data-toc-modified-id=\"Task-8-8.1\"><span class=\"toc-item-num\">8.1&nbsp;&nbsp;</span>Task 8</a></span></li></ul></li><li><span><a href=\"#Стек\" data-toc-modified-id=\"Стек-9\"><span class=\"toc-item-num\">9&nbsp;&nbsp;</span>Стек</a></span><ul class=\"toc-item\"><li><span><a href=\"#Task-9\" data-toc-modified-id=\"Task-9-9.1\"><span class=\"toc-item-num\">9.1&nbsp;&nbsp;</span>Task 9</a></span></li></ul></li><li><span><a href=\"#Очередь-и-дек\" data-toc-modified-id=\"Очередь-и-дек-10\"><span class=\"toc-item-num\">10&nbsp;&nbsp;</span>Очередь и дек</a></span></li><li><span><a href=\"#Задача-«Шифровка-ссылок»\" data-toc-modified-id=\"Задача-«Шифровка-ссылок»-11\"><span class=\"toc-item-num\">11&nbsp;&nbsp;</span>Задача «Шифровка ссылок»</a></span></li><li><span><a href=\"#Наивные-методы-решения-алгоритмических-задач\" data-toc-modified-id=\"Наивные-методы-решения-алгоритмических-задач-12\"><span class=\"toc-item-num\">12&nbsp;&nbsp;</span>Наивные методы решения алгоритмических задач</a></span></li><li><span><a href=\"#Метод-двух-указателей\" data-toc-modified-id=\"Метод-двух-указателей-13\"><span class=\"toc-item-num\">13&nbsp;&nbsp;</span>Метод двух указателей</a></span></li><li><span><a href=\"#Метод-скользящего-окна\" data-toc-modified-id=\"Метод-скользящего-окна-14\"><span class=\"toc-item-num\">14&nbsp;&nbsp;</span>Метод скользящего окна</a></span></li></ul></div>"
   ]
  },
  {
   "cell_type": "markdown",
   "id": "7e6b1ee7",
   "metadata": {},
   "source": [
    "## Линейный поиск"
   ]
  },
  {
   "cell_type": "markdown",
   "id": "b84edcb4",
   "metadata": {},
   "source": [
    "### Task 1"
   ]
  },
  {
   "cell_type": "markdown",
   "id": "ed55a708",
   "metadata": {},
   "source": [
    "Настройте эту функцию для работы только с отсортированными массивами — и это позволит сделать её эффективнее. Дополните код функции проверками:\n",
    "\n",
    "Если проверяемый элемент массива меньше искомого, то функция должна перейти к проверке следующего элемента.\n",
    "\n",
    "Если текущий элемент больше искомого, нужно остановить проверку и вернуть сообщение Элемент [искомое_значение] не найден в массиве.."
   ]
  },
  {
   "cell_type": "code",
   "execution_count": 82,
   "id": "99cc1326",
   "metadata": {},
   "outputs": [
    {
     "name": "stdout",
     "output_type": "stream",
     "text": [
      "Элемент 11 найден в массиве!\n"
     ]
    }
   ],
   "source": [
    "def check_element_in_list(desired_element, ordered_list):\n",
    "    \"\"\"Проверяет наличие искомого элемента в отсортированном списке.\"\"\"\n",
    "    for item in ordered_list:\n",
    "        if item < desired_element:\n",
    "            continue\n",
    "        elif item == desired_element:\n",
    "            return f'Элемент {desired_element} найден в массиве!'\n",
    "        elif item > desired_element:\n",
    "            return f'Элемент {desired_element} не найден в массиве.'\n",
    "            break\n",
    "    return f'Элемент {desired_element} не найден в массиве.'\n",
    "        \n",
    "\n",
    "# Вызываем функцию с тестовыми данными.\n",
    "# Первый аргумент - целое число.\n",
    "# Второй аргумент - отсортированный по возрастанию список целых чисел.\n",
    "result = check_element_in_list(11, [1, 3, 5, 7, 11])\n",
    "# Распечатываем результат.\n",
    "print(result)"
   ]
  },
  {
   "cell_type": "markdown",
   "id": "4160a0c8",
   "metadata": {},
   "source": [
    "### Task 2"
   ]
  },
  {
   "cell_type": "markdown",
   "id": "8f7f2fa0",
   "metadata": {},
   "source": [
    "Марсоход берёт пробы грунта, определяет тип горных пород и записывает полученные данные в отсортированный массив. Каждый тип горной породы обозначается целым числом.\n",
    "\n",
    "Массив отсортирован в порядке возрастания: значения идут от меньшего к большему. В массиве могут быть дублирующиеся значения, ведь в разных пробах могут встречаться одни и те же горные породы.\n",
    "\n",
    "Ваша задача — написать программу, удаляющую дубликаты из этого массива: каждый элемент должен встречаться в массиве только один раз. При этом относительный порядок элементов должен остаться прежним.\n",
    "\n",
    "Дублирующие значения нужно заменить на символ подчёркивания.\n",
    "\n",
    "После выполнения преобразований массив должен остаться такого же размера, как и был. В начале массива должны находиться уникальные элементы, а после них — элементы, содержащие символ подчёркивания. Эти элементы должны быть строго в конце массива, не между числами."
   ]
  },
  {
   "cell_type": "code",
   "execution_count": 65,
   "id": "c5e0da08",
   "metadata": {},
   "outputs": [
    {
     "name": "stdout",
     "output_type": "stream",
     "text": [
      "4\n",
      "1 1 2 2\n",
      "1 2 _ _\n"
     ]
    }
   ],
   "source": [
    "num_lines = int(input())\n",
    "lst = [int(s) for s in input().split()]\n",
    "cnt = 0\n",
    "res = lst[:1]\n",
    "for i in range(1, num_lines):\n",
    "    if lst[i - 1] != lst[i]:\n",
    "        res.append(lst[i])\n",
    "    else:\n",
    "        cnt += 1\n",
    "res.extend('_' * cnt)\n",
    "print(*res)"
   ]
  },
  {
   "cell_type": "code",
   "execution_count": 66,
   "id": "28748529",
   "metadata": {},
   "outputs": [
    {
     "name": "stdout",
     "output_type": "stream",
     "text": [
      "4\n",
      "1 1 2 2 5\n",
      "1 2 _ _\n"
     ]
    }
   ],
   "source": [
    "def main():\n",
    "    num_lines = int(input())\n",
    "    lst = [int(s) for s in input().split()]\n",
    "    cnt = 0\n",
    "    res = lst[:1]\n",
    "    for i in range(1, num_lines):\n",
    "        if lst[i - 1] != lst[i]:\n",
    "            res.append(lst[i])\n",
    "        else:\n",
    "            cnt += 1\n",
    "    res.extend('_' * cnt)\n",
    "    print(*res)\n",
    "\n",
    "\n",
    "if __name__ == '__main__':\n",
    "    main()\n"
   ]
  },
  {
   "cell_type": "markdown",
   "id": "907fedd1",
   "metadata": {},
   "source": [
    "## Бинарный поиск"
   ]
  },
  {
   "cell_type": "markdown",
   "id": "f4f800fc",
   "metadata": {},
   "source": [
    "### Task 3"
   ]
  },
  {
   "cell_type": "markdown",
   "id": "874e3b7d",
   "metadata": {},
   "source": [
    "Допишите код так, чтобы функция find_element() выполняла бинарный поиск по массиву. \n",
    "Строгое условие: начальное значение правой границы установлено right = len(sorted_numbers), а не right = len(sorted_numbers) - 1, как было в предыдущей версии."
   ]
  },
  {
   "cell_type": "code",
   "execution_count": 73,
   "id": "1e97392f",
   "metadata": {},
   "outputs": [
    {
     "name": "stdout",
     "output_type": "stream",
     "text": [
      "0\n",
      "1\n",
      "2\n",
      "3\n",
      "4\n",
      "5\n",
      "6\n",
      "7\n"
     ]
    }
   ],
   "source": [
    "wins = [1223125, 2128437, 2128500, 2741001, 4567687, 4567890, 7495938, 9314543]\n",
    "str_test = ['алгоритмы', 'будут', 'главным', 'доводом', 'профессионального', 'разработчика'] \n",
    "\n",
    "\n",
    "def find_element(sorted_numbers, element):\n",
    "    \"\"\"Находит индекс element в отсортированном списке sorted_numbers.\"\"\"\n",
    "    # Левая граница (левый индекс) рассматриваемого набора элементов. \n",
    "    # В начале работы она равна индексу первого элемента в списке.\n",
    "    left = 0\n",
    "    # Правая граница (правый индекс) рассматриваемого набора элементов. \n",
    "    # В начале работы она равна длине списка.\n",
    "    right = len(sorted_numbers)\n",
    "    # Допишите код, реализующий бинарный поиск.\n",
    "    # За основу можно взять код из предыдущего примера.\n",
    "    while left < right:\n",
    "        # Находим в наборе элементов индекс среднего элемента.\n",
    "        mid = (left + right) // 2\n",
    "        # Если элемент с этим индексом равен искомому, возвращаем его индекс.\n",
    "        if sorted_numbers[mid] == element:\n",
    "            return mid\n",
    "        # Если средний элемент меньше искомого...\n",
    "        if sorted_numbers[mid] < element:\n",
    "            # ...то изменяем левую границу поиска:\n",
    "            left = mid + 1\n",
    "        # Если средний элемент больше искомого...\n",
    "        else:\n",
    "            # ...то изменяем правую границу поиска:\n",
    "            right = mid\n",
    "    # Если левая граница оказалась больше правой, \n",
    "    # значит, элемент не найден. Возвращаем None.\n",
    "    return None\n",
    "\n",
    "\n",
    "# Проверим, что ваш код успешно находит все значения,\n",
    "# которые есть в списке wins: в качестве искомого элемента\n",
    "# поочерёдно передадим в функцию все значения из списка.\n",
    "for item in wins:\n",
    "    print(find_element(wins, item))\n"
   ]
  },
  {
   "cell_type": "code",
   "execution_count": 71,
   "id": "46ac2c7c",
   "metadata": {},
   "outputs": [],
   "source": [
    "test_strs = ['алгоритмы', 'будут', 'главным', 'доводом', 'профессионального', 'разработчика']\n",
    "word = 'главным'\n",
    "\n",
    "\n",
    "def find_element(sorted_numbers, element):\n",
    "    \"\"\"Находит индекс element в отсортированном списке sorted_numbers.\"\"\"\n",
    "    # Левая граница (левый индекс) рассматриваемого набора элементов. \n",
    "    # В начале работы она равна индексу первого элемента в списке - нулю.\n",
    "    left = 0\n",
    "    # Правая граница (правый индекс) рассматриваемого набора элементов. \n",
    "    # В начале работы она равна индексу последнего элемента в списке.\n",
    "    right = len(sorted_numbers) - 1\n",
    "    # Пока левая граница меньше правой или равна ей:\n",
    "    while left <= right:\n",
    "        # Находим в наборе элементов индекс среднего элемента.\n",
    "        mid = (left + right) // 2\n",
    "        # Если элемент с этим индексом равен искомому, возвращаем его индекс.\n",
    "        if sorted_numbers[mid] == element:\n",
    "            return mid\n",
    "        # Если средний элемент меньше искомого...\n",
    "        if sorted_numbers[mid] < element:\n",
    "            # ...то изменяем левую границу поиска:\n",
    "            left = mid + 1\n",
    "        # Если средний элемент больше искомого...\n",
    "        else:\n",
    "            # ...то изменяем правую границу поиска:\n",
    "            right = mid - 1\n",
    "    # Если левая граница оказалась больше правой, \n",
    "    # значит, элемент не найден. Возвращаем None.\n",
    "    return None"
   ]
  },
  {
   "cell_type": "code",
   "execution_count": 72,
   "id": "d04153ec",
   "metadata": {},
   "outputs": [
    {
     "data": {
      "text/plain": [
       "2"
      ]
     },
     "execution_count": 72,
     "metadata": {},
     "output_type": "execute_result"
    }
   ],
   "source": [
    "find_element(test_strs, word)"
   ]
  },
  {
   "cell_type": "markdown",
   "id": "07f81c4a",
   "metadata": {},
   "source": [
    "### Task 4"
   ]
  },
  {
   "cell_type": "markdown",
   "id": "c8f53cfa",
   "metadata": {},
   "source": [
    "Напишите программу, которая принимает на вход массив и целевое значение, а возвращает индекс массива, где находится или должно находиться целевое значение."
   ]
  },
  {
   "cell_type": "code",
   "execution_count": 95,
   "id": "afd20981",
   "metadata": {},
   "outputs": [
    {
     "name": "stdout",
     "output_type": "stream",
     "text": [
      "2 3 4 6\n",
      "2\n",
      "0\n"
     ]
    }
   ],
   "source": [
    "def search_insert_position(nums, target):\n",
    "    left, right = 0, len(nums) - 1\n",
    "    \n",
    "    while left <= right:\n",
    "        mid = left + (right - left) // 2\n",
    "        if nums[left] == target:\n",
    "            return left\n",
    "        if nums[mid] == target:\n",
    "            return mid\n",
    "        elif nums[mid] < target:\n",
    "            left = mid + 1\n",
    "        else:\n",
    "            right = mid - 1\n",
    "    \n",
    "    return left\n",
    "\n",
    "\n",
    "def main():\n",
    "    nums = [int(s) for s in input().split()]\n",
    "    target = int(input())\n",
    "    print(search_insert_position(nums, target))\n",
    "\n",
    "    \n",
    "if __name__ == '__main__':\n",
    "    main()"
   ]
  },
  {
   "cell_type": "markdown",
   "id": "68af5e53",
   "metadata": {},
   "source": [
    "## Сортировка методом пузырька"
   ]
  },
  {
   "cell_type": "code",
   "execution_count": 99,
   "id": "c9f20f82",
   "metadata": {},
   "outputs": [
    {
     "name": "stdout",
     "output_type": "stream",
     "text": [
      "The unsorted list is:  [5, 3, 8, 6, 7, 2]\n",
      "The sorted list is:  [2, 3, 5, 6, 7, 8]\n"
     ]
    }
   ],
   "source": [
    "def bubble_sort(inp_list): \n",
    "    swapped = True \n",
    " \n",
    "    while swapped: \n",
    "        swapped = False \n",
    "        for i in range(len(inp_list) - 1): \n",
    "            if inp_list[i] > inp_list[i+1]: \n",
    "                inp_list[i], inp_list[i+1] = inp_list[i+1], inp_list[i] \n",
    "                swapped = True \n",
    "    return inp_list \n",
    " \n",
    "\n",
    "inp_list = [5, 3, 8, 6, 7, 2]\n",
    "\n",
    "\n",
    "print(\"The unsorted list is: \", inp_list) \n",
    "print(\"The sorted list is: \", bubble_sort(inp_list)) \n"
   ]
  },
  {
   "cell_type": "markdown",
   "id": "d06f4ae2",
   "metadata": {},
   "source": [
    "## Задача о коммивояжере"
   ]
  },
  {
   "cell_type": "markdown",
   "id": "309b7c57",
   "metadata": {},
   "source": [
    "### Task 5"
   ]
  },
  {
   "cell_type": "markdown",
   "id": "45601889",
   "metadata": {},
   "source": [
    "В общем виде план решения будет такой:\n",
    "\n",
    "- Получить все варианты маршрутов, охватывающих все нужные точки.\n",
    "- Для каждого варианта посчитать общее расстояние.\n",
    "- Сравнить длину маршрутов и выбрать кратчайший."
   ]
  },
  {
   "cell_type": "code",
   "execution_count": 100,
   "id": "3d9d1e0a",
   "metadata": {},
   "outputs": [
    {
     "name": "stdout",
     "output_type": "stream",
     "text": [
      "10675 ('Gusev', 'Gale', 'Elysium', 'Jezero', 'Meridiani')\n"
     ]
    }
   ],
   "source": [
    "from itertools import permutations\n",
    "from sys import maxsize\n",
    "\n",
    "\n",
    "def travel_salesman_problem(places, distances):\n",
    "    movements = len(places) - 1\n",
    "    # Вводим переменную для хранения самого короткого маршрута.\n",
    "    min_path = None\n",
    "    min_path_length = maxsize\n",
    "    for current_path in permutations(places):\n",
    "        current_path_length = 0\n",
    "        for movement_index in range(movements):\n",
    "            current_place = current_path[movement_index]\n",
    "            next_place = current_path[movement_index + 1]\n",
    "            current_place_index = places.index(current_place)\n",
    "            next_place_index = places.index(next_place)\n",
    "            distance = distances[current_place_index][next_place_index]\n",
    "            current_path_length += distance\n",
    "        # Если полученное расстояние меньше самого короткого пути...\n",
    "        if current_path_length < min_path_length:\n",
    "            # ...назначаем полученное расстояние самым коротким.\n",
    "            min_path_length = current_path_length\n",
    "            # Запоминаем самый короткий маршрут.\n",
    "            min_path = current_path\n",
    "    # Вместо одного значения возвращаем кортеж с двумя значениями: \n",
    "    # расстоянием и самым коротким маршрутом.\n",
    "    return min_path_length, min_path\n",
    "\n",
    "\n",
    "if __name__ == '__main__':\n",
    "    places_example = ('Gale', 'Jezero', 'Gusev', 'Meridiani', 'Elysium')\n",
    "    distances_example = (\n",
    "        (0, 3570, 2230, 6430, 600),\n",
    "        (3570, 0, 5280, 4530, 3315),\n",
    "        (2230, 5280, 0, 6715, 2540),\n",
    "        (6430, 4530, 6715, 0, 6400),\n",
    "        (600, 3315, 2540, 6400, 0),\n",
    "    )\n",
    "    min_path_length_example, min_path_example = travel_salesman_problem(\n",
    "        places_example, distances_example\n",
    "    )\n",
    "    print(min_path_length_example, min_path_example)"
   ]
  },
  {
   "cell_type": "markdown",
   "id": "291804f6",
   "metadata": {},
   "source": [
    "## Определение суперсписка"
   ]
  },
  {
   "cell_type": "markdown",
   "id": "cb6c85c3",
   "metadata": {},
   "source": [
    "### Task 6"
   ]
  },
  {
   "cell_type": "markdown",
   "id": "862d3676",
   "metadata": {},
   "source": [
    "Напишите функцию list_superset(), которая принимает два списка и определяет, служит ли один из списков супермножеством для другого. \n",
    "\n",
    "Функция должна вернуть строку с одним из сообщений:\n",
    "\n",
    "В случае, если один из списков является супермножеством для другого: Набор [содержимое_набора] - супермножество. \n",
    "\n",
    "Если списки содержат одинаковый набор элементов, пусть и в разном порядке: Наборы равны. \n",
    "\n",
    "Если ни один из списков не является супермножеством для другого: Супермножество не обнаружено."
   ]
  },
  {
   "cell_type": "code",
   "execution_count": 114,
   "id": "72e54089",
   "metadata": {},
   "outputs": [
    {
     "name": "stdout",
     "output_type": "stream",
     "text": [
      "Набор [1, 3, 5, 7] - супермножество\n",
      "Набор [5, 3, 7, 1] - супермножество\n",
      "Наборы равны\n",
      "Супермножество не обнаружено\n"
     ]
    }
   ],
   "source": [
    "def list_superset(list_set_1, list_set_2):\n",
    "    if len(list_set_1) < len(list_set_2):\n",
    "        list_set_1, list_set_2 = list_set_2, list_set_1\n",
    "    if all([x in list_set_1 for x in list_set_2]):\n",
    "        if len(list_set_1) == len(list_set_2):\n",
    "            return 'Наборы равны'\n",
    "        else:\n",
    "            return f'Набор {list_set_1} - супермножество'\n",
    "    else:\n",
    "        return 'Супермножество не обнаружено'\n",
    "\n",
    "\n",
    "# Примеры для проверки функции.\n",
    "list_set_1 = [1, 3, 5, 7]\n",
    "list_set_2 = [3, 5]\n",
    "list_set_3 = [5, 3, 7, 1]\n",
    "list_set_4 = [5, 6]\n",
    "\n",
    "print(list_superset(list_set_1, list_set_2))\n",
    "print(list_superset(list_set_2, list_set_3))\n",
    "print(list_superset(list_set_1, list_set_3))\n",
    "print(list_superset(list_set_2, list_set_4))"
   ]
  },
  {
   "cell_type": "code",
   "execution_count": 115,
   "id": "e86b5a33",
   "metadata": {},
   "outputs": [
    {
     "name": "stdout",
     "output_type": "stream",
     "text": [
      "Набор [1, 3, 5, 7] - супермножество.\n",
      "Набор [5, 3, 7, 1] - супермножество.\n",
      "Наборы равны.\n",
      "Супермножество не обнаружено.\n"
     ]
    }
   ],
   "source": [
    "def list_superset(list_set_1, list_set_2):\n",
    "    if sorted(list_set_1) == sorted(list_set_2):\n",
    "        return 'Наборы равны.'\n",
    "    if len(list_set_2) < len(list_set_1):\n",
    "        for elem in list_set_2:\n",
    "            if elem not in list_set_1:\n",
    "                return 'Супермножество не обнаружено.'\n",
    "        return f'Набор {list_set_1} - супермножество.'\n",
    "    else:\n",
    "        for elem in list_set_1:\n",
    "            if elem not in list_set_2:\n",
    "                return 'Супермножество не обнаружено.'\n",
    "        return f'Набор {list_set_2} - супермножество.'\n",
    "\n",
    "\n",
    "# Примеры для проверки функции.\n",
    "list_set_1 = [1, 3, 5, 7]\n",
    "list_set_2 = [3, 5]\n",
    "list_set_3 = [5, 3, 7, 1]\n",
    "list_set_4 = [5, 6]\n",
    "\n",
    "print(list_superset(list_set_1, list_set_2))\n",
    "print(list_superset(list_set_2, list_set_3))\n",
    "print(list_superset(list_set_1, list_set_3))\n",
    "print(list_superset(list_set_2, list_set_4))"
   ]
  },
  {
   "cell_type": "markdown",
   "id": "923963f0",
   "metadata": {},
   "source": [
    "## Список как динамический массив"
   ]
  },
  {
   "cell_type": "code",
   "execution_count": 117,
   "id": "2350c2a3",
   "metadata": {},
   "outputs": [
    {
     "name": "stdout",
     "output_type": "stream",
     "text": [
      "Создание списка с 10 млн пустых элементов и его заполнение: 3.082814931869507\n",
      "Создание пустого списка и добавление в него 10 млн элементов: 2.5260231494903564\n"
     ]
    }
   ],
   "source": [
    "# Импорт библиотеки для работы с временем.\n",
    "import time\n",
    "\n",
    "# Количество элементов в массивах.\n",
    "elements_count = 10000000\n",
    "\n",
    "# Эксперимент 1\n",
    "# Засекаем время начала.\n",
    "start_time = time.time()\n",
    "# Резервируем место в памяти на 10 млн элементов.\n",
    "# При этом ОС забронирует чуть больший размер.\n",
    "data1 = [None] * elements_count\n",
    "for data_index in range(elements_count):\n",
    "    # Заполняем элементы списка по индексу.\n",
    "    data1[data_index] = f'Some new value {data_index}'\n",
    "# Печатаем время выполнения.\n",
    "print(\n",
    "    'Создание списка с 10 млн пустых элементов и его заполнение:', \n",
    "    time.time() - start_time\n",
    ")\n",
    "\n",
    "# Эксперимент 2\n",
    "# Засекаем новое время.\n",
    "start_time = time.time()\n",
    "# Объявляем пустой список; ОС не знает его ожидаемый размер.\n",
    "data2 = []\n",
    "for data_index in range(elements_count):\n",
    "    # Добавляем новые элементы в конец списка.\n",
    "    data2.append(f'some new value {data_index}')\n",
    "# Печатаем время выполнения.\n",
    "print(\n",
    "    'Создание пустого списка и добавление в него 10 млн элементов:', \n",
    "    time.time() - start_time\n",
    ") "
   ]
  },
  {
   "cell_type": "markdown",
   "id": "8eca97d7",
   "metadata": {},
   "source": [
    "## Реализация массивов"
   ]
  },
  {
   "cell_type": "markdown",
   "id": "52f4b6d1",
   "metadata": {},
   "source": [
    "### Task 7"
   ]
  },
  {
   "cell_type": "markdown",
   "id": "47798cff",
   "metadata": {},
   "source": [
    "При путешествии по планете марсоход постоянно замеряет высоту рельефа и сохраняет результаты замеров в массив.\n",
    "\n",
    "Одна из задач марсохода — поиск «правильных гор». «Правильной» считается та гора, у которой на пути от подножия до вершины высота постоянно растёт, а на пути от вершины к подножию — постоянно уменьшается.\n",
    "Если у горы есть несколько вершин или в каком-то месте встречается горизонтальный участок — это «неправильная гора».\n",
    "\n",
    "Напишите функцию valid_mountain_array, которая будет принимать на вход массив с высотами и возвращать True или False в зависимости от того, «правильная» это гора или нет.\n",
    "\n",
    "Если в массиве менее трёх элементов, такой массив не может описывать «правильную» гору.\n"
   ]
  },
  {
   "cell_type": "code",
   "execution_count": 122,
   "id": "ab97bb18",
   "metadata": {},
   "outputs": [],
   "source": [
    "def valid_mountain_array(arr):\n",
    "    top_mountain = max(arr)\n",
    "    index_top = arr.index(top_mountain)\n",
    "    length = len(arr)\n",
    "\n",
    "    if index_top == 0 or index_top == length - 1:\n",
    "        return False\n",
    " \n",
    "    for index in range(1, index_top):\n",
    "        if arr[index] <= arr[index-1]:\n",
    "            return False\n",
    "    \n",
    "    for i in range(index_top+1, length):\n",
    "        if arr[i] >= arr[i-1]:\n",
    "            return False\n",
    "    return True\n"
   ]
  },
  {
   "cell_type": "code",
   "execution_count": 124,
   "id": "8e436383",
   "metadata": {},
   "outputs": [
    {
     "data": {
      "text/plain": [
       "False"
      ]
     },
     "execution_count": 124,
     "metadata": {},
     "output_type": "execute_result"
    }
   ],
   "source": [
    "valid_mountain_array([0, 1])"
   ]
  },
  {
   "cell_type": "markdown",
   "id": "52d2e807",
   "metadata": {},
   "source": [
    "## Связные списки"
   ]
  },
  {
   "cell_type": "code",
   "execution_count": 2,
   "id": "aec0af7e",
   "metadata": {},
   "outputs": [
    {
     "name": "stdout",
     "output_type": "stream",
     "text": [
      "Голова\n",
      "Первый элемент за головой\n",
      "Элемент перед последним\n",
      "Последний элемент\n"
     ]
    }
   ],
   "source": [
    "class Node:\n",
    "\n",
    "    def __init__(self, value, next_item=None):\n",
    "        self.value = value\n",
    "        self.next_item = next_item\n",
    "\n",
    "\n",
    "node_last = Node(value='Последний элемент')\n",
    "node_middle1 = Node(value='Элемент перед последним', next_item=node_last)\n",
    "node_middle2 = Node(value='Первый элемент за головой', next_item=node_middle1)\n",
    "node_head = Node(value='Голова', next_item=node_middle2)\n",
    "\n",
    "temp_node = node_head\n",
    "while temp_node is not None:\n",
    "    print(temp_node.value)\n",
    "    temp_node = temp_node.next_item"
   ]
  },
  {
   "cell_type": "markdown",
   "id": "3637d26d",
   "metadata": {},
   "source": [
    "### Task 8"
   ]
  },
  {
   "cell_type": "markdown",
   "id": "f0ae6d67",
   "metadata": {},
   "source": [
    "Напишите функцию solution(), которая принимает на вход голову связного списка и индекс элемента.\n",
    "\n",
    "Функция должна удалить из списка элемент с указанным индексом и вернуть голову обновлённого списка."
   ]
  },
  {
   "cell_type": "code",
   "execution_count": 43,
   "id": "d12080b9",
   "metadata": {},
   "outputs": [],
   "source": [
    "import os\n",
    "\n",
    "LOCAL = os.environ.get('REMOTE_JUDGE', 'false') != 'true'\n",
    "\n",
    "if LOCAL:\n",
    "    class Node:\n",
    "        def __init__(self, value, next_item=None):\n",
    "            self.value = value\n",
    "            self.next_item = next_item\n",
    "\n",
    "\n",
    "def solution(node, idx):\n",
    "    index = 0\n",
    "    current = node\n",
    "    while current.next_item and index < idx:\n",
    "        previous = current\n",
    "        current = current.next_item\n",
    "        index += 1\n",
    "    if index > idx:\n",
    "        print('Out of range')\n",
    "    elif index == 0:\n",
    "        node = node.next_item\n",
    "    else:\n",
    "        previous.next_item = current.next_item\n",
    "    return node\n",
    "\n",
    "\n",
    "# Тестирующая функция для проверки решения.\n",
    "# Не изменяйте её, она не требует вашего внимания.\n",
    "\n",
    "node3 = Node(\"Задача 4: Обследовать грунт в радиусе 3 м\", None)\n",
    "node2 = Node(\"Задача 3: Измерить температуру атмосферы\", node3)\n",
    "node1 = Node(\"Задача 2: Пробурить скважину глубиной 0.5 м\", node2)\n",
    "node0 = Node(\"Задача 1: Фотосъёмка 360°\", node1)\n",
    "\n",
    "new_head = solution(node0, 1)\n",
    "    "
   ]
  },
  {
   "cell_type": "code",
   "execution_count": 45,
   "id": "e3e4fd47",
   "metadata": {},
   "outputs": [
    {
     "data": {
      "text/plain": [
       "'Задача 3: Измерить температуру атмосферы'"
      ]
     },
     "execution_count": 45,
     "metadata": {},
     "output_type": "execute_result"
    }
   ],
   "source": [
    "new_head.next_item.value"
   ]
  },
  {
   "cell_type": "markdown",
   "id": "73d78e84",
   "metadata": {},
   "source": [
    "## Стек"
   ]
  },
  {
   "cell_type": "markdown",
   "id": "be1195c1",
   "metadata": {},
   "source": [
    "### Task 9"
   ]
  },
  {
   "cell_type": "markdown",
   "id": "e1521725",
   "metadata": {},
   "source": [
    "Напишите функцию is_correct_bracket_seq(), которая принимает на вход скобочную последовательность и возвращает True, если последовательность правильная, и False — в остальных случаях.\n",
    "\n",
    "Что считать правильной последовательностью\n",
    "\n",
    "Пустая строка — это правильная скобочная последовательность.\n",
    "\n",
    "Правильная скобочная последовательность, взятая в скобки одного типа, — тоже правильная: ( { [ ] } ).\n",
    "\n",
    "Правильная скобочная последовательность с приписанной слева или справа правильной скобочной последовательностью — правильная: ( { [ ] } ) ( [ ] )."
   ]
  },
  {
   "cell_type": "code",
   "execution_count": 46,
   "id": "dbb759ee",
   "metadata": {},
   "outputs": [],
   "source": [
    "def is_correct_bracket_seq(item):\n",
    "    stack = []\n",
    "    open_bracket_seq = '({['\n",
    "    close_braket_seq = ')}]'\n",
    "    dict_del_seq = {')': '(', '}': '{', ']': '['}\n",
    "    \n",
    "    for i in item:\n",
    "        if i in open_bracket_seq:\n",
    "            stack.append(i)\n",
    "        elif i in close_braket_seq:\n",
    "            if not stack or stack[-1] != dict_del_seq[i]:\n",
    "                return False\n",
    "            stack.pop()\n",
    "    return len(stack) == 0"
   ]
  },
  {
   "cell_type": "code",
   "execution_count": 51,
   "id": "2e44180c",
   "metadata": {},
   "outputs": [],
   "source": [
    "item = ['{', '[', '(', ')', ']', '}']"
   ]
  },
  {
   "cell_type": "code",
   "execution_count": 63,
   "id": "5987bb0c",
   "metadata": {},
   "outputs": [],
   "source": [
    "item1 = ['(', ')']"
   ]
  },
  {
   "cell_type": "code",
   "execution_count": 64,
   "id": "553f327c",
   "metadata": {},
   "outputs": [
    {
     "data": {
      "text/plain": [
       "True"
      ]
     },
     "execution_count": 64,
     "metadata": {},
     "output_type": "execute_result"
    }
   ],
   "source": [
    "is_correct_bracket_seq(item)"
   ]
  },
  {
   "cell_type": "code",
   "execution_count": 66,
   "id": "6364c5ce",
   "metadata": {},
   "outputs": [
    {
     "data": {
      "text/plain": [
       "True"
      ]
     },
     "execution_count": 66,
     "metadata": {},
     "output_type": "execute_result"
    }
   ],
   "source": [
    "is_correct_bracket_seq(item1)"
   ]
  },
  {
   "cell_type": "code",
   "execution_count": null,
   "id": "32adbad6",
   "metadata": {},
   "outputs": [],
   "source": [
    "def is_correct_bracket_seq(item):\n",
    "    stack = []\n",
    "    open_bracket_seq = '({['\n",
    "    close_braket_seq = ')}]'\n",
    "    dict_del_seq = {')': '(', '}': '{', ']': '['}\n",
    "    \n",
    "    for i in item:\n",
    "        if i in open_bracket_seq:\n",
    "            stack.append(i)\n",
    "        elif i in close_braket_seq:\n",
    "            if not stack or stack[-1] != dict_del_seq[i]:\n",
    "                return False\n",
    "            stack.pop()\n",
    "    return len(stack) == 0\n",
    "\n",
    "def main():\n",
    "    with open('input.txt', 'r') as file_in:\n",
    "        item = file_in.readline() \n",
    "        result = is_correct_bracket_seq(item)\n",
    "    with open('output.txt', 'w') as file_out:\n",
    "        file_out.write(str(result))\n",
    "\n",
    "\n",
    "if __name__ == '__main__':\n",
    "    main()"
   ]
  },
  {
   "cell_type": "markdown",
   "id": "5e912d6b",
   "metadata": {},
   "source": [
    "## Очередь и дек"
   ]
  },
  {
   "cell_type": "code",
   "execution_count": 68,
   "id": "e4227c96",
   "metadata": {},
   "outputs": [
    {
     "name": "stdout",
     "output_type": "stream",
     "text": [
      "1.4764001369476318\n",
      "0.011610746383666992\n"
     ]
    }
   ],
   "source": [
    "# Импорт библиотеки для работы с временем.\n",
    "import time\n",
    "# Импорт дека.\n",
    "from collections import deque\n",
    "\n",
    "# Количество элементов в списке и в деке.\n",
    "elements_count = 100000\n",
    "\n",
    "# Засекаем время начала.\n",
    "start_time = time.time()\n",
    "# Сначала проверяем обычный список.\n",
    "data1 = []\n",
    "for data_index in range(elements_count):\n",
    "    # Каждый раз вставляем элемент в начало списка.\n",
    "    data1.insert(0, f'Элемент номер {data_index}')\n",
    "# Печатаем время выполнения для списка.\n",
    "print(time.time() - start_time)\n",
    "\n",
    "# Засекаем новое время для дека.\n",
    "start_time = time.time()\n",
    "# Создаём дек.\n",
    "data2 = deque()\n",
    "for data_index in range(elements_count):\n",
    "    # Добавляем новые элементы в начало очереди.\n",
    "    data2.appendleft(f'Элемент номер {data_index}')\n",
    "# Печатаем время выполнения для дека.\n",
    "print(time.time() - start_time)"
   ]
  },
  {
   "cell_type": "code",
   "execution_count": 69,
   "id": "cacc27f0",
   "metadata": {},
   "outputs": [
    {
     "name": "stdout",
     "output_type": "stream",
     "text": [
      "deque([14, 13, 12, 11, 10, 9, 8, 7, 6, 5], maxlen=10)\n"
     ]
    }
   ],
   "source": [
    "data = deque(maxlen=10)\n",
    "\n",
    "for item in range(15):\n",
    "    data.appendleft(item)\n",
    "\n",
    "print(data)"
   ]
  },
  {
   "cell_type": "markdown",
   "id": "ea9b9944",
   "metadata": {},
   "source": [
    "## Задача «Шифровка ссылок»"
   ]
  },
  {
   "cell_type": "markdown",
   "id": "db35b8c2",
   "metadata": {},
   "source": [
    "Напишите программу, которая будет шифровать ссылки.\n",
    "\n",
    "Любая переданная в программу ссылка должна быть преобразована в ссылку вида https://ma.rs/<hash>, где <hash> — изменяемая часть, которая может включать английские буквы любого регистра и цифры.\n",
    "    \n",
    "Например, ссылка https://tsup.ru/mars/marsohod-1/01-09-2023/daily_job.html может быть преобразована в ссылку вида https://ma.rs/X7NYIol.\n",
    "\n",
    "Количество символов после префикса https://ma.rs/ может быть любым."
   ]
  },
  {
   "cell_type": "code",
   "execution_count": 74,
   "id": "7a4d7dee",
   "metadata": {},
   "outputs": [
    {
     "name": "stdout",
     "output_type": "stream",
     "text": [
      "https://ma.rs/dcc6ad2289\n",
      "{'dcc6ad2289': 'https://tsup.ru/mars/marsohod-1/01-09-2023/daily_job.html'}\n"
     ]
    }
   ],
   "source": [
    "from hashlib import sha256\n",
    "\n",
    "\n",
    "class MarsURLEncoder:\n",
    "\n",
    "    def __init__(self):\n",
    "        self.base_url = 'https://ma.rs/'\n",
    "        self.dict_url = {}\n",
    "\n",
    "    def encode(self, long_url):\n",
    "        \"\"\"Кодирует длинную ссылку в короткую вида https://ma.rs/X7NYIol.\"\"\"\n",
    "        key = sha256(long_url.encode()).hexdigest()[:10]\n",
    "        self.dict_url[key] = long_url\n",
    "        return self.base_url + key\n",
    "\n",
    "    def decode(self, short_url):\n",
    "        \"\"\"Декодирует короткую ссылку вида https://ma.rs/X7NYIol в исходную.\"\"\"\n",
    "        key = short_url.replace(self.base_url, '')\n",
    "        return self.dict_url[key]\n",
    "\n",
    "\n",
    "if __name__ == '__main__':\n",
    "    m1 = MarsURLEncoder()\n",
    "    print(m1.encode('https://tsup.ru/mars/marsohod-1/01-09-2023/daily_job.html'))\n",
    "    print(m1.dict_url)"
   ]
  },
  {
   "cell_type": "markdown",
   "id": "81a9b0a8",
   "metadata": {},
   "source": [
    "## Наивные методы решения алгоритмических задач"
   ]
  },
  {
   "cell_type": "markdown",
   "id": "29bb43e1",
   "metadata": {},
   "source": [
    "Марсоход раз в час записывает в массив информацию о солнечной радиации. \n",
    "Каждое значение — это число от 0 до 100.\n",
    "Для каждого элемента требуется определить, сколько в массиве есть значений меньше, чем текущее. \n",
    "Результат нужно записать во второй массив.\n",
    "Исходные массивы могут быть длиной от 2 до 500 элементов."
   ]
  },
  {
   "cell_type": "code",
   "execution_count": 75,
   "id": "619c6b50",
   "metadata": {},
   "outputs": [
    {
     "name": "stdout",
     "output_type": "stream",
     "text": [
      "2 5 1 0 9 3\n",
      "2 4 1 0 5 3\n"
     ]
    }
   ],
   "source": [
    "input_lst = list(map(int, input().split()))\n",
    "res = []\n",
    "for i in input_lst:\n",
    "    res.append(sorted(input_lst).index(i))\n",
    "\n",
    "print(*res)"
   ]
  },
  {
   "cell_type": "markdown",
   "id": "22faad51",
   "metadata": {},
   "source": [
    "## Метод двух указателей"
   ]
  },
  {
   "cell_type": "markdown",
   "id": "3a0b2217",
   "metadata": {},
   "source": [
    "В нашей задаче метод двух указателей работает так:\n",
    "\n",
    "- Если сумма двух элементов, на которые «смотрят» указатели, больше искомого значения, то сумму надо уменьшить (взять меньшее слагаемое). Сдвигаем правый указатель влево, уменьшая сумму.\n",
    "- Если сумма меньше искомого значения, сдвигаем левый указатель вправо, чтобы увеличить сумму значений.\n",
    "- Если указатели «встретились», у задачи нет решения. Один элемент нельзя использовать дважды, а при «встрече» оба указателя укажут на один элемент.\n",
    "- Если левый указатель окажется правее правого, он сам превратится в правый, и начнётся перебор уже рассмотренных вариантов. Такой вариант надо исключить."
   ]
  },
  {
   "cell_type": "code",
   "execution_count": 76,
   "id": "4caaed3c",
   "metadata": {},
   "outputs": [
    {
     "name": "stdout",
     "output_type": "stream",
     "text": [
      "(2, 6)\n"
     ]
    }
   ],
   "source": [
    "def find_two_indexes(data, expected_result):\n",
    "    # В начале работы \n",
    "    # - левый указатель указывает на первый элемент списка (с индексом 0):\n",
    "    left_pointer = 0\n",
    "    # - правый указатель указывает на последний элемент списка. \n",
    "    # Индекс этого элемента на единицу меньше длины списка.\n",
    "    right_pointer = len(data) - 1\n",
    "    # Пока индекс левого указателя меньше индекса правого указателя.\n",
    "    while left_pointer < right_pointer:\n",
    "        summ = data[left_pointer] + data[right_pointer]\n",
    "        if summ == expected_result:\n",
    "            return left_pointer, right_pointer\n",
    "        elif summ > expected_result:\n",
    "            right_pointer -= 1\n",
    "        else:\n",
    "            left_pointer += 1\n",
    "\n",
    "\n",
    "if __name__ == '__main__':\n",
    "    data = [1, 2, 3, 4, 5, 6, 7, 11]\n",
    "    expected_result = 10\n",
    "    print(find_two_indexes(data, expected_result))"
   ]
  },
  {
   "cell_type": "markdown",
   "id": "c7df436f",
   "metadata": {},
   "source": [
    "## Метод скользящего окна"
   ]
  },
  {
   "cell_type": "markdown",
   "id": "b590808a",
   "metadata": {},
   "source": [
    "Для массива, состоящего из n целых чисел, найдите непрерывный подмассив (срез) заданной длины k, сумма значений в котором минимальна. Напечатайте эту сумму.\n",
    "\n",
    "Число k всегда больше нуля и меньше n.\n",
    "\n",
    "Например, даны:\n",
    "список [5, -3, -2, 10, 2, 7, 1, -6, 13],\n",
    "длина подмассива k = 4.\n",
    "\n",
    "Требуется найти такой срез из четырёх элементов, в котором сумма значений будет минимальна."
   ]
  },
  {
   "cell_type": "code",
   "execution_count": 78,
   "id": "70f21588",
   "metadata": {},
   "outputs": [
    {
     "name": "stdout",
     "output_type": "stream",
     "text": [
      "4\n"
     ]
    }
   ],
   "source": [
    "from sys import maxsize\n",
    "\n",
    "\n",
    "def find_min_slice_sum(data, elements_in_slice):\n",
    "    min_sum = maxsize\n",
    "    for index in range(len(data) - elements_in_slice + 1):\n",
    "        temp_sum = sum(data[index : index + elements_in_slice])\n",
    "        min_sum = min(min_sum, temp_sum)\n",
    "    return min_sum\n",
    "\n",
    "\n",
    "\n",
    "\n",
    "if __name__ == '__main__':\n",
    "    data = [5, -3, -2, 10, 2, 7, 1, -6, 13]\n",
    "    elements_in_slice = 4\n",
    "    print(find_min_slice_sum(data, elements_in_slice))"
   ]
  },
  {
   "cell_type": "code",
   "execution_count": 79,
   "id": "7c122ce2",
   "metadata": {},
   "outputs": [
    {
     "name": "stdout",
     "output_type": "stream",
     "text": [
      "4\n"
     ]
    }
   ],
   "source": [
    "def find_min_slice_sum(data, elements_in_slice):\n",
    "    # Считаем сумму первого окна.\n",
    "    window_sum = sum(data[0:elements_in_slice])\n",
    "    # Запоминаем результат подсчёта в качестве минимальной суммы.\n",
    "    min_sum = window_sum\n",
    "    # В цикле перебираем индексы массива от elements_in_slice до последнего.\n",
    "    for index in range(elements_in_slice, len(data)):\n",
    "        # К сумме предыдущего окна добавляем новый элемент: data[index]\n",
    "        # и вычитаем \"вышедший\" элемент: data[index - elements_in_slice]\n",
    "        window_sum += data[index] - data[index - elements_in_slice]\n",
    "        # Находим минимальную сумму.\n",
    "        min_sum = min(min_sum, window_sum)\n",
    "    return min_sum\n",
    "\n",
    "\n",
    "if __name__ == '__main__':\n",
    "    data = [5, -3, -2, 10, 2, 7, 1, -6, 13]\n",
    "    elements_in_slice = 4\n",
    "    print(find_min_slice_sum(data, elements_in_slice)) "
   ]
  },
  {
   "cell_type": "markdown",
   "id": "e19ff843",
   "metadata": {},
   "source": [
    "Напишите программу, которая принимает на вход строку и находит в ней наибольшую длину подстроки, в которой нет повторяющихся символов. \n",
    "Программа должна вернуть натуральное число — длину этой подстроки."
   ]
  },
  {
   "cell_type": "code",
   "execution_count": 108,
   "id": "fc4a2ada",
   "metadata": {},
   "outputs": [
    {
     "name": "stdout",
     "output_type": "stream",
     "text": [
      "s d s a b c d e\n",
      "3\n"
     ]
    }
   ],
   "source": [
    "def longest_max_unique_subst(string):\n",
    "    if len(string) <= 1:\n",
    "        return len(string)\n",
    "    left = 0\n",
    "    max_len = 0\n",
    "    chars = {}\n",
    "    for right, char in enumerate(string):\n",
    "        if char in chars and chars[char] >= left:\n",
    "            left = chars[char] + 1\n",
    "\n",
    "        chars[char] = right\n",
    "        max_len = max(max_len, right - left + 1)\n",
    "\n",
    "    return max_len\n",
    "\n",
    "\n",
    "print(longest_max_unique_subst(input()))"
   ]
  },
  {
   "cell_type": "code",
   "execution_count": null,
   "id": "bd5ffd2f",
   "metadata": {},
   "outputs": [],
   "source": []
  }
 ],
 "metadata": {
  "kernelspec": {
   "display_name": "Python 3 (ipykernel)",
   "language": "python",
   "name": "python3"
  },
  "language_info": {
   "codemirror_mode": {
    "name": "ipython",
    "version": 3
   },
   "file_extension": ".py",
   "mimetype": "text/x-python",
   "name": "python",
   "nbconvert_exporter": "python",
   "pygments_lexer": "ipython3",
   "version": "3.12.2"
  },
  "toc": {
   "base_numbering": 1,
   "nav_menu": {},
   "number_sections": true,
   "sideBar": true,
   "skip_h1_title": true,
   "title_cell": "Python algoritms",
   "title_sidebar": "Contents",
   "toc_cell": true,
   "toc_position": {
    "height": "calc(100% - 180px)",
    "left": "10px",
    "top": "150px",
    "width": "302.390625px"
   },
   "toc_section_display": true,
   "toc_window_display": false
  },
  "varInspector": {
   "cols": {
    "lenName": 16,
    "lenType": 16,
    "lenVar": 40
   },
   "kernels_config": {
    "python": {
     "delete_cmd_postfix": "",
     "delete_cmd_prefix": "del ",
     "library": "var_list.py",
     "varRefreshCmd": "print(var_dic_list())"
    },
    "r": {
     "delete_cmd_postfix": ") ",
     "delete_cmd_prefix": "rm(",
     "library": "var_list.r",
     "varRefreshCmd": "cat(var_dic_list()) "
    }
   },
   "types_to_exclude": [
    "module",
    "function",
    "builtin_function_or_method",
    "instance",
    "_Feature"
   ],
   "window_display": false
  }
 },
 "nbformat": 4,
 "nbformat_minor": 5
}
