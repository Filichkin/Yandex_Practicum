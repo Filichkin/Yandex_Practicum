{
 "cells": [
  {
   "cell_type": "markdown",
   "id": "a55f4f67",
   "metadata": {
    "toc": true
   },
   "source": [
    "<h1>Шифрованные инструкции<span class=\"tocSkip\"></span></h1>\n",
    "<div class=\"toc\"><ul class=\"toc-item\"></ul></div>"
   ]
  },
  {
   "cell_type": "markdown",
   "id": "cf1e6ce0",
   "metadata": {},
   "source": [
    "Марсоход получает с Земли сокращённые инструкции с заданиями, например:\n",
    "\n",
    "с — сделать снимок;\n",
    "\n",
    "в — взять образец грунта;\n",
    "\n",
    "ш — сделать шаг;\n",
    "\n",
    "о — включить освещение;\n",
    "\n",
    "и — инициировать сканирование местности.\n",
    "\n",
    "Из-за ограничений канала связи инструкции отправляются в сжатом виде. Например, если марсоходу нужно сделать 10 снимков подряд, инструкция будет выглядеть как 10[с].\n",
    "\n",
    "Число перед квадратными скобками обозначает, сколько раз надо повторить последовательность внутри скобок. Скобки могут быть и вложенными: 2[ш3[с]]10[с].\n",
    "\n",
    "Таким образом, командный центр на Земле может отправить марсоходу сжатую строку инструкций, а марсоход получит и расшифрует её в полную последовательность команд.\n",
    "\n",
    "Команды могут обозначаться символами латиницы или кириллицы.\n",
    "\n",
    "Пример:\n",
    "\n",
    "Команда: 2[с]3[в]ш\n",
    "\n",
    "Расшифровка: «ссвввш».\n",
    "\n",
    "Смысл: сделать два снимка, взять три образца грунта и сделать шаг.\n",
    "\n",
    "Пример 2:\n",
    "\n",
    "Команда: 2[в3[ш]]с\n",
    "\n",
    "Расшифровка: «вшшшвшшшс»\n",
    "\n",
    "Смысл: Взять образец грунта, сделать три шага; взять образец грунта, сделать три шага; сделать снимок.\n",
    "\n",
    "\n",
    "Напишите программу, которая расшифровывает сжатые сообщения и возвращает строку с командами."
   ]
  },
  {
   "cell_type": "code",
   "execution_count": 7,
   "id": "47bf5dba",
   "metadata": {},
   "outputs": [
    {
     "name": "stdout",
     "output_type": "stream",
     "text": [
      "2[abc]3[cd]ef\n",
      "abcabccdcdcdef\n"
     ]
    }
   ],
   "source": [
    "import string\n",
    "\n",
    "\n",
    "def decoded_instructions(compressed_message: str) -> str:\n",
    "    \"\"\"Функция, которая расшифровывает сжатые сообщения\n",
    "    и возвращает строку с командами.\n",
    "    \"\"\"\n",
    "    commands: str = ''\n",
    "    multiplier: str = ''\n",
    "    stack: list[tuple[str, str]] = []\n",
    "\n",
    "    for symbol in compressed_message:\n",
    "\n",
    "        if symbol in string.digits:\n",
    "            multiplier += symbol\n",
    "        elif symbol == '[':\n",
    "            stack.append((commands, multiplier))\n",
    "            commands, multiplier = '', ''\n",
    "        elif symbol == ']':\n",
    "            symbol, multiplier = stack.pop()\n",
    "            commands *= int(multiplier)\n",
    "            commands = symbol + commands\n",
    "            multiplier = ''\n",
    "        else:\n",
    "            commands += symbol\n",
    "\n",
    "    return commands\n",
    "\n",
    "\n",
    "if __name__ == '__main__':\n",
    "    compressed_message = [str(symbol) for symbol in input()]\n",
    "    print(encrypted_instructions(compressed_message))"
   ]
  },
  {
   "cell_type": "code",
   "execution_count": null,
   "id": "4b19f11b",
   "metadata": {},
   "outputs": [],
   "source": []
  }
 ],
 "metadata": {
  "kernelspec": {
   "display_name": "Python 3 (ipykernel)",
   "language": "python",
   "name": "python3"
  },
  "language_info": {
   "codemirror_mode": {
    "name": "ipython",
    "version": 3
   },
   "file_extension": ".py",
   "mimetype": "text/x-python",
   "name": "python",
   "nbconvert_exporter": "python",
   "pygments_lexer": "ipython3",
   "version": "3.12.2"
  },
  "toc": {
   "base_numbering": 1,
   "nav_menu": {},
   "number_sections": true,
   "sideBar": true,
   "skip_h1_title": false,
   "title_cell": "Шифрованные инструкции",
   "title_sidebar": "Contents",
   "toc_cell": true,
   "toc_position": {
    "height": "calc(100% - 180px)",
    "left": "10px",
    "top": "150px",
    "width": "285.390625px"
   },
   "toc_section_display": true,
   "toc_window_display": false
  },
  "varInspector": {
   "cols": {
    "lenName": 16,
    "lenType": 16,
    "lenVar": 40
   },
   "kernels_config": {
    "python": {
     "delete_cmd_postfix": "",
     "delete_cmd_prefix": "del ",
     "library": "var_list.py",
     "varRefreshCmd": "print(var_dic_list())"
    },
    "r": {
     "delete_cmd_postfix": ") ",
     "delete_cmd_prefix": "rm(",
     "library": "var_list.r",
     "varRefreshCmd": "cat(var_dic_list()) "
    }
   },
   "types_to_exclude": [
    "module",
    "function",
    "builtin_function_or_method",
    "instance",
    "_Feature"
   ],
   "window_display": false
  }
 },
 "nbformat": 4,
 "nbformat_minor": 5
}
