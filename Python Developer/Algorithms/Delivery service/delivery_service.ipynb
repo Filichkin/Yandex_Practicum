{
 "cells": [
  {
   "cell_type": "markdown",
   "id": "c10ea90a",
   "metadata": {},
   "source": [
    "## Служба доставки"
   ]
  },
  {
   "cell_type": "markdown",
   "id": "7b07c2b1",
   "metadata": {},
   "source": [
    "На Марс заброшена партия стационарных роботов-исследователей. \n",
    "\n",
    "Марсоход должен перевезти их на определённые точки планеты.\n",
    "\n",
    "Для перевозки роботов есть неограниченное количество транспортных платформ, каждая из которых способна выдерживать определённый вес limit. На одной платформе можно перевезти либо одного робота, либо двух — при условии, что их совокупный вес не превышает limit. Роботы имеют разный вес.\n",
    "\n",
    "Программа должна получить на вход массив, каждый элемент которого — это вес робота. Второй параметр, который должна принять программа, — это значение limit, грузоподъёмность одной платформы.\n",
    "\n",
    "Определите минимальное количество транспортных платформ, необходимое для перевозки всех роботов, описанных в массиве.\n",
    "\n",
    "Количество платформ неограниченно.\n",
    "\n",
    "Каждая платформа выдерживает максимальный вес limit.\n",
    "\n",
    "На каждой платформе можно перевезти не более двух роботов при условии, что их совокупный вес не превышает limit.\n",
    "\n",
    "Вес отдельного робота не может превышать limit.\n",
    "\n",
    "Не забудьте добавить в код аннотации типов данных.\n",
    "\n",
    "После успешного прохождения тестов на платформе Яндекс Контест отправьте решение на проверку ревьюеру."
   ]
  },
  {
   "cell_type": "markdown",
   "id": "f9b3c437",
   "metadata": {},
   "source": [
    "**Формат ввода**\n",
    "\n",
    "В первой строке записан массив целых чисел, через пробел — это вес отдельных роботов.\n",
    "Во второй строке записан лимит — предельная грузоподъёмность платформы.\n",
    "\n",
    "**Формат вывода**\n",
    "\n",
    "Целое число, указывающее на необходимое количество платформ для транспортировки."
   ]
  },
  {
   "cell_type": "code",
   "execution_count": 21,
   "id": "6a8148a9",
   "metadata": {},
   "outputs": [
    {
     "name": "stdout",
     "output_type": "stream",
     "text": [
      "1 2 3 5 2\n",
      "5\n",
      "3\n"
     ]
    }
   ],
   "source": [
    "# ID посылки 121234127.\n",
    "\n",
    "def min_platforms(robots: list[int], limit: int) -> int:\n",
    "    \"\"\"\n",
    "    Функция для определения минимального количества транспортных платформ, \n",
    "    необходимого для перевозки всех роботов.\n",
    "\n",
    "    Параметры:\n",
    "        - robots: массив целых чисел, представляющих вес отдельных роботов;\n",
    "        - limit: максимальный вес, которая выдерживает платформа.\n",
    "\n",
    "    Возвращает:\n",
    "        минимальное количество платформ, необходимое для перевозки всех роботов.\n",
    "    \"\"\"\n",
    "\n",
    "    left_point = 0\n",
    "    right_point = len(robots) - 1\n",
    "    platforms_count = 0\n",
    "\n",
    "    robots = sorted(robots)\n",
    "\n",
    "    while left_point <= right_point:\n",
    "        total_weight = robots[left_point] + robots[right_point]\n",
    "        if total_weight <= limit:\n",
    "            left_point += 1\n",
    "        platforms_count += 1\n",
    "        right_point -= 1\n",
    "\n",
    "    return platforms_count\n",
    "\n",
    "\n",
    "if __name__ == '__main__':\n",
    "    robots = [int(robot) for robot in input().split()]\n",
    "    limit = int(input())\n",
    "\n",
    "    \n",
    "    print(min_platforms(robots, limit))"
   ]
  },
  {
   "cell_type": "code",
   "execution_count": null,
   "id": "e95fd4f8",
   "metadata": {},
   "outputs": [],
   "source": []
  }
 ],
 "metadata": {
  "kernelspec": {
   "display_name": "Python 3 (ipykernel)",
   "language": "python",
   "name": "python3"
  },
  "language_info": {
   "codemirror_mode": {
    "name": "ipython",
    "version": 3
   },
   "file_extension": ".py",
   "mimetype": "text/x-python",
   "name": "python",
   "nbconvert_exporter": "python",
   "pygments_lexer": "ipython3",
   "version": "3.12.2"
  },
  "toc": {
   "base_numbering": 1,
   "nav_menu": {},
   "number_sections": true,
   "sideBar": true,
   "skip_h1_title": false,
   "title_cell": "Table of Contents",
   "title_sidebar": "Contents",
   "toc_cell": false,
   "toc_position": {},
   "toc_section_display": true,
   "toc_window_display": false
  },
  "varInspector": {
   "cols": {
    "lenName": 16,
    "lenType": 16,
    "lenVar": 40
   },
   "kernels_config": {
    "python": {
     "delete_cmd_postfix": "",
     "delete_cmd_prefix": "del ",
     "library": "var_list.py",
     "varRefreshCmd": "print(var_dic_list())"
    },
    "r": {
     "delete_cmd_postfix": ") ",
     "delete_cmd_prefix": "rm(",
     "library": "var_list.r",
     "varRefreshCmd": "cat(var_dic_list()) "
    }
   },
   "types_to_exclude": [
    "module",
    "function",
    "builtin_function_or_method",
    "instance",
    "_Feature"
   ],
   "window_display": false
  }
 },
 "nbformat": 4,
 "nbformat_minor": 5
}
