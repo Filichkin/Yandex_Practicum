{
 "cells": [
  {
   "cell_type": "markdown",
   "id": "ea79ba82",
   "metadata": {},
   "source": [
    "## Поиск в ширину"
   ]
  },
  {
   "cell_type": "code",
   "execution_count": 2,
   "id": "5d1d2b56",
   "metadata": {},
   "outputs": [],
   "source": [
    "from collections import deque"
   ]
  },
  {
   "cell_type": "code",
   "execution_count": 3,
   "id": "18d57b39",
   "metadata": {},
   "outputs": [],
   "source": [
    "def person_is_saller(name):\n",
    "    return name[-1] == 'm'"
   ]
  },
  {
   "cell_type": "code",
   "execution_count": 9,
   "id": "0acc3b1d",
   "metadata": {},
   "outputs": [],
   "source": [
    "def search(name):\n",
    "    search_queue = deque()\n",
    "    search_queue += graph[name]\n",
    "    searched = set()\n",
    "    while search_queue:\n",
    "        person = search_queue.popleft()\n",
    "        if not person in searched:\n",
    "            if person_is_saller(person):\n",
    "                print(person + ' is mango saler!')\n",
    "                return True\n",
    "            else:\n",
    "                search_queue += graph[person]\n",
    "                searched.add(person)\n",
    "    return False"
   ]
  },
  {
   "cell_type": "code",
   "execution_count": 10,
   "id": "faba7f52",
   "metadata": {},
   "outputs": [],
   "source": [
    "graph = {}\n",
    "graph['your'] = ['Alisa', 'Bob', 'Kler']\n",
    "graph['Bob'] = ['Anudg', 'Peggy']\n",
    "graph['Alisa'] = ['Peggy']\n",
    "graph['Kler'] = ['Tom', 'Jonny']\n",
    "graph['Anudg'] = []\n",
    "graph['Peggy'] = []\n",
    "graph['Tom'] = []\n",
    "graph['Jonny'] = []"
   ]
  },
  {
   "cell_type": "code",
   "execution_count": 11,
   "id": "8483b2a8",
   "metadata": {},
   "outputs": [
    {
     "name": "stdout",
     "output_type": "stream",
     "text": [
      "Tom is mango saler!\n"
     ]
    },
    {
     "data": {
      "text/plain": [
       "True"
      ]
     },
     "execution_count": 11,
     "metadata": {},
     "output_type": "execute_result"
    }
   ],
   "source": [
    "search('your')"
   ]
  },
  {
   "cell_type": "markdown",
   "id": "74f643ac",
   "metadata": {},
   "source": [
    "## Поиск в глубину"
   ]
  },
  {
   "cell_type": "markdown",
   "id": "c892c5e4",
   "metadata": {},
   "source": [
    "### Обход каталога файлов"
   ]
  },
  {
   "cell_type": "code",
   "execution_count": 17,
   "id": "32f87f9c",
   "metadata": {},
   "outputs": [],
   "source": [
    "from os import listdir\n",
    "from os.path import isfile, join\n",
    "\n",
    "\n",
    "def printnames(start_dir):\n",
    "    search_queue = deque()\n",
    "    search_queue.append(start_dir)\n",
    "    while search_queue:\n",
    "        directory = search_queue.popleft()\n",
    "        for file in sorted(listdir(directory)):\n",
    "            fullpath = join(directory, file)\n",
    "            if isfile(fullpath):\n",
    "                print(file)\n",
    "            else:\n",
    "                search_queue.append(fullpath)"
   ]
  },
  {
   "cell_type": "code",
   "execution_count": 21,
   "id": "6e3c382e",
   "metadata": {},
   "outputs": [
    {
     "name": "stdout",
     "output_type": "stream",
     "text": [
      ".DS_Store\n",
      "music_recomendation.ipynb\n",
      "pyspark_part_1.ipynb\n",
      "pyspark_part_2_music_recomendation.ipynb\n",
      "spark\n",
      "pyspark_part_2_music_recomendation-checkpoint.ipynb\n",
      "spark_book-checkpoint.ipynb\n",
      "README.txt\n",
      "artist_alias.txt\n",
      "artist_data.txt\n",
      "user_artist_data.txt\n"
     ]
    }
   ],
   "source": [
    "printnames('/Users/alexeyfilichkin/Desktop/git_hub/spark')"
   ]
  },
  {
   "cell_type": "markdown",
   "id": "ae4ba2ad",
   "metadata": {},
   "source": [
    "### Рекурсивный обход каталога файлов"
   ]
  },
  {
   "cell_type": "code",
   "execution_count": 26,
   "id": "154b4fd5",
   "metadata": {},
   "outputs": [],
   "source": [
    "def printnames(directory):\n",
    "    for file in sorted(listdir(directory)):\n",
    "        fullpath = join(directory, file)\n",
    "        if isfile(fullpath):\n",
    "            print(file)\n",
    "        else:\n",
    "            printnames(fullpath)"
   ]
  },
  {
   "cell_type": "code",
   "execution_count": 27,
   "id": "5221ca18",
   "metadata": {},
   "outputs": [
    {
     "name": "stdout",
     "output_type": "stream",
     "text": [
      ".DS_Store\n",
      "pyspark_part_2_music_recomendation-checkpoint.ipynb\n",
      "spark_book-checkpoint.ipynb\n",
      "README.txt\n",
      "artist_alias.txt\n",
      "artist_data.txt\n",
      "user_artist_data.txt\n",
      "music_recomendation.ipynb\n",
      "pyspark_part_1.ipynb\n",
      "pyspark_part_2_music_recomendation.ipynb\n",
      "spark\n"
     ]
    }
   ],
   "source": [
    "printnames('/Users/alexeyfilichkin/Desktop/git_hub/spark')"
   ]
  },
  {
   "cell_type": "code",
   "execution_count": null,
   "id": "f79a15f3",
   "metadata": {},
   "outputs": [],
   "source": []
  }
 ],
 "metadata": {
  "kernelspec": {
   "display_name": "Python 3 (ipykernel)",
   "language": "python",
   "name": "python3"
  },
  "language_info": {
   "codemirror_mode": {
    "name": "ipython",
    "version": 3
   },
   "file_extension": ".py",
   "mimetype": "text/x-python",
   "name": "python",
   "nbconvert_exporter": "python",
   "pygments_lexer": "ipython3",
   "version": "3.12.2"
  },
  "toc": {
   "base_numbering": 1,
   "nav_menu": {},
   "number_sections": true,
   "sideBar": true,
   "skip_h1_title": false,
   "title_cell": "Table of Contents",
   "title_sidebar": "Contents",
   "toc_cell": false,
   "toc_position": {
    "height": "calc(100% - 180px)",
    "left": "10px",
    "top": "150px",
    "width": "264.796875px"
   },
   "toc_section_display": true,
   "toc_window_display": false
  },
  "varInspector": {
   "cols": {
    "lenName": 16,
    "lenType": 16,
    "lenVar": 40
   },
   "kernels_config": {
    "python": {
     "delete_cmd_postfix": "",
     "delete_cmd_prefix": "del ",
     "library": "var_list.py",
     "varRefreshCmd": "print(var_dic_list())"
    },
    "r": {
     "delete_cmd_postfix": ") ",
     "delete_cmd_prefix": "rm(",
     "library": "var_list.r",
     "varRefreshCmd": "cat(var_dic_list()) "
    }
   },
   "types_to_exclude": [
    "module",
    "function",
    "builtin_function_or_method",
    "instance",
    "_Feature"
   ],
   "window_display": false
  }
 },
 "nbformat": 4,
 "nbformat_minor": 5
}
