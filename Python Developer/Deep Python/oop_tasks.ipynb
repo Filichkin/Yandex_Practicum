{
 "cells": [
  {
   "cell_type": "markdown",
   "id": "03a60c15",
   "metadata": {
    "toc": true
   },
   "source": [
    "<h1>Задачи по ООП<span class=\"tocSkip\"></span></h1>\n",
    "<div class=\"toc\"><ul class=\"toc-item\"><li><span><a href=\"#Объекты-и-классы\" data-toc-modified-id=\"Объекты-и-классы-1\"><span class=\"toc-item-num\">1&nbsp;&nbsp;</span>Объекты и классы</a></span><ul class=\"toc-item\"><li><span><a href=\"#Задача-1\" data-toc-modified-id=\"Задача-1-1.1\"><span class=\"toc-item-num\">1.1&nbsp;&nbsp;</span>Задача 1</a></span></li><li><span><a href=\"#Задача-2\" data-toc-modified-id=\"Задача-2-1.2\"><span class=\"toc-item-num\">1.2&nbsp;&nbsp;</span>Задача 2</a></span></li><li><span><a href=\"#Задача-3\" data-toc-modified-id=\"Задача-3-1.3\"><span class=\"toc-item-num\">1.3&nbsp;&nbsp;</span>Задача 3</a></span></li><li><span><a href=\"#Задача-4\" data-toc-modified-id=\"Задача-4-1.4\"><span class=\"toc-item-num\">1.4&nbsp;&nbsp;</span>Задача 4</a></span></li></ul></li><li><span><a href=\"#Знакомство-с-ООП\" data-toc-modified-id=\"Знакомство-с-ООП-2\"><span class=\"toc-item-num\">2&nbsp;&nbsp;</span>Знакомство с ООП</a></span><ul class=\"toc-item\"><li><span><a href=\"#Задача-1\" data-toc-modified-id=\"Задача-1-2.1\"><span class=\"toc-item-num\">2.1&nbsp;&nbsp;</span>Задача 1</a></span></li><li><span><a href=\"#Задача-2\" data-toc-modified-id=\"Задача-2-2.2\"><span class=\"toc-item-num\">2.2&nbsp;&nbsp;</span>Задача 2</a></span></li><li><span><a href=\"#Задача-3\" data-toc-modified-id=\"Задача-3-2.3\"><span class=\"toc-item-num\">2.3&nbsp;&nbsp;</span>Задача 3</a></span></li></ul></li></ul></div>"
   ]
  },
  {
   "cell_type": "markdown",
   "id": "ae21fcc1",
   "metadata": {},
   "source": [
    "### Объекты и классы "
   ]
  },
  {
   "cell_type": "markdown",
   "id": "a5ef0519",
   "metadata": {},
   "source": [
    "#### Задача 1"
   ]
  },
  {
   "cell_type": "markdown",
   "id": "0e3714ed",
   "metadata": {},
   "source": [
    "В биологической лаборатории выводят премиальную породу очень полезных бактерий.\n",
    "Популяцию выращивают в автоматизированной чашке Петри.\n",
    "\n",
    "Управление популяцией выполняется с помощью программы, которая позволяет\n",
    "\n",
    "- при начале работы установить предельную численность популяции;\n",
    "- удалять из популяции по одной бактерии;\n",
    "- добавлять в популяцию по одной бактерии."
   ]
  },
  {
   "cell_type": "code",
   "execution_count": 3,
   "id": "29111bdd",
   "metadata": {},
   "outputs": [],
   "source": [
    "class BacteriaProducer:\n",
    "    def __init__(self, max_bacteria=0):\n",
    "        self.max_bacteria = max_bacteria\n",
    "        self.bacteria_qty = 0\n",
    "\n",
    "    def create_new(self):\n",
    "        self.bacteria_qty = self.bacteria_qty + 1\n",
    "        if self.bacteria_qty <= self.max_bacteria:\n",
    "            print(f'Добавлена одна бактерия. '\n",
    "                  f'Количество бактерий в популяции: {self.bacteria_qty}')\n",
    "        else:\n",
    "            self.bacteria_qty = self.max_bacteria\n",
    "            print('Нет места под новую бактерию')\n",
    "\n",
    "    def remove_one(self):\n",
    "        if self.bacteria_qty <= 0:\n",
    "            print('В популяции нет бактерий, удалять нечего')\n",
    "        else:\n",
    "            self.bacteria_qty = self.bacteria_qty - 1\n",
    "            print(f'Одна бактерия удалена. '\n",
    "                  f'Количество бактерий в популяции: {self.bacteria_qty}')\n"
   ]
  },
  {
   "cell_type": "code",
   "execution_count": 4,
   "id": "2ced03b1",
   "metadata": {},
   "outputs": [
    {
     "name": "stdout",
     "output_type": "stream",
     "text": [
      "В популяции нет бактерий, удалять нечего\n",
      "Добавлена одна бактерия. Количество бактерий в популяции: 1\n",
      "Добавлена одна бактерия. Количество бактерий в популяции: 2\n",
      "Добавлена одна бактерия. Количество бактерий в популяции: 3\n",
      "Нет места под новую бактерию\n",
      "Одна бактерия удалена. Количество бактерий в популяции: 2\n"
     ]
    }
   ],
   "source": [
    "bacteria_producer = BacteriaProducer(max_bacteria=3)\n",
    "bacteria_producer.remove_one()\n",
    "bacteria_producer.create_new()\n",
    "bacteria_producer.create_new()\n",
    "bacteria_producer.create_new()\n",
    "bacteria_producer.create_new()\n",
    "bacteria_producer.remove_one()"
   ]
  },
  {
   "cell_type": "markdown",
   "id": "2e4e7952",
   "metadata": {},
   "source": [
    "#### Задача 2"
   ]
  },
  {
   "cell_type": "markdown",
   "id": "c9d896e9",
   "metadata": {},
   "source": [
    "Идея приложения такова: создаётся программная «корзина для грибов» (объект класса MushroomsCollector), и каждый найденный в лесу гриб добавляется в эту корзину (учитывается в программе). \n",
    "\n",
    "Если гриб несъедобен — программа должна запретить добавление этого гриба в корзину.\n",
    "Может быть создано несколько таких «программных корзин»."
   ]
  },
  {
   "cell_type": "code",
   "execution_count": 5,
   "id": "1377cf66",
   "metadata": {},
   "outputs": [],
   "source": [
    "class MushroomsCollector:\n",
    "    def __init__(self):\n",
    "        self.mushrooms = []\n",
    "\n",
    "    def is_poisonous(self, mushroom_name):\n",
    "        if mushroom_name == 'Мухомор' or mushroom_name == 'Поганка':\n",
    "            return True\n",
    "        return False\n",
    "\n",
    "    def add_mushroom(self, mushroom_name):\n",
    "        if not self.is_poisonous(mushroom_name):\n",
    "            self.mushrooms.append(mushroom_name)\n",
    "        else:\n",
    "            print('Нельзя добавить ядовитый гриб')\n",
    "\n",
    "    def __str__(self):\n",
    "        return ', '.join(self.mushrooms)\n"
   ]
  },
  {
   "cell_type": "code",
   "execution_count": 6,
   "id": "3d16cc1a",
   "metadata": {},
   "outputs": [
    {
     "name": "stdout",
     "output_type": "stream",
     "text": [
      "Нельзя добавить ядовитый гриб\n",
      "Подосиновик, Белый\n",
      "Подосиновик, Белый\n",
      "Лисичка\n"
     ]
    }
   ],
   "source": [
    "collector_1 = MushroomsCollector()\n",
    "collector_1.add_mushroom('Мухомор')\n",
    "collector_1.add_mushroom('Подосиновик')\n",
    "collector_1.add_mushroom('Белый')\n",
    "print(collector_1)\n",
    "\n",
    "collector_2 = MushroomsCollector()\n",
    "collector_2.add_mushroom('Лисичка')\n",
    "print(collector_1)\n",
    "print(collector_2)"
   ]
  },
  {
   "cell_type": "markdown",
   "id": "b440cdee",
   "metadata": {},
   "source": [
    "#### Задача 3"
   ]
  },
  {
   "cell_type": "markdown",
   "id": "ee111170",
   "metadata": {},
   "source": [
    "Ваша задача — написать шифрующий/дешифрующий класс CipherMaster с двумя методами:\n",
    "\n",
    "- метод cipher(): принимает исходную строку и возвращает зашифрованную;\n",
    "- метод decipher(): принимает зашифрованную строку и возвращает исходную;\n",
    "\n",
    "Шифрование и дешифровку нужно выполнять по «методу Цезаря»: любая буква в тексте заменяется на другую — со сдвигом по алфавиту вперёд или назад на определённое количество символов.\n",
    "\n",
    "Например, при шифровании по методу Цезаря со сдвигом на 2 буквы вправо выражение «мама мыла раму» превратится в заклинание «овов оэнв твох»: м превратится в о, которая стоит на две позиции правее, то же произойдёт и с остальными буквами.\n",
    "\n",
    "При шифровании алфавит «зацикливается», и, например, при сдвиге 2 буква я должна быть заменена на б."
   ]
  },
  {
   "cell_type": "code",
   "execution_count": 7,
   "id": "6ed90356",
   "metadata": {},
   "outputs": [],
   "source": [
    "class CipherMaster:\n",
    "    alphabet = 'абвгдеёжзийклмнопрстуфхцчшщъыьэюя'\n",
    "\n",
    "    def cipher(self, original_text, shift):\n",
    "        itog = ''\n",
    "        for i in original_text.lower():\n",
    "            mesto = self.alphabet.find(i)\n",
    "            new_mesto = (mesto + shift) % len(self.alphabet)\n",
    "            if i in self.alphabet:\n",
    "                itog += self.alphabet[new_mesto]\n",
    "            else:\n",
    "                itog += i\n",
    "        return itog\n",
    "\n",
    "    def decipher(self, cipher_text, shift):\n",
    "        itog = ''\n",
    "        for i in cipher_text.lower():\n",
    "            mesto = self.alphabet.find(i)\n",
    "            new_mesto = (mesto - shift) % len(self.alphabet)\n",
    "            if i in self.alphabet:\n",
    "                itog += self.alphabet[new_mesto]\n",
    "            else:\n",
    "                itog += i\n",
    "        return itog\n"
   ]
  },
  {
   "cell_type": "code",
   "execution_count": 8,
   "id": "65dff89b",
   "metadata": {},
   "outputs": [
    {
     "name": "stdout",
     "output_type": "stream",
     "text": [
      "рёпвиёэ тждюажт сткпбн стржмф у сжтдрер твйв, у фжч срт б жер граую\n",
      "создал вчера пустой файл — а там уже комменты от ревьюера\n"
     ]
    }
   ],
   "source": [
    "cipher_master = CipherMaster()\n",
    "print(cipher_master.cipher(\n",
    "    original_text='Однажды ревьюер принял проект с первого раза, с тех пор я его боюсь',\n",
    "    shift=2\n",
    "))\n",
    "print(cipher_master.decipher(\n",
    "    cipher_text='Олебэи яфвнэ мроплж сэжи — э пэй рдв злййвкпш лп нвящывнэ',\n",
    "    shift=-3\n",
    "))"
   ]
  },
  {
   "cell_type": "markdown",
   "id": "f76b3432",
   "metadata": {},
   "source": [
    "#### Задача 4"
   ]
  },
  {
   "cell_type": "markdown",
   "id": "d1523504",
   "metadata": {},
   "source": [
    "Сделайте код ещё лучше: вместо двух методов напишите один: process_text().\n",
    "\n",
    "Этот метод должен быть универсальным и работать «в обе стороны» — и для шифрования строки, и для дешифровки."
   ]
  },
  {
   "cell_type": "code",
   "execution_count": 9,
   "id": "fc28eaaa",
   "metadata": {},
   "outputs": [],
   "source": [
    "class CipherMaster:\n",
    "    alphabet = 'абвгдеёжзийклмнопрстуфхцчшщъыьэюя'\n",
    "\n",
    "    def process_text(self, text, shift, is_encrypt):\n",
    "        if is_encrypt:\n",
    "            itog = ''\n",
    "            for i in text.lower():\n",
    "                mesto = self.alphabet.find(i)\n",
    "                new_mesto = (mesto + shift) % len(self.alphabet)\n",
    "                if i in self.alphabet:\n",
    "                    itog += self.alphabet[new_mesto]\n",
    "                else:\n",
    "                    itog += i\n",
    "            return itog\n",
    "        else:\n",
    "            itog = ''\n",
    "            for i in text.lower():\n",
    "                mesto = self.alphabet.find(i)\n",
    "                new_mesto = (mesto - shift) % len(self.alphabet)\n",
    "                if i in self.alphabet:\n",
    "                    itog += self.alphabet[new_mesto]\n",
    "                else:\n",
    "                    itog += i\n",
    "            return itog\n"
   ]
  },
  {
   "cell_type": "code",
   "execution_count": 10,
   "id": "4382f1f7",
   "metadata": {},
   "outputs": [
    {
     "name": "stdout",
     "output_type": "stream",
     "text": [
      "рёпвиёэ тждюажт сткпбн стржмф у сжтдрер твйв, у фжч срт б жер граую\n",
      "создал вчера пустой файл — а там уже комменты от ревьюера\n"
     ]
    }
   ],
   "source": [
    "cipher_master = CipherMaster()\n",
    "print(cipher_master.process_text(\n",
    "    text='Однажды ревьюер принял проект с первого раза, с тех пор я его боюсь',\n",
    "    shift=2,\n",
    "    is_encrypt=True\n",
    "))\n",
    "print(cipher_master.process_text(\n",
    "    text='Олебэи яфвнэ мроплж сэжи — э пэй рдв злййвкпш лп нвящывнэ',\n",
    "    shift=-3,\n",
    "    is_encrypt=False\n",
    ")) "
   ]
  },
  {
   "cell_type": "markdown",
   "id": "4604cefb",
   "metadata": {},
   "source": [
    "### Знакомство с ООП"
   ]
  },
  {
   "cell_type": "markdown",
   "id": "cd89adea",
   "metadata": {},
   "source": [
    "#### Задача 1"
   ]
  },
  {
   "cell_type": "markdown",
   "id": "da81e01d",
   "metadata": {},
   "source": [
    "Ваша задача — написать программу, в которой можно создавать объекты товаров разного типа (с разными свойствами).\n",
    "\n",
    "У объектов должны быть методы, которые выведут на экран данные о товаре."
   ]
  },
  {
   "cell_type": "code",
   "execution_count": 11,
   "id": "09d87a89",
   "metadata": {},
   "outputs": [],
   "source": [
    "class Product:\n",
    "    def __init__(self, product_name, qty):\n",
    "        self.product_name = product_name\n",
    "        self.qty = qty\n",
    "\n",
    "    def get_info(self):\n",
    "        return f'{self.product_name} (в наличии: {self.qty})'\n",
    "\n",
    "\n",
    "class Kettlebell(Product):\n",
    "    def __init__(self, product_name, qty, weight):\n",
    "        super().__init__(product_name, qty)\n",
    "        self.weight = weight\n",
    "\n",
    "    def get_weight(self):\n",
    "        return f'{self.product_name} (в наличии: {self.qty}). Вес: {self.weight} кг'\n",
    "\n",
    "\n",
    "class Clothing(Product):\n",
    "    def __init__(self, product_name, qty, size):\n",
    "        super().__init__(product_name, qty)\n",
    "        self.size = size\n",
    "\n",
    "    def get_size(self):\n",
    "        return f'{self.product_name} (в наличии: {self.qty}). Размер: {self.size}'\n"
   ]
  },
  {
   "cell_type": "code",
   "execution_count": 12,
   "id": "8218a445",
   "metadata": {},
   "outputs": [
    {
     "name": "stdout",
     "output_type": "stream",
     "text": [
      "Гиря малая (в наличии: 15). Вес: 2 кг\n",
      "Футболка (в наличии: 5). Размер: L\n"
     ]
    }
   ],
   "source": [
    "small_kettlebell = Kettlebell('Гиря малая', 15, 2)\n",
    "shirt = Clothing('Футболка', 5, 'L')\n",
    "\n",
    "print(small_kettlebell.get_weight())\n",
    "print(shirt.get_size())"
   ]
  },
  {
   "cell_type": "markdown",
   "id": "02693a41",
   "metadata": {},
   "source": [
    "#### Задача 2"
   ]
  },
  {
   "cell_type": "markdown",
   "id": "9e99a7a5",
   "metadata": {},
   "source": [
    "В торговой сети ООП есть три вида магазинов: \n",
    "\n",
    "- мини-маркеты — работают только по будним дням;\n",
    "\n",
    "- магазины выходного дня — работают только по субботам и воскресеньям;\n",
    "\n",
    "- non-stop маркеты — эти магазины работают ежедневно.\n",
    "\n",
    "Напишите программу, с помощью которой пользователи смогут узнать, работает ли в заданную дату тот или иной магазин."
   ]
  },
  {
   "cell_type": "code",
   "execution_count": 13,
   "id": "87e55efb",
   "metadata": {},
   "outputs": [],
   "source": [
    "from datetime import datetime\n",
    "\n",
    "\n",
    "class Store:\n",
    "    def __init__(self, address):\n",
    "        self.address = address\n",
    "\n",
    "    def is_open(self, date):\n",
    "        return False\n",
    "\n",
    "    def get_info(self, date_str):\n",
    "        date_object = datetime.strptime(date_str, '%d.%m.%Y')\n",
    "\n",
    "        if self.is_open(date_object):\n",
    "            info = 'работает'\n",
    "        else:\n",
    "            info = 'не работает'\n",
    "        return f'Магазин по адресу {self.address} {date_str} {info}'\n",
    "\n",
    "\n",
    "class MiniStore(Store):\n",
    "    def is_open(self, date):\n",
    "        if date.weekday() < 5:\n",
    "            return True\n",
    "        else:\n",
    "            return False\n",
    "\n",
    "\n",
    "class WeekendStore(Store):\n",
    "    def is_open(self, date):\n",
    "        if date.weekday() == 5 or date.weekday() == 6:\n",
    "            return True\n",
    "        else:\n",
    "            return False\n",
    "\n",
    "\n",
    "class NonStopStore(Store):\n",
    "    def is_open(self, date):\n",
    "        return True\n"
   ]
  },
  {
   "cell_type": "code",
   "execution_count": 14,
   "id": "91a1108a",
   "metadata": {},
   "outputs": [
    {
     "name": "stdout",
     "output_type": "stream",
     "text": [
      "Магазин по адресу Улица Немига, 57 29.03.2024 работает\n",
      "Магазин по адресу Улица Немига, 57 30.03.2024 не работает\n",
      "Магазин по адресу Улица Толе би, 321 29.03.2024 не работает\n",
      "Магазин по адресу Улица Толе би, 321 30.03.2024 работает\n",
      "Магазин по адресу Улица Арбат, 60 29.03.2024 работает\n",
      "Магазин по адресу Улица Арбат, 60 30.03.2024 работает\n"
     ]
    }
   ],
   "source": [
    "mini_store = MiniStore('Улица Немига, 57')\n",
    "print(mini_store.get_info('29.03.2024'))\n",
    "print(mini_store.get_info('30.03.2024'))\n",
    "\n",
    "weekend_store = WeekendStore('Улица Толе би, 321')\n",
    "print(weekend_store.get_info('29.03.2024'))\n",
    "print(weekend_store.get_info('30.03.2024'))\n",
    "\n",
    "non_stop_store = NonStopStore('Улица Арбат, 60')\n",
    "print(non_stop_store.get_info('29.03.2024'))\n",
    "print(non_stop_store.get_info('30.03.2024'))"
   ]
  },
  {
   "cell_type": "markdown",
   "id": "5db6f8a5",
   "metadata": {},
   "source": [
    "#### Задача 3"
   ]
  },
  {
   "cell_type": "markdown",
   "id": "fded7049",
   "metadata": {},
   "source": [
    "В программе, которая управляет ценами на товары, надо реализовать механизм вычисления цены с учётом скидки конкретного клиента. "
   ]
  },
  {
   "cell_type": "code",
   "execution_count": 15,
   "id": "788ecc0c",
   "metadata": {},
   "outputs": [],
   "source": [
    "class Customer:\n",
    "    def __init__(self, name):\n",
    "        self.name = name\n",
    "        self.__discount = 10\n",
    "\n",
    "    def get_price(self, price):\n",
    "        new_price = price * (100 - self.__discount) / 100\n",
    "        return round(new_price, 2)\n",
    "\n",
    "    def set_discount(self, new_discount):\n",
    "        if new_discount > 80:\n",
    "            new_discount = 80\n",
    "        self.__discount = new_discount"
   ]
  },
  {
   "cell_type": "code",
   "execution_count": 18,
   "id": "41554c5f",
   "metadata": {},
   "outputs": [
    {
     "name": "stdout",
     "output_type": "stream",
     "text": [
      "90.0\n",
      "80.0\n"
     ]
    }
   ],
   "source": [
    "customer = Customer('Иван Иванович')\n",
    "\n",
    "print(customer.get_price(100))\n",
    "\n",
    "customer.set_discount(20)\n",
    "print(customer.get_price(100))"
   ]
  },
  {
   "cell_type": "code",
   "execution_count": null,
   "id": "dd778000",
   "metadata": {},
   "outputs": [],
   "source": []
  }
 ],
 "metadata": {
  "kernelspec": {
   "display_name": "Python 3 (ipykernel)",
   "language": "python",
   "name": "python3"
  },
  "language_info": {
   "codemirror_mode": {
    "name": "ipython",
    "version": 3
   },
   "file_extension": ".py",
   "mimetype": "text/x-python",
   "name": "python",
   "nbconvert_exporter": "python",
   "pygments_lexer": "ipython3",
   "version": "3.11.5"
  },
  "toc": {
   "base_numbering": 1,
   "nav_menu": {},
   "number_sections": true,
   "sideBar": true,
   "skip_h1_title": true,
   "title_cell": "Задачи по ООП",
   "title_sidebar": "Contents",
   "toc_cell": true,
   "toc_position": {
    "height": "calc(100% - 180px)",
    "left": "10px",
    "top": "150px",
    "width": "288px"
   },
   "toc_section_display": true,
   "toc_window_display": false
  },
  "varInspector": {
   "cols": {
    "lenName": 16,
    "lenType": 16,
    "lenVar": 40
   },
   "kernels_config": {
    "python": {
     "delete_cmd_postfix": "",
     "delete_cmd_prefix": "del ",
     "library": "var_list.py",
     "varRefreshCmd": "print(var_dic_list())"
    },
    "r": {
     "delete_cmd_postfix": ") ",
     "delete_cmd_prefix": "rm(",
     "library": "var_list.r",
     "varRefreshCmd": "cat(var_dic_list()) "
    }
   },
   "types_to_exclude": [
    "module",
    "function",
    "builtin_function_or_method",
    "instance",
    "_Feature"
   ],
   "window_display": false
  }
 },
 "nbformat": 4,
 "nbformat_minor": 5
}
