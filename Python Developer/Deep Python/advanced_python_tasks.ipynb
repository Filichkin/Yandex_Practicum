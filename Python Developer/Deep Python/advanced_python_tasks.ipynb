{
 "cells": [
  {
   "cell_type": "markdown",
   "id": "a9f0e531",
   "metadata": {
    "toc": true
   },
   "source": [
    "<h1>Table of Contents<span class=\"tocSkip\"></span></h1>\n",
    "<div class=\"toc\"><ul class=\"toc-item\"><li><span><a href=\"#Task-1\" data-toc-modified-id=\"Task-1-1\"><span class=\"toc-item-num\">1&nbsp;&nbsp;</span>Task 1</a></span></li><li><span><a href=\"#Task-2\" data-toc-modified-id=\"Task-2-2\"><span class=\"toc-item-num\">2&nbsp;&nbsp;</span>Task 2</a></span></li><li><span><a href=\"#Task-3\" data-toc-modified-id=\"Task-3-3\"><span class=\"toc-item-num\">3&nbsp;&nbsp;</span>Task 3</a></span></li></ul></div>"
   ]
  },
  {
   "cell_type": "markdown",
   "id": "18f20731",
   "metadata": {},
   "source": [
    "#### Task 1"
   ]
  },
  {
   "cell_type": "markdown",
   "id": "e7167d71",
   "metadata": {},
   "source": [
    "Напишите функцию-генератор fibonacci(n), которая вычисляет элементы последовательности Фибоначчи до n-ого числа."
   ]
  },
  {
   "cell_type": "code",
   "execution_count": 1,
   "id": "3fcf5566",
   "metadata": {},
   "outputs": [
    {
     "name": "stdout",
     "output_type": "stream",
     "text": [
      "0\n",
      "1\n",
      "1\n",
      "2\n",
      "3\n",
      "5\n",
      "8\n",
      "13\n",
      "21\n",
      "34\n"
     ]
    }
   ],
   "source": [
    "def fibonacci(n):\n",
    "    a, b = 0, 1\n",
    "    for _ in range(n):\n",
    "        yield a\n",
    "        a, b = b, a + b\n",
    "\n",
    "\n",
    "sequence = fibonacci(10)\n",
    "for number in sequence:\n",
    "    print(number)"
   ]
  },
  {
   "cell_type": "markdown",
   "id": "c0e49548",
   "metadata": {},
   "source": [
    "#### Task 2"
   ]
  },
  {
   "cell_type": "markdown",
   "id": "aee3fd56",
   "metadata": {},
   "source": [
    "Напишите декоратор obfuscator(), который будет скрывать значения по такому правилу:\n",
    "\n",
    "- В строке, переданной под ключом name, каждый символ, кроме первого и последнего, должен быть заменён на звёздочки *. Первый и последний символы должны остаться, как были; общее количество символов должно совпадать с исходным.\n",
    "\n",
    "- В строке, переданной под ключом password, каждый символ должен быть заменён на звёздочку *. Количество звёздочек должно соответствовать количеству символов в исходном пароле."
   ]
  },
  {
   "cell_type": "code",
   "execution_count": 2,
   "id": "1f4f9911",
   "metadata": {},
   "outputs": [
    {
     "name": "stdout",
     "output_type": "stream",
     "text": [
      "{'name': 'S*******v', 'password': '**********'}\n"
     ]
    }
   ],
   "source": [
    "def obfuscator(func):\n",
    "    def wrapper():\n",
    "        result = func()\n",
    "        hide_name = []\n",
    "        for i in range(len(result['name'])):\n",
    "            if i == 0 or i == (len(result['name']) - 1):\n",
    "                hide_name.append(result['name'][i])\n",
    "            else:\n",
    "                hide_name.append('*')\n",
    "        hide_name = ''.join(hide_name)\n",
    "        result['name'] = hide_name\n",
    "        hide_password = []\n",
    "        for i in range(len(result['password'])):\n",
    "            hide_password.append('*')\n",
    "        hide_password = ''.join(hide_password)\n",
    "        result['password'] = hide_password\n",
    "        return result\n",
    "    return wrapper\n",
    "\n",
    "\n",
    "@obfuscator\n",
    "def get_credentials():\n",
    "    return {\n",
    "        'name': 'StasBasov',\n",
    "        'password': 'iamthebest'\n",
    "    }\n",
    "\n",
    "\n",
    "print(get_credentials())"
   ]
  },
  {
   "cell_type": "markdown",
   "id": "8b935b1c",
   "metadata": {},
   "source": [
    "#### Task 3"
   ]
  },
  {
   "cell_type": "markdown",
   "id": "bdcb59d4",
   "metadata": {},
   "source": [
    "При регистрации в социальной сети пользователю дана возможность указать или имя с фамилией (например, Стас Басов), или псевдоним — абстрактное имя пользователя (например, nestas_anonymous).\n",
    "\n",
    "В прекоде создан класс User — он отвечает за управление пользователями.\n",
    "\n",
    "В классе есть атрибуты:\n",
    "\n",
    "- first_name — имя пользователя;\n",
    "- last_name — фамилия пользователя;\n",
    "- username — псевдоним пользователя.\n",
    "\n",
    "По соображениям безопасности псевдоним пользователя не должен начинаться со слова 'admin'.\n",
    "\n",
    "В классе User объявлены:\n",
    "\n",
    "1. пустой метод класса with_name() — возвращает объект класса User: \n",
    "\n",
    "- должен принимать на вход имя и фамилию пользователя;\n",
    "- должен возвращать объект класса User с заполненными атрибутами first_name и last_name;\n",
    "\n",
    "2. Пустой метод класса with_username() — возвращает объект класса User: \n",
    "\n",
    "- должен принимать на вход псевдоним пользователя;\n",
    "\n",
    "3. При помощи статического метода is_username_allowed() метод with_username() должен проверять, разрешено ли использование полученного псевдонима.\n",
    "Если псевдоним некорректный — метод with_username() должен выбрасывать исключение ValueError с сообщением Некорректное имя пользователя;\n",
    "\n",
    "- должен возвращать объект класса User с заполненным атрибутом username;\n",
    "\n",
    "4. Пустой статический метод класса is_username_allowed() — проверяет псевдонимы на соответствие правилам:\n",
    "\n",
    "- должен принимать на вход значение атрибута username;\n",
    "- возвращать True, если username не начинается с подстроки 'admin';\n",
    "\n",
    "5. Пустой метод-свойство full_name() — возвращает информацию о пользователе: \n",
    "\n",
    "6. Если для объекта заданы значения атрибутов first_name и last_name, то метод должен вернуть имя пользователя в виде first_name last_name (например: Стас Басов);\n",
    "\n",
    "7. Если для объекта задано значение атрибута username, то метод должен вернуть имя пользователя в виде @username (например: @nestas_anonymous)."
   ]
  },
  {
   "cell_type": "code",
   "execution_count": 3,
   "id": "e3c3a4d2",
   "metadata": {},
   "outputs": [
    {
     "name": "stdout",
     "output_type": "stream",
     "text": [
      "Стас Басов\n"
     ]
    }
   ],
   "source": [
    "from typing import Optional\n",
    "\n",
    "\n",
    "class User:\n",
    "    def __init__(\n",
    "            self,\n",
    "            first_name: Optional[str] = None,\n",
    "            last_name: Optional[str] = None,\n",
    "            username: Optional[str] = None,\n",
    "    ):\n",
    "        if not first_name and not last_name and not username:\n",
    "            raise ValueError('Необходимо указать параметры пользователя')\n",
    "\n",
    "        self.first_name = first_name\n",
    "        self.last_name = last_name\n",
    "        self.username = username\n",
    "\n",
    "    @classmethod\n",
    "    def with_name(cls, first_name, last_name):\n",
    "        cls.first_name = first_name\n",
    "        cls.last_name = last_name\n",
    "        return cls(first_name, last_name)\n",
    "\n",
    "    @classmethod\n",
    "    def with_username(cls, username):\n",
    "        if not cls.is_username_allowed(username):\n",
    "            raise ValueError('Некорректное имя пользователя')\n",
    "        return cls(username=username)\n",
    "\n",
    "    @staticmethod\n",
    "    def is_username_allowed(username: str):\n",
    "        if username.startswith('admin'):\n",
    "            return False\n",
    "        return True\n",
    "\n",
    "    @property\n",
    "    def full_name(self):\n",
    "        if self.first_name and self.last_name:\n",
    "            return f'{self.first_name} {self.last_name}'\n",
    "        elif self.username:\n",
    "            return f'@{self.username}'\n",
    "        else:\n",
    "            return 'Unknown'\n",
    "\n",
    "\n",
    "stas = User.with_name('Стас', 'Басов')\n",
    "print(stas.full_name)\n"
   ]
  },
  {
   "cell_type": "code",
   "execution_count": null,
   "id": "79a34029",
   "metadata": {},
   "outputs": [],
   "source": []
  }
 ],
 "metadata": {
  "kernelspec": {
   "display_name": "Python 3 (ipykernel)",
   "language": "python",
   "name": "python3"
  },
  "language_info": {
   "codemirror_mode": {
    "name": "ipython",
    "version": 3
   },
   "file_extension": ".py",
   "mimetype": "text/x-python",
   "name": "python",
   "nbconvert_exporter": "python",
   "pygments_lexer": "ipython3",
   "version": "3.11.5"
  },
  "toc": {
   "base_numbering": 1,
   "nav_menu": {},
   "number_sections": true,
   "sideBar": true,
   "skip_h1_title": true,
   "title_cell": "Advanced Python tasks",
   "title_sidebar": "Contents",
   "toc_cell": true,
   "toc_position": {
    "height": "calc(100% - 180px)",
    "left": "10px",
    "top": "150px",
    "width": "288px"
   },
   "toc_section_display": true,
   "toc_window_display": false
  },
  "varInspector": {
   "cols": {
    "lenName": 16,
    "lenType": 16,
    "lenVar": 40
   },
   "kernels_config": {
    "python": {
     "delete_cmd_postfix": "",
     "delete_cmd_prefix": "del ",
     "library": "var_list.py",
     "varRefreshCmd": "print(var_dic_list())"
    },
    "r": {
     "delete_cmd_postfix": ") ",
     "delete_cmd_prefix": "rm(",
     "library": "var_list.r",
     "varRefreshCmd": "cat(var_dic_list()) "
    }
   },
   "types_to_exclude": [
    "module",
    "function",
    "builtin_function_or_method",
    "instance",
    "_Feature"
   ],
   "window_display": false
  }
 },
 "nbformat": 4,
 "nbformat_minor": 5
}
