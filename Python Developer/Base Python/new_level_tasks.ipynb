{
 "cells": [
  {
   "cell_type": "markdown",
   "id": "ad52149a",
   "metadata": {
    "toc": true
   },
   "source": [
    "<h1>Python new level tasks<span class=\"tocSkip\"></span></h1>\n",
    "<div class=\"toc\"><ul class=\"toc-item\"><li><span><a href=\"#Task-1\" data-toc-modified-id=\"Task-1-1\"><span class=\"toc-item-num\">1&nbsp;&nbsp;</span>Task 1</a></span></li><li><span><a href=\"#Task-2\" data-toc-modified-id=\"Task-2-2\"><span class=\"toc-item-num\">2&nbsp;&nbsp;</span>Task 2</a></span></li></ul></div>"
   ]
  },
  {
   "cell_type": "markdown",
   "id": "bda3f8cb",
   "metadata": {},
   "source": [
    "#### Task 1"
   ]
  },
  {
   "cell_type": "markdown",
   "id": "8ee446c0",
   "metadata": {},
   "source": [
    "Напишите программу, которая получит на вход такой список кортежей с данными:\n",
    "\n",
    "Программа должна подсчитать:\n",
    "\n",
    "- количество записей, где дата указана корректно;\n",
    "- количество записей, где дата указана некорректно\n",
    "\n",
    "и вывести на экран\n",
    "\n",
    "- все записи с некорректным форматом даты;\n",
    "- количество записей, где дата указана корректно;\n",
    "- количество записей, где дата указана некорректно."
   ]
  },
  {
   "cell_type": "code",
   "execution_count": 2,
   "id": "5596c8cb",
   "metadata": {},
   "outputs": [
    {
     "name": "stdout",
     "output_type": "stream",
     "text": [
      "Некорректный формат даты в записи: Зинаида Зеленая, 6 февраля 1997\n",
      "Некорректный формат даты в записи: Елена Ленина, Второе мая тысяча девятьсот восемьдесят пятого\n",
      "Некорректный формат даты в записи: Кирилл Кириллов, 26/11/2003\n",
      "Корректных записей: 2\n",
      "Некорректных записей: 3\n"
     ]
    }
   ],
   "source": [
    "from datetime import datetime\n",
    "\n",
    "\n",
    "def validate_record(name, date_of_birth):\n",
    "    try:\n",
    "        datetime.strptime(date_of_birth, '%d.%m.%Y')\n",
    "        return True\n",
    "    except ValueError:\n",
    "        print(f'Некорректный формат даты в записи: {name}, {date_of_birth}')\n",
    "        return False\n",
    "\n",
    "\n",
    "def process_people(data):\n",
    "    good_count = 0\n",
    "    bad_count = 0\n",
    "\n",
    "    for record in data:\n",
    "        if validate_record(record[0], record[1]):\n",
    "            good_count += 1\n",
    "        else:\n",
    "            bad_count += 1\n",
    "\n",
    "    return {'good': good_count, 'bad': bad_count}\n",
    "\n",
    "\n",
    "data = [\n",
    "    ('Иван Иванов', '10.01.2004'),\n",
    "    ('Пётр Петров', '15.03.1956'),\n",
    "    ('Зинаида Зеленая', '6 февраля 1997'),\n",
    "    ('Елена Ленина', 'Второе мая тысяча девятьсот восемьдесят пятого'),\n",
    "    ('Кирилл Кириллов', '26/11/2003')\n",
    "]\n",
    "\n",
    "statistics = process_people(data)\n",
    "\n",
    "\n",
    "print(f'Корректных записей: {statistics[\"good\"]}')\n",
    "print(f'Некорректных записей: {statistics[\"bad\"]}')\n"
   ]
  },
  {
   "cell_type": "markdown",
   "id": "03248448",
   "metadata": {},
   "source": [
    "#### Task 2"
   ]
  },
  {
   "cell_type": "markdown",
   "id": "72545e79",
   "metadata": {},
   "source": [
    "План такой: программа должна случайным образом выбирать три дня в первой половине каждого месяца (с первого по пятнадцатое число включительно) — и выбранные дни Аня посвятит рисованию."
   ]
  },
  {
   "cell_type": "code",
   "execution_count": 3,
   "id": "3621d27d",
   "metadata": {},
   "outputs": [
    {
     "name": "stdout",
     "output_type": "stream",
     "text": [
      "1-е занятие: 04.09.2024\n",
      "2-е занятие: 05.09.2024\n",
      "3-е занятие: 15.09.2024\n"
     ]
    }
   ],
   "source": [
    "from datetime import datetime\n",
    "from random import sample\n",
    "\n",
    "\n",
    "def choose_days():\n",
    "    # Определяем диапазон дат первой половины месяца.\n",
    "    first_month_half = list(range(1, 16))\n",
    "\n",
    "    # Выбор трёх случайных чисел:\n",
    "    random_days = sample(first_month_half, k=3)\n",
    "    # Cортировка этих чисел по возрастанию:\n",
    "    sorted_days = sorted(random_days)\n",
    "\n",
    "    # Получаем сегодняшнюю дату.\n",
    "    # На её основе будут генерироваться даты для занятий:\n",
    "    now = datetime.now()\n",
    "\n",
    "    # Чтобы было проще формировать сообщение, начнём цикл с 1.\n",
    "    for i in range(0, 3):\n",
    "        # Генерируем дату занятия, подменяя номер дня в сегодняшней дате.\n",
    "        practice_day = now.replace(day=sorted_days[i]).strftime(\"%d.%m.%Y\")\n",
    "        print(f'{i+1}-е занятие: {practice_day}')\n",
    "\n",
    "\n",
    "choose_days()"
   ]
  },
  {
   "cell_type": "code",
   "execution_count": null,
   "id": "ecb0b63b",
   "metadata": {},
   "outputs": [],
   "source": []
  }
 ],
 "metadata": {
  "kernelspec": {
   "display_name": "Python 3 (ipykernel)",
   "language": "python",
   "name": "python3"
  },
  "language_info": {
   "codemirror_mode": {
    "name": "ipython",
    "version": 3
   },
   "file_extension": ".py",
   "mimetype": "text/x-python",
   "name": "python",
   "nbconvert_exporter": "python",
   "pygments_lexer": "ipython3",
   "version": "3.11.5"
  },
  "toc": {
   "base_numbering": 1,
   "nav_menu": {},
   "number_sections": true,
   "sideBar": true,
   "skip_h1_title": true,
   "title_cell": "Python new level tasks",
   "title_sidebar": "Contents",
   "toc_cell": true,
   "toc_position": {
    "height": "calc(100% - 180px)",
    "left": "10px",
    "top": "150px",
    "width": "288px"
   },
   "toc_section_display": true,
   "toc_window_display": false
  },
  "varInspector": {
   "cols": {
    "lenName": 16,
    "lenType": 16,
    "lenVar": 40
   },
   "kernels_config": {
    "python": {
     "delete_cmd_postfix": "",
     "delete_cmd_prefix": "del ",
     "library": "var_list.py",
     "varRefreshCmd": "print(var_dic_list())"
    },
    "r": {
     "delete_cmd_postfix": ") ",
     "delete_cmd_prefix": "rm(",
     "library": "var_list.r",
     "varRefreshCmd": "cat(var_dic_list()) "
    }
   },
   "types_to_exclude": [
    "module",
    "function",
    "builtin_function_or_method",
    "instance",
    "_Feature"
   ],
   "window_display": false
  }
 },
 "nbformat": 4,
 "nbformat_minor": 5
}
