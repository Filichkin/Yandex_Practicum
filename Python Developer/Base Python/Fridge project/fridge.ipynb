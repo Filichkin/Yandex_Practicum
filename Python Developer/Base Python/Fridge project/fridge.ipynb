{
 "cells": [
  {
   "cell_type": "markdown",
   "id": "9f6cb225",
   "metadata": {
    "toc": true
   },
   "source": [
    "<h1>Финальный проект спринта: приложение «Холодильник»<span class=\"tocSkip\"></span></h1>\n",
    "<div class=\"toc\"><ul class=\"toc-item\"><li><span><a href=\"#Добавление-продукта:-функция-add()\" data-toc-modified-id=\"Добавление-продукта:-функция-add()-1\"><span class=\"toc-item-num\">1&nbsp;&nbsp;</span>Добавление продукта: функция add()</a></span><ul class=\"toc-item\"><li><span><a href=\"#Параметры-функции-add()\" data-toc-modified-id=\"Параметры-функции-add()-1.1\"><span class=\"toc-item-num\">1.1&nbsp;&nbsp;</span>Параметры функции add()</a></span></li><li><span><a href=\"#Возвращаемое-значение\" data-toc-modified-id=\"Возвращаемое-значение-1.2\"><span class=\"toc-item-num\">1.2&nbsp;&nbsp;</span>Возвращаемое значение</a></span></li><li><span><a href=\"#Добавляем-продукты-в-холодильник\" data-toc-modified-id=\"Добавляем-продукты-в-холодильник-1.3\"><span class=\"toc-item-num\">1.3&nbsp;&nbsp;</span>Добавляем продукты в холодильник</a></span></li></ul></li><li><span><a href=\"#Добавление-продукта-из-текстовой-заметки:-функция-add_by_note()\" data-toc-modified-id=\"Добавление-продукта-из-текстовой-заметки:-функция-add_by_note()-2\"><span class=\"toc-item-num\">2&nbsp;&nbsp;</span>Добавление продукта из текстовой заметки: функция add_by_note()</a></span><ul class=\"toc-item\"><li><span><a href=\"#Параметры-функции-add_by_note()\" data-toc-modified-id=\"Параметры-функции-add_by_note()-2.1\"><span class=\"toc-item-num\">2.1&nbsp;&nbsp;</span>Параметры функции add_by_note()</a></span></li></ul></li><li><span><a href=\"#Поиск-по-названию-продукта:-функция-find()\" data-toc-modified-id=\"Поиск-по-названию-продукта:-функция-find()-3\"><span class=\"toc-item-num\">3&nbsp;&nbsp;</span>Поиск по названию продукта: функция find()</a></span><ul class=\"toc-item\"><li><span><a href=\"#Параметры-функции-find()\" data-toc-modified-id=\"Параметры-функции-find()-3.1\"><span class=\"toc-item-num\">3.1&nbsp;&nbsp;</span>Параметры функции find()</a></span></li><li><span><a href=\"#Тестируем-поиск-из-подстроки\" data-toc-modified-id=\"Тестируем-поиск-из-подстроки-3.2\"><span class=\"toc-item-num\">3.2&nbsp;&nbsp;</span>Тестируем поиск из подстроки</a></span></li></ul></li><li><span><a href=\"#Узнать-количество-продукта:-функция-amount()\" data-toc-modified-id=\"Узнать-количество-продукта:-функция-amount()-4\"><span class=\"toc-item-num\">4&nbsp;&nbsp;</span>Узнать количество продукта: функция amount()</a></span><ul class=\"toc-item\"><li><span><a href=\"#Параметры-функции-amount()\" data-toc-modified-id=\"Параметры-функции-amount()-4.1\"><span class=\"toc-item-num\">4.1&nbsp;&nbsp;</span>Параметры функции amount()</a></span></li><li><span><a href=\"#Тестируем--количество-товара\" data-toc-modified-id=\"Тестируем--количество-товара-4.2\"><span class=\"toc-item-num\">4.2&nbsp;&nbsp;</span>Тестируем  количество товара</a></span></li></ul></li><li><span><a href=\"#Получить-список-просроченных-продуктов:-функция-expire()\" data-toc-modified-id=\"Получить-список-просроченных-продуктов:-функция-expire()-5\"><span class=\"toc-item-num\">5&nbsp;&nbsp;</span>Получить список просроченных продуктов: функция expire()</a></span><ul class=\"toc-item\"><li><span><a href=\"#Параметры-функции-expire()\" data-toc-modified-id=\"Параметры-функции-expire()-5.1\"><span class=\"toc-item-num\">5.1&nbsp;&nbsp;</span>Параметры функции expire()</a></span></li><li><span><a href=\"#Тестирование-поиска-просроченных-продуктов\" data-toc-modified-id=\"Тестирование-поиска-просроченных-продуктов-5.2\"><span class=\"toc-item-num\">5.2&nbsp;&nbsp;</span>Тестирование поиска просроченных продуктов</a></span></li></ul></li></ul></div>"
   ]
  },
  {
   "cell_type": "markdown",
   "id": "aeed7cce",
   "metadata": {},
   "source": [
    "Холодильник — это не просто красивый шкаф: это источник света и еды. И чтобы содержимое холодильника всегда было в порядке — требуется постоянный контроль: владелец холодильника должен знать, какие продукты хранятся в холодильнике и каков их срок хранения. \n",
    "\n",
    "**Что надо сделать**\n",
    "\n",
    "Вам предстоит написать программу, которая будет:\n",
    "\n",
    "- хранить перечень продуктов, их количество и срок годности;\n",
    "- позволит добавлять новые продукты в перечень продуктов;\n",
    "- позволит получать информацию о содержимом холодильника."
   ]
  },
  {
   "cell_type": "markdown",
   "id": "e77edde8",
   "metadata": {},
   "source": [
    "**Добавление и получение информации**\n",
    "\n",
    "В программе должно быть пять функций для управления содержимым холодильника:\n",
    "\n",
    "- add() — добавляет продукт в словарь goods;\n",
    "\n",
    "- add_by_note() — добавляет продукт в словарь goods, преобразуя текстовое описание продукта в структурированные данные;\n",
    "\n",
    "- find() — ищет в словаре goods заданное слово или строку и возвращает список продуктов, в названии которых есть это слово;\n",
    "\n",
    "- amount() — возвращает количество запрошенного продукта;\n",
    "\n",
    "- expire() — возвращает список просроченных продуктов."
   ]
  },
  {
   "cell_type": "code",
   "execution_count": 102,
   "id": "85abefab",
   "metadata": {},
   "outputs": [],
   "source": [
    "from datetime import datetime, date\n",
    "from decimal import Decimal"
   ]
  },
  {
   "cell_type": "code",
   "execution_count": 197,
   "id": "58229c48",
   "metadata": {},
   "outputs": [],
   "source": [
    "# Холодильник пуст:\n",
    "goods = {}"
   ]
  },
  {
   "cell_type": "markdown",
   "id": "24793ae7",
   "metadata": {},
   "source": [
    "### Добавление продукта: функция add()\n",
    "\n",
    "Когда пользователь что-то кладёт в холодильник, он должен добавить в словарь goods очередную партию продукта. \n",
    "\n",
    "Для этого применяется функция add().\n",
    "\n",
    "Если в словаре уже есть ключ, совпадающий с названием добавляемого продукта — новая партия продукта должна быть добавлена в список, хранящийся под этим ключом.\n",
    "\n",
    "Если такого продукта в словаре goods нет — в словарь надо добавить новый элемент."
   ]
  },
  {
   "cell_type": "markdown",
   "id": "1c8df5ef",
   "metadata": {},
   "source": [
    "#### Параметры функции add()\n",
    "\n",
    "У функции add() должно быть четыре параметра:\n",
    "\n",
    "**items** — словарь, который хранит список продуктов (goods).\n",
    "\n",
    "**title** — название добавляемого продукта, строка. Может содержать пробелы.\n",
    "\n",
    "**amount** — количество добавляемого продукта.\n",
    "\n",
    "**expiration_date** — срок годности добавляемого продукта, строка в формате %Y-%m-%d, например '2023-9-30'. Это необязательный параметр.\n",
    "\n",
    "\n",
    "#### Возвращаемое значение\n",
    "\n",
    "Функция добавляет в словарь goods новые данные и не возвращает никакого значения."
   ]
  },
  {
   "cell_type": "code",
   "execution_count": 198,
   "id": "9467084b",
   "metadata": {},
   "outputs": [],
   "source": [
    "def add(items, title, amount, expiration_date=None):\n",
    "    \n",
    "    if expiration_date is None:\n",
    "        date = None\n",
    "    else:\n",
    "        date = datetime.strptime(expiration_date, '%Y-%m-%d').date()\n",
    "    \n",
    "    if title not in items:\n",
    "        items[title] = [{'amount': amount,\n",
    "                         'expiration_date': date}]\n",
    "    else:\n",
    "        list.append(items[title], {'amount':  amount,\n",
    "                         'expiration_date': date})"
   ]
  },
  {
   "cell_type": "markdown",
   "id": "aa8b1635",
   "metadata": {},
   "source": [
    "#### Добавляем продукты в холодильник"
   ]
  },
  {
   "cell_type": "code",
   "execution_count": 199,
   "id": "a6ea58fe",
   "metadata": {},
   "outputs": [],
   "source": [
    "add(goods, 'Яйца', Decimal('10'), '2024-9-30')"
   ]
  },
  {
   "cell_type": "code",
   "execution_count": 200,
   "id": "85c5c5f6",
   "metadata": {},
   "outputs": [],
   "source": [
    "add(goods, 'Вода', Decimal('1.5'))"
   ]
  },
  {
   "cell_type": "code",
   "execution_count": 201,
   "id": "db2e2782",
   "metadata": {},
   "outputs": [],
   "source": [
    "add(goods, 'Красное вино', Decimal('0.7'), '2025-9-10')"
   ]
  },
  {
   "cell_type": "code",
   "execution_count": 202,
   "id": "1cf06bab",
   "metadata": {},
   "outputs": [],
   "source": [
    "add(goods, 'Хлеб', Decimal('1'), '2024-9-11')"
   ]
  },
  {
   "cell_type": "code",
   "execution_count": 203,
   "id": "1c7905ba",
   "metadata": {},
   "outputs": [
    {
     "data": {
      "text/plain": [
       "{'Яйца': [{'amount': Decimal('10'),\n",
       "   'expiration_date': datetime.date(2024, 9, 30)}],\n",
       " 'Вода': [{'amount': Decimal('1.5'), 'expiration_date': None}],\n",
       " 'Красное вино': [{'amount': Decimal('0.7'),\n",
       "   'expiration_date': datetime.date(2025, 9, 10)}],\n",
       " 'Хлеб': [{'amount': Decimal('1'),\n",
       "   'expiration_date': datetime.date(2024, 9, 11)}]}"
      ]
     },
     "execution_count": 203,
     "metadata": {},
     "output_type": "execute_result"
    }
   ],
   "source": [
    "goods"
   ]
  },
  {
   "cell_type": "markdown",
   "id": "dfa77b9a",
   "metadata": {},
   "source": [
    "### Добавление продукта из текстовой заметки: функция add_by_note()\n",
    "\n",
    "Эта функция предназначена для того, чтобы упростить добавление продуктов в словарь goods.\n",
    "В функцию add_by_note() передаётся строка с описанием продукта, функция должна преобразовать строку в структурированные данные и добавить новый продукт в словарь.\n",
    "\n",
    "Эту строку нужно передать в функцию add_by_note() — и продукт, описанный в строке, должен быть добавлен в словарь goods.\n",
    "\n",
    "Строка содержит:\n",
    "\n",
    "**Название продукта.** Может содержать пробелы.\n",
    "\n",
    "**Количество продукта.** Значение может быть дробным, дробная часть отделяется точкой.\n",
    "\n",
    "**Срок годности в формате %Y-%m-%d.** Может отсутствовать."
   ]
  },
  {
   "cell_type": "markdown",
   "id": "64919a93",
   "metadata": {},
   "source": [
    "#### Параметры функции add_by_note()\n",
    "\n",
    "У функции add_by_note() должно быть два параметра:\n",
    "\n",
    "**items** — словарь, который хранит список продуктов (goods).\n",
    "\n",
    "**note** — строка с информацией о продукте.\n",
    "\n",
    "**Возвращаемое значение**\n",
    "\n",
    "Функция add_by_note() добавляет в словарь goods новый продукт и не возвращает никакого значения."
   ]
  },
  {
   "cell_type": "code",
   "execution_count": 130,
   "id": "4c2f5247",
   "metadata": {},
   "outputs": [],
   "source": [
    "def add_by_note(items, note):\n",
    "    split_note = str.split(note, ' ')\n",
    "    if len(split_note[-1]) >= 8:\n",
    "        expiration_date = split_note[-1]\n",
    "        amount = split_note[-2]\n",
    "        title = ' '.join(split_note[:-2])\n",
    "    else:\n",
    "        expiration_date = None\n",
    "        amount = split_note[-1]\n",
    "        title = ' '.join(split_note[:-1])\n",
    "    \n",
    "    return add(items, title, Decimal(amount), expiration_date)"
   ]
  },
  {
   "cell_type": "code",
   "execution_count": 204,
   "id": "298dd03c",
   "metadata": {},
   "outputs": [],
   "source": [
    "#### Добавляем продукты в холодильник из строки"
   ]
  },
  {
   "cell_type": "code",
   "execution_count": 205,
   "id": "18d8f322",
   "metadata": {},
   "outputs": [],
   "source": [
    "add_by_note(goods, 'Белое вино 0.7 2024-9-16')"
   ]
  },
  {
   "cell_type": "code",
   "execution_count": 206,
   "id": "26b8c374",
   "metadata": {},
   "outputs": [],
   "source": [
    "add_by_note(goods, 'Сыр пармезан 0.5 2024-12-30')"
   ]
  },
  {
   "cell_type": "code",
   "execution_count": 207,
   "id": "7b03525e",
   "metadata": {},
   "outputs": [],
   "source": [
    "add_by_note(goods, 'Яйца перепелиные 10 2024-09-14')"
   ]
  },
  {
   "cell_type": "code",
   "execution_count": 208,
   "id": "706219c0",
   "metadata": {},
   "outputs": [
    {
     "data": {
      "text/plain": [
       "{'Яйца': [{'amount': Decimal('10'),\n",
       "   'expiration_date': datetime.date(2024, 9, 30)}],\n",
       " 'Вода': [{'amount': Decimal('1.5'), 'expiration_date': None}],\n",
       " 'Красное вино': [{'amount': Decimal('0.7'),\n",
       "   'expiration_date': datetime.date(2025, 9, 10)}],\n",
       " 'Хлеб': [{'amount': Decimal('1'),\n",
       "   'expiration_date': datetime.date(2024, 9, 11)}],\n",
       " 'Белое вино': [{'amount': Decimal('0.7'),\n",
       "   'expiration_date': datetime.date(2024, 9, 16)}],\n",
       " 'Сыр пармезан': [{'amount': Decimal('0.5'),\n",
       "   'expiration_date': datetime.date(2024, 12, 30)}],\n",
       " 'Яйца перепелиные': [{'amount': Decimal('10'),\n",
       "   'expiration_date': datetime.date(2024, 9, 14)}]}"
      ]
     },
     "execution_count": 208,
     "metadata": {},
     "output_type": "execute_result"
    }
   ],
   "source": [
    "goods"
   ]
  },
  {
   "cell_type": "markdown",
   "id": "bb05db7a",
   "metadata": {},
   "source": [
    "### Поиск по названию продукта: функция find()\n",
    "\n",
    "Поиск продуктов в холодильнике — нервное и утомительное занятие. Функция find() найдёт продукты по ключевому слову.\n",
    "\n",
    "\n",
    "#### Параметры функции find()\n",
    "\n",
    "У функции find() должно быть два параметра:\n",
    "\n",
    "**items** — словарь, который хранит список продуктов (goods).\n",
    "\n",
    "**needle** — строка, по которой осуществляется поиск. Поиск должен быть нечувствителен к регистру.\n",
    "\n",
    "**Возвращаемое значение**\n",
    "\n",
    "Функция должна вернуть названия продуктов, которые содержат искомую строку. Найденные названия должны вернуться в виде списка."
   ]
  },
  {
   "cell_type": "code",
   "execution_count": 209,
   "id": "9d21f02c",
   "metadata": {},
   "outputs": [],
   "source": [
    "def find(items, needle):\n",
    "    result = []\n",
    "    for i in list(items.keys()):\n",
    "        if str.lower(needle) in str.lower(i):\n",
    "            result.append(i)\n",
    "    return result"
   ]
  },
  {
   "cell_type": "markdown",
   "id": "2e1c1e01",
   "metadata": {},
   "source": [
    "#### Тестируем поиск из подстроки"
   ]
  },
  {
   "cell_type": "code",
   "execution_count": 215,
   "id": "2cbb7d74",
   "metadata": {},
   "outputs": [
    {
     "data": {
      "text/plain": [
       "['Сыр пармезан']"
      ]
     },
     "execution_count": 215,
     "metadata": {},
     "output_type": "execute_result"
    }
   ],
   "source": [
    "find(goods, 'Пар')"
   ]
  },
  {
   "cell_type": "code",
   "execution_count": 216,
   "id": "93ebc5d4",
   "metadata": {},
   "outputs": [
    {
     "data": {
      "text/plain": [
       "['Красное вино', 'Хлеб', 'Белое вино', 'Сыр пармезан', 'Яйца перепелиные']"
      ]
     },
     "execution_count": 216,
     "metadata": {},
     "output_type": "execute_result"
    }
   ],
   "source": [
    "find(goods, 'е')"
   ]
  },
  {
   "cell_type": "markdown",
   "id": "16556514",
   "metadata": {},
   "source": [
    "### Узнать количество продукта: функция amount()\n",
    "\n",
    "Один и тот же продукт мог быть закуплен несколько раз, в результате словарь goods будет хранить информацию о нескольких партиях этого продукта.\n",
    "\n",
    "Функция amount() предназначена для определения количества продукта с заданным названием.\n",
    "Эта функция должна вернуть число: общее количество продуктов, названия которых частично или полностью совпадают со строкой, переданной в параметры.\n",
    "\n",
    "#### Параметры функции amount()\n",
    "\n",
    "У функции amount() должно быть два параметра:\n",
    "\n",
    "**items** — словарь, который хранит список продуктов (goods).\n",
    "\n",
    "**needle** — строка для поиска продукта. Поиск должен быть нечувствителен к регистру.\n",
    "\n",
    "**Возвращаемое значение**\n",
    "\n",
    "Функция возвращает общее количество запрошенного продукта — число типа Decimal."
   ]
  },
  {
   "cell_type": "code",
   "execution_count": 217,
   "id": "616fd429",
   "metadata": {},
   "outputs": [],
   "source": [
    "def amount(items, needle):\n",
    "    key_list = find(items, needle)\n",
    "    amount = Decimal('0')\n",
    "    for i in key_list:\n",
    "        items_list = items[i]\n",
    "        for j in range(len(items_list)):\n",
    "            amount += items_list[j]['amount']\n",
    "    return amount                  "
   ]
  },
  {
   "cell_type": "markdown",
   "id": "6c7f29b4",
   "metadata": {},
   "source": [
    "#### Тестируем  количество товара"
   ]
  },
  {
   "cell_type": "code",
   "execution_count": 218,
   "id": "890f8102",
   "metadata": {},
   "outputs": [
    {
     "data": {
      "text/plain": [
       "Decimal('1.4')"
      ]
     },
     "execution_count": 218,
     "metadata": {},
     "output_type": "execute_result"
    }
   ],
   "source": [
    "amount(goods, 'Вино')"
   ]
  },
  {
   "cell_type": "code",
   "execution_count": 219,
   "id": "933dc44a",
   "metadata": {},
   "outputs": [
    {
     "data": {
      "text/plain": [
       "Decimal('20')"
      ]
     },
     "execution_count": 219,
     "metadata": {},
     "output_type": "execute_result"
    }
   ],
   "source": [
    "amount(goods, 'Яйца')"
   ]
  },
  {
   "cell_type": "markdown",
   "id": "567f1c5a",
   "metadata": {},
   "source": [
    "### Получить список просроченных продуктов: функция expire()\n",
    "\n",
    "Эта функция должна вернуть список продуктов, срок годности которых истёк или истечёт через указанное количество дней.\n",
    "Для каждого найденного продукта нужно вернуть его название и количество.\n",
    "\n",
    "#### Параметры функции expire()\n",
    "\n",
    "У функции expire() должно быть два параметра:\n",
    "\n",
    "**items** — словарь, который хранит список продуктов (goods).\n",
    "\n",
    "**in_advance_days** — число дней, оставшееся до истечения срока годности продукта. Например, если указать in_advance_days = 2, то функция должна вернуть все продукты, срок хранения которых уже истёк и истекает завтра (первый день) или послезавтра (второй день). \n",
    "По умолчанию in_advance_days должно быть равно 0 (сегодняшний день). В этом случае функция должна вернуть продукты, срок хранения которых истёк на момент вызова. \n",
    "\n",
    "**Возвращаемое значение**\n",
    "\n",
    "Функция должна вернуть список кортежей, где первый элемент каждого кортежа — это название продукта, а второй — общее количество продукта."
   ]
  },
  {
   "cell_type": "code",
   "execution_count": 194,
   "id": "a0a7e0c6",
   "metadata": {},
   "outputs": [],
   "source": [
    "def expire(items, in_advance_days=None):\n",
    "    if in_advance_days is None:\n",
    "        in_advance_days = 0\n",
    "    bad_goods = []\n",
    "    for i in list(items.keys()):\n",
    "        dict_list = items[i]\n",
    "        for j in dict_list:\n",
    "            date = j['expiration_date']\n",
    "            if date is None:\n",
    "                continue\n",
    "            delta = (date - date.today()).days\n",
    "            if delta <= in_advance_days:\n",
    "                list_tuple = [i, j['amount']]\n",
    "                bad_goods.append(tuple(list_tuple))\n",
    "    free_dict = {x: 0 for x, _ in bad_goods}\n",
    "    for name, num in bad_goods:\n",
    "        free_dict[name] += num\n",
    "    bad_goods = list(zip(free_dict.keys(), free_dict.values()))   \n",
    "    return bad_goods  "
   ]
  },
  {
   "cell_type": "markdown",
   "id": "d55b79ad",
   "metadata": {},
   "source": [
    "#### Тестирование поиска просроченных продуктов"
   ]
  },
  {
   "cell_type": "code",
   "execution_count": 220,
   "id": "6caf3260",
   "metadata": {
    "scrolled": true
   },
   "outputs": [
    {
     "data": {
      "text/plain": [
       "[('Хлеб', Decimal('1')),\n",
       " ('Белое вино', Decimal('0.7')),\n",
       " ('Яйца перепелиные', Decimal('10'))]"
      ]
     },
     "execution_count": 220,
     "metadata": {},
     "output_type": "execute_result"
    }
   ],
   "source": [
    "expire(goods, 3)"
   ]
  },
  {
   "cell_type": "code",
   "execution_count": 221,
   "id": "3a3591fb",
   "metadata": {},
   "outputs": [
    {
     "data": {
      "text/plain": [
       "[('Хлеб', Decimal('1')), ('Яйца перепелиные', Decimal('10'))]"
      ]
     },
     "execution_count": 221,
     "metadata": {},
     "output_type": "execute_result"
    }
   ],
   "source": [
    "expire(goods)"
   ]
  },
  {
   "cell_type": "code",
   "execution_count": null,
   "id": "1c37b8f8",
   "metadata": {},
   "outputs": [],
   "source": []
  }
 ],
 "metadata": {
  "kernelspec": {
   "display_name": "Python 3 (ipykernel)",
   "language": "python",
   "name": "python3"
  },
  "language_info": {
   "codemirror_mode": {
    "name": "ipython",
    "version": 3
   },
   "file_extension": ".py",
   "mimetype": "text/x-python",
   "name": "python",
   "nbconvert_exporter": "python",
   "pygments_lexer": "ipython3",
   "version": "3.11.5"
  },
  "toc": {
   "base_numbering": 1,
   "nav_menu": {},
   "number_sections": true,
   "sideBar": true,
   "skip_h1_title": true,
   "title_cell": "Финальный проект спринта: приложение «Холодильник»",
   "title_sidebar": "Contents",
   "toc_cell": true,
   "toc_position": {
    "height": "calc(100% - 180px)",
    "left": "10px",
    "top": "150px",
    "width": "288px"
   },
   "toc_section_display": true,
   "toc_window_display": false
  },
  "varInspector": {
   "cols": {
    "lenName": 16,
    "lenType": 16,
    "lenVar": 40
   },
   "kernels_config": {
    "python": {
     "delete_cmd_postfix": "",
     "delete_cmd_prefix": "del ",
     "library": "var_list.py",
     "varRefreshCmd": "print(var_dic_list())"
    },
    "r": {
     "delete_cmd_postfix": ") ",
     "delete_cmd_prefix": "rm(",
     "library": "var_list.r",
     "varRefreshCmd": "cat(var_dic_list()) "
    }
   },
   "types_to_exclude": [
    "module",
    "function",
    "builtin_function_or_method",
    "instance",
    "_Feature"
   ],
   "window_display": false
  }
 },
 "nbformat": 4,
 "nbformat_minor": 5
}
