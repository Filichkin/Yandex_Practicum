{
 "cells": [
  {
   "cell_type": "markdown",
   "id": "459cd123",
   "metadata": {
    "toc": true
   },
   "source": [
    "<h1>Table of Contents<span class=\"tocSkip\"></span></h1>\n",
    "<div class=\"toc\"><ul class=\"toc-item\"></ul></div>"
   ]
  },
  {
   "cell_type": "code",
   "execution_count": 1,
   "id": "c14ef77f",
   "metadata": {},
   "outputs": [
    {
     "name": "stdout",
     "output_type": "stream",
     "text": [
      "Общее количество плиток для строительства бассейна: 47\n"
     ]
    }
   ],
   "source": [
    "def count_tiles(depth, length, width=None):\n",
    "    if width is None:\n",
    "        width = length\n",
    "    quantity = length * width + 2 * depth * width + 2 * depth * length\n",
    "    \n",
    "    return quantity\n",
    "\n",
    "total_tiles = count_tiles(2, 5, 3)\n",
    "print('Общее количество плиток для строительства бассейна:', total_tiles)"
   ]
  },
  {
   "cell_type": "markdown",
   "id": "4870b136",
   "metadata": {},
   "source": [
    "Итак, программа рассчитывает количество необходимых плиток, но «разговаривает» с пользователем на «машинном языке»: Общее количество плиток для строительства бассейна: <число>.\n",
    "\n",
    "Люди обычно говорят иначе: Для строительства бассейна нужно заготовить 25 плитОК, или Для строительства бассейна нужно заготовить 21 плитКУ, или Для строительства бассейна нужно заготовить 33 плитКИ.\n",
    "\n",
    "Перепишите код программы так, чтобы она не только считала количество необходимых плиток, но и печатала результат с верной формой существительного в зависимости от числа\n",
    ".\n",
    "Для этого дополните программу функцией make_phrase(), которая принимает на вход количество плиток, полученное в функции count_tiles().\n",
    "\n",
    "Внутри функции make_phrase() просклоняйте слово «плитки» в зависимости от их количества:\n",
    "\n",
    "11, 12, 13, 14 — плиток;\n",
    "\n",
    "если при делении количества плиток на 10 есть остаток 1 — плитку;\n",
    "\n",
    "если при делении количества плиток на 10 есть остаток 2, 3 или 4 — плитки;\n",
    "\n",
    "при любом другом количестве — плиток.\n",
    "\n",
    "Функция должна возвращать строку, которая содержит количество плиток и слово «плитки» в нужной форме.\n",
    "\n",
    "В результате работы программы должно выводиться подобное сообщение:\n",
    "\n",
    "Для строительства бассейна нужно заготовить 125 плиток \n",
    "\n",
    "Когда решите задачу, протестируйте работу программы, используя свои значения длины, ширины и глубины бассейна."
   ]
  },
  {
   "cell_type": "code",
   "execution_count": 2,
   "id": "3c22bb73",
   "metadata": {},
   "outputs": [
    {
     "name": "stdout",
     "output_type": "stream",
     "text": [
      "Для строительства бассейна нужно заготовить 20 плиток\n"
     ]
    }
   ],
   "source": [
    "def count_tiles(depth, length, width=None):\n",
    "    if width is None:\n",
    "        width = length\n",
    "\n",
    "    width_side = 2 * width * depth\n",
    "    length_side = 2 * length * depth\n",
    "    bottom_tiles = length * width\n",
    "    total = width_side + length_side + bottom_tiles\n",
    "\n",
    "    return total\n",
    "\n",
    "def make_phrase(total):\n",
    "    if total % 10 == 1 and total % 100 != 11:\n",
    "        phrase = f'{total} плитку'\n",
    "    elif 2 <= total % 10 <= 4 and (total % 100 < 10 or total % 100 >= 20):\n",
    "        phrase = f'{total} плитки'\n",
    "    else:\n",
    "        phrase = f'{total} плиток'\n",
    "    \n",
    "    return phrase\n",
    "\n",
    "\n",
    "total_tiles = count_tiles(2, 2, 2)\n",
    "print(f'Для строительства бассейна нужно заготовить {str(make_phrase(total_tiles))}')"
   ]
  },
  {
   "cell_type": "markdown",
   "id": "b5e322d4",
   "metadata": {},
   "source": [
    "Бассейны построили, и возле них начали собираться очереди.\n",
    "Чтобы в бассейн не набивалось совсем уж много народу, владельцы ограничили доступ в бассейн так, чтобы на каждый квадратный метр бассейна приходилось не более двух человек.\n",
    "\n",
    "Напишите функцию find_pool_capacity(), которая по заданным параметрам выдаст ответ: может ли в конкретный бассейн поместиться указанное количество людей.\n",
    "\n",
    "Функция find_pool_capacity() должна принимать на вход три параметра:\n",
    "\n",
    "длину бассейна — length;\n",
    "\n",
    "ширину бассейна — width;\n",
    "при вызове функции для этого параметра можно не указывать аргумент, в таком случае ширину нужно задать равной длине;\n",
    "количество людей в очереди — num_of_people.\n",
    "\n",
    "В результате работы функции должны выводиться следующие сообщения:\n",
    "\n",
    "- если люди из очереди помещаются в бассейн: - Бассейн площадью <число> кв. м. вмещает <число> чел.\n",
    "   \n",
    "- если люди из очереди не помещаются в бассейн: - Бассейн площадью <число> кв. м. не вмещает <число> чел.\n",
    "   \n",
    "Предусмотрите в функции защиту от ошибок и опечаток:\n",
    "\n",
    "- длина или ширина бассейна не должны быть равны 0.\n",
    "- Если в параметр length или width передан ноль — следует напечатать сообщение…\n",
    "- Длина бассейна или его ширина не должны быть равны 0.\n",
    "   \n",
    "Для этого в коде уже применена инструкция return без аргументов:\n",
    "функция вернёт None и прекратит выполняться.\n",
    "в программу по ошибке могут быть переданы отрицательные значения длины, ширины или количества людей.\n",
    "Если переданный аргумент — отрицательное число, преобразуйте его в положительное."
   ]
  },
  {
   "cell_type": "code",
   "execution_count": 3,
   "id": "5a0e9993",
   "metadata": {},
   "outputs": [
    {
     "name": "stdout",
     "output_type": "stream",
     "text": [
      "Бассейн площадью 4 кв. м. вмещает 4 чел.\n",
      "Бассейн площадью 50 кв. м. вмещает 4 чел.\n",
      "Бассейн площадью 10 кв. м. вмещает 10 чел.\n",
      "Бассейн площадью 10 кв. м. не вмещает 25 чел.\n"
     ]
    }
   ],
   "source": [
    "def find_pool_capacity(num_of_people, length, width=None):\n",
    "    if width is None:\n",
    "        width = length\n",
    "    if length == 0 or width == 0:\n",
    "        print('Длина бассейна или его ширина не должны быть равны 0.')\n",
    "        return\n",
    "    if length < 0:\n",
    "        length = abs(length)\n",
    "    if num_of_people < 0:\n",
    "        num_of_people = abs(num_of_people)\n",
    "    if width < 0:\n",
    "        width = abs(width)\n",
    "    area = width * length\n",
    "    if area * 2 >= num_of_people:\n",
    "        print(f'Бассейн площадью {area} кв. м. вмещает {num_of_people} чел.')\n",
    "    else:\n",
    "        print(f'Бассейн площадью {area} кв. м. не вмещает {num_of_people} чел.')\n",
    "        \n",
    "find_pool_capacity(4, 2)\n",
    "find_pool_capacity(4, 5, 10)\n",
    "find_pool_capacity(-10, -5, -2)\n",
    "find_pool_capacity(25, 5, 2)"
   ]
  },
  {
   "cell_type": "code",
   "execution_count": 4,
   "id": "2165bf71",
   "metadata": {},
   "outputs": [
    {
     "name": "stdout",
     "output_type": "stream",
     "text": [
      "Бассейн площадью 4 кв. м. вмещает 4 чел.\n",
      "Бассейн площадью 50 кв. м. вмещает 4 чел.\n",
      "Бассейн площадью 10 кв. м. вмещает 10 чел.\n",
      "Бассейн площадью 10 не вмещает 25 чел.\n"
     ]
    }
   ],
   "source": [
    "def find_pool_capacity(num_of_people, length, width=None):\n",
    "    if length == 0 or width == 0:\n",
    "        print('Длина бассейна или его ширина не должны быть равны 0.')\n",
    "        return\n",
    "    if length < 0:\n",
    "        length = -length\n",
    "    if num_of_people < 0:\n",
    "        num_of_people = -num_of_people\n",
    "    if width is None:\n",
    "        area = length * length\n",
    "    elif width < 0:\n",
    "        area = length * -width\n",
    "    else:\n",
    "        area = length * width\n",
    "    if num_of_people / area <= 2:\n",
    "        print('Бассейн площадью ' + str(area) + ' кв. м. вмещает ' + str(num_of_people) + ' чел.')\n",
    "    else:\n",
    "        print('Бассейн площадью ' + str(area) + ' не вмещает ' + str(num_of_people) + ' чел.')\n",
    "find_pool_capacity(4, 2)\n",
    "find_pool_capacity(4, 5, 10)\n",
    "find_pool_capacity(-10, -5, -2)\n",
    "find_pool_capacity(25, 5, 2)"
   ]
  },
  {
   "cell_type": "code",
   "execution_count": null,
   "id": "59f83b04",
   "metadata": {},
   "outputs": [],
   "source": []
  }
 ],
 "metadata": {
  "kernelspec": {
   "display_name": "Python 3 (ipykernel)",
   "language": "python",
   "name": "python3"
  },
  "language_info": {
   "codemirror_mode": {
    "name": "ipython",
    "version": 3
   },
   "file_extension": ".py",
   "mimetype": "text/x-python",
   "name": "python",
   "nbconvert_exporter": "python",
   "pygments_lexer": "ipython3",
   "version": "3.11.5"
  },
  "toc": {
   "base_numbering": 1,
   "nav_menu": {},
   "number_sections": true,
   "sideBar": true,
   "skip_h1_title": true,
   "title_cell": "Pool tasks",
   "title_sidebar": "Contents",
   "toc_cell": true,
   "toc_position": {
    "height": "calc(100% - 180px)",
    "left": "10px",
    "top": "150px",
    "width": "288px"
   },
   "toc_section_display": true,
   "toc_window_display": false
  },
  "varInspector": {
   "cols": {
    "lenName": 16,
    "lenType": 16,
    "lenVar": 40
   },
   "kernels_config": {
    "python": {
     "delete_cmd_postfix": "",
     "delete_cmd_prefix": "del ",
     "library": "var_list.py",
     "varRefreshCmd": "print(var_dic_list())"
    },
    "r": {
     "delete_cmd_postfix": ") ",
     "delete_cmd_prefix": "rm(",
     "library": "var_list.r",
     "varRefreshCmd": "cat(var_dic_list()) "
    }
   },
   "types_to_exclude": [
    "module",
    "function",
    "builtin_function_or_method",
    "instance",
    "_Feature"
   ],
   "window_display": false
  }
 },
 "nbformat": 4,
 "nbformat_minor": 5
}
