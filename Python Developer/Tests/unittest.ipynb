{
 "cells": [
  {
   "cell_type": "markdown",
   "id": "035856de",
   "metadata": {
    "toc": true
   },
   "source": [
    "<h1>Библиотека unittest<span class=\"tocSkip\"></span></h1>\n",
    "<div class=\"toc\"><ul class=\"toc-item\"><li><span><a href=\"#Библиотека-unittest\" data-toc-modified-id=\"Библиотека-unittest-1\"><span class=\"toc-item-num\">1&nbsp;&nbsp;</span>Библиотека unittest</a></span></li><li><span><a href=\"#Метод-subTest,-параметризация-тестов\" data-toc-modified-id=\"Метод-subTest,-параметризация-тестов-2\"><span class=\"toc-item-num\">2&nbsp;&nbsp;</span>Метод subTest, параметризация тестов</a></span></li><li><span><a href=\"#Фикстуры\" data-toc-modified-id=\"Фикстуры-3\"><span class=\"toc-item-num\">3&nbsp;&nbsp;</span>Фикстуры</a></span></li></ul></div>"
   ]
  },
  {
   "cell_type": "markdown",
   "id": "5d054faf",
   "metadata": {},
   "source": [
    "В функции bubble_sort() применён алгоритм сортировки, который получил название «метод пузырька»: элементы с меньшими значениями «всплывают» в списке, как пузырьки в газировке, например.\n",
    "\n",
    "- С помощью библиотеки unittest протестируйте функцию bubble_sort(); \n",
    "\n",
    "Проверьте, корректно ли работает функция:\n",
    "- с неотсортированным списком чисел, состоящим из int и float;\n",
    "- с пустым списком."
   ]
  },
  {
   "cell_type": "markdown",
   "id": "aaf43992",
   "metadata": {},
   "source": [
    "###  Библиотека unittest "
   ]
  },
  {
   "cell_type": "code",
   "execution_count": 1,
   "id": "a3085f5b",
   "metadata": {},
   "outputs": [],
   "source": [
    "import unittest\n",
    "\n",
    "\n",
    "def bubble_sort(array: list[float]) -> list[float]:\n",
    "    \"\"\"Сортировка списка методом пузырька по возрастанию.\"\"\"\n",
    "    length = len(array)\n",
    "    for bypass in range(1, length):\n",
    "        for k in range(length - bypass):\n",
    "            if array[k] > array[k + 1]:\n",
    "                array[k], array[k + 1] = array[k + 1], array[k]\n",
    "    return array\n",
    "\n",
    "\n",
    "class TestBubbleSort(unittest.TestCase):\n",
    "    \"\"\"Тестируем функцию bubble_sort.\"\"\"\n",
    "\n",
    "    def test_int_float(self):\n",
    "        # С несортированным списком чисел\n",
    "        call = bubble_sort([3.2, 1, 2])\n",
    "        result = [1, 2, 3.2]\n",
    "        self.assertEqual(\n",
    "            call, result, 'Функция bubble_sort некорректно работает со списком чисел'\n",
    "        )\n",
    "\n",
    "    def test_empty(self):\n",
    "        # С пустым списком\n",
    "        call = bubble_sort([])\n",
    "        result = []\n",
    "        self.assertEqual(\n",
    "            call, result, 'Функция bubble_sort некорректно работает с пустым списком'\n",
    "        )"
   ]
  },
  {
   "cell_type": "markdown",
   "id": "558d45a6",
   "metadata": {},
   "source": [
    "### Метод subTest, параметризация тестов"
   ]
  },
  {
   "cell_type": "markdown",
   "id": "12876b00",
   "metadata": {},
   "source": [
    "Заходит как-то раз тестировщик в бар и заказывает:\n",
    "- 5 стаканов газировки; \n",
    "- 0 стаканов газировки; \n",
    "- 0.33 стакана газировки; \n",
    "- -1.999999 стакана газировки; фываолдж стаканов газировки.\n",
    "\n",
    "Передайте параметры для тестирования в метод test_bartender() класса TestBar."
   ]
  },
  {
   "cell_type": "code",
   "execution_count": 2,
   "id": "ab095146",
   "metadata": {},
   "outputs": [],
   "source": [
    "import unittest\n",
    "\n",
    "\n",
    "def bartender(order):\n",
    "    if isinstance(order, int) and order > 0:\n",
    "        return order\n",
    "    return 'Извините, я не могу вас обслужить!'\n",
    "\n",
    "\n",
    "class TestBar(unittest.TestCase):\n",
    "\n",
    "    def test_bartender(self):\n",
    "        test_cases = (\n",
    "            (5, 5),\n",
    "            (0, 'Извините, я не могу вас обслужить!'),\n",
    "            (0.33, 'Извините, я не могу вас обслужить!'),\n",
    "            (-1.999999, 'Извините, я не могу вас обслужить!'),\n",
    "            ('фываолдж', 'Извините, я не могу вас обслужить!')\n",
    "        )\n",
    "        for order, expected in test_cases:\n",
    "            with self.subTest(order=order):\n",
    "                self.assertEqual(bartender(order), expected)"
   ]
  },
  {
   "cell_type": "markdown",
   "id": "c2e6ccf5",
   "metadata": {},
   "source": [
    "### Фикстуры"
   ]
  },
  {
   "cell_type": "markdown",
   "id": "11e8997c",
   "metadata": {},
   "source": [
    "Напишите тесты на метод divider() класса Calculator.\n",
    "\n",
    "Проверьте:\n",
    "- правильно ли работает деление;\n",
    "- выбрасывается ли исключение при делении на 0."
   ]
  },
  {
   "cell_type": "code",
   "execution_count": 4,
   "id": "18d0c9fc",
   "metadata": {},
   "outputs": [],
   "source": [
    "import unittest\n",
    "\n",
    "\n",
    "class Calculator:\n",
    "    \"\"\"Производит арифметические действия.\"\"\"\n",
    "\n",
    "    def divider(self, num1, num2):\n",
    "        \"\"\"Возвращает результат деления num1 / num2.\"\"\"\n",
    "        if num2 == 0:\n",
    "            raise ZeroDivisionError('Не могу делить на ноль')\n",
    "        return num1 / num2\n",
    "\n",
    "\n",
    "class TestCalc(unittest.TestCase):\n",
    "    \"\"\"Тестируем Calculator.\"\"\"\n",
    "    \n",
    "    @classmethod\n",
    "    def setUpClass(cls):\n",
    "        cls.calculator = Calculator()\n",
    "\n",
    "\n",
    "    # Подготовьте данные для теста при помощи фикстур.\n",
    "\n",
    "    def test_divider(self):\n",
    "        act = self.calculator.divider(4, 2)  # вызовите метод divider с валидными аргументами.\n",
    "        self.assertEqual(act, 2, 'Не верно производит арифметические действия')\n",
    "\n",
    "    def test_divider_zero_division(self):\n",
    "        # Проверьте, что деление на 0 выбрасывает исключение\n",
    "        self.assertRaises(ZeroDivisionError, self.calculator.divider, -3, 0)"
   ]
  },
  {
   "cell_type": "markdown",
   "id": "7afd4fc3",
   "metadata": {},
   "source": [
    "В классе Calculator описан метод калькулятора summ, который должен складывать числа. Если вызвать этот метод без аргументов, он вернёт None. \n",
    "\n",
    "Напишите тесты, которые проверяют, что summ корректно считает сумму для одного аргумента и для нескольких аргументов, а также возвращает None, если не передано никаких аргументов."
   ]
  },
  {
   "cell_type": "code",
   "execution_count": 5,
   "id": "7a556b0e",
   "metadata": {},
   "outputs": [],
   "source": [
    "import unittest\n",
    "\n",
    "\n",
    "class Calculator:\n",
    "    \"\"\"Производит арифметические действия.\"\"\"\n",
    "\n",
    "    def summ(self, *args):\n",
    "        \"\"\"\n",
    "        Возвращает сумму принятых аргументов,\n",
    "        если аргументов нет, возвращает None.\n",
    "        \"\"\"\n",
    "        if len(args) == 0:\n",
    "            return None\n",
    "        return sum(args)\n",
    "\n",
    "\n",
    "class TestCalc(unittest.TestCase):\n",
    "    \"\"\"Тестируем Calculator.\"\"\"\n",
    "\n",
    "    @classmethod\n",
    "    def setUpClass(cls):\n",
    "        \"\"\"Вызывается один раз перед запуском всех тестов класса.\"\"\"\n",
    "        cls.calc = Calculator()\n",
    "\n",
    "    def test_summ(self):\n",
    "        self.assertEqual(self.calc.summ(-1, 2, -3), -2)\n",
    "\n",
    "    def test_summ_no_argument(self):\n",
    "        self.assertIsNone(self.calc.summ())\n",
    "\n",
    "    def test_summ_one_argument(self):\n",
    "        self.assertEqual(self.calc.summ(3), 3)"
   ]
  },
  {
   "cell_type": "code",
   "execution_count": null,
   "id": "f13e72ff",
   "metadata": {},
   "outputs": [],
   "source": []
  }
 ],
 "metadata": {
  "kernelspec": {
   "display_name": "Python 3 (ipykernel)",
   "language": "python",
   "name": "python3"
  },
  "language_info": {
   "codemirror_mode": {
    "name": "ipython",
    "version": 3
   },
   "file_extension": ".py",
   "mimetype": "text/x-python",
   "name": "python",
   "nbconvert_exporter": "python",
   "pygments_lexer": "ipython3",
   "version": "3.11.5"
  },
  "toc": {
   "base_numbering": 1,
   "nav_menu": {},
   "number_sections": true,
   "sideBar": true,
   "skip_h1_title": true,
   "title_cell": "Библиотека unittest",
   "title_sidebar": "Contents",
   "toc_cell": true,
   "toc_position": {
    "height": "calc(100% - 180px)",
    "left": "10px",
    "top": "150px",
    "width": "288px"
   },
   "toc_section_display": true,
   "toc_window_display": false
  },
  "varInspector": {
   "cols": {
    "lenName": 16,
    "lenType": 16,
    "lenVar": 40
   },
   "kernels_config": {
    "python": {
     "delete_cmd_postfix": "",
     "delete_cmd_prefix": "del ",
     "library": "var_list.py",
     "varRefreshCmd": "print(var_dic_list())"
    },
    "r": {
     "delete_cmd_postfix": ") ",
     "delete_cmd_prefix": "rm(",
     "library": "var_list.r",
     "varRefreshCmd": "cat(var_dic_list()) "
    }
   },
   "types_to_exclude": [
    "module",
    "function",
    "builtin_function_or_method",
    "instance",
    "_Feature"
   ],
   "window_display": false
  }
 },
 "nbformat": 4,
 "nbformat_minor": 5
}
