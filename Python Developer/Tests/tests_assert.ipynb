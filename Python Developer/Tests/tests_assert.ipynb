{
 "cells": [
  {
   "cell_type": "markdown",
   "id": "6b541577",
   "metadata": {
    "toc": true
   },
   "source": [
    "<h1>Ключевое слово assert<span class=\"tocSkip\"></span></h1>\n",
    "<div class=\"toc\"><ul class=\"toc-item\"></ul></div>"
   ]
  },
  {
   "cell_type": "markdown",
   "id": "e76d0c39",
   "metadata": {},
   "source": [
    "Протестируйте функцию series_sum().\n",
    "\n",
    "Напишите тесты, которые проверят, что будет, если:\n",
    "- передать в функцию список чисел int и float вперемешку;\n",
    "- передать в функцию список, состоящий из чисел и строк;\n",
    "- передать в функцию пустой список."
   ]
  },
  {
   "cell_type": "code",
   "execution_count": 3,
   "id": "f5809bea",
   "metadata": {},
   "outputs": [],
   "source": [
    "def series_sum(incoming):\n",
    "    # Конкатенирует все элементы списка, приводя их к строкам.\n",
    "    result = ''\n",
    "    for i in incoming:\n",
    "        result += str(i)\n",
    "    return result\n",
    "\n",
    "\n",
    "# Первое тестирование: проверьте, корректно ли сработает функция series_sum(),\n",
    "# если ей на вход передать список из целых и дробных чисел.\n",
    "\n",
    "mixed_numbers =  [2, 2.4, 4, 2.5, ]# Список из int и float.\n",
    "result_numbers =  '22.442.5' # Ожидаемый результат, который должна вернуть функция series_sum().\n",
    "\n",
    "# Вместо многоточия напишите утверждение, которое должно быть проверено.\n",
    "assert series_sum(mixed_numbers) == result_numbers, (\n",
    "    'Функция series_sum() некорректно обрабатывает смешанный список из int и float.'\n",
    ")\n",
    "\n",
    "# Второе тестирование: проверьте, корректно ли сработает функция series_sum(),\n",
    "# если ей на вход передать список из чисел и строк.\n",
    "\n",
    "mixed_numbers_strings = [2, 'dd', 4, 'a', ] # Cписок из чисел и строк.\n",
    "result_numbers_strings = '2dd4a' # Ожидаемый результат, который должна вернуть series_sum().\n",
    "\n",
    "# Вместо многоточия напишите утверждение, которое должно быть проверено.\n",
    "assert series_sum(mixed_numbers_strings) == result_numbers_strings, (\n",
    "    'Функция series_sum() некорректно обрабатывает смешанный список из чисел и строк.'\n",
    ")\n",
    "\n",
    "# Третье тестирование: проверьте, корректно ли сработает функция series_sum(),\n",
    "# если ей на вход передать пустой список.\n",
    "empty = []# Пустой список.\n",
    "result_empty = '' # Ожидаемый результат, который должна вернуть series_sum().\n",
    "\n",
    "# Вместо многоточия напишите утверждение, которое должно быть проверено.\n",
    "assert series_sum(empty) == result_empty , (\n",
    "    'Функция series_sum() некорректно обрабатывает пустой список'\n",
    ")"
   ]
  },
  {
   "cell_type": "markdown",
   "id": "08dfd492",
   "metadata": {},
   "source": [
    "Протестируйте методы programmer_define() и age_define() класса Contact.\n",
    "\n",
    "Тестировать нужно все возможные варианты: в метод programmer_define() по очереди передайте False и True, а в age_define() проверьте три возрастные категории.\n",
    "\n",
    "Для проверки всех возможных вариантов создайте несколько экземпляров класса Contact с разными значениями полей year_birth и is_programmer."
   ]
  },
  {
   "cell_type": "code",
   "execution_count": 7,
   "id": "4e219dc9",
   "metadata": {},
   "outputs": [],
   "source": [
    "class Contact:\n",
    "\n",
    "    def __init__(self, name, year_birth, is_programmer):\n",
    "        self.name = name\n",
    "        self.year_birth = year_birth\n",
    "        self.is_programmer = is_programmer\n",
    "\n",
    "    def age_define(self):\n",
    "        if 1946 < self.year_birth < 1980:\n",
    "            return 'Олдскул'\n",
    "        if self.year_birth >= 1980:\n",
    "            return 'Молодой'\n",
    "        return 'Старейшина'\n",
    "\n",
    "    def programmer_define(self):\n",
    "        if self.is_programmer:\n",
    "            return 'Программист'\n",
    "        return 'Нормальный'\n",
    "\n",
    "    def show_contact(self):\n",
    "        return (\n",
    "            f'{self.name}, '\n",
    "            f'возраст: {self.age_define()}, '\n",
    "            f'статус: {self.programmer_define()}'\n",
    "        )\n",
    "\n",
    "    \n",
    "# Создайте экземпляр класса Contact с необходимыми параметрами.\n",
    "# Например, test_old_none_programmer = Contact('Пушкин', 1799, False).\n",
    "test_old_none_programmer = Contact('Пушкин', 1799, False)\n",
    "test_yung_programmer = Contact('Fil', 1999, True)\n",
    "test_oldschool_programmer = Contact('All', 1952, True)\n",
    "\n",
    "\n",
    "programmer_string_yes = 'Программист'\n",
    "programmer_string_no = 'Нормальный'\n",
    "\n",
    "\n",
    "# Напишите assert и в нём проверьте,\n",
    "# что метод programmer_define() этого экземпляра возвращает строку \"Нормальный\".\n",
    "assert test_yung_programmer.programmer_define() == programmer_string_yes, (\n",
    "    f'Ошибка в {test_yung_programmer.programmer_define()=!s}'\n",
    "    f' отличается от {programmer_string_yes}')\n",
    "\n",
    "assert test_old_none_programmer.programmer_define() == programmer_string_no, (\n",
    "    f'Ошибка в {test_old_none_programmer.programmer_define()=!s}'\n",
    "    f' отличается от {programmer_string_no}')\n",
    "\n",
    "# Во втором assert проверьте, возвращает ли метод age_define() значение \"Старейшина\".\n",
    "\n",
    "\n",
    "age_1 = 'Молодой'\n",
    "age_2 = 'Олдскул'\n",
    "age_3 = 'Старейшина'\n",
    "\n",
    "\n",
    "# Создайте новый экземпляр с другими параметрами;\n",
    "# через assert проверьте, вернут ли и его методы ожидаемый результат.\n",
    "# проверям возрастную группу \"Старейшина\"\n",
    "assert test_old_none_programmer.age_define() == age_3, (\n",
    "    f'Ошибка в {test_old_none_programmer.age_define()=!s}.'\n",
    "    f' Не совпадает с возрастнгой группой - {age_3}')\n",
    "\n",
    "# проверям возрастную группу \"Олдскул\"\n",
    "assert test_oldschool_programmer.age_define() == age_2, (\n",
    "    f'Ошибка в {test_oldschool_programmer.age_define()=!s}.'\n",
    "    f' Не совпадает с возрастнгой группой - {age_string_old}')\n",
    "\n",
    "# проверям возрастную группу \"Молодой\"\n",
    "assert test_yung_programmer.age_define() == age_1, (\n",
    "    f'Ошибка в {test_yung_programmer.age_define()=!s}.'\n",
    "    f' Не совпадает с возрастнгой группой - {age_1}')"
   ]
  },
  {
   "cell_type": "code",
   "execution_count": null,
   "id": "54105a58",
   "metadata": {},
   "outputs": [],
   "source": []
  }
 ],
 "metadata": {
  "kernelspec": {
   "display_name": "Python 3 (ipykernel)",
   "language": "python",
   "name": "python3"
  },
  "language_info": {
   "codemirror_mode": {
    "name": "ipython",
    "version": 3
   },
   "file_extension": ".py",
   "mimetype": "text/x-python",
   "name": "python",
   "nbconvert_exporter": "python",
   "pygments_lexer": "ipython3",
   "version": "3.11.5"
  },
  "toc": {
   "base_numbering": 1,
   "nav_menu": {},
   "number_sections": true,
   "sideBar": true,
   "skip_h1_title": true,
   "title_cell": "Ключевое слово assert",
   "title_sidebar": "Contents",
   "toc_cell": true,
   "toc_position": {
    "height": "calc(100% - 180px)",
    "left": "10px",
    "top": "150px",
    "width": "288px"
   },
   "toc_section_display": true,
   "toc_window_display": false
  },
  "varInspector": {
   "cols": {
    "lenName": 16,
    "lenType": 16,
    "lenVar": 40
   },
   "kernels_config": {
    "python": {
     "delete_cmd_postfix": "",
     "delete_cmd_prefix": "del ",
     "library": "var_list.py",
     "varRefreshCmd": "print(var_dic_list())"
    },
    "r": {
     "delete_cmd_postfix": ") ",
     "delete_cmd_prefix": "rm(",
     "library": "var_list.r",
     "varRefreshCmd": "cat(var_dic_list()) "
    }
   },
   "types_to_exclude": [
    "module",
    "function",
    "builtin_function_or_method",
    "instance",
    "_Feature"
   ],
   "window_display": false
  }
 },
 "nbformat": 4,
 "nbformat_minor": 5
}
