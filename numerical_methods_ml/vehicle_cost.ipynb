{
 "cells": [
  {
   "cell_type": "markdown",
   "id": "d0a70f8d",
   "metadata": {
    "toc": true
   },
   "source": [
    "<h1>Table of Contents<span class=\"tocSkip\"></span></h1>\n",
    "<div class=\"toc\"><ul class=\"toc-item\"></ul></div>"
   ]
  },
  {
   "cell_type": "code",
   "execution_count": 2,
   "id": "d3a933cc",
   "metadata": {},
   "outputs": [],
   "source": [
    "import pandas as pd\n",
    "import torch\n",
    "import torch.nn as nn\n",
    "import torch.optim as optim\n",
    "\n",
    "from skimpy import skim\n",
    "from sklearn.preprocessing import StandardScaler, OrdinalEncoder, OneHotEncoder"
   ]
  },
  {
   "cell_type": "markdown",
   "id": "fe512af0-0ea8-44d2-bbe7-18e82d678e59",
   "metadata": {},
   "source": [
    "### Data load"
   ]
  },
  {
   "cell_type": "code",
   "execution_count": 122,
   "id": "a3f907e4",
   "metadata": {},
   "outputs": [],
   "source": [
    "df = pd.read_csv('/Users/alexeyfilichkin/Desktop/PyTorch/data/vehicle_cost.csv', sep=';')"
   ]
  },
  {
   "cell_type": "code",
   "execution_count": 123,
   "id": "6ed56d69-e36e-4b30-bb9a-98630942262f",
   "metadata": {},
   "outputs": [],
   "source": [
    "df = df.drop(['Unnamed: 0'], axis=1)"
   ]
  },
  {
   "cell_type": "code",
   "execution_count": 124,
   "id": "e10a77c1",
   "metadata": {},
   "outputs": [
    {
     "data": {
      "text/html": [
       "<div>\n",
       "<style scoped>\n",
       "    .dataframe tbody tr th:only-of-type {\n",
       "        vertical-align: middle;\n",
       "    }\n",
       "\n",
       "    .dataframe tbody tr th {\n",
       "        vertical-align: top;\n",
       "    }\n",
       "\n",
       "    .dataframe thead th {\n",
       "        text-align: right;\n",
       "    }\n",
       "</style>\n",
       "<table border=\"1\" class=\"dataframe\">\n",
       "  <thead>\n",
       "    <tr style=\"text-align: right;\">\n",
       "      <th></th>\n",
       "      <th>registration_year</th>\n",
       "      <th>power</th>\n",
       "      <th>kilometer</th>\n",
       "      <th>model</th>\n",
       "      <th>gearbox</th>\n",
       "      <th>fuel_type</th>\n",
       "      <th>repaired</th>\n",
       "      <th>price</th>\n",
       "    </tr>\n",
       "  </thead>\n",
       "  <tbody>\n",
       "    <tr>\n",
       "      <th>0</th>\n",
       "      <td>1993</td>\n",
       "      <td>105.0</td>\n",
       "      <td>150000</td>\n",
       "      <td>golf</td>\n",
       "      <td>manual</td>\n",
       "      <td>gasoline</td>\n",
       "      <td>no</td>\n",
       "      <td>480</td>\n",
       "    </tr>\n",
       "    <tr>\n",
       "      <th>1</th>\n",
       "      <td>2011</td>\n",
       "      <td>190.0</td>\n",
       "      <td>125000</td>\n",
       "      <td>no_info</td>\n",
       "      <td>manual</td>\n",
       "      <td>gasoline</td>\n",
       "      <td>yes</td>\n",
       "      <td>18300</td>\n",
       "    </tr>\n",
       "    <tr>\n",
       "      <th>2</th>\n",
       "      <td>2004</td>\n",
       "      <td>163.0</td>\n",
       "      <td>125000</td>\n",
       "      <td>grand</td>\n",
       "      <td>auto</td>\n",
       "      <td>gasoline</td>\n",
       "      <td>no</td>\n",
       "      <td>9800</td>\n",
       "    </tr>\n",
       "    <tr>\n",
       "      <th>3</th>\n",
       "      <td>2001</td>\n",
       "      <td>75.0</td>\n",
       "      <td>150000</td>\n",
       "      <td>golf</td>\n",
       "      <td>manual</td>\n",
       "      <td>gasoline</td>\n",
       "      <td>no</td>\n",
       "      <td>1500</td>\n",
       "    </tr>\n",
       "    <tr>\n",
       "      <th>4</th>\n",
       "      <td>2008</td>\n",
       "      <td>69.0</td>\n",
       "      <td>90000</td>\n",
       "      <td>fabia</td>\n",
       "      <td>manual</td>\n",
       "      <td>gasoline</td>\n",
       "      <td>no</td>\n",
       "      <td>3600</td>\n",
       "    </tr>\n",
       "  </tbody>\n",
       "</table>\n",
       "</div>"
      ],
      "text/plain": [
       "   registration_year  power  kilometer    model gearbox fuel_type repaired  \\\n",
       "0               1993  105.0     150000     golf  manual  gasoline       no   \n",
       "1               2011  190.0     125000  no_info  manual  gasoline      yes   \n",
       "2               2004  163.0     125000    grand    auto  gasoline       no   \n",
       "3               2001   75.0     150000     golf  manual  gasoline       no   \n",
       "4               2008   69.0      90000    fabia  manual  gasoline       no   \n",
       "\n",
       "   price  \n",
       "0    480  \n",
       "1  18300  \n",
       "2   9800  \n",
       "3   1500  \n",
       "4   3600  "
      ]
     },
     "execution_count": 124,
     "metadata": {},
     "output_type": "execute_result"
    }
   ],
   "source": [
    "df.head(5)"
   ]
  },
  {
   "cell_type": "code",
   "execution_count": 125,
   "id": "24742a16",
   "metadata": {},
   "outputs": [
    {
     "data": {
      "text/html": [
       "<pre style=\"white-space:pre;overflow-x:auto;line-height:normal;font-family:Menlo,'DejaVu Sans Mono',consolas,'Courier New',monospace\">╭──────────────────────────────────────────────── skimpy summary ─────────────────────────────────────────────────╮\n",
       "│ <span style=\"font-style: italic\">         Data Summary         </span> <span style=\"font-style: italic\">      Data Types       </span>                                                          │\n",
       "│ ┏━━━━━━━━━━━━━━━━━━━┳━━━━━━━━┓ ┏━━━━━━━━━━━━━┳━━━━━━━┓                                                          │\n",
       "│ ┃<span style=\"color: #008080; text-decoration-color: #008080; font-weight: bold\"> dataframe         </span>┃<span style=\"color: #008080; text-decoration-color: #008080; font-weight: bold\"> Values </span>┃ ┃<span style=\"color: #008080; text-decoration-color: #008080; font-weight: bold\"> Column Type </span>┃<span style=\"color: #008080; text-decoration-color: #008080; font-weight: bold\"> Count </span>┃                                                          │\n",
       "│ ┡━━━━━━━━━━━━━━━━━━━╇━━━━━━━━┩ ┡━━━━━━━━━━━━━╇━━━━━━━┩                                                          │\n",
       "│ │ Number of rows    │ 282653 │ │ string      │ 4     │                                                          │\n",
       "│ │ Number of columns │ 8      │ │ int64       │ 3     │                                                          │\n",
       "│ └───────────────────┴────────┘ │ float64     │ 1     │                                                          │\n",
       "│                                └─────────────┴───────┘                                                          │\n",
       "│ <span style=\"font-style: italic\">                                                    number                                                    </span>  │\n",
       "│ ┏━━━━━━━━━━━━━━━━━━━━━┳━━━━━┳━━━━━━━┳━━━━━━━━━┳━━━━━━━━┳━━━━━━━┳━━━━━━━━━┳━━━━━━━━┳━━━━━━━━┳━━━━━━━━┳━━━━━━━━┓  │\n",
       "│ ┃<span style=\"font-weight: bold\"> column_name         </span>┃<span style=\"font-weight: bold\"> NA  </span>┃<span style=\"font-weight: bold\"> NA %  </span>┃<span style=\"font-weight: bold\"> mean    </span>┃<span style=\"font-weight: bold\"> sd     </span>┃<span style=\"font-weight: bold\"> p0    </span>┃<span style=\"font-weight: bold\"> p25     </span>┃<span style=\"font-weight: bold\"> p50    </span>┃<span style=\"font-weight: bold\"> p75    </span>┃<span style=\"font-weight: bold\"> p100   </span>┃<span style=\"font-weight: bold\"> hist   </span>┃  │\n",
       "│ ┡━━━━━━━━━━━━━━━━━━━━━╇━━━━━╇━━━━━━━╇━━━━━━━━━╇━━━━━━━━╇━━━━━━━╇━━━━━━━━━╇━━━━━━━━╇━━━━━━━━╇━━━━━━━━╇━━━━━━━━┩  │\n",
       "│ │ <span style=\"color: #af87ff; text-decoration-color: #af87ff\">registration_year  </span> │ <span style=\"color: #008080; text-decoration-color: #008080\">  0</span> │ <span style=\"color: #008080; text-decoration-color: #008080\">    0</span> │ <span style=\"color: #008080; text-decoration-color: #008080\">   2003</span> │ <span style=\"color: #008080; text-decoration-color: #008080\"> 7.647</span> │ <span style=\"color: #008080; text-decoration-color: #008080\"> 1910</span> │ <span style=\"color: #008080; text-decoration-color: #008080\">   1999</span> │ <span style=\"color: #008080; text-decoration-color: #008080\">  2003</span> │ <span style=\"color: #008080; text-decoration-color: #008080\">  2008</span> │ <span style=\"color: #008080; text-decoration-color: #008080\">  2019</span> │ <span style=\"color: #008000; text-decoration-color: #008000\">    ▃▇</span> │  │\n",
       "│ │ <span style=\"color: #af87ff; text-decoration-color: #af87ff\">power              </span> │ <span style=\"color: #008080; text-decoration-color: #008080\">  0</span> │ <span style=\"color: #008080; text-decoration-color: #008080\">    0</span> │ <span style=\"color: #008080; text-decoration-color: #008080\">  119.9</span> │ <span style=\"color: #008080; text-decoration-color: #008080\"> 51.83</span> │ <span style=\"color: #008080; text-decoration-color: #008080\">   13</span> │ <span style=\"color: #008080; text-decoration-color: #008080\">     86</span> │ <span style=\"color: #008080; text-decoration-color: #008080\">   105</span> │ <span style=\"color: #008080; text-decoration-color: #008080\">   143</span> │ <span style=\"color: #008080; text-decoration-color: #008080\">   650</span> │ <span style=\"color: #008000; text-decoration-color: #008000\">  ▇▅  </span> │  │\n",
       "│ │ <span style=\"color: #af87ff; text-decoration-color: #af87ff\">kilometer          </span> │ <span style=\"color: #008080; text-decoration-color: #008080\">  0</span> │ <span style=\"color: #008080; text-decoration-color: #008080\">    0</span> │ <span style=\"color: #008080; text-decoration-color: #008080\"> 126500</span> │ <span style=\"color: #008080; text-decoration-color: #008080\"> 38630</span> │ <span style=\"color: #008080; text-decoration-color: #008080\"> 5000</span> │ <span style=\"color: #008080; text-decoration-color: #008080\"> 125000</span> │ <span style=\"color: #008080; text-decoration-color: #008080\">150000</span> │ <span style=\"color: #008080; text-decoration-color: #008080\">150000</span> │ <span style=\"color: #008080; text-decoration-color: #008080\">150000</span> │ <span style=\"color: #008000; text-decoration-color: #008000\"> ▁▁▁▁▇</span> │  │\n",
       "│ │ <span style=\"color: #af87ff; text-decoration-color: #af87ff\">price              </span> │ <span style=\"color: #008080; text-decoration-color: #008080\">  0</span> │ <span style=\"color: #008080; text-decoration-color: #008080\">    0</span> │ <span style=\"color: #008080; text-decoration-color: #008080\">   4709</span> │ <span style=\"color: #008080; text-decoration-color: #008080\">  4608</span> │ <span style=\"color: #008080; text-decoration-color: #008080\">    1</span> │ <span style=\"color: #008080; text-decoration-color: #008080\">   1200</span> │ <span style=\"color: #008080; text-decoration-color: #008080\">  2999</span> │ <span style=\"color: #008080; text-decoration-color: #008080\">  6800</span> │ <span style=\"color: #008080; text-decoration-color: #008080\"> 20000</span> │ <span style=\"color: #008000; text-decoration-color: #008000\">▇▃▂▁▁ </span> │  │\n",
       "│ └─────────────────────┴─────┴───────┴─────────┴────────┴───────┴─────────┴────────┴────────┴────────┴────────┘  │\n",
       "│ <span style=\"font-style: italic\">                                                    string                                                    </span>  │\n",
       "│ ┏━━━━━━━━━━━━━━━━━━━━━━━━━━━┳━━━━━━━━━┳━━━━━━━━━━━━┳━━━━━━━━━━━━━━━━━━━━━━━━━━━━━━┳━━━━━━━━━━━━━━━━━━━━━━━━━━┓  │\n",
       "│ ┃<span style=\"font-weight: bold\"> column_name               </span>┃<span style=\"font-weight: bold\"> NA      </span>┃<span style=\"font-weight: bold\"> NA %       </span>┃<span style=\"font-weight: bold\"> words per row                </span>┃<span style=\"font-weight: bold\"> total words              </span>┃  │\n",
       "│ ┡━━━━━━━━━━━━━━━━━━━━━━━━━━━╇━━━━━━━━━╇━━━━━━━━━━━━╇━━━━━━━━━━━━━━━━━━━━━━━━━━━━━━╇━━━━━━━━━━━━━━━━━━━━━━━━━━┩  │\n",
       "│ │ <span style=\"color: #af87ff; text-decoration-color: #af87ff\">model                    </span> │ <span style=\"color: #008080; text-decoration-color: #008080\">      0</span> │ <span style=\"color: #008080; text-decoration-color: #008080\">         0</span> │ <span style=\"color: #008080; text-decoration-color: #008080\">                           1</span> │ <span style=\"color: #008080; text-decoration-color: #008080\">                  282653</span> │  │\n",
       "│ │ <span style=\"color: #af87ff; text-decoration-color: #af87ff\">gearbox                  </span> │ <span style=\"color: #008080; text-decoration-color: #008080\">      0</span> │ <span style=\"color: #008080; text-decoration-color: #008080\">         0</span> │ <span style=\"color: #008080; text-decoration-color: #008080\">                           1</span> │ <span style=\"color: #008080; text-decoration-color: #008080\">                  282653</span> │  │\n",
       "│ │ <span style=\"color: #af87ff; text-decoration-color: #af87ff\">fuel_type                </span> │ <span style=\"color: #008080; text-decoration-color: #008080\">      0</span> │ <span style=\"color: #008080; text-decoration-color: #008080\">         0</span> │ <span style=\"color: #008080; text-decoration-color: #008080\">                           1</span> │ <span style=\"color: #008080; text-decoration-color: #008080\">                  282653</span> │  │\n",
       "│ │ <span style=\"color: #af87ff; text-decoration-color: #af87ff\">repaired                 </span> │ <span style=\"color: #008080; text-decoration-color: #008080\">      0</span> │ <span style=\"color: #008080; text-decoration-color: #008080\">         0</span> │ <span style=\"color: #008080; text-decoration-color: #008080\">                           1</span> │ <span style=\"color: #008080; text-decoration-color: #008080\">                  282653</span> │  │\n",
       "│ └───────────────────────────┴─────────┴────────────┴──────────────────────────────┴──────────────────────────┘  │\n",
       "╰────────────────────────────────────────────────────── End ──────────────────────────────────────────────────────╯\n",
       "</pre>\n"
      ],
      "text/plain": [
       "╭──────────────────────────────────────────────── skimpy summary ─────────────────────────────────────────────────╮\n",
       "│ \u001b[3m         Data Summary         \u001b[0m \u001b[3m      Data Types       \u001b[0m                                                          │\n",
       "│ ┏━━━━━━━━━━━━━━━━━━━┳━━━━━━━━┓ ┏━━━━━━━━━━━━━┳━━━━━━━┓                                                          │\n",
       "│ ┃\u001b[1;36m \u001b[0m\u001b[1;36mdataframe        \u001b[0m\u001b[1;36m \u001b[0m┃\u001b[1;36m \u001b[0m\u001b[1;36mValues\u001b[0m\u001b[1;36m \u001b[0m┃ ┃\u001b[1;36m \u001b[0m\u001b[1;36mColumn Type\u001b[0m\u001b[1;36m \u001b[0m┃\u001b[1;36m \u001b[0m\u001b[1;36mCount\u001b[0m\u001b[1;36m \u001b[0m┃                                                          │\n",
       "│ ┡━━━━━━━━━━━━━━━━━━━╇━━━━━━━━┩ ┡━━━━━━━━━━━━━╇━━━━━━━┩                                                          │\n",
       "│ │ Number of rows    │ 282653 │ │ string      │ 4     │                                                          │\n",
       "│ │ Number of columns │ 8      │ │ int64       │ 3     │                                                          │\n",
       "│ └───────────────────┴────────┘ │ float64     │ 1     │                                                          │\n",
       "│                                └─────────────┴───────┘                                                          │\n",
       "│ \u001b[3m                                                    number                                                    \u001b[0m  │\n",
       "│ ┏━━━━━━━━━━━━━━━━━━━━━┳━━━━━┳━━━━━━━┳━━━━━━━━━┳━━━━━━━━┳━━━━━━━┳━━━━━━━━━┳━━━━━━━━┳━━━━━━━━┳━━━━━━━━┳━━━━━━━━┓  │\n",
       "│ ┃\u001b[1m \u001b[0m\u001b[1mcolumn_name        \u001b[0m\u001b[1m \u001b[0m┃\u001b[1m \u001b[0m\u001b[1mNA \u001b[0m\u001b[1m \u001b[0m┃\u001b[1m \u001b[0m\u001b[1mNA % \u001b[0m\u001b[1m \u001b[0m┃\u001b[1m \u001b[0m\u001b[1mmean   \u001b[0m\u001b[1m \u001b[0m┃\u001b[1m \u001b[0m\u001b[1msd    \u001b[0m\u001b[1m \u001b[0m┃\u001b[1m \u001b[0m\u001b[1mp0   \u001b[0m\u001b[1m \u001b[0m┃\u001b[1m \u001b[0m\u001b[1mp25    \u001b[0m\u001b[1m \u001b[0m┃\u001b[1m \u001b[0m\u001b[1mp50   \u001b[0m\u001b[1m \u001b[0m┃\u001b[1m \u001b[0m\u001b[1mp75   \u001b[0m\u001b[1m \u001b[0m┃\u001b[1m \u001b[0m\u001b[1mp100  \u001b[0m\u001b[1m \u001b[0m┃\u001b[1m \u001b[0m\u001b[1mhist  \u001b[0m\u001b[1m \u001b[0m┃  │\n",
       "│ ┡━━━━━━━━━━━━━━━━━━━━━╇━━━━━╇━━━━━━━╇━━━━━━━━━╇━━━━━━━━╇━━━━━━━╇━━━━━━━━━╇━━━━━━━━╇━━━━━━━━╇━━━━━━━━╇━━━━━━━━┩  │\n",
       "│ │ \u001b[38;5;141mregistration_year  \u001b[0m │ \u001b[36m  0\u001b[0m │ \u001b[36m    0\u001b[0m │ \u001b[36m   2003\u001b[0m │ \u001b[36m 7.647\u001b[0m │ \u001b[36m 1910\u001b[0m │ \u001b[36m   1999\u001b[0m │ \u001b[36m  2003\u001b[0m │ \u001b[36m  2008\u001b[0m │ \u001b[36m  2019\u001b[0m │ \u001b[32m    ▃▇\u001b[0m │  │\n",
       "│ │ \u001b[38;5;141mpower              \u001b[0m │ \u001b[36m  0\u001b[0m │ \u001b[36m    0\u001b[0m │ \u001b[36m  119.9\u001b[0m │ \u001b[36m 51.83\u001b[0m │ \u001b[36m   13\u001b[0m │ \u001b[36m     86\u001b[0m │ \u001b[36m   105\u001b[0m │ \u001b[36m   143\u001b[0m │ \u001b[36m   650\u001b[0m │ \u001b[32m  ▇▅  \u001b[0m │  │\n",
       "│ │ \u001b[38;5;141mkilometer          \u001b[0m │ \u001b[36m  0\u001b[0m │ \u001b[36m    0\u001b[0m │ \u001b[36m 126500\u001b[0m │ \u001b[36m 38630\u001b[0m │ \u001b[36m 5000\u001b[0m │ \u001b[36m 125000\u001b[0m │ \u001b[36m150000\u001b[0m │ \u001b[36m150000\u001b[0m │ \u001b[36m150000\u001b[0m │ \u001b[32m ▁▁▁▁▇\u001b[0m │  │\n",
       "│ │ \u001b[38;5;141mprice              \u001b[0m │ \u001b[36m  0\u001b[0m │ \u001b[36m    0\u001b[0m │ \u001b[36m   4709\u001b[0m │ \u001b[36m  4608\u001b[0m │ \u001b[36m    1\u001b[0m │ \u001b[36m   1200\u001b[0m │ \u001b[36m  2999\u001b[0m │ \u001b[36m  6800\u001b[0m │ \u001b[36m 20000\u001b[0m │ \u001b[32m▇▃▂▁▁ \u001b[0m │  │\n",
       "│ └─────────────────────┴─────┴───────┴─────────┴────────┴───────┴─────────┴────────┴────────┴────────┴────────┘  │\n",
       "│ \u001b[3m                                                    string                                                    \u001b[0m  │\n",
       "│ ┏━━━━━━━━━━━━━━━━━━━━━━━━━━━┳━━━━━━━━━┳━━━━━━━━━━━━┳━━━━━━━━━━━━━━━━━━━━━━━━━━━━━━┳━━━━━━━━━━━━━━━━━━━━━━━━━━┓  │\n",
       "│ ┃\u001b[1m \u001b[0m\u001b[1mcolumn_name              \u001b[0m\u001b[1m \u001b[0m┃\u001b[1m \u001b[0m\u001b[1mNA     \u001b[0m\u001b[1m \u001b[0m┃\u001b[1m \u001b[0m\u001b[1mNA %      \u001b[0m\u001b[1m \u001b[0m┃\u001b[1m \u001b[0m\u001b[1mwords per row               \u001b[0m\u001b[1m \u001b[0m┃\u001b[1m \u001b[0m\u001b[1mtotal words             \u001b[0m\u001b[1m \u001b[0m┃  │\n",
       "│ ┡━━━━━━━━━━━━━━━━━━━━━━━━━━━╇━━━━━━━━━╇━━━━━━━━━━━━╇━━━━━━━━━━━━━━━━━━━━━━━━━━━━━━╇━━━━━━━━━━━━━━━━━━━━━━━━━━┩  │\n",
       "│ │ \u001b[38;5;141mmodel                    \u001b[0m │ \u001b[36m      0\u001b[0m │ \u001b[36m         0\u001b[0m │ \u001b[36m                           1\u001b[0m │ \u001b[36m                  282653\u001b[0m │  │\n",
       "│ │ \u001b[38;5;141mgearbox                  \u001b[0m │ \u001b[36m      0\u001b[0m │ \u001b[36m         0\u001b[0m │ \u001b[36m                           1\u001b[0m │ \u001b[36m                  282653\u001b[0m │  │\n",
       "│ │ \u001b[38;5;141mfuel_type                \u001b[0m │ \u001b[36m      0\u001b[0m │ \u001b[36m         0\u001b[0m │ \u001b[36m                           1\u001b[0m │ \u001b[36m                  282653\u001b[0m │  │\n",
       "│ │ \u001b[38;5;141mrepaired                 \u001b[0m │ \u001b[36m      0\u001b[0m │ \u001b[36m         0\u001b[0m │ \u001b[36m                           1\u001b[0m │ \u001b[36m                  282653\u001b[0m │  │\n",
       "│ └───────────────────────────┴─────────┴────────────┴──────────────────────────────┴──────────────────────────┘  │\n",
       "╰────────────────────────────────────────────────────── End ──────────────────────────────────────────────────────╯\n"
      ]
     },
     "metadata": {},
     "output_type": "display_data"
    }
   ],
   "source": [
    "skim(df)"
   ]
  },
  {
   "cell_type": "markdown",
   "id": "c0cf2e4b-5107-46dd-b4df-8786b7bb7ed3",
   "metadata": {},
   "source": [
    "## Data encoding and normalization"
   ]
  },
  {
   "cell_type": "code",
   "execution_count": 126,
   "id": "a3d42639",
   "metadata": {},
   "outputs": [],
   "source": [
    "ohe_columns = ['model', 'gearbox', 'fuel_type','repaired']\n",
    "num_columns = ['registration_year', 'power', 'kilometer']"
   ]
  },
  {
   "cell_type": "code",
   "execution_count": 127,
   "id": "13752e22",
   "metadata": {},
   "outputs": [],
   "source": [
    "scaler = StandardScaler()\n",
    "encoder = OneHotEncoder(drop='first', sparse_output=False)"
   ]
  },
  {
   "cell_type": "code",
   "execution_count": 128,
   "id": "8997320f",
   "metadata": {},
   "outputs": [],
   "source": [
    "df_ohe = encoder.fit_transform(df[ohe_columns])\n",
    "encoder_col_names = encoder.get_feature_names_out()\n",
    "df_ohe = pd.DataFrame(df_ohe, columns=encoder_col_names)"
   ]
  },
  {
   "cell_type": "code",
   "execution_count": 129,
   "id": "98338f5f",
   "metadata": {},
   "outputs": [
    {
     "data": {
      "text/html": [
       "<div>\n",
       "<style scoped>\n",
       "    .dataframe tbody tr th:only-of-type {\n",
       "        vertical-align: middle;\n",
       "    }\n",
       "\n",
       "    .dataframe tbody tr th {\n",
       "        vertical-align: top;\n",
       "    }\n",
       "\n",
       "    .dataframe thead th {\n",
       "        text-align: right;\n",
       "    }\n",
       "</style>\n",
       "<table border=\"1\" class=\"dataframe\">\n",
       "  <thead>\n",
       "    <tr style=\"text-align: right;\">\n",
       "      <th></th>\n",
       "      <th>model_145</th>\n",
       "      <th>model_147</th>\n",
       "      <th>model_156</th>\n",
       "      <th>model_159</th>\n",
       "      <th>model_1_reihe</th>\n",
       "      <th>model_1er</th>\n",
       "      <th>model_200</th>\n",
       "      <th>model_2_reihe</th>\n",
       "      <th>model_300c</th>\n",
       "      <th>model_3_reihe</th>\n",
       "      <th>...</th>\n",
       "      <th>model_zafira</th>\n",
       "      <th>gearbox_manual</th>\n",
       "      <th>gearbox_no_info</th>\n",
       "      <th>fuel_type_electric</th>\n",
       "      <th>fuel_type_gasoline</th>\n",
       "      <th>fuel_type_hybrid</th>\n",
       "      <th>fuel_type_lpg</th>\n",
       "      <th>fuel_type_no_info</th>\n",
       "      <th>fuel_type_other</th>\n",
       "      <th>repaired_yes</th>\n",
       "    </tr>\n",
       "  </thead>\n",
       "  <tbody>\n",
       "    <tr>\n",
       "      <th>0</th>\n",
       "      <td>0.0</td>\n",
       "      <td>0.0</td>\n",
       "      <td>0.0</td>\n",
       "      <td>0.0</td>\n",
       "      <td>0.0</td>\n",
       "      <td>0.0</td>\n",
       "      <td>0.0</td>\n",
       "      <td>0.0</td>\n",
       "      <td>0.0</td>\n",
       "      <td>0.0</td>\n",
       "      <td>...</td>\n",
       "      <td>0.0</td>\n",
       "      <td>1.0</td>\n",
       "      <td>0.0</td>\n",
       "      <td>0.0</td>\n",
       "      <td>1.0</td>\n",
       "      <td>0.0</td>\n",
       "      <td>0.0</td>\n",
       "      <td>0.0</td>\n",
       "      <td>0.0</td>\n",
       "      <td>0.0</td>\n",
       "    </tr>\n",
       "    <tr>\n",
       "      <th>1</th>\n",
       "      <td>0.0</td>\n",
       "      <td>0.0</td>\n",
       "      <td>0.0</td>\n",
       "      <td>0.0</td>\n",
       "      <td>0.0</td>\n",
       "      <td>0.0</td>\n",
       "      <td>0.0</td>\n",
       "      <td>0.0</td>\n",
       "      <td>0.0</td>\n",
       "      <td>0.0</td>\n",
       "      <td>...</td>\n",
       "      <td>0.0</td>\n",
       "      <td>1.0</td>\n",
       "      <td>0.0</td>\n",
       "      <td>0.0</td>\n",
       "      <td>1.0</td>\n",
       "      <td>0.0</td>\n",
       "      <td>0.0</td>\n",
       "      <td>0.0</td>\n",
       "      <td>0.0</td>\n",
       "      <td>1.0</td>\n",
       "    </tr>\n",
       "    <tr>\n",
       "      <th>2</th>\n",
       "      <td>0.0</td>\n",
       "      <td>0.0</td>\n",
       "      <td>0.0</td>\n",
       "      <td>0.0</td>\n",
       "      <td>0.0</td>\n",
       "      <td>0.0</td>\n",
       "      <td>0.0</td>\n",
       "      <td>0.0</td>\n",
       "      <td>0.0</td>\n",
       "      <td>0.0</td>\n",
       "      <td>...</td>\n",
       "      <td>0.0</td>\n",
       "      <td>0.0</td>\n",
       "      <td>0.0</td>\n",
       "      <td>0.0</td>\n",
       "      <td>1.0</td>\n",
       "      <td>0.0</td>\n",
       "      <td>0.0</td>\n",
       "      <td>0.0</td>\n",
       "      <td>0.0</td>\n",
       "      <td>0.0</td>\n",
       "    </tr>\n",
       "    <tr>\n",
       "      <th>3</th>\n",
       "      <td>0.0</td>\n",
       "      <td>0.0</td>\n",
       "      <td>0.0</td>\n",
       "      <td>0.0</td>\n",
       "      <td>0.0</td>\n",
       "      <td>0.0</td>\n",
       "      <td>0.0</td>\n",
       "      <td>0.0</td>\n",
       "      <td>0.0</td>\n",
       "      <td>0.0</td>\n",
       "      <td>...</td>\n",
       "      <td>0.0</td>\n",
       "      <td>1.0</td>\n",
       "      <td>0.0</td>\n",
       "      <td>0.0</td>\n",
       "      <td>1.0</td>\n",
       "      <td>0.0</td>\n",
       "      <td>0.0</td>\n",
       "      <td>0.0</td>\n",
       "      <td>0.0</td>\n",
       "      <td>0.0</td>\n",
       "    </tr>\n",
       "    <tr>\n",
       "      <th>4</th>\n",
       "      <td>0.0</td>\n",
       "      <td>0.0</td>\n",
       "      <td>0.0</td>\n",
       "      <td>0.0</td>\n",
       "      <td>0.0</td>\n",
       "      <td>0.0</td>\n",
       "      <td>0.0</td>\n",
       "      <td>0.0</td>\n",
       "      <td>0.0</td>\n",
       "      <td>0.0</td>\n",
       "      <td>...</td>\n",
       "      <td>0.0</td>\n",
       "      <td>1.0</td>\n",
       "      <td>0.0</td>\n",
       "      <td>0.0</td>\n",
       "      <td>1.0</td>\n",
       "      <td>0.0</td>\n",
       "      <td>0.0</td>\n",
       "      <td>0.0</td>\n",
       "      <td>0.0</td>\n",
       "      <td>0.0</td>\n",
       "    </tr>\n",
       "  </tbody>\n",
       "</table>\n",
       "<p>5 rows × 259 columns</p>\n",
       "</div>"
      ],
      "text/plain": [
       "   model_145  model_147  model_156  model_159  model_1_reihe  model_1er  \\\n",
       "0        0.0        0.0        0.0        0.0            0.0        0.0   \n",
       "1        0.0        0.0        0.0        0.0            0.0        0.0   \n",
       "2        0.0        0.0        0.0        0.0            0.0        0.0   \n",
       "3        0.0        0.0        0.0        0.0            0.0        0.0   \n",
       "4        0.0        0.0        0.0        0.0            0.0        0.0   \n",
       "\n",
       "   model_200  model_2_reihe  model_300c  model_3_reihe  ...  model_zafira  \\\n",
       "0        0.0            0.0         0.0            0.0  ...           0.0   \n",
       "1        0.0            0.0         0.0            0.0  ...           0.0   \n",
       "2        0.0            0.0         0.0            0.0  ...           0.0   \n",
       "3        0.0            0.0         0.0            0.0  ...           0.0   \n",
       "4        0.0            0.0         0.0            0.0  ...           0.0   \n",
       "\n",
       "   gearbox_manual  gearbox_no_info  fuel_type_electric  fuel_type_gasoline  \\\n",
       "0             1.0              0.0                 0.0                 1.0   \n",
       "1             1.0              0.0                 0.0                 1.0   \n",
       "2             0.0              0.0                 0.0                 1.0   \n",
       "3             1.0              0.0                 0.0                 1.0   \n",
       "4             1.0              0.0                 0.0                 1.0   \n",
       "\n",
       "   fuel_type_hybrid  fuel_type_lpg  fuel_type_no_info  fuel_type_other  \\\n",
       "0               0.0            0.0                0.0              0.0   \n",
       "1               0.0            0.0                0.0              0.0   \n",
       "2               0.0            0.0                0.0              0.0   \n",
       "3               0.0            0.0                0.0              0.0   \n",
       "4               0.0            0.0                0.0              0.0   \n",
       "\n",
       "   repaired_yes  \n",
       "0           0.0  \n",
       "1           1.0  \n",
       "2           0.0  \n",
       "3           0.0  \n",
       "4           0.0  \n",
       "\n",
       "[5 rows x 259 columns]"
      ]
     },
     "execution_count": 129,
     "metadata": {},
     "output_type": "execute_result"
    }
   ],
   "source": [
    "df_ohe.head(5)"
   ]
  },
  {
   "cell_type": "code",
   "execution_count": 130,
   "id": "e4b5eef5",
   "metadata": {},
   "outputs": [],
   "source": [
    "df_scaled = scaler.fit_transform(df[num_columns])\n",
    "df_scaled = pd.DataFrame(df_scaled, columns=num_columns)"
   ]
  },
  {
   "cell_type": "code",
   "execution_count": 133,
   "id": "dbf71566",
   "metadata": {},
   "outputs": [
    {
     "data": {
      "text/html": [
       "<div>\n",
       "<style scoped>\n",
       "    .dataframe tbody tr th:only-of-type {\n",
       "        vertical-align: middle;\n",
       "    }\n",
       "\n",
       "    .dataframe tbody tr th {\n",
       "        vertical-align: top;\n",
       "    }\n",
       "\n",
       "    .dataframe thead th {\n",
       "        text-align: right;\n",
       "    }\n",
       "</style>\n",
       "<table border=\"1\" class=\"dataframe\">\n",
       "  <thead>\n",
       "    <tr style=\"text-align: right;\">\n",
       "      <th></th>\n",
       "      <th>registration_year</th>\n",
       "      <th>power</th>\n",
       "      <th>kilometer</th>\n",
       "    </tr>\n",
       "  </thead>\n",
       "  <tbody>\n",
       "    <tr>\n",
       "      <th>0</th>\n",
       "      <td>-1.351624</td>\n",
       "      <td>-0.288239</td>\n",
       "      <td>0.608635</td>\n",
       "    </tr>\n",
       "    <tr>\n",
       "      <th>1</th>\n",
       "      <td>1.002098</td>\n",
       "      <td>1.351743</td>\n",
       "      <td>-0.038537</td>\n",
       "    </tr>\n",
       "    <tr>\n",
       "      <th>2</th>\n",
       "      <td>0.086762</td>\n",
       "      <td>0.830807</td>\n",
       "      <td>-0.038537</td>\n",
       "    </tr>\n",
       "    <tr>\n",
       "      <th>3</th>\n",
       "      <td>-0.305525</td>\n",
       "      <td>-0.867057</td>\n",
       "      <td>0.608635</td>\n",
       "    </tr>\n",
       "    <tr>\n",
       "      <th>4</th>\n",
       "      <td>0.609811</td>\n",
       "      <td>-0.982820</td>\n",
       "      <td>-0.944577</td>\n",
       "    </tr>\n",
       "  </tbody>\n",
       "</table>\n",
       "</div>"
      ],
      "text/plain": [
       "   registration_year     power  kilometer\n",
       "0          -1.351624 -0.288239   0.608635\n",
       "1           1.002098  1.351743  -0.038537\n",
       "2           0.086762  0.830807  -0.038537\n",
       "3          -0.305525 -0.867057   0.608635\n",
       "4           0.609811 -0.982820  -0.944577"
      ]
     },
     "execution_count": 133,
     "metadata": {},
     "output_type": "execute_result"
    }
   ],
   "source": [
    "df_scaled.head(5)"
   ]
  },
  {
   "cell_type": "code",
   "execution_count": 134,
   "id": "d7c6e5b7",
   "metadata": {},
   "outputs": [],
   "source": [
    "df_coded = pd.concat([df_scaled, df_ohe, df['price']], axis=1)"
   ]
  },
  {
   "cell_type": "code",
   "execution_count": 135,
   "id": "d366a368",
   "metadata": {},
   "outputs": [
    {
     "data": {
      "text/html": [
       "<div>\n",
       "<style scoped>\n",
       "    .dataframe tbody tr th:only-of-type {\n",
       "        vertical-align: middle;\n",
       "    }\n",
       "\n",
       "    .dataframe tbody tr th {\n",
       "        vertical-align: top;\n",
       "    }\n",
       "\n",
       "    .dataframe thead th {\n",
       "        text-align: right;\n",
       "    }\n",
       "</style>\n",
       "<table border=\"1\" class=\"dataframe\">\n",
       "  <thead>\n",
       "    <tr style=\"text-align: right;\">\n",
       "      <th></th>\n",
       "      <th>registration_year</th>\n",
       "      <th>power</th>\n",
       "      <th>kilometer</th>\n",
       "      <th>model_145</th>\n",
       "      <th>model_147</th>\n",
       "      <th>model_156</th>\n",
       "      <th>model_159</th>\n",
       "      <th>model_1_reihe</th>\n",
       "      <th>model_1er</th>\n",
       "      <th>model_200</th>\n",
       "      <th>...</th>\n",
       "      <th>gearbox_manual</th>\n",
       "      <th>gearbox_no_info</th>\n",
       "      <th>fuel_type_electric</th>\n",
       "      <th>fuel_type_gasoline</th>\n",
       "      <th>fuel_type_hybrid</th>\n",
       "      <th>fuel_type_lpg</th>\n",
       "      <th>fuel_type_no_info</th>\n",
       "      <th>fuel_type_other</th>\n",
       "      <th>repaired_yes</th>\n",
       "      <th>price</th>\n",
       "    </tr>\n",
       "  </thead>\n",
       "  <tbody>\n",
       "    <tr>\n",
       "      <th>0</th>\n",
       "      <td>-1.351624</td>\n",
       "      <td>-0.288239</td>\n",
       "      <td>0.608635</td>\n",
       "      <td>0.0</td>\n",
       "      <td>0.0</td>\n",
       "      <td>0.0</td>\n",
       "      <td>0.0</td>\n",
       "      <td>0.0</td>\n",
       "      <td>0.0</td>\n",
       "      <td>0.0</td>\n",
       "      <td>...</td>\n",
       "      <td>1.0</td>\n",
       "      <td>0.0</td>\n",
       "      <td>0.0</td>\n",
       "      <td>1.0</td>\n",
       "      <td>0.0</td>\n",
       "      <td>0.0</td>\n",
       "      <td>0.0</td>\n",
       "      <td>0.0</td>\n",
       "      <td>0.0</td>\n",
       "      <td>480</td>\n",
       "    </tr>\n",
       "    <tr>\n",
       "      <th>1</th>\n",
       "      <td>1.002098</td>\n",
       "      <td>1.351743</td>\n",
       "      <td>-0.038537</td>\n",
       "      <td>0.0</td>\n",
       "      <td>0.0</td>\n",
       "      <td>0.0</td>\n",
       "      <td>0.0</td>\n",
       "      <td>0.0</td>\n",
       "      <td>0.0</td>\n",
       "      <td>0.0</td>\n",
       "      <td>...</td>\n",
       "      <td>1.0</td>\n",
       "      <td>0.0</td>\n",
       "      <td>0.0</td>\n",
       "      <td>1.0</td>\n",
       "      <td>0.0</td>\n",
       "      <td>0.0</td>\n",
       "      <td>0.0</td>\n",
       "      <td>0.0</td>\n",
       "      <td>1.0</td>\n",
       "      <td>18300</td>\n",
       "    </tr>\n",
       "    <tr>\n",
       "      <th>2</th>\n",
       "      <td>0.086762</td>\n",
       "      <td>0.830807</td>\n",
       "      <td>-0.038537</td>\n",
       "      <td>0.0</td>\n",
       "      <td>0.0</td>\n",
       "      <td>0.0</td>\n",
       "      <td>0.0</td>\n",
       "      <td>0.0</td>\n",
       "      <td>0.0</td>\n",
       "      <td>0.0</td>\n",
       "      <td>...</td>\n",
       "      <td>0.0</td>\n",
       "      <td>0.0</td>\n",
       "      <td>0.0</td>\n",
       "      <td>1.0</td>\n",
       "      <td>0.0</td>\n",
       "      <td>0.0</td>\n",
       "      <td>0.0</td>\n",
       "      <td>0.0</td>\n",
       "      <td>0.0</td>\n",
       "      <td>9800</td>\n",
       "    </tr>\n",
       "    <tr>\n",
       "      <th>3</th>\n",
       "      <td>-0.305525</td>\n",
       "      <td>-0.867057</td>\n",
       "      <td>0.608635</td>\n",
       "      <td>0.0</td>\n",
       "      <td>0.0</td>\n",
       "      <td>0.0</td>\n",
       "      <td>0.0</td>\n",
       "      <td>0.0</td>\n",
       "      <td>0.0</td>\n",
       "      <td>0.0</td>\n",
       "      <td>...</td>\n",
       "      <td>1.0</td>\n",
       "      <td>0.0</td>\n",
       "      <td>0.0</td>\n",
       "      <td>1.0</td>\n",
       "      <td>0.0</td>\n",
       "      <td>0.0</td>\n",
       "      <td>0.0</td>\n",
       "      <td>0.0</td>\n",
       "      <td>0.0</td>\n",
       "      <td>1500</td>\n",
       "    </tr>\n",
       "    <tr>\n",
       "      <th>4</th>\n",
       "      <td>0.609811</td>\n",
       "      <td>-0.982820</td>\n",
       "      <td>-0.944577</td>\n",
       "      <td>0.0</td>\n",
       "      <td>0.0</td>\n",
       "      <td>0.0</td>\n",
       "      <td>0.0</td>\n",
       "      <td>0.0</td>\n",
       "      <td>0.0</td>\n",
       "      <td>0.0</td>\n",
       "      <td>...</td>\n",
       "      <td>1.0</td>\n",
       "      <td>0.0</td>\n",
       "      <td>0.0</td>\n",
       "      <td>1.0</td>\n",
       "      <td>0.0</td>\n",
       "      <td>0.0</td>\n",
       "      <td>0.0</td>\n",
       "      <td>0.0</td>\n",
       "      <td>0.0</td>\n",
       "      <td>3600</td>\n",
       "    </tr>\n",
       "  </tbody>\n",
       "</table>\n",
       "<p>5 rows × 263 columns</p>\n",
       "</div>"
      ],
      "text/plain": [
       "   registration_year     power  kilometer  model_145  model_147  model_156  \\\n",
       "0          -1.351624 -0.288239   0.608635        0.0        0.0        0.0   \n",
       "1           1.002098  1.351743  -0.038537        0.0        0.0        0.0   \n",
       "2           0.086762  0.830807  -0.038537        0.0        0.0        0.0   \n",
       "3          -0.305525 -0.867057   0.608635        0.0        0.0        0.0   \n",
       "4           0.609811 -0.982820  -0.944577        0.0        0.0        0.0   \n",
       "\n",
       "   model_159  model_1_reihe  model_1er  model_200  ...  gearbox_manual  \\\n",
       "0        0.0            0.0        0.0        0.0  ...             1.0   \n",
       "1        0.0            0.0        0.0        0.0  ...             1.0   \n",
       "2        0.0            0.0        0.0        0.0  ...             0.0   \n",
       "3        0.0            0.0        0.0        0.0  ...             1.0   \n",
       "4        0.0            0.0        0.0        0.0  ...             1.0   \n",
       "\n",
       "   gearbox_no_info  fuel_type_electric  fuel_type_gasoline  fuel_type_hybrid  \\\n",
       "0              0.0                 0.0                 1.0               0.0   \n",
       "1              0.0                 0.0                 1.0               0.0   \n",
       "2              0.0                 0.0                 1.0               0.0   \n",
       "3              0.0                 0.0                 1.0               0.0   \n",
       "4              0.0                 0.0                 1.0               0.0   \n",
       "\n",
       "   fuel_type_lpg  fuel_type_no_info  fuel_type_other  repaired_yes  price  \n",
       "0            0.0                0.0              0.0           0.0    480  \n",
       "1            0.0                0.0              0.0           1.0  18300  \n",
       "2            0.0                0.0              0.0           0.0   9800  \n",
       "3            0.0                0.0              0.0           0.0   1500  \n",
       "4            0.0                0.0              0.0           0.0   3600  \n",
       "\n",
       "[5 rows x 263 columns]"
      ]
     },
     "execution_count": 135,
     "metadata": {},
     "output_type": "execute_result"
    }
   ],
   "source": [
    "df_coded.head(5)"
   ]
  },
  {
   "cell_type": "code",
   "execution_count": 136,
   "id": "8f27ec95",
   "metadata": {},
   "outputs": [
    {
     "data": {
      "text/plain": [
       "(282653, 263)"
      ]
     },
     "execution_count": 136,
     "metadata": {},
     "output_type": "execute_result"
    }
   ],
   "source": [
    "df_coded.shape"
   ]
  },
  {
   "cell_type": "code",
   "execution_count": 137,
   "id": "16018249",
   "metadata": {},
   "outputs": [
    {
     "name": "stdout",
     "output_type": "stream",
     "text": [
      "<class 'pandas.core.frame.DataFrame'>\n",
      "RangeIndex: 282653 entries, 0 to 282652\n",
      "Columns: 263 entries, registration_year to price\n",
      "dtypes: float64(262), int64(1)\n",
      "memory usage: 567.2 MB\n"
     ]
    }
   ],
   "source": [
    "df_coded.info()"
   ]
  },
  {
   "cell_type": "markdown",
   "id": "de114c6a-7a54-411d-b868-4f3066f1e2c0",
   "metadata": {},
   "source": [
    "### Data preparation for PyTorch"
   ]
  },
  {
   "cell_type": "code",
   "execution_count": 138,
   "id": "cf2268a8",
   "metadata": {},
   "outputs": [],
   "source": [
    "df_torch = df_coded.to_numpy()"
   ]
  },
  {
   "cell_type": "code",
   "execution_count": 210,
   "id": "adab2415",
   "metadata": {},
   "outputs": [
    {
     "data": {
      "text/plain": [
       "(282653, 263)"
      ]
     },
     "execution_count": 210,
     "metadata": {},
     "output_type": "execute_result"
    }
   ],
   "source": [
    "df_torch.shape"
   ]
  },
  {
   "cell_type": "code",
   "execution_count": 140,
   "id": "1af494e0",
   "metadata": {},
   "outputs": [],
   "source": [
    "autos = torch.from_numpy(df_torch)"
   ]
  },
  {
   "cell_type": "code",
   "execution_count": 141,
   "id": "54b3e9ad",
   "metadata": {},
   "outputs": [],
   "source": [
    "autos = autos.to(torch.double)"
   ]
  },
  {
   "cell_type": "code",
   "execution_count": 142,
   "id": "52019a15",
   "metadata": {},
   "outputs": [
    {
     "data": {
      "text/plain": [
       "torch.float64"
      ]
     },
     "execution_count": 142,
     "metadata": {},
     "output_type": "execute_result"
    }
   ],
   "source": [
    "autos.dtype"
   ]
  },
  {
   "cell_type": "code",
   "execution_count": 143,
   "id": "42b596db",
   "metadata": {},
   "outputs": [
    {
     "data": {
      "text/plain": [
       "torch.Size([282653, 263])"
      ]
     },
     "execution_count": 143,
     "metadata": {},
     "output_type": "execute_result"
    }
   ],
   "source": [
    "autos.shape"
   ]
  },
  {
   "cell_type": "code",
   "execution_count": 144,
   "id": "86ea784a",
   "metadata": {
    "scrolled": true
   },
   "outputs": [
    {
     "data": {
      "text/plain": [
       "(tensor([[-1.3516, -0.2882,  0.6086,  ...,  0.0000,  0.0000,  0.0000],\n",
       "         [ 1.0021,  1.3517, -0.0385,  ...,  0.0000,  0.0000,  1.0000],\n",
       "         [ 0.0868,  0.8308, -0.0385,  ...,  0.0000,  0.0000,  0.0000],\n",
       "         ...,\n",
       "         [ 0.2175, -0.2882, -2.7567,  ...,  1.0000,  0.0000,  0.0000],\n",
       "         [-0.4363, -0.3654, -0.0385,  ...,  0.0000,  0.0000,  0.0000],\n",
       "         [-0.9593, -0.3461,  0.6086,  ...,  0.0000,  0.0000,  0.0000]],\n",
       "        dtype=torch.float64),\n",
       " torch.Size([282653, 262]))"
      ]
     },
     "execution_count": 144,
     "metadata": {},
     "output_type": "execute_result"
    }
   ],
   "source": [
    "features = autos[:, :-1]\n",
    "features[:-1], features.shape"
   ]
  },
  {
   "cell_type": "code",
   "execution_count": 145,
   "id": "8cc49b6e",
   "metadata": {},
   "outputs": [],
   "source": [
    "features = features.to(torch.double)"
   ]
  },
  {
   "cell_type": "code",
   "execution_count": 146,
   "id": "60106b7a",
   "metadata": {},
   "outputs": [
    {
     "data": {
      "text/plain": [
       "torch.float64"
      ]
     },
     "execution_count": 146,
     "metadata": {},
     "output_type": "execute_result"
    }
   ],
   "source": [
    "features.dtype"
   ]
  },
  {
   "cell_type": "code",
   "execution_count": 147,
   "id": "4ae925b1",
   "metadata": {},
   "outputs": [
    {
     "data": {
      "text/plain": [
       "(tensor([[  480.],\n",
       "         [18300.],\n",
       "         [ 9800.],\n",
       "         ...,\n",
       "         [ 1199.],\n",
       "         [ 9200.],\n",
       "         [ 3400.]], dtype=torch.float64),\n",
       " torch.Size([282653, 1]))"
      ]
     },
     "execution_count": 147,
     "metadata": {},
     "output_type": "execute_result"
    }
   ],
   "source": [
    "target = autos[:, -1].unsqueeze(1)\n",
    "target,  target.shape"
   ]
  },
  {
   "cell_type": "code",
   "execution_count": 148,
   "id": "a926ab7a",
   "metadata": {},
   "outputs": [],
   "source": [
    "target = target.to(torch.double)"
   ]
  },
  {
   "cell_type": "code",
   "execution_count": 149,
   "id": "a4482e1e",
   "metadata": {},
   "outputs": [
    {
     "data": {
      "text/plain": [
       "torch.float64"
      ]
     },
     "execution_count": 149,
     "metadata": {},
     "output_type": "execute_result"
    }
   ],
   "source": [
    "target.dtype"
   ]
  },
  {
   "cell_type": "code",
   "execution_count": 150,
   "id": "719e9b5f",
   "metadata": {},
   "outputs": [
    {
     "data": {
      "text/plain": [
       "(282653, 56530)"
      ]
     },
     "execution_count": 150,
     "metadata": {},
     "output_type": "execute_result"
    }
   ],
   "source": [
    "n_samples = features.shape[0]\n",
    "n_val = int(0.2 * n_samples)\n",
    "n_samples, n_val"
   ]
  },
  {
   "cell_type": "markdown",
   "id": "30066cb4",
   "metadata": {},
   "source": [
    "features_mean = torch.mean(features, dim=0)\n",
    "features_var = torch.var(features, dim=0)\n",
    "features_mean, features_var"
   ]
  },
  {
   "cell_type": "markdown",
   "id": "43ea6313",
   "metadata": {},
   "source": [
    "features_normalized = (features - features_mean) / torch.sqrt(features_var)\n",
    "features_normalized, features_normalized.shape"
   ]
  },
  {
   "cell_type": "code",
   "execution_count": 151,
   "id": "8cbe6bf3",
   "metadata": {},
   "outputs": [],
   "source": [
    "shuffled_indices = torch.randperm(n_samples)\n",
    "train_indices = shuffled_indices[:-n_val]\n",
    "val_indices = shuffled_indices[-n_val:]"
   ]
  },
  {
   "cell_type": "code",
   "execution_count": 152,
   "id": "61195792",
   "metadata": {},
   "outputs": [],
   "source": [
    "y_train = target[train_indices]\n",
    "X_train = features[train_indices]\n",
    "\n",
    "y_val = target[val_indices]\n",
    "X_val = features[val_indices]"
   ]
  },
  {
   "cell_type": "code",
   "execution_count": 153,
   "id": "a6fb8c3c",
   "metadata": {},
   "outputs": [
    {
     "data": {
      "text/plain": [
       "(torch.Size([226123, 1]), torch.Size([226123, 262]))"
      ]
     },
     "execution_count": 153,
     "metadata": {},
     "output_type": "execute_result"
    }
   ],
   "source": [
    "y_train.shape, X_train.shape"
   ]
  },
  {
   "cell_type": "code",
   "execution_count": 154,
   "id": "ee9914fe",
   "metadata": {},
   "outputs": [
    {
     "data": {
      "text/plain": [
       "(torch.Size([56530, 1]), torch.Size([56530, 262]))"
      ]
     },
     "execution_count": 154,
     "metadata": {},
     "output_type": "execute_result"
    }
   ],
   "source": [
    "y_val.shape, X_val.shape"
   ]
  },
  {
   "cell_type": "code",
   "execution_count": 155,
   "id": "5b846d7f",
   "metadata": {},
   "outputs": [
    {
     "data": {
      "text/plain": [
       "tensor([[ 1.3944, -0.6548, -2.2389,  ...,  0.0000,  0.0000,  0.0000],\n",
       "        [ 1.6559, -0.2882,  0.6086,  ...,  0.0000,  0.0000,  0.0000],\n",
       "        [ 1.7867, -0.2882,  0.6086,  ...,  1.0000,  0.0000,  0.0000],\n",
       "        ...,\n",
       "        [ 0.2175, -0.3654, -1.4623,  ...,  0.0000,  0.0000,  0.0000],\n",
       "        [-0.3055, -0.7320,  0.6086,  ...,  0.0000,  0.0000,  0.0000],\n",
       "        [ 0.0868, -0.8671, -0.0385,  ...,  0.0000,  0.0000,  1.0000]],\n",
       "       dtype=torch.float64)"
      ]
     },
     "execution_count": 155,
     "metadata": {},
     "output_type": "execute_result"
    }
   ],
   "source": [
    "X_train"
   ]
  },
  {
   "cell_type": "markdown",
   "id": "b6d991a4-f846-478e-9913-8903d362553b",
   "metadata": {},
   "source": [
    "### Model creation and train"
   ]
  },
  {
   "cell_type": "code",
   "execution_count": 189,
   "id": "bb9f5b4d-2a45-4ce0-81ab-1c6bb11562ec",
   "metadata": {
    "scrolled": true
   },
   "outputs": [
    {
     "name": "stdout",
     "output_type": "stream",
     "text": [
      "Training on device mps\n"
     ]
    }
   ],
   "source": [
    "device = (torch.device('mps') if torch.backends.mps.is_available()\n",
    "          else torch.device('cpu'))\n",
    "print(f'Training on device {device}')"
   ]
  },
  {
   "cell_type": "code",
   "execution_count": 190,
   "id": "6b8a9c1b-f953-4f83-a007-70e35daac106",
   "metadata": {},
   "outputs": [
    {
     "name": "stderr",
     "output_type": "stream",
     "text": [
      "/var/folders/rh/t5mb2sd16vx4tdlfd33x10mm0000gn/T/ipykernel_6444/2012445582.py:1: UserWarning: 'has_mps' is deprecated, please use 'torch.backends.mps.is_built()'\n",
      "  torch.has_mps\n"
     ]
    },
    {
     "data": {
      "text/plain": [
       "True"
      ]
     },
     "execution_count": 190,
     "metadata": {},
     "output_type": "execute_result"
    }
   ],
   "source": [
    "torch.has_mps"
   ]
  },
  {
   "cell_type": "code",
   "execution_count": 191,
   "id": "e5b20aea",
   "metadata": {},
   "outputs": [],
   "source": [
    "def training_loop(n_epochs, optimizer, model, loss_fn, X_train, X_val,\n",
    "              y_train, y_val):\n",
    "    model.to(device=device)\n",
    "    X_train = X_train.to(device=device)\n",
    "    X_val = X_val.to(device=device)\n",
    "    y_train = y_train.to(device=device)\n",
    "    y_val = y_val.to(device=device)\n",
    "    for epoch in range(1, n_epochs + 1):\n",
    "        pred_train = model(X_train)\n",
    "        loss_train = loss_fn(pred_train, y_train)\n",
    "        \n",
    "        pred_val = model(X_val)\n",
    "        loss_val = loss_fn(pred_val, y_val)\n",
    "        \n",
    "        optimizer.zero_grad()\n",
    "        loss_train.backward()\n",
    "        optimizer.step()\n",
    "        if epoch == 1 or epoch % 500 == 0:\n",
    "            print(f'Epoch {epoch}, Training loss {loss_train.item():.4f},'\n",
    "                  f'Validation loss {loss_val.item():.4f}')"
   ]
  },
  {
   "cell_type": "code",
   "execution_count": 196,
   "id": "9a23d2f8",
   "metadata": {},
   "outputs": [],
   "source": [
    "seq_model_autos = nn.Sequential(\n",
    "    nn.Linear(262, 500),\n",
    "    nn.Sigmoid(),\n",
    "    nn.Linear(500, 500),\n",
    "    nn.BatchNorm1d(500),\n",
    "    nn.ReLU(),\n",
    "    nn.Linear(500, 1)\n",
    ")\n",
    "optimizer = optim.SGD(seq_model_autos.parameters(), lr=0.01)"
   ]
  },
  {
   "cell_type": "code",
   "execution_count": 197,
   "id": "5ce3bc8e-8124-473a-bc9a-a6de537692dd",
   "metadata": {},
   "outputs": [],
   "source": [
    "class RMSELoss(torch.nn.Module):\n",
    "    def __init__(self):\n",
    "        super(RMSELoss, self).__init__()\n",
    "\n",
    "    def forward(self, x, y):\n",
    "        criterion = nn.MSELoss()\n",
    "        loss = torch.sqrt(criterion(x, y))\n",
    "        return loss"
   ]
  },
  {
   "cell_type": "code",
   "execution_count": 198,
   "id": "87102369-eb42-40f8-bcf4-1470560c8040",
   "metadata": {},
   "outputs": [
    {
     "data": {
      "text/plain": [
       "Sequential(\n",
       "  (0): Linear(in_features=262, out_features=500, bias=True)\n",
       "  (1): Sigmoid()\n",
       "  (2): Linear(in_features=500, out_features=500, bias=True)\n",
       "  (3): BatchNorm1d(500, eps=1e-05, momentum=0.1, affine=True, track_running_stats=True)\n",
       "  (4): ReLU()\n",
       "  (5): Linear(in_features=500, out_features=1, bias=True)\n",
       ")"
      ]
     },
     "execution_count": 198,
     "metadata": {},
     "output_type": "execute_result"
    }
   ],
   "source": [
    "seq_model_autos"
   ]
  },
  {
   "cell_type": "code",
   "execution_count": 199,
   "id": "6f5c708b",
   "metadata": {
    "scrolled": true
   },
   "outputs": [
    {
     "name": "stdout",
     "output_type": "stream",
     "text": [
      "Epoch 1, Training loss 6585.5625,Validation loss 6599.3320\n",
      "Epoch 500, Training loss 2282.4141,Validation loss 2307.5881\n",
      "Epoch 1000, Training loss 2032.6580,Validation loss 2060.1404\n",
      "Epoch 1500, Training loss 1950.7810,Validation loss 1983.1288\n",
      "Epoch 2000, Training loss 1926.8907,Validation loss 1968.0931\n",
      "Epoch 2500, Training loss 1915.1644,Validation loss 1954.7045\n",
      "Epoch 3000, Training loss 1875.3187,Validation loss 1926.0717\n",
      "Epoch 3500, Training loss 1866.2634,Validation loss 1920.2349\n",
      "Epoch 4000, Training loss 1858.9139,Validation loss 1913.3127\n",
      "Epoch 4500, Training loss 1845.7375,Validation loss 1906.8220\n",
      "Epoch 5000, Training loss 1841.5635,Validation loss 1903.2480\n"
     ]
    }
   ],
   "source": [
    "training_loop(\n",
    "    n_epochs=5000,\n",
    "    optimizer=optimizer,\n",
    "    model=seq_model_autos,\n",
    "    loss_fn=RMSELoss(),\n",
    "    X_train=X_train.float(),\n",
    "    X_val=X_val.float(),\n",
    "    y_train=y_train.float(),\n",
    "    y_val=y_val.float()\n",
    ")"
   ]
  },
  {
   "cell_type": "code",
   "execution_count": 200,
   "id": "a66f2def",
   "metadata": {},
   "outputs": [],
   "source": [
    "torch.save(seq_model_autos.state_dict(), 'vehicle_cost.pt')"
   ]
  },
  {
   "cell_type": "code",
   "execution_count": 201,
   "id": "16fe1c40-2fe8-4ee6-b1c4-23d77f57a09d",
   "metadata": {},
   "outputs": [],
   "source": [
    "model = torch.load('vehicle_cost.pt', weights_only=True)"
   ]
  },
  {
   "cell_type": "code",
   "execution_count": 209,
   "id": "5094eeaa-33d9-4847-9e5f-539fdf782ccf",
   "metadata": {},
   "outputs": [
    {
     "name": "stdout",
     "output_type": "stream",
     "text": [
      "0.weight torch.Size([500, 262])\n",
      "0.bias torch.Size([500])\n",
      "2.weight torch.Size([500, 500])\n",
      "2.bias torch.Size([500])\n",
      "3.weight torch.Size([500])\n",
      "3.bias torch.Size([500])\n",
      "3.running_mean torch.Size([500])\n",
      "3.running_var torch.Size([500])\n",
      "3.num_batches_tracked torch.Size([])\n",
      "5.weight torch.Size([1, 500])\n",
      "5.bias torch.Size([1])\n"
     ]
    }
   ],
   "source": [
    "for layer_name, weights in model.items():\n",
    "    print(layer_name, weights.shape)"
   ]
  },
  {
   "cell_type": "code",
   "execution_count": null,
   "id": "7e33c6d8-be5d-4ba7-a101-e6f02a64f04f",
   "metadata": {},
   "outputs": [],
   "source": []
  }
 ],
 "metadata": {
  "kernelspec": {
   "display_name": "Python 3 (ipykernel)",
   "language": "python",
   "name": "python3"
  },
  "language_info": {
   "codemirror_mode": {
    "name": "ipython",
    "version": 3
   },
   "file_extension": ".py",
   "mimetype": "text/x-python",
   "name": "python",
   "nbconvert_exporter": "python",
   "pygments_lexer": "ipython3",
   "version": "3.12.2"
  },
  "toc": {
   "base_numbering": 1,
   "nav_menu": {},
   "number_sections": true,
   "sideBar": true,
   "skip_h1_title": true,
   "title_cell": "Table of Contents",
   "title_sidebar": "Contents",
   "toc_cell": true,
   "toc_position": {},
   "toc_section_display": true,
   "toc_window_display": false
  },
  "varInspector": {
   "cols": {
    "lenName": 16,
    "lenType": 16,
    "lenVar": 40
   },
   "kernels_config": {
    "python": {
     "delete_cmd_postfix": "",
     "delete_cmd_prefix": "del ",
     "library": "var_list.py",
     "varRefreshCmd": "print(var_dic_list())"
    },
    "r": {
     "delete_cmd_postfix": ") ",
     "delete_cmd_prefix": "rm(",
     "library": "var_list.r",
     "varRefreshCmd": "cat(var_dic_list()) "
    }
   },
   "types_to_exclude": [
    "module",
    "function",
    "builtin_function_or_method",
    "instance",
    "_Feature"
   ],
   "window_display": false
  }
 },
 "nbformat": 4,
 "nbformat_minor": 5
}
