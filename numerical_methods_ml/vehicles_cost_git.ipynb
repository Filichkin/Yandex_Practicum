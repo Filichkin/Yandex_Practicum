{
 "cells": [
  {
   "cell_type": "markdown",
   "id": "11606a91",
   "metadata": {
    "toc": true
   },
   "source": [
    "<h1>Проект: Определение стоимости автомобилей<span class=\"tocSkip\"></span></h1>\n",
    "<div class=\"toc\"><ul class=\"toc-item\"><li><span><a href=\"#Описание-данных\" data-toc-modified-id=\"Описание-данных-1\"><span class=\"toc-item-num\">1&nbsp;&nbsp;</span>Описание данных</a></span></li><li><span><a href=\"#Загрузка-данных\" data-toc-modified-id=\"Загрузка-данных-2\"><span class=\"toc-item-num\">2&nbsp;&nbsp;</span>Загрузка данных</a></span><ul class=\"toc-item\"><li><span><a href=\"#Вывод-по-загрузке-данных\" data-toc-modified-id=\"Вывод-по-загрузке-данных-2.1\"><span class=\"toc-item-num\">2.1&nbsp;&nbsp;</span>Вывод по загрузке данных</a></span></li></ul></li><li><span><a href=\"#Предобработка-данных\" data-toc-modified-id=\"Предобработка-данных-3\"><span class=\"toc-item-num\">3&nbsp;&nbsp;</span>Предобработка данных</a></span><ul class=\"toc-item\"><li><span><a href=\"#Переменование-и-преобразование-названий-колонок\" data-toc-modified-id=\"Переменование-и-преобразование-названий-колонок-3.1\"><span class=\"toc-item-num\">3.1&nbsp;&nbsp;</span>Переменование и преобразование названий колонок</a></span></li><li><span><a href=\"#Поиск-и-обработка-дубликатов\" data-toc-modified-id=\"Поиск-и-обработка-дубликатов-3.2\"><span class=\"toc-item-num\">3.2&nbsp;&nbsp;</span>Поиск и обработка дубликатов</a></span></li><li><span><a href=\"#Поиск-и-обработка-дубликатов\" data-toc-modified-id=\"Поиск-и-обработка-дубликатов-3.3\"><span class=\"toc-item-num\">3.3&nbsp;&nbsp;</span>Поиск и обработка дубликатов</a></span></li><li><span><a href=\"#Вывод-по-предобработке-данных\" data-toc-modified-id=\"Вывод-по-предобработке-данных-3.4\"><span class=\"toc-item-num\">3.4&nbsp;&nbsp;</span>Вывод по предобработке данных</a></span></li></ul></li><li><span><a href=\"#Исследовательский-анализ-данных\" data-toc-modified-id=\"Исследовательский-анализ-данных-4\"><span class=\"toc-item-num\">4&nbsp;&nbsp;</span>Исследовательский анализ данных</a></span><ul class=\"toc-item\"><li><span><a href=\"#Числовые-признаки\" data-toc-modified-id=\"Числовые-признаки-4.1\"><span class=\"toc-item-num\">4.1&nbsp;&nbsp;</span>Числовые признаки</a></span><ul class=\"toc-item\"><li><span><a href=\"#Обработка-аномальных-значений\" data-toc-modified-id=\"Обработка-аномальных-значений-4.1.1\"><span class=\"toc-item-num\">4.1.1&nbsp;&nbsp;</span>Обработка аномальных значений</a></span></li></ul></li><li><span><a href=\"#Категоральные-признаки\" data-toc-modified-id=\"Категоральные-признаки-4.2\"><span class=\"toc-item-num\">4.2&nbsp;&nbsp;</span>Категоральные признаки</a></span></li><li><span><a href=\"#Вывод-по-исследовательскому-анализу-данных\" data-toc-modified-id=\"Вывод-по-исследовательскому-анализу-данных-4.3\"><span class=\"toc-item-num\">4.3&nbsp;&nbsp;</span>Вывод по исследовательскому анализу данных</a></span></li></ul></li><li><span><a href=\"#Корреляционный-анализ\" data-toc-modified-id=\"Корреляционный-анализ-5\"><span class=\"toc-item-num\">5&nbsp;&nbsp;</span>Корреляционный анализ</a></span><ul class=\"toc-item\"><li><span><a href=\"#Вывод-по-корреляционному-анализу\" data-toc-modified-id=\"Вывод-по-корреляционному-анализу-5.1\"><span class=\"toc-item-num\">5.1&nbsp;&nbsp;</span>Вывод по корреляционному анализу</a></span></li></ul></li><li><span><a href=\"#Подготовка-и-обучение-моделей\" data-toc-modified-id=\"Подготовка-и-обучение-моделей-6\"><span class=\"toc-item-num\">6&nbsp;&nbsp;</span>Подготовка и обучение моделей</a></span><ul class=\"toc-item\"><li><span><a href=\"#Подготовка-данных\" data-toc-modified-id=\"Подготовка-данных-6.1\"><span class=\"toc-item-num\">6.1&nbsp;&nbsp;</span>Подготовка данных</a></span></li><li><span><a href=\"#Обучение-линейных-моделей\" data-toc-modified-id=\"Обучение-линейных-моделей-6.2\"><span class=\"toc-item-num\">6.2&nbsp;&nbsp;</span>Обучение линейных моделей</a></span></li><li><span><a href=\"#Модель-LightGBM\" data-toc-modified-id=\"Модель-LightGBM-6.3\"><span class=\"toc-item-num\">6.3&nbsp;&nbsp;</span>Модель LightGBM</a></span></li><li><span><a href=\"#Модель-CatBoost\" data-toc-modified-id=\"Модель-CatBoost-6.4\"><span class=\"toc-item-num\">6.4&nbsp;&nbsp;</span>Модель CatBoost</a></span></li></ul></li><li><span><a href=\"#Время-обучения-и-предсказания-каждой-из-моделей\" data-toc-modified-id=\"Время-обучения-и-предсказания-каждой-из-моделей-7\"><span class=\"toc-item-num\">7&nbsp;&nbsp;</span>Время обучения и предсказания каждой из моделей</a></span><ul class=\"toc-item\"><li><span><a href=\"#Вывод-по-анализу-моделей\" data-toc-modified-id=\"Вывод-по-анализу-моделей-7.1\"><span class=\"toc-item-num\">7.1&nbsp;&nbsp;</span>Вывод по анализу моделей</a></span></li></ul></li><li><span><a href=\"#Общий-вывод\" data-toc-modified-id=\"Общий-вывод-8\"><span class=\"toc-item-num\">8&nbsp;&nbsp;</span>Общий вывод</a></span></li><li><span><a href=\"#Рекомендации-заказчику\" data-toc-modified-id=\"Рекомендации-заказчику-9\"><span class=\"toc-item-num\">9&nbsp;&nbsp;</span>Рекомендации заказчику</a></span></li></ul></div>"
   ]
  },
  {
   "cell_type": "markdown",
   "id": "a8b7b1fa",
   "metadata": {},
   "source": [
    "# Описание проекта"
   ]
  },
  {
   "cell_type": "markdown",
   "id": "2e4594e3",
   "metadata": {},
   "source": [
    "Сервис по продаже автомобилей с пробегом «Не бит, не крашен» разрабатывает приложение, чтобы привлечь новых клиентов. В нём можно будет узнать рыночную стоимость своего автомобиля. \n",
    "\n",
    "Постройте модель, которая умеет её определять. В вашем распоряжении данные о технических характеристиках, комплектации и ценах других автомобилей.\n",
    "\n",
    "Критерии, которые важны заказчику:\n",
    "- качество предсказания;\n",
    "- время обучения модели;\n",
    "- время предсказания модели."
   ]
  },
  {
   "cell_type": "markdown",
   "id": "35e563ee",
   "metadata": {},
   "source": [
    "## Описание данных "
   ]
  },
  {
   "cell_type": "markdown",
   "id": "4df5d153",
   "metadata": {},
   "source": [
    "**Признаки**\n",
    "\n",
    "- DateCrawled — дата скачивания анкеты из базы\n",
    "\n",
    "- VehicleType — тип автомобильного кузова\n",
    "\n",
    "- RegistrationYear — год регистрации автомобиля\n",
    "\n",
    "- Gearbox — тип коробки передач\n",
    "\n",
    "- Power — мощность (л. с.)\n",
    "\n",
    "- Model — модель автомобиля\n",
    "\n",
    "- Kilometer — пробег (км)\n",
    "\n",
    "- RegistrationMonth — месяц регистрации автомобиля\n",
    "\n",
    "- FuelType — тип топлива\n",
    "\n",
    "- Brand — марка автомобиля\n",
    "\n",
    "- Repaired — была машина в ремонте или нет\n",
    "\n",
    "- DateCreated — дата создания анкеты\n",
    "\n",
    "- NumberOfPictures — количество фотографий автомобиля\n",
    "\n",
    "- PostalCode — почтовый индекс владельца анкеты (пользователя)\n",
    "\n",
    "- LastSeen — дата последней активности пользователя\n",
    "\n",
    "**Целевой признак**\n",
    "\n",
    "Price — цена (евро)"
   ]
  },
  {
   "cell_type": "markdown",
   "id": "da34c951",
   "metadata": {},
   "source": [
    "## Загрузка данных"
   ]
  },
  {
   "cell_type": "code",
   "execution_count": 1,
   "id": "ac4c1867",
   "metadata": {},
   "outputs": [],
   "source": [
    "import sklearn\n",
    "import numpy as np\n",
    "import pandas as pd\n",
    "import seaborn as sns\n",
    "import matplotlib.pyplot as plt\n",
    "import math\n",
    "import warnings\n",
    "warnings.simplefilter(\"ignore\")\n",
    "import xgboost\n",
    "import catboost\n",
    "import lightgbm\n",
    "\n",
    "\n",
    "from sklearn.ensemble import RandomForestRegressor, GradientBoostingRegressor\n",
    "from sklearn.model_selection import train_test_split, RandomizedSearchCV\n",
    "from sklearn.pipeline import Pipeline\n",
    "\n",
    "from sklearn.preprocessing import (\n",
    "    OneHotEncoder,\n",
    "    OrdinalEncoder,\n",
    "    StandardScaler,\n",
    "    MinMaxScaler,\n",
    "    RobustScaler,\n",
    "    LabelEncoder\n",
    ")\n",
    "from sklearn.compose import ColumnTransformer\n",
    "from sklearn.impute import SimpleImputer\n",
    "\n",
    "from sklearn.tree import DecisionTreeRegressor\n",
    "from sklearn.svm import SVR\n",
    "from sklearn.linear_model import (\n",
    "    LogisticRegression,\n",
    "    LinearRegression,\n",
    "    Lasso,\n",
    "    Ridge\n",
    ")\n",
    "from lightgbm import LGBMRegressor\n",
    "from catboost import CatBoostRegressor, Pool\n",
    "\n",
    "from sklearn.metrics import (\n",
    "    make_scorer,\n",
    "    mean_squared_error,\n",
    "    mean_absolute_error\n",
    ")\n",
    "\n",
    "from time import time\n",
    "\n",
    "try:\n",
    "    import phik\n",
    "except:\n",
    "    !pip install phik\n",
    "\n",
    "    \n",
    "import phik\n",
    "from phik import phik_matrix\n",
    "from phik.report import plot_correlation_matrix"
   ]
  },
  {
   "cell_type": "code",
   "execution_count": 2,
   "id": "0b1c22dd",
   "metadata": {},
   "outputs": [
    {
     "name": "stdout",
     "output_type": "stream",
     "text": [
      "1.1.3\n",
      "2.0.1\n",
      "0.12.4\n",
      "0.12.2\n"
     ]
    }
   ],
   "source": [
    "print(sklearn.__version__)\n",
    "print(pd.__version__)\n",
    "print(phik.__version__)\n",
    "print(sns.__version__)"
   ]
  },
  {
   "cell_type": "code",
   "execution_count": 3,
   "id": "6a99b4d9",
   "metadata": {},
   "outputs": [],
   "source": [
    "RANDOM_STATE = 42\n",
    "TEST_SIZE = 0.25"
   ]
  },
  {
   "cell_type": "code",
   "execution_count": 4,
   "id": "979cf0f5",
   "metadata": {},
   "outputs": [],
   "source": [
    "file_local = '/Users/alexfil/Desktop/Practicum/Проекты/Boosting/autos.csv'\n",
    "file_ya = 'https://code.s3.yandex.net/datasets/autos.csv'"
   ]
  },
  {
   "cell_type": "code",
   "execution_count": 5,
   "id": "518de0fe",
   "metadata": {},
   "outputs": [],
   "source": [
    "try:\n",
    "    autos = pd.read_csv(file_local, decimal='.', sep=',') \n",
    "except:\n",
    "    autos = pd.read_csv(file_ya, decimal='.', sep=',')"
   ]
  },
  {
   "cell_type": "code",
   "execution_count": 6,
   "id": "05c7d53a",
   "metadata": {},
   "outputs": [
    {
     "data": {
      "text/html": [
       "<div>\n",
       "<style scoped>\n",
       "    .dataframe tbody tr th:only-of-type {\n",
       "        vertical-align: middle;\n",
       "    }\n",
       "\n",
       "    .dataframe tbody tr th {\n",
       "        vertical-align: top;\n",
       "    }\n",
       "\n",
       "    .dataframe thead th {\n",
       "        text-align: right;\n",
       "    }\n",
       "</style>\n",
       "<table border=\"1\" class=\"dataframe\">\n",
       "  <thead>\n",
       "    <tr style=\"text-align: right;\">\n",
       "      <th></th>\n",
       "      <th>DateCrawled</th>\n",
       "      <th>Price</th>\n",
       "      <th>VehicleType</th>\n",
       "      <th>RegistrationYear</th>\n",
       "      <th>Gearbox</th>\n",
       "      <th>Power</th>\n",
       "      <th>Model</th>\n",
       "      <th>Kilometer</th>\n",
       "      <th>RegistrationMonth</th>\n",
       "      <th>FuelType</th>\n",
       "      <th>Brand</th>\n",
       "      <th>Repaired</th>\n",
       "      <th>DateCreated</th>\n",
       "      <th>NumberOfPictures</th>\n",
       "      <th>PostalCode</th>\n",
       "      <th>LastSeen</th>\n",
       "    </tr>\n",
       "  </thead>\n",
       "  <tbody>\n",
       "    <tr>\n",
       "      <th>0</th>\n",
       "      <td>2016-03-24 11:52:17</td>\n",
       "      <td>480</td>\n",
       "      <td>NaN</td>\n",
       "      <td>1993</td>\n",
       "      <td>manual</td>\n",
       "      <td>0</td>\n",
       "      <td>golf</td>\n",
       "      <td>150000</td>\n",
       "      <td>0</td>\n",
       "      <td>petrol</td>\n",
       "      <td>volkswagen</td>\n",
       "      <td>NaN</td>\n",
       "      <td>2016-03-24 00:00:00</td>\n",
       "      <td>0</td>\n",
       "      <td>70435</td>\n",
       "      <td>2016-04-07 03:16:57</td>\n",
       "    </tr>\n",
       "    <tr>\n",
       "      <th>1</th>\n",
       "      <td>2016-03-24 10:58:45</td>\n",
       "      <td>18300</td>\n",
       "      <td>coupe</td>\n",
       "      <td>2011</td>\n",
       "      <td>manual</td>\n",
       "      <td>190</td>\n",
       "      <td>NaN</td>\n",
       "      <td>125000</td>\n",
       "      <td>5</td>\n",
       "      <td>gasoline</td>\n",
       "      <td>audi</td>\n",
       "      <td>yes</td>\n",
       "      <td>2016-03-24 00:00:00</td>\n",
       "      <td>0</td>\n",
       "      <td>66954</td>\n",
       "      <td>2016-04-07 01:46:50</td>\n",
       "    </tr>\n",
       "    <tr>\n",
       "      <th>2</th>\n",
       "      <td>2016-03-14 12:52:21</td>\n",
       "      <td>9800</td>\n",
       "      <td>suv</td>\n",
       "      <td>2004</td>\n",
       "      <td>auto</td>\n",
       "      <td>163</td>\n",
       "      <td>grand</td>\n",
       "      <td>125000</td>\n",
       "      <td>8</td>\n",
       "      <td>gasoline</td>\n",
       "      <td>jeep</td>\n",
       "      <td>NaN</td>\n",
       "      <td>2016-03-14 00:00:00</td>\n",
       "      <td>0</td>\n",
       "      <td>90480</td>\n",
       "      <td>2016-04-05 12:47:46</td>\n",
       "    </tr>\n",
       "    <tr>\n",
       "      <th>3</th>\n",
       "      <td>2016-03-17 16:54:04</td>\n",
       "      <td>1500</td>\n",
       "      <td>small</td>\n",
       "      <td>2001</td>\n",
       "      <td>manual</td>\n",
       "      <td>75</td>\n",
       "      <td>golf</td>\n",
       "      <td>150000</td>\n",
       "      <td>6</td>\n",
       "      <td>petrol</td>\n",
       "      <td>volkswagen</td>\n",
       "      <td>no</td>\n",
       "      <td>2016-03-17 00:00:00</td>\n",
       "      <td>0</td>\n",
       "      <td>91074</td>\n",
       "      <td>2016-03-17 17:40:17</td>\n",
       "    </tr>\n",
       "    <tr>\n",
       "      <th>4</th>\n",
       "      <td>2016-03-31 17:25:20</td>\n",
       "      <td>3600</td>\n",
       "      <td>small</td>\n",
       "      <td>2008</td>\n",
       "      <td>manual</td>\n",
       "      <td>69</td>\n",
       "      <td>fabia</td>\n",
       "      <td>90000</td>\n",
       "      <td>7</td>\n",
       "      <td>gasoline</td>\n",
       "      <td>skoda</td>\n",
       "      <td>no</td>\n",
       "      <td>2016-03-31 00:00:00</td>\n",
       "      <td>0</td>\n",
       "      <td>60437</td>\n",
       "      <td>2016-04-06 10:17:21</td>\n",
       "    </tr>\n",
       "  </tbody>\n",
       "</table>\n",
       "</div>"
      ],
      "text/plain": [
       "           DateCrawled  Price VehicleType  RegistrationYear Gearbox  Power   \n",
       "0  2016-03-24 11:52:17    480         NaN              1993  manual      0  \\\n",
       "1  2016-03-24 10:58:45  18300       coupe              2011  manual    190   \n",
       "2  2016-03-14 12:52:21   9800         suv              2004    auto    163   \n",
       "3  2016-03-17 16:54:04   1500       small              2001  manual     75   \n",
       "4  2016-03-31 17:25:20   3600       small              2008  manual     69   \n",
       "\n",
       "   Model  Kilometer  RegistrationMonth  FuelType       Brand Repaired   \n",
       "0   golf     150000                  0    petrol  volkswagen      NaN  \\\n",
       "1    NaN     125000                  5  gasoline        audi      yes   \n",
       "2  grand     125000                  8  gasoline        jeep      NaN   \n",
       "3   golf     150000                  6    petrol  volkswagen       no   \n",
       "4  fabia      90000                  7  gasoline       skoda       no   \n",
       "\n",
       "           DateCreated  NumberOfPictures  PostalCode             LastSeen  \n",
       "0  2016-03-24 00:00:00                 0       70435  2016-04-07 03:16:57  \n",
       "1  2016-03-24 00:00:00                 0       66954  2016-04-07 01:46:50  \n",
       "2  2016-03-14 00:00:00                 0       90480  2016-04-05 12:47:46  \n",
       "3  2016-03-17 00:00:00                 0       91074  2016-03-17 17:40:17  \n",
       "4  2016-03-31 00:00:00                 0       60437  2016-04-06 10:17:21  "
      ]
     },
     "metadata": {},
     "output_type": "display_data"
    },
    {
     "data": {
      "text/plain": [
       "(354369, 16)"
      ]
     },
     "metadata": {},
     "output_type": "display_data"
    }
   ],
   "source": [
    "display(autos.head(5), autos.shape)"
   ]
  },
  {
   "cell_type": "code",
   "execution_count": 7,
   "id": "717f2bd8",
   "metadata": {},
   "outputs": [],
   "source": [
    "first_shape = autos.shape[0]"
   ]
  },
  {
   "cell_type": "markdown",
   "id": "9933deff",
   "metadata": {},
   "source": [
    "### Вывод по загрузке данных\n",
    "\n",
    "1. Загружен датафрейм размерностью 354,369 строк и 16 колонок\n",
    "2. При загрузке использованн разделитель значений — запятая, а разделитель десятичных значений — точка  "
   ]
  },
  {
   "cell_type": "markdown",
   "id": "fd48fe95",
   "metadata": {},
   "source": [
    "## Предобработка данных"
   ]
  },
  {
   "cell_type": "markdown",
   "id": "20cc2277",
   "metadata": {},
   "source": [
    "### Переменование и преобразование названий колонок"
   ]
  },
  {
   "cell_type": "code",
   "execution_count": 8,
   "id": "023293f5",
   "metadata": {},
   "outputs": [],
   "source": [
    "autos.columns = [c.lower() for c in autos.columns]\n",
    "autos.rename(columns = {'datecrawled':'date_crawled',\n",
    "                        'vehicletype':'vehicle_type',\n",
    "                        'registrationyear': 'registration_year',\n",
    "                        'registrationmonth': 'registration_month',\n",
    "                        'fueltype': 'fuel_type',\n",
    "                        'datecreated': 'date_created',\n",
    "                        'numberofpictures': 'number_of_pictures',\n",
    "                        'postalcode': 'postal_code',\n",
    "                        'lastseen': 'last_seen'\n",
    "                        }, inplace = True\n",
    "            )"
   ]
  },
  {
   "cell_type": "code",
   "execution_count": 9,
   "id": "117f1065",
   "metadata": {},
   "outputs": [
    {
     "data": {
      "text/html": [
       "<div>\n",
       "<style scoped>\n",
       "    .dataframe tbody tr th:only-of-type {\n",
       "        vertical-align: middle;\n",
       "    }\n",
       "\n",
       "    .dataframe tbody tr th {\n",
       "        vertical-align: top;\n",
       "    }\n",
       "\n",
       "    .dataframe thead th {\n",
       "        text-align: right;\n",
       "    }\n",
       "</style>\n",
       "<table border=\"1\" class=\"dataframe\">\n",
       "  <thead>\n",
       "    <tr style=\"text-align: right;\">\n",
       "      <th></th>\n",
       "      <th>date_crawled</th>\n",
       "      <th>price</th>\n",
       "      <th>vehicle_type</th>\n",
       "      <th>registration_year</th>\n",
       "      <th>gearbox</th>\n",
       "      <th>power</th>\n",
       "      <th>model</th>\n",
       "      <th>kilometer</th>\n",
       "      <th>registration_month</th>\n",
       "      <th>fuel_type</th>\n",
       "      <th>brand</th>\n",
       "      <th>repaired</th>\n",
       "      <th>date_created</th>\n",
       "      <th>number_of_pictures</th>\n",
       "      <th>postal_code</th>\n",
       "      <th>last_seen</th>\n",
       "    </tr>\n",
       "  </thead>\n",
       "  <tbody>\n",
       "    <tr>\n",
       "      <th>0</th>\n",
       "      <td>2016-03-24 11:52:17</td>\n",
       "      <td>480</td>\n",
       "      <td>NaN</td>\n",
       "      <td>1993</td>\n",
       "      <td>manual</td>\n",
       "      <td>0</td>\n",
       "      <td>golf</td>\n",
       "      <td>150000</td>\n",
       "      <td>0</td>\n",
       "      <td>petrol</td>\n",
       "      <td>volkswagen</td>\n",
       "      <td>NaN</td>\n",
       "      <td>2016-03-24 00:00:00</td>\n",
       "      <td>0</td>\n",
       "      <td>70435</td>\n",
       "      <td>2016-04-07 03:16:57</td>\n",
       "    </tr>\n",
       "    <tr>\n",
       "      <th>1</th>\n",
       "      <td>2016-03-24 10:58:45</td>\n",
       "      <td>18300</td>\n",
       "      <td>coupe</td>\n",
       "      <td>2011</td>\n",
       "      <td>manual</td>\n",
       "      <td>190</td>\n",
       "      <td>NaN</td>\n",
       "      <td>125000</td>\n",
       "      <td>5</td>\n",
       "      <td>gasoline</td>\n",
       "      <td>audi</td>\n",
       "      <td>yes</td>\n",
       "      <td>2016-03-24 00:00:00</td>\n",
       "      <td>0</td>\n",
       "      <td>66954</td>\n",
       "      <td>2016-04-07 01:46:50</td>\n",
       "    </tr>\n",
       "    <tr>\n",
       "      <th>2</th>\n",
       "      <td>2016-03-14 12:52:21</td>\n",
       "      <td>9800</td>\n",
       "      <td>suv</td>\n",
       "      <td>2004</td>\n",
       "      <td>auto</td>\n",
       "      <td>163</td>\n",
       "      <td>grand</td>\n",
       "      <td>125000</td>\n",
       "      <td>8</td>\n",
       "      <td>gasoline</td>\n",
       "      <td>jeep</td>\n",
       "      <td>NaN</td>\n",
       "      <td>2016-03-14 00:00:00</td>\n",
       "      <td>0</td>\n",
       "      <td>90480</td>\n",
       "      <td>2016-04-05 12:47:46</td>\n",
       "    </tr>\n",
       "    <tr>\n",
       "      <th>3</th>\n",
       "      <td>2016-03-17 16:54:04</td>\n",
       "      <td>1500</td>\n",
       "      <td>small</td>\n",
       "      <td>2001</td>\n",
       "      <td>manual</td>\n",
       "      <td>75</td>\n",
       "      <td>golf</td>\n",
       "      <td>150000</td>\n",
       "      <td>6</td>\n",
       "      <td>petrol</td>\n",
       "      <td>volkswagen</td>\n",
       "      <td>no</td>\n",
       "      <td>2016-03-17 00:00:00</td>\n",
       "      <td>0</td>\n",
       "      <td>91074</td>\n",
       "      <td>2016-03-17 17:40:17</td>\n",
       "    </tr>\n",
       "    <tr>\n",
       "      <th>4</th>\n",
       "      <td>2016-03-31 17:25:20</td>\n",
       "      <td>3600</td>\n",
       "      <td>small</td>\n",
       "      <td>2008</td>\n",
       "      <td>manual</td>\n",
       "      <td>69</td>\n",
       "      <td>fabia</td>\n",
       "      <td>90000</td>\n",
       "      <td>7</td>\n",
       "      <td>gasoline</td>\n",
       "      <td>skoda</td>\n",
       "      <td>no</td>\n",
       "      <td>2016-03-31 00:00:00</td>\n",
       "      <td>0</td>\n",
       "      <td>60437</td>\n",
       "      <td>2016-04-06 10:17:21</td>\n",
       "    </tr>\n",
       "  </tbody>\n",
       "</table>\n",
       "</div>"
      ],
      "text/plain": [
       "          date_crawled  price vehicle_type  registration_year gearbox  power   \n",
       "0  2016-03-24 11:52:17    480          NaN               1993  manual      0  \\\n",
       "1  2016-03-24 10:58:45  18300        coupe               2011  manual    190   \n",
       "2  2016-03-14 12:52:21   9800          suv               2004    auto    163   \n",
       "3  2016-03-17 16:54:04   1500        small               2001  manual     75   \n",
       "4  2016-03-31 17:25:20   3600        small               2008  manual     69   \n",
       "\n",
       "   model  kilometer  registration_month fuel_type       brand repaired   \n",
       "0   golf     150000                   0    petrol  volkswagen      NaN  \\\n",
       "1    NaN     125000                   5  gasoline        audi      yes   \n",
       "2  grand     125000                   8  gasoline        jeep      NaN   \n",
       "3   golf     150000                   6    petrol  volkswagen       no   \n",
       "4  fabia      90000                   7  gasoline       skoda       no   \n",
       "\n",
       "          date_created  number_of_pictures  postal_code            last_seen  \n",
       "0  2016-03-24 00:00:00                   0        70435  2016-04-07 03:16:57  \n",
       "1  2016-03-24 00:00:00                   0        66954  2016-04-07 01:46:50  \n",
       "2  2016-03-14 00:00:00                   0        90480  2016-04-05 12:47:46  \n",
       "3  2016-03-17 00:00:00                   0        91074  2016-03-17 17:40:17  \n",
       "4  2016-03-31 00:00:00                   0        60437  2016-04-06 10:17:21  "
      ]
     },
     "execution_count": 9,
     "metadata": {},
     "output_type": "execute_result"
    }
   ],
   "source": [
    "autos.head(5)"
   ]
  },
  {
   "cell_type": "code",
   "execution_count": 10,
   "id": "374c1c14",
   "metadata": {},
   "outputs": [
    {
     "name": "stdout",
     "output_type": "stream",
     "text": [
      "<class 'pandas.core.frame.DataFrame'>\n",
      "RangeIndex: 354369 entries, 0 to 354368\n",
      "Data columns (total 16 columns):\n",
      " #   Column              Non-Null Count   Dtype \n",
      "---  ------              --------------   ----- \n",
      " 0   date_crawled        354369 non-null  object\n",
      " 1   price               354369 non-null  int64 \n",
      " 2   vehicle_type        316879 non-null  object\n",
      " 3   registration_year   354369 non-null  int64 \n",
      " 4   gearbox             334536 non-null  object\n",
      " 5   power               354369 non-null  int64 \n",
      " 6   model               334664 non-null  object\n",
      " 7   kilometer           354369 non-null  int64 \n",
      " 8   registration_month  354369 non-null  int64 \n",
      " 9   fuel_type           321474 non-null  object\n",
      " 10  brand               354369 non-null  object\n",
      " 11  repaired            283215 non-null  object\n",
      " 12  date_created        354369 non-null  object\n",
      " 13  number_of_pictures  354369 non-null  int64 \n",
      " 14  postal_code         354369 non-null  int64 \n",
      " 15  last_seen           354369 non-null  object\n",
      "dtypes: int64(7), object(9)\n",
      "memory usage: 43.3+ MB\n"
     ]
    }
   ],
   "source": [
    "autos.info()"
   ]
  },
  {
   "cell_type": "markdown",
   "id": "c92bcb86",
   "metadata": {},
   "source": [
    "Преобразуем колонки с датой в короткий формат datetime:"
   ]
  },
  {
   "cell_type": "code",
   "execution_count": 11,
   "id": "0f1877e8",
   "metadata": {},
   "outputs": [],
   "source": [
    "autos['date_crawled']= pd.to_datetime(autos['date_crawled'], format='%Y-%m-%d %H:%M:%S').dt.normalize()\n",
    "autos['date_created']= pd.to_datetime(autos['date_created'], format='%Y-%m-%d %H:%M:%S').dt.normalize()\n",
    "autos['last_seen']= pd.to_datetime(autos['last_seen'], format='%Y-%m-%d %H:%M:%S').dt.normalize()"
   ]
  },
  {
   "cell_type": "code",
   "execution_count": 12,
   "id": "7bca092d",
   "metadata": {},
   "outputs": [
    {
     "data": {
      "text/html": [
       "<div>\n",
       "<style scoped>\n",
       "    .dataframe tbody tr th:only-of-type {\n",
       "        vertical-align: middle;\n",
       "    }\n",
       "\n",
       "    .dataframe tbody tr th {\n",
       "        vertical-align: top;\n",
       "    }\n",
       "\n",
       "    .dataframe thead th {\n",
       "        text-align: right;\n",
       "    }\n",
       "</style>\n",
       "<table border=\"1\" class=\"dataframe\">\n",
       "  <thead>\n",
       "    <tr style=\"text-align: right;\">\n",
       "      <th></th>\n",
       "      <th>date_crawled</th>\n",
       "      <th>price</th>\n",
       "      <th>vehicle_type</th>\n",
       "      <th>registration_year</th>\n",
       "      <th>gearbox</th>\n",
       "      <th>power</th>\n",
       "      <th>model</th>\n",
       "      <th>kilometer</th>\n",
       "      <th>registration_month</th>\n",
       "      <th>fuel_type</th>\n",
       "      <th>brand</th>\n",
       "      <th>repaired</th>\n",
       "      <th>date_created</th>\n",
       "      <th>number_of_pictures</th>\n",
       "      <th>postal_code</th>\n",
       "      <th>last_seen</th>\n",
       "    </tr>\n",
       "  </thead>\n",
       "  <tbody>\n",
       "    <tr>\n",
       "      <th>0</th>\n",
       "      <td>2016-03-24</td>\n",
       "      <td>480</td>\n",
       "      <td>NaN</td>\n",
       "      <td>1993</td>\n",
       "      <td>manual</td>\n",
       "      <td>0</td>\n",
       "      <td>golf</td>\n",
       "      <td>150000</td>\n",
       "      <td>0</td>\n",
       "      <td>petrol</td>\n",
       "      <td>volkswagen</td>\n",
       "      <td>NaN</td>\n",
       "      <td>2016-03-24</td>\n",
       "      <td>0</td>\n",
       "      <td>70435</td>\n",
       "      <td>2016-04-07</td>\n",
       "    </tr>\n",
       "    <tr>\n",
       "      <th>1</th>\n",
       "      <td>2016-03-24</td>\n",
       "      <td>18300</td>\n",
       "      <td>coupe</td>\n",
       "      <td>2011</td>\n",
       "      <td>manual</td>\n",
       "      <td>190</td>\n",
       "      <td>NaN</td>\n",
       "      <td>125000</td>\n",
       "      <td>5</td>\n",
       "      <td>gasoline</td>\n",
       "      <td>audi</td>\n",
       "      <td>yes</td>\n",
       "      <td>2016-03-24</td>\n",
       "      <td>0</td>\n",
       "      <td>66954</td>\n",
       "      <td>2016-04-07</td>\n",
       "    </tr>\n",
       "    <tr>\n",
       "      <th>2</th>\n",
       "      <td>2016-03-14</td>\n",
       "      <td>9800</td>\n",
       "      <td>suv</td>\n",
       "      <td>2004</td>\n",
       "      <td>auto</td>\n",
       "      <td>163</td>\n",
       "      <td>grand</td>\n",
       "      <td>125000</td>\n",
       "      <td>8</td>\n",
       "      <td>gasoline</td>\n",
       "      <td>jeep</td>\n",
       "      <td>NaN</td>\n",
       "      <td>2016-03-14</td>\n",
       "      <td>0</td>\n",
       "      <td>90480</td>\n",
       "      <td>2016-04-05</td>\n",
       "    </tr>\n",
       "    <tr>\n",
       "      <th>3</th>\n",
       "      <td>2016-03-17</td>\n",
       "      <td>1500</td>\n",
       "      <td>small</td>\n",
       "      <td>2001</td>\n",
       "      <td>manual</td>\n",
       "      <td>75</td>\n",
       "      <td>golf</td>\n",
       "      <td>150000</td>\n",
       "      <td>6</td>\n",
       "      <td>petrol</td>\n",
       "      <td>volkswagen</td>\n",
       "      <td>no</td>\n",
       "      <td>2016-03-17</td>\n",
       "      <td>0</td>\n",
       "      <td>91074</td>\n",
       "      <td>2016-03-17</td>\n",
       "    </tr>\n",
       "    <tr>\n",
       "      <th>4</th>\n",
       "      <td>2016-03-31</td>\n",
       "      <td>3600</td>\n",
       "      <td>small</td>\n",
       "      <td>2008</td>\n",
       "      <td>manual</td>\n",
       "      <td>69</td>\n",
       "      <td>fabia</td>\n",
       "      <td>90000</td>\n",
       "      <td>7</td>\n",
       "      <td>gasoline</td>\n",
       "      <td>skoda</td>\n",
       "      <td>no</td>\n",
       "      <td>2016-03-31</td>\n",
       "      <td>0</td>\n",
       "      <td>60437</td>\n",
       "      <td>2016-04-06</td>\n",
       "    </tr>\n",
       "  </tbody>\n",
       "</table>\n",
       "</div>"
      ],
      "text/plain": [
       "  date_crawled  price vehicle_type  registration_year gearbox  power  model   \n",
       "0   2016-03-24    480          NaN               1993  manual      0   golf  \\\n",
       "1   2016-03-24  18300        coupe               2011  manual    190    NaN   \n",
       "2   2016-03-14   9800          suv               2004    auto    163  grand   \n",
       "3   2016-03-17   1500        small               2001  manual     75   golf   \n",
       "4   2016-03-31   3600        small               2008  manual     69  fabia   \n",
       "\n",
       "   kilometer  registration_month fuel_type       brand repaired date_created   \n",
       "0     150000                   0    petrol  volkswagen      NaN   2016-03-24  \\\n",
       "1     125000                   5  gasoline        audi      yes   2016-03-24   \n",
       "2     125000                   8  gasoline        jeep      NaN   2016-03-14   \n",
       "3     150000                   6    petrol  volkswagen       no   2016-03-17   \n",
       "4      90000                   7  gasoline       skoda       no   2016-03-31   \n",
       "\n",
       "   number_of_pictures  postal_code  last_seen  \n",
       "0                   0        70435 2016-04-07  \n",
       "1                   0        66954 2016-04-07  \n",
       "2                   0        90480 2016-04-05  \n",
       "3                   0        91074 2016-03-17  \n",
       "4                   0        60437 2016-04-06  "
      ]
     },
     "execution_count": 12,
     "metadata": {},
     "output_type": "execute_result"
    }
   ],
   "source": [
    "autos.head(5)"
   ]
  },
  {
   "cell_type": "markdown",
   "id": "adcad032",
   "metadata": {},
   "source": [
    "**Поиск явных дубликатов:**"
   ]
  },
  {
   "cell_type": "code",
   "execution_count": 13,
   "id": "5c64971a",
   "metadata": {},
   "outputs": [
    {
     "data": {
      "text/plain": [
       "6828"
      ]
     },
     "execution_count": 13,
     "metadata": {},
     "output_type": "execute_result"
    }
   ],
   "source": [
    "autos.duplicated().sum()"
   ]
  },
  {
   "cell_type": "markdown",
   "id": "fcff10c7",
   "metadata": {},
   "source": [
    "### Поиск и обработка дубликатов"
   ]
  },
  {
   "cell_type": "markdown",
   "id": "2cac974d",
   "metadata": {},
   "source": [
    "**Поиск неявных дубликатов:**"
   ]
  },
  {
   "cell_type": "code",
   "execution_count": 14,
   "id": "06299b08",
   "metadata": {},
   "outputs": [],
   "source": [
    "cat_col_names = autos.select_dtypes(include='object').columns.tolist()"
   ]
  },
  {
   "cell_type": "code",
   "execution_count": 15,
   "id": "6f033d65",
   "metadata": {},
   "outputs": [
    {
     "data": {
      "text/plain": [
       "['vehicle_type', 'gearbox', 'model', 'fuel_type', 'brand', 'repaired']"
      ]
     },
     "execution_count": 15,
     "metadata": {},
     "output_type": "execute_result"
    }
   ],
   "source": [
    "cat_col_names"
   ]
  },
  {
   "cell_type": "code",
   "execution_count": 16,
   "id": "1a9ef537",
   "metadata": {},
   "outputs": [
    {
     "name": "stdout",
     "output_type": "stream",
     "text": [
      "Категория: vehicle_type\n",
      "\n",
      " [nan 'coupe' 'suv' 'small' 'sedan' 'convertible' 'bus' 'wagon' 'other'] \n",
      "\n",
      "Категория: gearbox\n",
      "\n",
      " ['manual' 'auto' nan] \n",
      "\n",
      "Категория: model\n",
      "\n",
      " ['golf' nan 'grand' 'fabia' '3er' '2_reihe' 'other' 'c_max' '3_reihe'\n",
      " 'passat' 'navara' 'ka' 'polo' 'twingo' 'a_klasse' 'scirocco' '5er'\n",
      " 'meriva' 'arosa' 'c4' 'civic' 'transporter' 'punto' 'e_klasse' 'clio'\n",
      " 'kadett' 'kangoo' 'corsa' 'one' 'fortwo' '1er' 'b_klasse' 'signum'\n",
      " 'astra' 'a8' 'jetta' 'fiesta' 'c_klasse' 'micra' 'vito' 'sprinter' '156'\n",
      " 'escort' 'forester' 'xc_reihe' 'scenic' 'a4' 'a1' 'insignia' 'combo'\n",
      " 'focus' 'tt' 'a6' 'jazz' 'omega' 'slk' '7er' '80' '147' '100' 'z_reihe'\n",
      " 'sportage' 'sorento' 'v40' 'ibiza' 'mustang' 'eos' 'touran' 'getz' 'a3'\n",
      " 'almera' 'megane' 'lupo' 'r19' 'zafira' 'caddy' 'mondeo' 'cordoba' 'colt'\n",
      " 'impreza' 'vectra' 'berlingo' 'tiguan' 'i_reihe' 'espace' 'sharan'\n",
      " '6_reihe' 'panda' 'up' 'seicento' 'ceed' '5_reihe' 'yeti' 'octavia' 'mii'\n",
      " 'rx_reihe' '6er' 'modus' 'fox' 'matiz' 'beetle' 'c1' 'rio' 'touareg'\n",
      " 'logan' 'spider' 'cuore' 's_max' 'a2' 'galaxy' 'c3' 'viano' 's_klasse'\n",
      " '1_reihe' 'avensis' 'roomster' 'sl' 'kaefer' 'santa' 'cooper' 'leon'\n",
      " '4_reihe' 'a5' '500' 'laguna' 'ptcruiser' 'clk' 'primera' 'x_reihe'\n",
      " 'exeo' '159' 'transit' 'juke' 'qashqai' 'carisma' 'accord' 'corolla'\n",
      " 'lanos' 'phaeton' 'verso' 'swift' 'rav' 'picanto' 'boxster' 'kalos'\n",
      " 'superb' 'stilo' 'alhambra' 'mx_reihe' 'roadster' 'ypsilon' 'cayenne'\n",
      " 'galant' 'justy' '90' 'sirion' 'crossfire' 'agila' 'duster' 'cr_reihe'\n",
      " 'v50' 'c_reihe' 'v_klasse' 'm_klasse' 'yaris' 'c5' 'aygo' 'cc' 'carnival'\n",
      " 'fusion' '911' 'bora' 'forfour' 'm_reihe' 'cl' 'tigra' '300c' 'spark'\n",
      " 'v70' 'kuga' 'x_type' 'ducato' 's_type' 'x_trail' 'toledo' 'altea'\n",
      " 'voyager' 'calibra' 'bravo' 'antara' 'tucson' 'citigo' 'jimny' 'wrangler'\n",
      " 'lybra' 'q7' 'lancer' 'captiva' 'c2' 'discovery' 'freelander' 'sandero'\n",
      " 'note' '900' 'cherokee' 'clubman' 'samara' 'defender' '601' 'cx_reihe'\n",
      " 'legacy' 'pajero' 'auris' 'niva' 's60' 'nubira' 'vivaro' 'g_klasse'\n",
      " 'lodgy' '850' 'range_rover' 'q3' 'serie_2' 'glk' 'charade' 'croma'\n",
      " 'outlander' 'doblo' 'musa' 'move' '9000' 'v60' '145' 'aveo' '200' 'b_max'\n",
      " 'range_rover_sport' 'terios' 'rangerover' 'q5' 'range_rover_evoque'\n",
      " 'materia' 'delta' 'gl' 'kalina' 'amarok' 'elefantino' 'i3' 'kappa'\n",
      " 'serie_3' 'serie_1'] \n",
      "\n",
      "Категория: fuel_type\n",
      "\n",
      " ['petrol' 'gasoline' nan 'lpg' 'other' 'hybrid' 'cng' 'electric'] \n",
      "\n",
      "Категория: brand\n",
      "\n",
      " ['volkswagen' 'audi' 'jeep' 'skoda' 'bmw' 'peugeot' 'ford' 'mazda'\n",
      " 'nissan' 'renault' 'mercedes_benz' 'opel' 'seat' 'citroen' 'honda' 'fiat'\n",
      " 'mini' 'smart' 'hyundai' 'sonstige_autos' 'alfa_romeo' 'subaru' 'volvo'\n",
      " 'mitsubishi' 'kia' 'suzuki' 'lancia' 'toyota' 'chevrolet' 'dacia'\n",
      " 'daihatsu' 'trabant' 'saab' 'chrysler' 'jaguar' 'daewoo' 'porsche'\n",
      " 'rover' 'land_rover' 'lada'] \n",
      "\n",
      "Категория: repaired\n",
      "\n",
      " [nan 'yes' 'no'] \n",
      "\n"
     ]
    }
   ],
   "source": [
    "for c in cat_col_names:\n",
    "    print(f'Категория: {c}\\n\\n', autos[c].unique(), '\\n')"
   ]
  },
  {
   "cell_type": "code",
   "execution_count": 17,
   "id": "ba06daab",
   "metadata": {},
   "outputs": [],
   "source": [
    "autos['fuel_type'] = autos['fuel_type'].str.replace('petrol', 'gasoline')\n",
    "autos['model'] = autos['model'].str.replace('rangerover', 'range_rover')"
   ]
  },
  {
   "cell_type": "code",
   "execution_count": 18,
   "id": "81ca20e0",
   "metadata": {},
   "outputs": [
    {
     "data": {
      "text/plain": [
       "array(['gasoline', nan, 'lpg', 'other', 'hybrid', 'cng', 'electric'],\n",
       "      dtype=object)"
      ]
     },
     "execution_count": 18,
     "metadata": {},
     "output_type": "execute_result"
    }
   ],
   "source": [
    "autos['fuel_type'].unique()"
   ]
  },
  {
   "cell_type": "markdown",
   "id": "5545cf38",
   "metadata": {},
   "source": [
    "**Вывод:** Обработаны неявные дубликаты в fuel_type и model, явные дубликаты в количеситве 6,828 шт - целесообразно удалить"
   ]
  },
  {
   "cell_type": "code",
   "execution_count": 19,
   "id": "a357e0d2",
   "metadata": {},
   "outputs": [],
   "source": [
    "autos = autos.drop_duplicates().reset_index(drop=True)"
   ]
  },
  {
   "cell_type": "code",
   "execution_count": 20,
   "id": "b1ca5add",
   "metadata": {},
   "outputs": [
    {
     "data": {
      "text/plain": [
       "(347537, 16)"
      ]
     },
     "execution_count": 20,
     "metadata": {},
     "output_type": "execute_result"
    }
   ],
   "source": [
    "autos.shape"
   ]
  },
  {
   "cell_type": "markdown",
   "id": "f5c3f52c",
   "metadata": {},
   "source": [
    "### Поиск и обработка дубликатов"
   ]
  },
  {
   "cell_type": "code",
   "execution_count": 21,
   "id": "ab262cf0",
   "metadata": {},
   "outputs": [
    {
     "data": {
      "text/plain": [
       "date_crawled              0\n",
       "price                     0\n",
       "vehicle_type          37171\n",
       "registration_year         0\n",
       "gearbox               19537\n",
       "power                     0\n",
       "model                 19535\n",
       "kilometer                 0\n",
       "registration_month        0\n",
       "fuel_type             32625\n",
       "brand                     0\n",
       "repaired              70360\n",
       "date_created              0\n",
       "number_of_pictures        0\n",
       "postal_code               0\n",
       "last_seen                 0\n",
       "dtype: int64"
      ]
     },
     "execution_count": 21,
     "metadata": {},
     "output_type": "execute_result"
    }
   ],
   "source": [
    "autos.isna().sum()"
   ]
  },
  {
   "cell_type": "markdown",
   "id": "18423b20",
   "metadata": {},
   "source": [
    "Количество пропущенных значений по каждой категории существенное, удалять данные нецелесообразно.\n",
    "\n",
    "Выполню заполнение пропусков слудущими значениями:\n",
    "\n",
    "**vehicle_type** - 'no_info',\n",
    "\n",
    "**gearbox** - 'no_info',\n",
    "\n",
    "**model** - 'no_info',\n",
    "\n",
    "**fuel_type** - 'no_info',\n",
    "\n",
    "**repaired** - 'no'"
   ]
  },
  {
   "cell_type": "code",
   "execution_count": 22,
   "id": "e5d253b2",
   "metadata": {},
   "outputs": [
    {
     "data": {
      "text/plain": [
       "fuel_type\n",
       "gasoline    308636\n",
       "lpg           5191\n",
       "cng            561\n",
       "hybrid         232\n",
       "other          203\n",
       "electric        89\n",
       "Name: count, dtype: int64"
      ]
     },
     "execution_count": 22,
     "metadata": {},
     "output_type": "execute_result"
    }
   ],
   "source": [
    "autos['fuel_type'].value_counts()"
   ]
  },
  {
   "cell_type": "code",
   "execution_count": 23,
   "id": "287c86ba",
   "metadata": {},
   "outputs": [],
   "source": [
    "autos['vehicle_type'] = autos['vehicle_type'].fillna('no_info')\n",
    "autos['gearbox'] = autos['gearbox'].fillna('no_info')\n",
    "autos['model'] = autos['model'].fillna('no_info')\n",
    "autos['fuel_type'] = autos['fuel_type'].fillna('no_info')\n",
    "autos['repaired'] = autos['repaired'].fillna('no')"
   ]
  },
  {
   "cell_type": "code",
   "execution_count": 24,
   "id": "c345f986",
   "metadata": {},
   "outputs": [
    {
     "data": {
      "text/plain": [
       "date_crawled          0\n",
       "price                 0\n",
       "vehicle_type          0\n",
       "registration_year     0\n",
       "gearbox               0\n",
       "power                 0\n",
       "model                 0\n",
       "kilometer             0\n",
       "registration_month    0\n",
       "fuel_type             0\n",
       "brand                 0\n",
       "repaired              0\n",
       "date_created          0\n",
       "number_of_pictures    0\n",
       "postal_code           0\n",
       "last_seen             0\n",
       "dtype: int64"
      ]
     },
     "execution_count": 24,
     "metadata": {},
     "output_type": "execute_result"
    }
   ],
   "source": [
    "autos.isna().sum()"
   ]
  },
  {
   "cell_type": "markdown",
   "id": "6f9bdb91",
   "metadata": {},
   "source": [
    "**Вывод:** пропуски заполнены, на данном этапе они отсутствуют"
   ]
  },
  {
   "cell_type": "markdown",
   "id": "66c69e61",
   "metadata": {},
   "source": [
    "### Вывод по предобработке данных\n",
    "\n",
    "1. Неявных дубликатов не обнаруженно. \n",
    "\n",
    "2. Явные дубликаты в количеситве 6,828 шт были удалены\n",
    "\n",
    "3. Пропущеных значения были заполнены по следующему алгоритму:\n",
    "\n",
    "**vehicle_type** - 'no_info',\n",
    "\n",
    "**gearbox** - 'no_info',\n",
    "\n",
    "**model** - 'no_info',\n",
    "\n",
    "**fuel_type** - 'no_info',\n",
    "\n",
    "**repaired** - 'no'\n",
    "\n",
    "4. Колонки с датой были преобразованны в короткий формат datetime:"
   ]
  },
  {
   "cell_type": "markdown",
   "id": "aea0e3e0",
   "metadata": {},
   "source": [
    "## Исследовательский анализ данных"
   ]
  },
  {
   "cell_type": "markdown",
   "id": "69f1ca99",
   "metadata": {},
   "source": [
    "### Числовые признаки"
   ]
  },
  {
   "cell_type": "code",
   "execution_count": 25,
   "id": "a5dcc9ef",
   "metadata": {},
   "outputs": [],
   "source": [
    "num_col_names = autos.loc[:,\n",
    "                          ~autos.columns.isin(['postal_code'])].select_dtypes(include='number').columns.tolist()"
   ]
  },
  {
   "cell_type": "code",
   "execution_count": 26,
   "id": "5de6d733",
   "metadata": {},
   "outputs": [
    {
     "data": {
      "text/plain": [
       "['price',\n",
       " 'registration_year',\n",
       " 'power',\n",
       " 'kilometer',\n",
       " 'registration_month',\n",
       " 'number_of_pictures']"
      ]
     },
     "execution_count": 26,
     "metadata": {},
     "output_type": "execute_result"
    }
   ],
   "source": [
    "num_col_names"
   ]
  },
  {
   "cell_type": "code",
   "execution_count": 27,
   "id": "c6c541a0",
   "metadata": {},
   "outputs": [
    {
     "data": {
      "text/html": [
       "<div>\n",
       "<style scoped>\n",
       "    .dataframe tbody tr th:only-of-type {\n",
       "        vertical-align: middle;\n",
       "    }\n",
       "\n",
       "    .dataframe tbody tr th {\n",
       "        vertical-align: top;\n",
       "    }\n",
       "\n",
       "    .dataframe thead th {\n",
       "        text-align: right;\n",
       "    }\n",
       "</style>\n",
       "<table border=\"1\" class=\"dataframe\">\n",
       "  <thead>\n",
       "    <tr style=\"text-align: right;\">\n",
       "      <th></th>\n",
       "      <th>count</th>\n",
       "      <th>mean</th>\n",
       "      <th>std</th>\n",
       "      <th>min</th>\n",
       "      <th>25%</th>\n",
       "      <th>50%</th>\n",
       "      <th>75%</th>\n",
       "      <th>max</th>\n",
       "    </tr>\n",
       "  </thead>\n",
       "  <tbody>\n",
       "    <tr>\n",
       "      <th>price</th>\n",
       "      <td>347537.0</td>\n",
       "      <td>4405.0</td>\n",
       "      <td>4511.0</td>\n",
       "      <td>0.0</td>\n",
       "      <td>1050.0</td>\n",
       "      <td>2700.0</td>\n",
       "      <td>6350.0</td>\n",
       "      <td>20000.0</td>\n",
       "    </tr>\n",
       "    <tr>\n",
       "      <th>registration_year</th>\n",
       "      <td>347537.0</td>\n",
       "      <td>2004.0</td>\n",
       "      <td>91.0</td>\n",
       "      <td>1000.0</td>\n",
       "      <td>1999.0</td>\n",
       "      <td>2003.0</td>\n",
       "      <td>2008.0</td>\n",
       "      <td>9999.0</td>\n",
       "    </tr>\n",
       "    <tr>\n",
       "      <th>power</th>\n",
       "      <td>347537.0</td>\n",
       "      <td>110.0</td>\n",
       "      <td>191.0</td>\n",
       "      <td>0.0</td>\n",
       "      <td>68.0</td>\n",
       "      <td>105.0</td>\n",
       "      <td>141.0</td>\n",
       "      <td>20000.0</td>\n",
       "    </tr>\n",
       "    <tr>\n",
       "      <th>kilometer</th>\n",
       "      <td>347537.0</td>\n",
       "      <td>128248.0</td>\n",
       "      <td>37905.0</td>\n",
       "      <td>5000.0</td>\n",
       "      <td>125000.0</td>\n",
       "      <td>150000.0</td>\n",
       "      <td>150000.0</td>\n",
       "      <td>150000.0</td>\n",
       "    </tr>\n",
       "    <tr>\n",
       "      <th>registration_month</th>\n",
       "      <td>347537.0</td>\n",
       "      <td>6.0</td>\n",
       "      <td>4.0</td>\n",
       "      <td>0.0</td>\n",
       "      <td>3.0</td>\n",
       "      <td>6.0</td>\n",
       "      <td>9.0</td>\n",
       "      <td>12.0</td>\n",
       "    </tr>\n",
       "    <tr>\n",
       "      <th>number_of_pictures</th>\n",
       "      <td>347537.0</td>\n",
       "      <td>0.0</td>\n",
       "      <td>0.0</td>\n",
       "      <td>0.0</td>\n",
       "      <td>0.0</td>\n",
       "      <td>0.0</td>\n",
       "      <td>0.0</td>\n",
       "      <td>0.0</td>\n",
       "    </tr>\n",
       "  </tbody>\n",
       "</table>\n",
       "</div>"
      ],
      "text/plain": [
       "                       count      mean      std     min       25%       50%   \n",
       "price               347537.0    4405.0   4511.0     0.0    1050.0    2700.0  \\\n",
       "registration_year   347537.0    2004.0     91.0  1000.0    1999.0    2003.0   \n",
       "power               347537.0     110.0    191.0     0.0      68.0     105.0   \n",
       "kilometer           347537.0  128248.0  37905.0  5000.0  125000.0  150000.0   \n",
       "registration_month  347537.0       6.0      4.0     0.0       3.0       6.0   \n",
       "number_of_pictures  347537.0       0.0      0.0     0.0       0.0       0.0   \n",
       "\n",
       "                         75%       max  \n",
       "price                 6350.0   20000.0  \n",
       "registration_year     2008.0    9999.0  \n",
       "power                  141.0   20000.0  \n",
       "kilometer           150000.0  150000.0  \n",
       "registration_month       9.0      12.0  \n",
       "number_of_pictures       0.0       0.0  "
      ]
     },
     "execution_count": 27,
     "metadata": {},
     "output_type": "execute_result"
    }
   ],
   "source": [
    "autos[num_col_names].describe().T.round()"
   ]
  },
  {
   "cell_type": "code",
   "execution_count": 28,
   "id": "76bfa115",
   "metadata": {},
   "outputs": [],
   "source": [
    "def hist_plot(df, count_list, figsize):\n",
    "    row = math.ceil(len(count_list))\n",
    "    fig, axes = plt.subplots(row, 2, figsize=(12, figsize))\n",
    "    plt.suptitle('Распределение по числовым признакам',\n",
    "                 x=0.5,\n",
    "                 y=0.9,\n",
    "                 fontsize=12,\n",
    "                 fontweight='bold'\n",
    "                )    \n",
    "    for i, j in enumerate(count_list):\n",
    "        sns.histplot(data = df, x=j, ax=axes[i, 0],\n",
    "                     bins=math.ceil(np.log(len(df[j].unique())) + 2),\n",
    "                     color='#9BCD9B'\n",
    "                    )\n",
    "        sns.boxplot(data = df, x=j, ax=axes[i, 1],\n",
    "                     color='#9BCD9B',\n",
    "                     linewidth=0.5,\n",
    "                     width=0.5,\n",
    "                     medianprops={'color': 'r', 'linewidth': 1})"
   ]
  },
  {
   "cell_type": "code",
   "execution_count": 29,
   "id": "0c6a7a63",
   "metadata": {
    "scrolled": false
   },
   "outputs": [
    {
     "data": {
      "image/png": "[encoded data removed]",
      "text/plain": [
       "<Figure size 1200x2400 with 12 Axes>"
      ]
     },
     "metadata": {},
     "output_type": "display_data"
    }
   ],
   "source": [
    "hist_plot(autos, num_col_names, 24)"
   ]
  },
  {
   "cell_type": "markdown",
   "id": "9243c6b5",
   "metadata": {},
   "source": [
    "**Проанализировав числовые признаки, можно отметить следующее:**\n",
    "\n",
    "price - похоже на распределение Пуассона, так как дорогих машин явно меньше, чем дешевых, поэтому дорогие машины наблюдаются как выбросы на диаграмме распределения\n",
    "min - 0 euro, median - 2700 ER, max - 20000 ER.\n",
    "Автомобили с нулевой стоимостью исслудуем в дальнейшем отдельно\n",
    "\n",
    "registration_year - имеет явные аномальные значения в виде 1000 года и 9999 года.\n",
    "min - 1000, median - 2004, max 9999. В дальнейшем обработаем аномалии и построим новое распределение\n",
    "\n",
    "power - имеет похожие проблемы как в RegistrationYear, в данных присутствуют машины с 0 л.c и 20000 л.с.\n",
    "min - 0, median - 105, max - 20000\n",
    "\n",
    "kilometer - автомобили с пробегом до 90000 наблюдаются как выбросы, так как многие продают машину ближе к концу гарантии по пробегу (как правило это 100000 и второй пик - это 150 000, зависит от производителя)\n",
    "min - 5000 km, median - 150000 km, max - 150000 km. Также, интересно, почему нет машин с прбобегом более 150000 - это ограничение на портале или еще что-то (нипишу как рекомендацию бизнесу)\n",
    "\n",
    "registration_month - по распределение видно, что больше всего машин регистрируют с мая по июль и с сентября по декабрь. Значение 0 необходимо исследовать подробно\n",
    "\n",
    "number_of_pictures - имеет всего одно значение, равное 0, то есть все объявления не содержат фотографий. Такой признак ничего не значит, поэтому при обучении моделей его учитывать не будем."
   ]
  },
  {
   "cell_type": "markdown",
   "id": "1d1b10e0",
   "metadata": {},
   "source": [
    "#### Обработка аномальных значений"
   ]
  },
  {
   "cell_type": "markdown",
   "id": "832a3855",
   "metadata": {},
   "source": [
    "**Колонка Price:**"
   ]
  },
  {
   "cell_type": "code",
   "execution_count": 30,
   "id": "b05c5b3f",
   "metadata": {},
   "outputs": [
    {
     "data": {
      "text/plain": [
       "0.030532000909255706"
      ]
     },
     "execution_count": 30,
     "metadata": {},
     "output_type": "execute_result"
    }
   ],
   "source": [
    "autos.query('price == 0').shape[0] / autos.shape[0]"
   ]
  },
  {
   "cell_type": "markdown",
   "id": "ffae68de",
   "metadata": {},
   "source": [
    "Доля автомобилей с нулевым прайсом 3% от всех данных, поэтому их целесообразно удалить:"
   ]
  },
  {
   "cell_type": "code",
   "execution_count": 31,
   "id": "86688274",
   "metadata": {},
   "outputs": [],
   "source": [
    "autos = autos.query('price > 0')"
   ]
  },
  {
   "cell_type": "markdown",
   "id": "e9e6133f",
   "metadata": {},
   "source": [
    "**Колонка registration_year:**"
   ]
  },
  {
   "cell_type": "code",
   "execution_count": 32,
   "id": "f7719c03",
   "metadata": {},
   "outputs": [
    {
     "data": {
      "text/plain": [
       "array([1000, 1001, 1039, 1111, 1234, 1255, 1300, 1400, 1500, 1600, 1602,\n",
       "       1800, 1910, 1923, 1925, 1927, 1928, 1929, 1930, 1931, 1932, 1933,\n",
       "       1934, 1935, 1936, 1937, 1938, 1940, 1941, 1942, 1943, 1944, 1945,\n",
       "       1946, 1947, 1948, 1949, 1950, 1951, 1952, 1953, 1954, 1955, 1956,\n",
       "       1957, 1958, 1959, 1960, 1961, 1962, 1963, 1964, 1965, 1966, 1967,\n",
       "       1968, 1969, 1970, 1971, 1972, 1973, 1974, 1975, 1976, 1977, 1978,\n",
       "       1979, 1980, 1981, 1982, 1983, 1984, 1985, 1986, 1987, 1988, 1989,\n",
       "       1990, 1991, 1992, 1993, 1994, 1995, 1996, 1997, 1998, 1999, 2000,\n",
       "       2001, 2002, 2003, 2004, 2005, 2006, 2007, 2008, 2009, 2010, 2011,\n",
       "       2012, 2013, 2014, 2015, 2016, 2017, 2018, 2019, 2066, 2200, 2222,\n",
       "       2290, 2500, 2800, 2900, 3000, 3200, 3700, 3800, 4000, 4100, 4500,\n",
       "       4800, 5000, 5300, 5555, 5600, 5900, 5911, 6000, 6500, 7000, 7100,\n",
       "       7800, 8000, 8200, 8500, 8888, 9000, 9450, 9999])"
      ]
     },
     "execution_count": 32,
     "metadata": {},
     "output_type": "execute_result"
    }
   ],
   "source": [
    "autos['registration_year'].sort_values().unique()"
   ]
  },
  {
   "cell_type": "code",
   "execution_count": 33,
   "id": "979ef40d",
   "metadata": {},
   "outputs": [
    {
     "data": {
      "text/html": [
       "<div>\n",
       "<style scoped>\n",
       "    .dataframe tbody tr th:only-of-type {\n",
       "        vertical-align: middle;\n",
       "    }\n",
       "\n",
       "    .dataframe tbody tr th {\n",
       "        vertical-align: top;\n",
       "    }\n",
       "\n",
       "    .dataframe thead th {\n",
       "        text-align: right;\n",
       "    }\n",
       "</style>\n",
       "<table border=\"1\" class=\"dataframe\">\n",
       "  <thead>\n",
       "    <tr style=\"text-align: right;\">\n",
       "      <th></th>\n",
       "      <th>date_crawled</th>\n",
       "      <th>price</th>\n",
       "      <th>vehicle_type</th>\n",
       "      <th>registration_year</th>\n",
       "      <th>gearbox</th>\n",
       "      <th>power</th>\n",
       "      <th>model</th>\n",
       "      <th>kilometer</th>\n",
       "      <th>registration_month</th>\n",
       "      <th>fuel_type</th>\n",
       "      <th>brand</th>\n",
       "      <th>repaired</th>\n",
       "      <th>date_created</th>\n",
       "      <th>number_of_pictures</th>\n",
       "      <th>postal_code</th>\n",
       "      <th>last_seen</th>\n",
       "    </tr>\n",
       "  </thead>\n",
       "  <tbody>\n",
       "    <tr>\n",
       "      <th>22</th>\n",
       "      <td>2016-03-23</td>\n",
       "      <td>2900</td>\n",
       "      <td>no_info</td>\n",
       "      <td>2018</td>\n",
       "      <td>manual</td>\n",
       "      <td>90</td>\n",
       "      <td>meriva</td>\n",
       "      <td>150000</td>\n",
       "      <td>5</td>\n",
       "      <td>gasoline</td>\n",
       "      <td>opel</td>\n",
       "      <td>no</td>\n",
       "      <td>2016-03-23</td>\n",
       "      <td>0</td>\n",
       "      <td>49716</td>\n",
       "      <td>2016-03-31</td>\n",
       "    </tr>\n",
       "    <tr>\n",
       "      <th>26</th>\n",
       "      <td>2016-03-10</td>\n",
       "      <td>5555</td>\n",
       "      <td>no_info</td>\n",
       "      <td>2017</td>\n",
       "      <td>manual</td>\n",
       "      <td>125</td>\n",
       "      <td>c4</td>\n",
       "      <td>125000</td>\n",
       "      <td>4</td>\n",
       "      <td>no_info</td>\n",
       "      <td>citroen</td>\n",
       "      <td>no</td>\n",
       "      <td>2016-03-10</td>\n",
       "      <td>0</td>\n",
       "      <td>31139</td>\n",
       "      <td>2016-03-16</td>\n",
       "    </tr>\n",
       "    <tr>\n",
       "      <th>48</th>\n",
       "      <td>2016-03-25</td>\n",
       "      <td>7750</td>\n",
       "      <td>no_info</td>\n",
       "      <td>2017</td>\n",
       "      <td>manual</td>\n",
       "      <td>80</td>\n",
       "      <td>golf</td>\n",
       "      <td>100000</td>\n",
       "      <td>1</td>\n",
       "      <td>gasoline</td>\n",
       "      <td>volkswagen</td>\n",
       "      <td>no</td>\n",
       "      <td>2016-03-25</td>\n",
       "      <td>0</td>\n",
       "      <td>48499</td>\n",
       "      <td>2016-03-31</td>\n",
       "    </tr>\n",
       "    <tr>\n",
       "      <th>51</th>\n",
       "      <td>2016-03-07</td>\n",
       "      <td>2000</td>\n",
       "      <td>no_info</td>\n",
       "      <td>2017</td>\n",
       "      <td>manual</td>\n",
       "      <td>90</td>\n",
       "      <td>punto</td>\n",
       "      <td>150000</td>\n",
       "      <td>11</td>\n",
       "      <td>gasoline</td>\n",
       "      <td>fiat</td>\n",
       "      <td>yes</td>\n",
       "      <td>2016-03-07</td>\n",
       "      <td>0</td>\n",
       "      <td>66115</td>\n",
       "      <td>2016-03-07</td>\n",
       "    </tr>\n",
       "    <tr>\n",
       "      <th>57</th>\n",
       "      <td>2016-03-10</td>\n",
       "      <td>2399</td>\n",
       "      <td>no_info</td>\n",
       "      <td>2018</td>\n",
       "      <td>manual</td>\n",
       "      <td>64</td>\n",
       "      <td>other</td>\n",
       "      <td>125000</td>\n",
       "      <td>3</td>\n",
       "      <td>no_info</td>\n",
       "      <td>seat</td>\n",
       "      <td>no</td>\n",
       "      <td>2016-03-10</td>\n",
       "      <td>0</td>\n",
       "      <td>33397</td>\n",
       "      <td>2016-03-25</td>\n",
       "    </tr>\n",
       "    <tr>\n",
       "      <th>65</th>\n",
       "      <td>2016-03-28</td>\n",
       "      <td>10900</td>\n",
       "      <td>no_info</td>\n",
       "      <td>2017</td>\n",
       "      <td>manual</td>\n",
       "      <td>101</td>\n",
       "      <td>astra</td>\n",
       "      <td>50000</td>\n",
       "      <td>3</td>\n",
       "      <td>no_info</td>\n",
       "      <td>opel</td>\n",
       "      <td>no</td>\n",
       "      <td>2016-03-28</td>\n",
       "      <td>0</td>\n",
       "      <td>63607</td>\n",
       "      <td>2016-04-06</td>\n",
       "    </tr>\n",
       "    <tr>\n",
       "      <th>155</th>\n",
       "      <td>2016-03-09</td>\n",
       "      <td>14500</td>\n",
       "      <td>no_info</td>\n",
       "      <td>2017</td>\n",
       "      <td>manual</td>\n",
       "      <td>136</td>\n",
       "      <td>sportage</td>\n",
       "      <td>125000</td>\n",
       "      <td>5</td>\n",
       "      <td>gasoline</td>\n",
       "      <td>kia</td>\n",
       "      <td>no</td>\n",
       "      <td>2016-03-09</td>\n",
       "      <td>0</td>\n",
       "      <td>49696</td>\n",
       "      <td>2016-04-05</td>\n",
       "    </tr>\n",
       "    <tr>\n",
       "      <th>163</th>\n",
       "      <td>2016-04-04</td>\n",
       "      <td>1200</td>\n",
       "      <td>no_info</td>\n",
       "      <td>2018</td>\n",
       "      <td>manual</td>\n",
       "      <td>75</td>\n",
       "      <td>astra</td>\n",
       "      <td>150000</td>\n",
       "      <td>0</td>\n",
       "      <td>no_info</td>\n",
       "      <td>opel</td>\n",
       "      <td>no</td>\n",
       "      <td>2016-04-04</td>\n",
       "      <td>0</td>\n",
       "      <td>15344</td>\n",
       "      <td>2016-04-06</td>\n",
       "    </tr>\n",
       "    <tr>\n",
       "      <th>196</th>\n",
       "      <td>2016-03-24</td>\n",
       "      <td>2800</td>\n",
       "      <td>no_info</td>\n",
       "      <td>2018</td>\n",
       "      <td>manual</td>\n",
       "      <td>75</td>\n",
       "      <td>twingo</td>\n",
       "      <td>125000</td>\n",
       "      <td>12</td>\n",
       "      <td>no_info</td>\n",
       "      <td>renault</td>\n",
       "      <td>no</td>\n",
       "      <td>2016-03-24</td>\n",
       "      <td>0</td>\n",
       "      <td>86199</td>\n",
       "      <td>2016-04-07</td>\n",
       "    </tr>\n",
       "    <tr>\n",
       "      <th>218</th>\n",
       "      <td>2016-03-13</td>\n",
       "      <td>2100</td>\n",
       "      <td>no_info</td>\n",
       "      <td>2017</td>\n",
       "      <td>manual</td>\n",
       "      <td>0</td>\n",
       "      <td>zafira</td>\n",
       "      <td>150000</td>\n",
       "      <td>12</td>\n",
       "      <td>gasoline</td>\n",
       "      <td>opel</td>\n",
       "      <td>no</td>\n",
       "      <td>2016-03-13</td>\n",
       "      <td>0</td>\n",
       "      <td>24782</td>\n",
       "      <td>2016-03-13</td>\n",
       "    </tr>\n",
       "  </tbody>\n",
       "</table>\n",
       "</div>"
      ],
      "text/plain": [
       "    date_crawled  price vehicle_type  registration_year gearbox  power   \n",
       "22    2016-03-23   2900      no_info               2018  manual     90  \\\n",
       "26    2016-03-10   5555      no_info               2017  manual    125   \n",
       "48    2016-03-25   7750      no_info               2017  manual     80   \n",
       "51    2016-03-07   2000      no_info               2017  manual     90   \n",
       "57    2016-03-10   2399      no_info               2018  manual     64   \n",
       "65    2016-03-28  10900      no_info               2017  manual    101   \n",
       "155   2016-03-09  14500      no_info               2017  manual    136   \n",
       "163   2016-04-04   1200      no_info               2018  manual     75   \n",
       "196   2016-03-24   2800      no_info               2018  manual     75   \n",
       "218   2016-03-13   2100      no_info               2017  manual      0   \n",
       "\n",
       "        model  kilometer  registration_month fuel_type       brand repaired   \n",
       "22     meriva     150000                   5  gasoline        opel       no  \\\n",
       "26         c4     125000                   4   no_info     citroen       no   \n",
       "48       golf     100000                   1  gasoline  volkswagen       no   \n",
       "51      punto     150000                  11  gasoline        fiat      yes   \n",
       "57      other     125000                   3   no_info        seat       no   \n",
       "65      astra      50000                   3   no_info        opel       no   \n",
       "155  sportage     125000                   5  gasoline         kia       no   \n",
       "163     astra     150000                   0   no_info        opel       no   \n",
       "196    twingo     125000                  12   no_info     renault       no   \n",
       "218    zafira     150000                  12  gasoline        opel       no   \n",
       "\n",
       "    date_created  number_of_pictures  postal_code  last_seen  \n",
       "22    2016-03-23                   0        49716 2016-03-31  \n",
       "26    2016-03-10                   0        31139 2016-03-16  \n",
       "48    2016-03-25                   0        48499 2016-03-31  \n",
       "51    2016-03-07                   0        66115 2016-03-07  \n",
       "57    2016-03-10                   0        33397 2016-03-25  \n",
       "65    2016-03-28                   0        63607 2016-04-06  \n",
       "155   2016-03-09                   0        49696 2016-04-05  \n",
       "163   2016-04-04                   0        15344 2016-04-06  \n",
       "196   2016-03-24                   0        86199 2016-04-07  \n",
       "218   2016-03-13                   0        24782 2016-03-13  "
      ]
     },
     "execution_count": 33,
     "metadata": {},
     "output_type": "execute_result"
    }
   ],
   "source": [
    "autos.query('registration_year > 2016').head(10)"
   ]
  },
  {
   "cell_type": "markdown",
   "id": "f1a01ad2",
   "metadata": {},
   "source": [
    "Здесь отмечу, что все аномальные значения больше 2019 года и меньше 1910 года (ранее еще не было автомобилей) наблюдаются при дате скачивания анкеты в марте и апреле 2016 года, что указывает на какой-то возможный технический сбой."
   ]
  },
  {
   "cell_type": "code",
   "execution_count": 34,
   "id": "ac18d21b",
   "metadata": {},
   "outputs": [],
   "source": [
    "autos = autos.query('registration_year >= 1910 and registration_year <= 2016')"
   ]
  },
  {
   "cell_type": "code",
   "execution_count": 35,
   "id": "334faac6",
   "metadata": {
    "scrolled": true
   },
   "outputs": [
    {
     "data": {
      "text/plain": [
       "(323229, 16)"
      ]
     },
     "execution_count": 35,
     "metadata": {},
     "output_type": "execute_result"
    }
   ],
   "source": [
    "autos.shape"
   ]
  },
  {
   "cell_type": "code",
   "execution_count": 36,
   "id": "acc1fb50",
   "metadata": {},
   "outputs": [
    {
     "data": {
      "text/plain": [
       "Timestamp('2016-04-07 00:00:00')"
      ]
     },
     "execution_count": 36,
     "metadata": {},
     "output_type": "execute_result"
    }
   ],
   "source": [
    "autos['date_crawled'].max()"
   ]
  },
  {
   "cell_type": "markdown",
   "id": "bbc09dd8",
   "metadata": {},
   "source": [
    "**Колонка power:**"
   ]
  },
  {
   "cell_type": "markdown",
   "id": "6cb8a7ae",
   "metadata": {},
   "source": [
    "Из источников ихвестно, что минимальная мощьность автомобиля 13 л/с, а максимальная 1600 л/с, при этом на Российском рынке не было в продаже а/м с мощьностью более 650 л/с"
   ]
  },
  {
   "cell_type": "code",
   "execution_count": 37,
   "id": "b2d67eaf",
   "metadata": {},
   "outputs": [
    {
     "data": {
      "text/plain": [
       "0.10117904024700754"
      ]
     },
     "execution_count": 37,
     "metadata": {},
     "output_type": "execute_result"
    }
   ],
   "source": [
    "autos.query('power < 13').shape[0] / autos.shape[0]"
   ]
  },
  {
   "cell_type": "markdown",
   "id": "2fb1453a",
   "metadata": {},
   "source": [
    "Таких значений больше 10%, поэтому заменю их на медианные значения"
   ]
  },
  {
   "cell_type": "code",
   "execution_count": 38,
   "id": "4244fa56",
   "metadata": {},
   "outputs": [],
   "source": [
    "def replace_power(value, median_value):\n",
    "    if value < 13:\n",
    "        return median_value\n",
    "    else:\n",
    "        return value\n",
    "\n",
    "median_power = autos['power'].median()\n",
    "autos['power'] = autos['power'].apply(replace_power, median_value=median_power)"
   ]
  },
  {
   "cell_type": "code",
   "execution_count": 39,
   "id": "e60c4b3d",
   "metadata": {},
   "outputs": [
    {
     "data": {
      "text/plain": [
       "0.0009497910150388733"
      ]
     },
     "execution_count": 39,
     "metadata": {},
     "output_type": "execute_result"
    }
   ],
   "source": [
    "autos.query('power > 650').shape[0] / autos.shape[0]"
   ]
  },
  {
   "cell_type": "markdown",
   "id": "802e0f60",
   "metadata": {},
   "source": [
    "Данные с мощьностью более 650 л/с удаляем:"
   ]
  },
  {
   "cell_type": "code",
   "execution_count": 40,
   "id": "567b9158",
   "metadata": {},
   "outputs": [],
   "source": [
    "autos = autos.query('power <= 650')"
   ]
  },
  {
   "cell_type": "code",
   "execution_count": 41,
   "id": "f33c7475",
   "metadata": {},
   "outputs": [
    {
     "data": {
      "text/plain": [
       "(322922, 16)"
      ]
     },
     "execution_count": 41,
     "metadata": {},
     "output_type": "execute_result"
    }
   ],
   "source": [
    "autos.shape"
   ]
  },
  {
   "cell_type": "markdown",
   "id": "ac4b2dd6",
   "metadata": {},
   "source": [
    "**Колонка registration_month:**"
   ]
  },
  {
   "cell_type": "markdown",
   "id": "44c1d9d5",
   "metadata": {},
   "source": [
    "Заполню нулевые значения медианой"
   ]
  },
  {
   "cell_type": "code",
   "execution_count": 42,
   "id": "fccd1f56",
   "metadata": {},
   "outputs": [],
   "source": [
    "def fill_month(value, median_value):\n",
    "    if value == 0:\n",
    "        return median_value\n",
    "    else:\n",
    "        return value"
   ]
  },
  {
   "cell_type": "code",
   "execution_count": 43,
   "id": "900468bb",
   "metadata": {},
   "outputs": [],
   "source": [
    "median_month = autos['registration_month'].median()\n",
    "autos['registration_month'] = autos['registration_month'].apply(fill_month, median_value=median_month)"
   ]
  },
  {
   "cell_type": "markdown",
   "id": "a86a2d07",
   "metadata": {},
   "source": [
    "**Колонка number_of_pictures:**"
   ]
  },
  {
   "cell_type": "markdown",
   "id": "e28eb719",
   "metadata": {},
   "source": [
    "Так как там все нулевые значения и для обучения моделей это никак не повлияет, этот признак полностью удаляю"
   ]
  },
  {
   "cell_type": "code",
   "execution_count": 44,
   "id": "208eae3c",
   "metadata": {},
   "outputs": [],
   "source": [
    "autos = autos.drop('number_of_pictures', axis=1)"
   ]
  },
  {
   "cell_type": "code",
   "execution_count": 45,
   "id": "efc8218e",
   "metadata": {},
   "outputs": [
    {
     "data": {
      "text/plain": [
       "0.9112591677037213"
      ]
     },
     "execution_count": 45,
     "metadata": {},
     "output_type": "execute_result"
    }
   ],
   "source": [
    "autos.shape[0] / first_shape"
   ]
  },
  {
   "cell_type": "markdown",
   "id": "c8031873",
   "metadata": {},
   "source": [
    "После обработки аномалий осталось 91% исходных данных, что вполне допустимо. Построим новые распределения."
   ]
  },
  {
   "cell_type": "code",
   "execution_count": 46,
   "id": "32924a58",
   "metadata": {},
   "outputs": [],
   "source": [
    "num_col_names = autos.loc[:,\n",
    "                          ~autos.columns.isin(['postal_code'])].select_dtypes(include='number').columns.tolist()"
   ]
  },
  {
   "cell_type": "code",
   "execution_count": 47,
   "id": "713cc61e",
   "metadata": {},
   "outputs": [
    {
     "data": {
      "image/png": "[encoded data removed]",
      "text/plain": [
       "<Figure size 1200x2000 with 10 Axes>"
      ]
     },
     "metadata": {},
     "output_type": "display_data"
    }
   ],
   "source": [
    "hist_plot(autos, num_col_names, 20)"
   ]
  },
  {
   "cell_type": "markdown",
   "id": "94086b97",
   "metadata": {},
   "source": [
    "### Категоральные признаки"
   ]
  },
  {
   "cell_type": "code",
   "execution_count": 48,
   "id": "d376197c",
   "metadata": {},
   "outputs": [],
   "source": [
    "def cat_plot_pie(df, kat_list):\n",
    "    row = math.ceil(len(kat_list)/2)\n",
    "    fig, ax = plt.subplots(nrows = row, ncols = 2, figsize = (12,12))\n",
    "    plt.suptitle('Распределение по категоральным признакам',\n",
    "                 x=0.5,\n",
    "                 y=0.92,\n",
    "                 fontsize=12,\n",
    "                 fontweight='bold')\n",
    "    k = 0\n",
    "    for r in range(row):\n",
    "        for c in range(2):\n",
    "            ax[r,c].pie(df[kat_list[k]].dropna().value_counts(),\n",
    "                        labels = df[kat_list[k]].dropna().value_counts().index,\n",
    "                        startangle=90,\n",
    "                        autopct = '%1.0f%%',\n",
    "                        colors=sns.color_palette('Set3')\n",
    "                        )\n",
    "            ax[r,c].set_title(kat_list[k])\n",
    "            k += 1\n",
    "            if k==len(kat_list):\n",
    "                break"
   ]
  },
  {
   "cell_type": "code",
   "execution_count": 49,
   "id": "c1a45e04",
   "metadata": {},
   "outputs": [],
   "source": [
    "cat_col_names = ['vehicle_type', 'gearbox', 'model', 'fuel_type', 'brand', 'repaired']\n",
    "cat_col_pie = ['vehicle_type', 'gearbox', 'fuel_type', 'repaired']"
   ]
  },
  {
   "cell_type": "code",
   "execution_count": 50,
   "id": "cd28b478",
   "metadata": {},
   "outputs": [
    {
     "data": {
      "image/png": "[encoded data removed]",
      "text/plain": [
       "<Figure size 1200x1200 with 4 Axes>"
      ]
     },
     "metadata": {},
     "output_type": "display_data"
    }
   ],
   "source": [
    "cat_plot_pie(autos, cat_col_pie)"
   ]
  },
  {
   "cell_type": "code",
   "execution_count": 51,
   "id": "b1229250",
   "metadata": {},
   "outputs": [
    {
     "data": {
      "text/plain": [
       "model\n",
       "golf                  0.081097\n",
       "other                 0.070692\n",
       "3er                   0.056593\n",
       "no_info               0.047912\n",
       "polo                  0.036517\n",
       "                        ...   \n",
       "serie_2               0.000022\n",
       "kalina                0.000015\n",
       "serie_3               0.000009\n",
       "range_rover_evoque    0.000003\n",
       "serie_1               0.000003\n",
       "Name: proportion, Length: 250, dtype: float64"
      ]
     },
     "execution_count": 51,
     "metadata": {},
     "output_type": "execute_result"
    }
   ],
   "source": [
    "autos['model'].value_counts(normalize=True)"
   ]
  },
  {
   "cell_type": "code",
   "execution_count": 52,
   "id": "a14a523b",
   "metadata": {},
   "outputs": [
    {
     "data": {
      "text/plain": [
       "brand\n",
       "volkswagen        0.214550\n",
       "opel              0.111123\n",
       "bmw               0.105307\n",
       "mercedes_benz     0.092205\n",
       "audi              0.083658\n",
       "ford              0.071249\n",
       "renault           0.049984\n",
       "peugeot           0.031522\n",
       "fiat              0.026963\n",
       "seat              0.019259\n",
       "skoda             0.016044\n",
       "mazda             0.015995\n",
       "smart             0.015103\n",
       "citroen           0.014589\n",
       "nissan            0.014050\n",
       "toyota            0.013400\n",
       "hyundai           0.010303\n",
       "mini              0.009278\n",
       "volvo             0.009210\n",
       "mitsubishi        0.008600\n",
       "sonstige_autos    0.008293\n",
       "honda             0.007900\n",
       "kia               0.007008\n",
       "suzuki            0.006701\n",
       "alfa_romeo        0.006531\n",
       "chevrolet         0.005010\n",
       "chrysler          0.004044\n",
       "dacia             0.002617\n",
       "daihatsu          0.002288\n",
       "subaru            0.002202\n",
       "porsche           0.002192\n",
       "jeep              0.001932\n",
       "land_rover        0.001589\n",
       "daewoo            0.001533\n",
       "saab              0.001520\n",
       "trabant           0.001490\n",
       "jaguar            0.001477\n",
       "rover             0.001332\n",
       "lancia            0.001322\n",
       "lada              0.000629\n",
       "Name: proportion, dtype: float64"
      ]
     },
     "execution_count": 52,
     "metadata": {},
     "output_type": "execute_result"
    }
   ],
   "source": [
    "autos['brand'].value_counts(normalize=True)"
   ]
  },
  {
   "cell_type": "markdown",
   "id": "a523a47a",
   "metadata": {},
   "source": [
    "### Вывод по исследовательскому анализу данных"
   ]
  },
  {
   "cell_type": "markdown",
   "id": "ebf6ad7b",
   "metadata": {},
   "source": [
    "1. В результате обработки аномальных значений числовых признаков удалось сохранить 95% исходных данных, что является допустимой нормой.\n",
    "\n",
    "- удалены автомобили с нулевым прайсом;\n",
    "\n",
    "- значение power менее 13 л/с заменено на медиану, автомобили с мощьностью более 650 л/с удалены из выборки;\n",
    "\n",
    "- registration_month с нулевыми значениями заполнены медианой;\n",
    "\n",
    "- удалены автомобиль с registration_year более 2016 и мене 1910\n",
    "\n",
    "- колонка number_of_pictures удалена из выборки, так как она содержало только нулевые значения\n",
    "\n",
    "2. В результате анализа категоральных признаков отметим следующее:\n",
    "\n",
    "- наиболее популярные значения vehicle_type: sedan (26%), small (23%), wagon (19%);\n",
    "\n",
    "- 76% автомобилей с механической КПП;\n",
    "\n",
    "- 91% а/м с бензиновым двигателем;\n",
    "\n",
    "- 90% а/м не было в ремонте;\n",
    "\n",
    "- самые популярные модели golf, 3er и неизвестная категория other;\n",
    "\n",
    "- самые популярные бренды volkswagen, opel, bmw"
   ]
  },
  {
   "cell_type": "markdown",
   "id": "c53c7952",
   "metadata": {},
   "source": [
    "## Корреляционный анализ"
   ]
  },
  {
   "cell_type": "code",
   "execution_count": 53,
   "id": "8b226a7c",
   "metadata": {},
   "outputs": [],
   "source": [
    "interval_cols = ['price', 'power']"
   ]
  },
  {
   "cell_type": "code",
   "execution_count": 54,
   "id": "b05291d8",
   "metadata": {},
   "outputs": [
    {
     "data": {
      "image/png": "[encoded data removed]",
      "text/plain": [
       "<Figure size 1000x800 with 2 Axes>"
      ]
     },
     "metadata": {},
     "output_type": "display_data"
    }
   ],
   "source": [
    "fig, axes = plt.subplots(figsize=(10, 8))\n",
    "sns.heatmap(autos.drop(['postal_code',\n",
    "                       'date_crawled',\n",
    "                       'date_created', 'last_seen'], axis=1).phik_matrix(interval_cols = interval_cols),\n",
    "            annot = True,\n",
    "            fmt = '.2f',\n",
    "            cmap='Greens',\n",
    "            ax = axes)\n",
    "plt.title(r'correlation $\\phi_K$')\n",
    "plt.show()"
   ]
  },
  {
   "cell_type": "markdown",
   "id": "a8a95267",
   "metadata": {},
   "source": [
    "### Вывод по корреляционному анализу"
   ]
  },
  {
   "cell_type": "markdown",
   "id": "7654245a",
   "metadata": {},
   "source": [
    "1. Ожидаемая мультикорреляцию между model и brand, что вполне логично. При обучении модели целесообразно избавится от признака brand.\n",
    "\n",
    "2. vehicle_type, также очень сильно коррелирует с model\n",
    "\n",
    "3. С target признаком больше всего коррелируют model, registration_year, power, brand. "
   ]
  },
  {
   "cell_type": "markdown",
   "id": "df818509",
   "metadata": {},
   "source": [
    "## Подготовка и обучение моделей"
   ]
  },
  {
   "cell_type": "markdown",
   "id": "d0292077",
   "metadata": {},
   "source": [
    "### Подготовка данных"
   ]
  },
  {
   "cell_type": "code",
   "execution_count": 55,
   "id": "71add467",
   "metadata": {},
   "outputs": [
    {
     "data": {
      "text/html": [
       "<div>\n",
       "<style scoped>\n",
       "    .dataframe tbody tr th:only-of-type {\n",
       "        vertical-align: middle;\n",
       "    }\n",
       "\n",
       "    .dataframe tbody tr th {\n",
       "        vertical-align: top;\n",
       "    }\n",
       "\n",
       "    .dataframe thead th {\n",
       "        text-align: right;\n",
       "    }\n",
       "</style>\n",
       "<table border=\"1\" class=\"dataframe\">\n",
       "  <thead>\n",
       "    <tr style=\"text-align: right;\">\n",
       "      <th></th>\n",
       "      <th>date_crawled</th>\n",
       "      <th>price</th>\n",
       "      <th>vehicle_type</th>\n",
       "      <th>registration_year</th>\n",
       "      <th>gearbox</th>\n",
       "      <th>power</th>\n",
       "      <th>model</th>\n",
       "      <th>kilometer</th>\n",
       "      <th>registration_month</th>\n",
       "      <th>fuel_type</th>\n",
       "      <th>brand</th>\n",
       "      <th>repaired</th>\n",
       "      <th>date_created</th>\n",
       "      <th>postal_code</th>\n",
       "      <th>last_seen</th>\n",
       "    </tr>\n",
       "  </thead>\n",
       "  <tbody>\n",
       "    <tr>\n",
       "      <th>0</th>\n",
       "      <td>2016-03-24</td>\n",
       "      <td>480</td>\n",
       "      <td>no_info</td>\n",
       "      <td>1993</td>\n",
       "      <td>manual</td>\n",
       "      <td>105.0</td>\n",
       "      <td>golf</td>\n",
       "      <td>150000</td>\n",
       "      <td>6.0</td>\n",
       "      <td>gasoline</td>\n",
       "      <td>volkswagen</td>\n",
       "      <td>no</td>\n",
       "      <td>2016-03-24</td>\n",
       "      <td>70435</td>\n",
       "      <td>2016-04-07</td>\n",
       "    </tr>\n",
       "    <tr>\n",
       "      <th>1</th>\n",
       "      <td>2016-03-24</td>\n",
       "      <td>18300</td>\n",
       "      <td>coupe</td>\n",
       "      <td>2011</td>\n",
       "      <td>manual</td>\n",
       "      <td>190.0</td>\n",
       "      <td>no_info</td>\n",
       "      <td>125000</td>\n",
       "      <td>5.0</td>\n",
       "      <td>gasoline</td>\n",
       "      <td>audi</td>\n",
       "      <td>yes</td>\n",
       "      <td>2016-03-24</td>\n",
       "      <td>66954</td>\n",
       "      <td>2016-04-07</td>\n",
       "    </tr>\n",
       "    <tr>\n",
       "      <th>2</th>\n",
       "      <td>2016-03-14</td>\n",
       "      <td>9800</td>\n",
       "      <td>suv</td>\n",
       "      <td>2004</td>\n",
       "      <td>auto</td>\n",
       "      <td>163.0</td>\n",
       "      <td>grand</td>\n",
       "      <td>125000</td>\n",
       "      <td>8.0</td>\n",
       "      <td>gasoline</td>\n",
       "      <td>jeep</td>\n",
       "      <td>no</td>\n",
       "      <td>2016-03-14</td>\n",
       "      <td>90480</td>\n",
       "      <td>2016-04-05</td>\n",
       "    </tr>\n",
       "    <tr>\n",
       "      <th>3</th>\n",
       "      <td>2016-03-17</td>\n",
       "      <td>1500</td>\n",
       "      <td>small</td>\n",
       "      <td>2001</td>\n",
       "      <td>manual</td>\n",
       "      <td>75.0</td>\n",
       "      <td>golf</td>\n",
       "      <td>150000</td>\n",
       "      <td>6.0</td>\n",
       "      <td>gasoline</td>\n",
       "      <td>volkswagen</td>\n",
       "      <td>no</td>\n",
       "      <td>2016-03-17</td>\n",
       "      <td>91074</td>\n",
       "      <td>2016-03-17</td>\n",
       "    </tr>\n",
       "    <tr>\n",
       "      <th>4</th>\n",
       "      <td>2016-03-31</td>\n",
       "      <td>3600</td>\n",
       "      <td>small</td>\n",
       "      <td>2008</td>\n",
       "      <td>manual</td>\n",
       "      <td>69.0</td>\n",
       "      <td>fabia</td>\n",
       "      <td>90000</td>\n",
       "      <td>7.0</td>\n",
       "      <td>gasoline</td>\n",
       "      <td>skoda</td>\n",
       "      <td>no</td>\n",
       "      <td>2016-03-31</td>\n",
       "      <td>60437</td>\n",
       "      <td>2016-04-06</td>\n",
       "    </tr>\n",
       "  </tbody>\n",
       "</table>\n",
       "</div>"
      ],
      "text/plain": [
       "  date_crawled  price vehicle_type  registration_year gearbox  power    model   \n",
       "0   2016-03-24    480      no_info               1993  manual  105.0     golf  \\\n",
       "1   2016-03-24  18300        coupe               2011  manual  190.0  no_info   \n",
       "2   2016-03-14   9800          suv               2004    auto  163.0    grand   \n",
       "3   2016-03-17   1500        small               2001  manual   75.0     golf   \n",
       "4   2016-03-31   3600        small               2008  manual   69.0    fabia   \n",
       "\n",
       "   kilometer  registration_month fuel_type       brand repaired date_created   \n",
       "0     150000                 6.0  gasoline  volkswagen       no   2016-03-24  \\\n",
       "1     125000                 5.0  gasoline        audi      yes   2016-03-24   \n",
       "2     125000                 8.0  gasoline        jeep       no   2016-03-14   \n",
       "3     150000                 6.0  gasoline  volkswagen       no   2016-03-17   \n",
       "4      90000                 7.0  gasoline       skoda       no   2016-03-31   \n",
       "\n",
       "   postal_code  last_seen  \n",
       "0        70435 2016-04-07  \n",
       "1        66954 2016-04-07  \n",
       "2        90480 2016-04-05  \n",
       "3        91074 2016-03-17  \n",
       "4        60437 2016-04-06  "
      ]
     },
     "execution_count": 55,
     "metadata": {},
     "output_type": "execute_result"
    }
   ],
   "source": [
    "autos.head(5)"
   ]
  },
  {
   "cell_type": "markdown",
   "id": "1f24669a",
   "metadata": {},
   "source": [
    "Удаляем лишние признаки, проверим и удалим дубликаты:"
   ]
  },
  {
   "cell_type": "code",
   "execution_count": 56,
   "id": "ad8998f6",
   "metadata": {},
   "outputs": [],
   "source": [
    "data = autos.drop(['date_crawled',\n",
    "                   'vehicle_type',\n",
    "                   'brand',\n",
    "                   'registration_month',\n",
    "                   'date_created',\n",
    "                   'postal_code',\n",
    "                   'last_seen'\n",
    "                   ], axis=1)"
   ]
  },
  {
   "cell_type": "code",
   "execution_count": 57,
   "id": "f6c8cc56",
   "metadata": {},
   "outputs": [
    {
     "data": {
      "text/plain": [
       "54509"
      ]
     },
     "execution_count": 57,
     "metadata": {},
     "output_type": "execute_result"
    }
   ],
   "source": [
    "data.duplicated().sum()"
   ]
  },
  {
   "cell_type": "code",
   "execution_count": 58,
   "id": "8e06e345",
   "metadata": {},
   "outputs": [],
   "source": [
    "data = data.drop_duplicates()"
   ]
  },
  {
   "cell_type": "code",
   "execution_count": 59,
   "id": "0663b21e",
   "metadata": {
    "scrolled": true
   },
   "outputs": [
    {
     "data": {
      "text/plain": [
       "(268413, 8)"
      ]
     },
     "execution_count": 59,
     "metadata": {},
     "output_type": "execute_result"
    }
   ],
   "source": [
    "data.shape"
   ]
  },
  {
   "cell_type": "markdown",
   "id": "0819f7f5",
   "metadata": {},
   "source": [
    "### Обучение линейных моделей"
   ]
  },
  {
   "cell_type": "code",
   "execution_count": 60,
   "id": "f5b905d0",
   "metadata": {},
   "outputs": [],
   "source": [
    "X = data.drop('price', axis=1)\n",
    "y = data['price']"
   ]
  },
  {
   "cell_type": "code",
   "execution_count": 61,
   "id": "6b191d06",
   "metadata": {},
   "outputs": [],
   "source": [
    "num_col = X.select_dtypes(include='number').columns.tolist()\n",
    "cat_col = X.select_dtypes(exclude='number').columns.tolist()"
   ]
  },
  {
   "cell_type": "code",
   "execution_count": 62,
   "id": "a8e1d06a",
   "metadata": {},
   "outputs": [
    {
     "data": {
      "text/plain": [
       "['registration_year', 'power', 'kilometer']"
      ]
     },
     "execution_count": 62,
     "metadata": {},
     "output_type": "execute_result"
    }
   ],
   "source": [
    "num_col"
   ]
  },
  {
   "cell_type": "code",
   "execution_count": 63,
   "id": "e7fe0512",
   "metadata": {},
   "outputs": [
    {
     "data": {
      "text/plain": [
       "['gearbox', 'model', 'fuel_type', 'repaired']"
      ]
     },
     "execution_count": 63,
     "metadata": {},
     "output_type": "execute_result"
    }
   ],
   "source": [
    "cat_col"
   ]
  },
  {
   "cell_type": "code",
   "execution_count": 64,
   "id": "7f475015",
   "metadata": {},
   "outputs": [],
   "source": [
    "X_train, X_test, y_train, y_test = train_test_split(\n",
    "    X,\n",
    "    y,\n",
    "    test_size = TEST_SIZE,\n",
    "    random_state = RANDOM_STATE\n",
    ")"
   ]
  },
  {
   "cell_type": "code",
   "execution_count": 65,
   "id": "4163afc5",
   "metadata": {},
   "outputs": [],
   "source": [
    "ohe_columns = ['fuel_type']\n",
    "ord_columns = ['model', 'gearbox', 'repaired']\n",
    "num_columns = num_col"
   ]
  },
  {
   "cell_type": "code",
   "execution_count": 66,
   "id": "a8f58098",
   "metadata": {},
   "outputs": [],
   "source": [
    "ohe_pipe = Pipeline(\n",
    "    [(\n",
    "        'simpleImputer_ohe',\n",
    "        SimpleImputer(\n",
    "            missing_values=np.nan,\n",
    "            strategy='most_frequent'\n",
    "        )\n",
    "    ),\n",
    "     (\n",
    "         'ohe',\n",
    "         OneHotEncoder(\n",
    "             drop='first',\n",
    "             handle_unknown='ignore',\n",
    "             sparse=False\n",
    "         )\n",
    "     )\n",
    "    ]\n",
    ")"
   ]
  },
  {
   "cell_type": "code",
   "execution_count": 67,
   "id": "957db950",
   "metadata": {},
   "outputs": [],
   "source": [
    "ord_pipe = Pipeline(\n",
    "    [(\n",
    "        'simpleImputer_before_ord',\n",
    "        SimpleImputer(\n",
    "            missing_values=np.nan,\n",
    "            strategy='most_frequent'\n",
    "        )\n",
    "    ),\n",
    "     (\n",
    "         'ord',\n",
    "         OrdinalEncoder(\n",
    "                       handle_unknown='use_encoded_value',\n",
    "                        \n",
    "                        unknown_value=np.nan\n",
    "            )\n",
    "        ),\n",
    "     (\n",
    "         'simpleImputer_after_ord',\n",
    "         SimpleImputer(\n",
    "             missing_values=np.nan,\n",
    "             strategy='most_frequent'\n",
    "         )\n",
    "     )\n",
    "    ]\n",
    ")"
   ]
  },
  {
   "cell_type": "code",
   "execution_count": 68,
   "id": "5f295a46",
   "metadata": {},
   "outputs": [],
   "source": [
    "data_preprocessor = ColumnTransformer(\n",
    "    [\n",
    "        ('ohe', ohe_pipe, ohe_columns),\n",
    "        ('ord', ord_pipe, ord_columns),\n",
    "        ('num', StandardScaler(), num_columns)\n",
    "    ],\n",
    "    remainder='passthrough'\n",
    ")"
   ]
  },
  {
   "cell_type": "code",
   "execution_count": 69,
   "id": "a8086d86",
   "metadata": {},
   "outputs": [],
   "source": [
    "pipe_final = Pipeline([\n",
    "    ('preprocessor', data_preprocessor),\n",
    "    ('models', LinearRegression()\n",
    "    )\n",
    "])"
   ]
  },
  {
   "cell_type": "code",
   "execution_count": 70,
   "id": "47075bc2",
   "metadata": {},
   "outputs": [],
   "source": [
    "param_grid = [\n",
    "    \n",
    "    # словарь для модели LinearRegression()\n",
    "    {\n",
    "        'models': [LinearRegression()],  \n",
    "        \n",
    "        'preprocessor__num': [StandardScaler(), MinMaxScaler(), 'passthrough']  \n",
    "    }\n",
    "]"
   ]
  },
  {
   "cell_type": "code",
   "execution_count": 71,
   "id": "f2643959",
   "metadata": {},
   "outputs": [],
   "source": [
    "randomized_search = RandomizedSearchCV(\n",
    "    pipe_final,\n",
    "    param_grid,\n",
    "    cv = 5,\n",
    "    n_iter=5,\n",
    "    scoring = 'neg_root_mean_squared_error',\n",
    "    random_state = RANDOM_STATE,\n",
    "    n_jobs = -1\n",
    ")"
   ]
  },
  {
   "cell_type": "code",
   "execution_count": 72,
   "id": "83d7ea50",
   "metadata": {},
   "outputs": [
    {
     "data": {
      "text/html": [
       "<style>#sk-container-id-1 {color: black;background-color: white;}#sk-container-id-1 pre{padding: 0;}#sk-container-id-1 div.sk-toggleable {background-color: white;}#sk-container-id-1 label.sk-toggleable__label {cursor: pointer;display: block;width: 100%;margin-bottom: 0;padding: 0.3em;box-sizing: border-box;text-align: center;}#sk-container-id-1 label.sk-toggleable__label-arrow:before {content: \"▸\";float: left;margin-right: 0.25em;color: #696969;}#sk-container-id-1 label.sk-toggleable__label-arrow:hover:before {color: black;}#sk-container-id-1 div.sk-estimator:hover label.sk-toggleable__label-arrow:before {color: black;}#sk-container-id-1 div.sk-toggleable__content {max-height: 0;max-width: 0;overflow: hidden;text-align: left;background-color: #f0f8ff;}#sk-container-id-1 div.sk-toggleable__content pre {margin: 0.2em;color: black;border-radius: 0.25em;background-color: #f0f8ff;}#sk-container-id-1 input.sk-toggleable__control:checked~div.sk-toggleable__content {max-height: 200px;max-width: 100%;overflow: auto;}#sk-container-id-1 input.sk-toggleable__control:checked~label.sk-toggleable__label-arrow:before {content: \"▾\";}#sk-container-id-1 div.sk-estimator input.sk-toggleable__control:checked~label.sk-toggleable__label {background-color: #d4ebff;}#sk-container-id-1 div.sk-label input.sk-toggleable__control:checked~label.sk-toggleable__label {background-color: #d4ebff;}#sk-container-id-1 input.sk-hidden--visually {border: 0;clip: rect(1px 1px 1px 1px);clip: rect(1px, 1px, 1px, 1px);height: 1px;margin: -1px;overflow: hidden;padding: 0;position: absolute;width: 1px;}#sk-container-id-1 div.sk-estimator {font-family: monospace;background-color: #f0f8ff;border: 1px dotted black;border-radius: 0.25em;box-sizing: border-box;margin-bottom: 0.5em;}#sk-container-id-1 div.sk-estimator:hover {background-color: #d4ebff;}#sk-container-id-1 div.sk-parallel-item::after {content: \"\";width: 100%;border-bottom: 1px solid gray;flex-grow: 1;}#sk-container-id-1 div.sk-label:hover label.sk-toggleable__label {background-color: #d4ebff;}#sk-container-id-1 div.sk-serial::before {content: \"\";position: absolute;border-left: 1px solid gray;box-sizing: border-box;top: 0;bottom: 0;left: 50%;z-index: 0;}#sk-container-id-1 div.sk-serial {display: flex;flex-direction: column;align-items: center;background-color: white;padding-right: 0.2em;padding-left: 0.2em;position: relative;}#sk-container-id-1 div.sk-item {position: relative;z-index: 1;}#sk-container-id-1 div.sk-parallel {display: flex;align-items: stretch;justify-content: center;background-color: white;position: relative;}#sk-container-id-1 div.sk-item::before, #sk-container-id-1 div.sk-parallel-item::before {content: \"\";position: absolute;border-left: 1px solid gray;box-sizing: border-box;top: 0;bottom: 0;left: 50%;z-index: -1;}#sk-container-id-1 div.sk-parallel-item {display: flex;flex-direction: column;z-index: 1;position: relative;background-color: white;}#sk-container-id-1 div.sk-parallel-item:first-child::after {align-self: flex-end;width: 50%;}#sk-container-id-1 div.sk-parallel-item:last-child::after {align-self: flex-start;width: 50%;}#sk-container-id-1 div.sk-parallel-item:only-child::after {width: 0;}#sk-container-id-1 div.sk-dashed-wrapped {border: 1px dashed gray;margin: 0 0.4em 0.5em 0.4em;box-sizing: border-box;padding-bottom: 0.4em;background-color: white;}#sk-container-id-1 div.sk-label label {font-family: monospace;font-weight: bold;display: inline-block;line-height: 1.2em;}#sk-container-id-1 div.sk-label-container {text-align: center;}#sk-container-id-1 div.sk-container {/* jupyter's `normalize.less` sets `[hidden] { display: none; }` but bootstrap.min.css set `[hidden] { display: none !important; }` so we also need the `!important` here to be able to override the default hidden behavior on the sphinx rendered scikit-learn.org. See: https://github.com/scikit-learn/scikit-learn/issues/21755 */display: inline-block !important;position: relative;}#sk-container-id-1 div.sk-text-repr-fallback {display: none;}</style><div id=\"sk-container-id-1\" class=\"sk-top-container\"><div class=\"sk-text-repr-fallback\"><pre>RandomizedSearchCV(cv=5,\n",
       "                   estimator=Pipeline(steps=[(&#x27;preprocessor&#x27;,\n",
       "                                              ColumnTransformer(remainder=&#x27;passthrough&#x27;,\n",
       "                                                                transformers=[(&#x27;ohe&#x27;,\n",
       "                                                                               Pipeline(steps=[(&#x27;simpleImputer_ohe&#x27;,\n",
       "                                                                                                SimpleImputer(strategy=&#x27;most_frequent&#x27;)),\n",
       "                                                                                               (&#x27;ohe&#x27;,\n",
       "                                                                                                OneHotEncoder(drop=&#x27;first&#x27;,\n",
       "                                                                                                              handle_unknown=&#x27;ignore&#x27;,\n",
       "                                                                                                              sparse=False))]),\n",
       "                                                                               [&#x27;fuel_type&#x27;]),\n",
       "                                                                              (&#x27;ord&#x27;,\n",
       "                                                                               Pipeline(steps=[(&#x27;simpleImputer_before_ord&#x27;,\n",
       "                                                                                                Si...\n",
       "                                                                                                SimpleImputer(strategy=&#x27;most_frequent&#x27;))]),\n",
       "                                                                               [&#x27;model&#x27;,\n",
       "                                                                                &#x27;gearbox&#x27;,\n",
       "                                                                                &#x27;repaired&#x27;]),\n",
       "                                                                              (&#x27;num&#x27;,\n",
       "                                                                               StandardScaler(),\n",
       "                                                                               [&#x27;registration_year&#x27;,\n",
       "                                                                                &#x27;power&#x27;,\n",
       "                                                                                &#x27;kilometer&#x27;])])),\n",
       "                                             (&#x27;models&#x27;, LinearRegression())]),\n",
       "                   n_iter=5, n_jobs=-1,\n",
       "                   param_distributions=[{&#x27;models&#x27;: [LinearRegression()],\n",
       "                                         &#x27;preprocessor__num&#x27;: [StandardScaler(),\n",
       "                                                               MinMaxScaler(),\n",
       "                                                               &#x27;passthrough&#x27;]}],\n",
       "                   random_state=42, scoring=&#x27;neg_root_mean_squared_error&#x27;)</pre><b>In a Jupyter environment, please rerun this cell to show the HTML representation or trust the notebook. <br />On GitHub, the HTML representation is unable to render, please try loading this page with nbviewer.org.</b></div><div class=\"sk-container\" hidden><div class=\"sk-item sk-dashed-wrapped\"><div class=\"sk-label-container\"><div class=\"sk-label sk-toggleable\"><input class=\"sk-toggleable__control sk-hidden--visually\" id=\"sk-estimator-id-1\" type=\"checkbox\" ><label for=\"sk-estimator-id-1\" class=\"sk-toggleable__label sk-toggleable__label-arrow\">RandomizedSearchCV</label><div class=\"sk-toggleable__content\"><pre>RandomizedSearchCV(cv=5,\n",
       "                   estimator=Pipeline(steps=[(&#x27;preprocessor&#x27;,\n",
       "                                              ColumnTransformer(remainder=&#x27;passthrough&#x27;,\n",
       "                                                                transformers=[(&#x27;ohe&#x27;,\n",
       "                                                                               Pipeline(steps=[(&#x27;simpleImputer_ohe&#x27;,\n",
       "                                                                                                SimpleImputer(strategy=&#x27;most_frequent&#x27;)),\n",
       "                                                                                               (&#x27;ohe&#x27;,\n",
       "                                                                                                OneHotEncoder(drop=&#x27;first&#x27;,\n",
       "                                                                                                              handle_unknown=&#x27;ignore&#x27;,\n",
       "                                                                                                              sparse=False))]),\n",
       "                                                                               [&#x27;fuel_type&#x27;]),\n",
       "                                                                              (&#x27;ord&#x27;,\n",
       "                                                                               Pipeline(steps=[(&#x27;simpleImputer_before_ord&#x27;,\n",
       "                                                                                                Si...\n",
       "                                                                                                SimpleImputer(strategy=&#x27;most_frequent&#x27;))]),\n",
       "                                                                               [&#x27;model&#x27;,\n",
       "                                                                                &#x27;gearbox&#x27;,\n",
       "                                                                                &#x27;repaired&#x27;]),\n",
       "                                                                              (&#x27;num&#x27;,\n",
       "                                                                               StandardScaler(),\n",
       "                                                                               [&#x27;registration_year&#x27;,\n",
       "                                                                                &#x27;power&#x27;,\n",
       "                                                                                &#x27;kilometer&#x27;])])),\n",
       "                                             (&#x27;models&#x27;, LinearRegression())]),\n",
       "                   n_iter=5, n_jobs=-1,\n",
       "                   param_distributions=[{&#x27;models&#x27;: [LinearRegression()],\n",
       "                                         &#x27;preprocessor__num&#x27;: [StandardScaler(),\n",
       "                                                               MinMaxScaler(),\n",
       "                                                               &#x27;passthrough&#x27;]}],\n",
       "                   random_state=42, scoring=&#x27;neg_root_mean_squared_error&#x27;)</pre></div></div></div><div class=\"sk-parallel\"><div class=\"sk-parallel-item\"><div class=\"sk-item\"><div class=\"sk-label-container\"><div class=\"sk-label sk-toggleable\"><input class=\"sk-toggleable__control sk-hidden--visually\" id=\"sk-estimator-id-2\" type=\"checkbox\" ><label for=\"sk-estimator-id-2\" class=\"sk-toggleable__label sk-toggleable__label-arrow\">estimator: Pipeline</label><div class=\"sk-toggleable__content\"><pre>Pipeline(steps=[(&#x27;preprocessor&#x27;,\n",
       "                 ColumnTransformer(remainder=&#x27;passthrough&#x27;,\n",
       "                                   transformers=[(&#x27;ohe&#x27;,\n",
       "                                                  Pipeline(steps=[(&#x27;simpleImputer_ohe&#x27;,\n",
       "                                                                   SimpleImputer(strategy=&#x27;most_frequent&#x27;)),\n",
       "                                                                  (&#x27;ohe&#x27;,\n",
       "                                                                   OneHotEncoder(drop=&#x27;first&#x27;,\n",
       "                                                                                 handle_unknown=&#x27;ignore&#x27;,\n",
       "                                                                                 sparse=False))]),\n",
       "                                                  [&#x27;fuel_type&#x27;]),\n",
       "                                                 (&#x27;ord&#x27;,\n",
       "                                                  Pipeline(steps=[(&#x27;simpleImputer_before_ord&#x27;,\n",
       "                                                                   SimpleImputer(strategy=&#x27;most_frequent&#x27;)),\n",
       "                                                                  (&#x27;ord&#x27;,\n",
       "                                                                   OrdinalEncoder(handle_unknown=&#x27;use_encoded_value&#x27;,\n",
       "                                                                                  unknown_value=nan)),\n",
       "                                                                  (&#x27;simpleImputer_after_ord&#x27;,\n",
       "                                                                   SimpleImputer(strategy=&#x27;most_frequent&#x27;))]),\n",
       "                                                  [&#x27;model&#x27;, &#x27;gearbox&#x27;,\n",
       "                                                   &#x27;repaired&#x27;]),\n",
       "                                                 (&#x27;num&#x27;, StandardScaler(),\n",
       "                                                  [&#x27;registration_year&#x27;, &#x27;power&#x27;,\n",
       "                                                   &#x27;kilometer&#x27;])])),\n",
       "                (&#x27;models&#x27;, LinearRegression())])</pre></div></div></div><div class=\"sk-serial\"><div class=\"sk-item\"><div class=\"sk-serial\"><div class=\"sk-item sk-dashed-wrapped\"><div class=\"sk-label-container\"><div class=\"sk-label sk-toggleable\"><input class=\"sk-toggleable__control sk-hidden--visually\" id=\"sk-estimator-id-3\" type=\"checkbox\" ><label for=\"sk-estimator-id-3\" class=\"sk-toggleable__label sk-toggleable__label-arrow\">preprocessor: ColumnTransformer</label><div class=\"sk-toggleable__content\"><pre>ColumnTransformer(remainder=&#x27;passthrough&#x27;,\n",
       "                  transformers=[(&#x27;ohe&#x27;,\n",
       "                                 Pipeline(steps=[(&#x27;simpleImputer_ohe&#x27;,\n",
       "                                                  SimpleImputer(strategy=&#x27;most_frequent&#x27;)),\n",
       "                                                 (&#x27;ohe&#x27;,\n",
       "                                                  OneHotEncoder(drop=&#x27;first&#x27;,\n",
       "                                                                handle_unknown=&#x27;ignore&#x27;,\n",
       "                                                                sparse=False))]),\n",
       "                                 [&#x27;fuel_type&#x27;]),\n",
       "                                (&#x27;ord&#x27;,\n",
       "                                 Pipeline(steps=[(&#x27;simpleImputer_before_ord&#x27;,\n",
       "                                                  SimpleImputer(strategy=&#x27;most_frequent&#x27;)),\n",
       "                                                 (&#x27;ord&#x27;,\n",
       "                                                  OrdinalEncoder(handle_unknown=&#x27;use_encoded_value&#x27;,\n",
       "                                                                 unknown_value=nan)),\n",
       "                                                 (&#x27;simpleImputer_after_ord&#x27;,\n",
       "                                                  SimpleImputer(strategy=&#x27;most_frequent&#x27;))]),\n",
       "                                 [&#x27;model&#x27;, &#x27;gearbox&#x27;, &#x27;repaired&#x27;]),\n",
       "                                (&#x27;num&#x27;, StandardScaler(),\n",
       "                                 [&#x27;registration_year&#x27;, &#x27;power&#x27;, &#x27;kilometer&#x27;])])</pre></div></div></div><div class=\"sk-parallel\"><div class=\"sk-parallel-item\"><div class=\"sk-item\"><div class=\"sk-label-container\"><div class=\"sk-label sk-toggleable\"><input class=\"sk-toggleable__control sk-hidden--visually\" id=\"sk-estimator-id-4\" type=\"checkbox\" ><label for=\"sk-estimator-id-4\" class=\"sk-toggleable__label sk-toggleable__label-arrow\">ohe</label><div class=\"sk-toggleable__content\"><pre>[&#x27;fuel_type&#x27;]</pre></div></div></div><div class=\"sk-serial\"><div class=\"sk-item\"><div class=\"sk-serial\"><div class=\"sk-item\"><div class=\"sk-estimator sk-toggleable\"><input class=\"sk-toggleable__control sk-hidden--visually\" id=\"sk-estimator-id-5\" type=\"checkbox\" ><label for=\"sk-estimator-id-5\" class=\"sk-toggleable__label sk-toggleable__label-arrow\">SimpleImputer</label><div class=\"sk-toggleable__content\"><pre>SimpleImputer(strategy=&#x27;most_frequent&#x27;)</pre></div></div></div><div class=\"sk-item\"><div class=\"sk-estimator sk-toggleable\"><input class=\"sk-toggleable__control sk-hidden--visually\" id=\"sk-estimator-id-6\" type=\"checkbox\" ><label for=\"sk-estimator-id-6\" class=\"sk-toggleable__label sk-toggleable__label-arrow\">OneHotEncoder</label><div class=\"sk-toggleable__content\"><pre>OneHotEncoder(drop=&#x27;first&#x27;, handle_unknown=&#x27;ignore&#x27;, sparse=False)</pre></div></div></div></div></div></div></div></div><div class=\"sk-parallel-item\"><div class=\"sk-item\"><div class=\"sk-label-container\"><div class=\"sk-label sk-toggleable\"><input class=\"sk-toggleable__control sk-hidden--visually\" id=\"sk-estimator-id-7\" type=\"checkbox\" ><label for=\"sk-estimator-id-7\" class=\"sk-toggleable__label sk-toggleable__label-arrow\">ord</label><div class=\"sk-toggleable__content\"><pre>[&#x27;model&#x27;, &#x27;gearbox&#x27;, &#x27;repaired&#x27;]</pre></div></div></div><div class=\"sk-serial\"><div class=\"sk-item\"><div class=\"sk-serial\"><div class=\"sk-item\"><div class=\"sk-estimator sk-toggleable\"><input class=\"sk-toggleable__control sk-hidden--visually\" id=\"sk-estimator-id-8\" type=\"checkbox\" ><label for=\"sk-estimator-id-8\" class=\"sk-toggleable__label sk-toggleable__label-arrow\">SimpleImputer</label><div class=\"sk-toggleable__content\"><pre>SimpleImputer(strategy=&#x27;most_frequent&#x27;)</pre></div></div></div><div class=\"sk-item\"><div class=\"sk-estimator sk-toggleable\"><input class=\"sk-toggleable__control sk-hidden--visually\" id=\"sk-estimator-id-9\" type=\"checkbox\" ><label for=\"sk-estimator-id-9\" class=\"sk-toggleable__label sk-toggleable__label-arrow\">OrdinalEncoder</label><div class=\"sk-toggleable__content\"><pre>OrdinalEncoder(handle_unknown=&#x27;use_encoded_value&#x27;, unknown_value=nan)</pre></div></div></div><div class=\"sk-item\"><div class=\"sk-estimator sk-toggleable\"><input class=\"sk-toggleable__control sk-hidden--visually\" id=\"sk-estimator-id-10\" type=\"checkbox\" ><label for=\"sk-estimator-id-10\" class=\"sk-toggleable__label sk-toggleable__label-arrow\">SimpleImputer</label><div class=\"sk-toggleable__content\"><pre>SimpleImputer(strategy=&#x27;most_frequent&#x27;)</pre></div></div></div></div></div></div></div></div><div class=\"sk-parallel-item\"><div class=\"sk-item\"><div class=\"sk-label-container\"><div class=\"sk-label sk-toggleable\"><input class=\"sk-toggleable__control sk-hidden--visually\" id=\"sk-estimator-id-11\" type=\"checkbox\" ><label for=\"sk-estimator-id-11\" class=\"sk-toggleable__label sk-toggleable__label-arrow\">num</label><div class=\"sk-toggleable__content\"><pre>[&#x27;registration_year&#x27;, &#x27;power&#x27;, &#x27;kilometer&#x27;]</pre></div></div></div><div class=\"sk-serial\"><div class=\"sk-item\"><div class=\"sk-estimator sk-toggleable\"><input class=\"sk-toggleable__control sk-hidden--visually\" id=\"sk-estimator-id-12\" type=\"checkbox\" ><label for=\"sk-estimator-id-12\" class=\"sk-toggleable__label sk-toggleable__label-arrow\">StandardScaler</label><div class=\"sk-toggleable__content\"><pre>StandardScaler()</pre></div></div></div></div></div></div><div class=\"sk-parallel-item\"><div class=\"sk-item\"><div class=\"sk-label-container\"><div class=\"sk-label sk-toggleable\"><input class=\"sk-toggleable__control sk-hidden--visually\" id=\"sk-estimator-id-13\" type=\"checkbox\" ><label for=\"sk-estimator-id-13\" class=\"sk-toggleable__label sk-toggleable__label-arrow\">remainder</label><div class=\"sk-toggleable__content\"><pre></pre></div></div></div><div class=\"sk-serial\"><div class=\"sk-item\"><div class=\"sk-estimator sk-toggleable\"><input class=\"sk-toggleable__control sk-hidden--visually\" id=\"sk-estimator-id-14\" type=\"checkbox\" ><label for=\"sk-estimator-id-14\" class=\"sk-toggleable__label sk-toggleable__label-arrow\">passthrough</label><div class=\"sk-toggleable__content\"><pre>passthrough</pre></div></div></div></div></div></div></div></div><div class=\"sk-item\"><div class=\"sk-estimator sk-toggleable\"><input class=\"sk-toggleable__control sk-hidden--visually\" id=\"sk-estimator-id-15\" type=\"checkbox\" ><label for=\"sk-estimator-id-15\" class=\"sk-toggleable__label sk-toggleable__label-arrow\">LinearRegression</label><div class=\"sk-toggleable__content\"><pre>LinearRegression()</pre></div></div></div></div></div></div></div></div></div></div></div></div>"
      ],
      "text/plain": [
       "RandomizedSearchCV(cv=5,\n",
       "                   estimator=Pipeline(steps=[('preprocessor',\n",
       "                                              ColumnTransformer(remainder='passthrough',\n",
       "                                                                transformers=[('ohe',\n",
       "                                                                               Pipeline(steps=[('simpleImputer_ohe',\n",
       "                                                                                                SimpleImputer(strategy='most_frequent')),\n",
       "                                                                                               ('ohe',\n",
       "                                                                                                OneHotEncoder(drop='first',\n",
       "                                                                                                              handle_unknown='ignore',\n",
       "                                                                                                              sparse=False))]),\n",
       "                                                                               ['fuel_type']),\n",
       "                                                                              ('ord',\n",
       "                                                                               Pipeline(steps=[('simpleImputer_before_ord',\n",
       "                                                                                                Si...\n",
       "                                                                                                SimpleImputer(strategy='most_frequent'))]),\n",
       "                                                                               ['model',\n",
       "                                                                                'gearbox',\n",
       "                                                                                'repaired']),\n",
       "                                                                              ('num',\n",
       "                                                                               StandardScaler(),\n",
       "                                                                               ['registration_year',\n",
       "                                                                                'power',\n",
       "                                                                                'kilometer'])])),\n",
       "                                             ('models', LinearRegression())]),\n",
       "                   n_iter=5, n_jobs=-1,\n",
       "                   param_distributions=[{'models': [LinearRegression()],\n",
       "                                         'preprocessor__num': [StandardScaler(),\n",
       "                                                               MinMaxScaler(),\n",
       "                                                               'passthrough']}],\n",
       "                   random_state=42, scoring='neg_root_mean_squared_error')"
      ]
     },
     "execution_count": 72,
     "metadata": {},
     "output_type": "execute_result"
    }
   ],
   "source": [
    "randomized_search.fit(X_train, y_train)"
   ]
  },
  {
   "cell_type": "code",
   "execution_count": 73,
   "id": "382d21ff",
   "metadata": {},
   "outputs": [],
   "source": [
    "rs = []"
   ]
  },
  {
   "cell_type": "code",
   "execution_count": 74,
   "id": "bc963422",
   "metadata": {},
   "outputs": [],
   "source": [
    "rs.append(randomized_search)"
   ]
  },
  {
   "cell_type": "markdown",
   "id": "3a981878",
   "metadata": {},
   "source": [
    "### Модель LightGBM"
   ]
  },
  {
   "cell_type": "code",
   "execution_count": 75,
   "id": "c8ff4ff2",
   "metadata": {},
   "outputs": [],
   "source": [
    "X_train[cat_col] = X_train[cat_col].astype('category')\n",
    "X_test[cat_col] = X_test[cat_col].astype('category')"
   ]
  },
  {
   "cell_type": "code",
   "execution_count": 76,
   "id": "b22ba236",
   "metadata": {},
   "outputs": [
    {
     "name": "stdout",
     "output_type": "stream",
     "text": [
      "<class 'pandas.core.frame.DataFrame'>\n",
      "Index: 201309 entries, 97746 to 144588\n",
      "Data columns (total 7 columns):\n",
      " #   Column             Non-Null Count   Dtype   \n",
      "---  ------             --------------   -----   \n",
      " 0   registration_year  201309 non-null  int64   \n",
      " 1   gearbox            201309 non-null  category\n",
      " 2   power              201309 non-null  float64 \n",
      " 3   model              201309 non-null  category\n",
      " 4   kilometer          201309 non-null  int64   \n",
      " 5   fuel_type          201309 non-null  category\n",
      " 6   repaired           201309 non-null  category\n",
      "dtypes: category(4), float64(1), int64(2)\n",
      "memory usage: 7.1 MB\n"
     ]
    }
   ],
   "source": [
    "X_train.info()"
   ]
  },
  {
   "cell_type": "code",
   "execution_count": 77,
   "id": "c0add0d1",
   "metadata": {},
   "outputs": [],
   "source": [
    "lgbm_model = LGBMRegressor(objective='root_mean_squared_error',\n",
    "                           random_state=RANDOM_STATE,\n",
    "                           verbose=-1)"
   ]
  },
  {
   "cell_type": "code",
   "execution_count": 78,
   "id": "8e977763",
   "metadata": {},
   "outputs": [
    {
     "data": {
      "text/html": [
       "<style>#sk-container-id-2 {color: black;background-color: white;}#sk-container-id-2 pre{padding: 0;}#sk-container-id-2 div.sk-toggleable {background-color: white;}#sk-container-id-2 label.sk-toggleable__label {cursor: pointer;display: block;width: 100%;margin-bottom: 0;padding: 0.3em;box-sizing: border-box;text-align: center;}#sk-container-id-2 label.sk-toggleable__label-arrow:before {content: \"▸\";float: left;margin-right: 0.25em;color: #696969;}#sk-container-id-2 label.sk-toggleable__label-arrow:hover:before {color: black;}#sk-container-id-2 div.sk-estimator:hover label.sk-toggleable__label-arrow:before {color: black;}#sk-container-id-2 div.sk-toggleable__content {max-height: 0;max-width: 0;overflow: hidden;text-align: left;background-color: #f0f8ff;}#sk-container-id-2 div.sk-toggleable__content pre {margin: 0.2em;color: black;border-radius: 0.25em;background-color: #f0f8ff;}#sk-container-id-2 input.sk-toggleable__control:checked~div.sk-toggleable__content {max-height: 200px;max-width: 100%;overflow: auto;}#sk-container-id-2 input.sk-toggleable__control:checked~label.sk-toggleable__label-arrow:before {content: \"▾\";}#sk-container-id-2 div.sk-estimator input.sk-toggleable__control:checked~label.sk-toggleable__label {background-color: #d4ebff;}#sk-container-id-2 div.sk-label input.sk-toggleable__control:checked~label.sk-toggleable__label {background-color: #d4ebff;}#sk-container-id-2 input.sk-hidden--visually {border: 0;clip: rect(1px 1px 1px 1px);clip: rect(1px, 1px, 1px, 1px);height: 1px;margin: -1px;overflow: hidden;padding: 0;position: absolute;width: 1px;}#sk-container-id-2 div.sk-estimator {font-family: monospace;background-color: #f0f8ff;border: 1px dotted black;border-radius: 0.25em;box-sizing: border-box;margin-bottom: 0.5em;}#sk-container-id-2 div.sk-estimator:hover {background-color: #d4ebff;}#sk-container-id-2 div.sk-parallel-item::after {content: \"\";width: 100%;border-bottom: 1px solid gray;flex-grow: 1;}#sk-container-id-2 div.sk-label:hover label.sk-toggleable__label {background-color: #d4ebff;}#sk-container-id-2 div.sk-serial::before {content: \"\";position: absolute;border-left: 1px solid gray;box-sizing: border-box;top: 0;bottom: 0;left: 50%;z-index: 0;}#sk-container-id-2 div.sk-serial {display: flex;flex-direction: column;align-items: center;background-color: white;padding-right: 0.2em;padding-left: 0.2em;position: relative;}#sk-container-id-2 div.sk-item {position: relative;z-index: 1;}#sk-container-id-2 div.sk-parallel {display: flex;align-items: stretch;justify-content: center;background-color: white;position: relative;}#sk-container-id-2 div.sk-item::before, #sk-container-id-2 div.sk-parallel-item::before {content: \"\";position: absolute;border-left: 1px solid gray;box-sizing: border-box;top: 0;bottom: 0;left: 50%;z-index: -1;}#sk-container-id-2 div.sk-parallel-item {display: flex;flex-direction: column;z-index: 1;position: relative;background-color: white;}#sk-container-id-2 div.sk-parallel-item:first-child::after {align-self: flex-end;width: 50%;}#sk-container-id-2 div.sk-parallel-item:last-child::after {align-self: flex-start;width: 50%;}#sk-container-id-2 div.sk-parallel-item:only-child::after {width: 0;}#sk-container-id-2 div.sk-dashed-wrapped {border: 1px dashed gray;margin: 0 0.4em 0.5em 0.4em;box-sizing: border-box;padding-bottom: 0.4em;background-color: white;}#sk-container-id-2 div.sk-label label {font-family: monospace;font-weight: bold;display: inline-block;line-height: 1.2em;}#sk-container-id-2 div.sk-label-container {text-align: center;}#sk-container-id-2 div.sk-container {/* jupyter's `normalize.less` sets `[hidden] { display: none; }` but bootstrap.min.css set `[hidden] { display: none !important; }` so we also need the `!important` here to be able to override the default hidden behavior on the sphinx rendered scikit-learn.org. See: https://github.com/scikit-learn/scikit-learn/issues/21755 */display: inline-block !important;position: relative;}#sk-container-id-2 div.sk-text-repr-fallback {display: none;}</style><div id=\"sk-container-id-2\" class=\"sk-top-container\"><div class=\"sk-text-repr-fallback\"><pre>RandomizedSearchCV(cv=5,\n",
       "                   estimator=LGBMRegressor(objective=&#x27;root_mean_squared_error&#x27;,\n",
       "                                           random_state=42, verbose=-1),\n",
       "                   n_iter=5,\n",
       "                   param_distributions={&#x27;learning_rate&#x27;: [0.1, 0.3, 0.5, 1],\n",
       "                                        &#x27;max_depth&#x27;: [1, 2, 6]},\n",
       "                   scoring=&#x27;neg_root_mean_squared_error&#x27;)</pre><b>In a Jupyter environment, please rerun this cell to show the HTML representation or trust the notebook. <br />On GitHub, the HTML representation is unable to render, please try loading this page with nbviewer.org.</b></div><div class=\"sk-container\" hidden><div class=\"sk-item sk-dashed-wrapped\"><div class=\"sk-label-container\"><div class=\"sk-label sk-toggleable\"><input class=\"sk-toggleable__control sk-hidden--visually\" id=\"sk-estimator-id-16\" type=\"checkbox\" ><label for=\"sk-estimator-id-16\" class=\"sk-toggleable__label sk-toggleable__label-arrow\">RandomizedSearchCV</label><div class=\"sk-toggleable__content\"><pre>RandomizedSearchCV(cv=5,\n",
       "                   estimator=LGBMRegressor(objective=&#x27;root_mean_squared_error&#x27;,\n",
       "                                           random_state=42, verbose=-1),\n",
       "                   n_iter=5,\n",
       "                   param_distributions={&#x27;learning_rate&#x27;: [0.1, 0.3, 0.5, 1],\n",
       "                                        &#x27;max_depth&#x27;: [1, 2, 6]},\n",
       "                   scoring=&#x27;neg_root_mean_squared_error&#x27;)</pre></div></div></div><div class=\"sk-parallel\"><div class=\"sk-parallel-item\"><div class=\"sk-item\"><div class=\"sk-label-container\"><div class=\"sk-label sk-toggleable\"><input class=\"sk-toggleable__control sk-hidden--visually\" id=\"sk-estimator-id-17\" type=\"checkbox\" ><label for=\"sk-estimator-id-17\" class=\"sk-toggleable__label sk-toggleable__label-arrow\">estimator: LGBMRegressor</label><div class=\"sk-toggleable__content\"><pre>LGBMRegressor(objective=&#x27;root_mean_squared_error&#x27;, random_state=42, verbose=-1)</pre></div></div></div><div class=\"sk-serial\"><div class=\"sk-item\"><div class=\"sk-estimator sk-toggleable\"><input class=\"sk-toggleable__control sk-hidden--visually\" id=\"sk-estimator-id-18\" type=\"checkbox\" ><label for=\"sk-estimator-id-18\" class=\"sk-toggleable__label sk-toggleable__label-arrow\">LGBMRegressor</label><div class=\"sk-toggleable__content\"><pre>LGBMRegressor(objective=&#x27;root_mean_squared_error&#x27;, random_state=42, verbose=-1)</pre></div></div></div></div></div></div></div></div></div></div>"
      ],
      "text/plain": [
       "RandomizedSearchCV(cv=5,\n",
       "                   estimator=LGBMRegressor(objective='root_mean_squared_error',\n",
       "                                           random_state=42, verbose=-1),\n",
       "                   n_iter=5,\n",
       "                   param_distributions={'learning_rate': [0.1, 0.3, 0.5, 1],\n",
       "                                        'max_depth': [1, 2, 6]},\n",
       "                   scoring='neg_root_mean_squared_error')"
      ]
     },
     "execution_count": 78,
     "metadata": {},
     "output_type": "execute_result"
    }
   ],
   "source": [
    "param_grid = {\n",
    "    'learning_rate': [0.1, 0.3, 0.5, 1],  \n",
    "    'max_depth': [1, 2, 6]\n",
    "}\n",
    "\n",
    "random_search_lgbm = RandomizedSearchCV(\n",
    "    estimator=lgbm_model, \n",
    "    param_distributions=param_grid, \n",
    "    scoring='neg_root_mean_squared_error', \n",
    "    cv=5,\n",
    "    n_iter=5\n",
    ")\n",
    "\n",
    "random_search_lgbm.fit(X_train, y_train)"
   ]
  },
  {
   "cell_type": "code",
   "execution_count": 79,
   "id": "975fbdda",
   "metadata": {},
   "outputs": [],
   "source": [
    "rs.append(random_search_lgbm)"
   ]
  },
  {
   "cell_type": "markdown",
   "id": "4214383e",
   "metadata": {},
   "source": [
    "### Модель CatBoost"
   ]
  },
  {
   "cell_type": "code",
   "execution_count": 80,
   "id": "c2f0e338",
   "metadata": {},
   "outputs": [],
   "source": [
    "catboost_model = CatBoostRegressor(verbose=100,\n",
    "                                   cat_features=cat_col,\n",
    "                                   random_state=RANDOM_STATE)"
   ]
  },
  {
   "cell_type": "code",
   "execution_count": 81,
   "id": "8f58ef58",
   "metadata": {
    "scrolled": true
   },
   "outputs": [
    {
     "name": "stdout",
     "output_type": "stream",
     "text": [
      "0:\tlearn: 3869.5210999\ttotal: 145ms\tremaining: 2m 24s\n",
      "100:\tlearn: 1942.1427241\ttotal: 4.5s\tremaining: 40.1s\n",
      "200:\tlearn: 1886.0752267\ttotal: 8.05s\tremaining: 32s\n",
      "300:\tlearn: 1852.8124375\ttotal: 11.1s\tremaining: 25.9s\n",
      "400:\tlearn: 1830.4607180\ttotal: 14.6s\tremaining: 21.7s\n",
      "500:\tlearn: 1811.7366540\ttotal: 17.9s\tremaining: 17.8s\n",
      "600:\tlearn: 1797.8702691\ttotal: 21.2s\tremaining: 14.1s\n",
      "700:\tlearn: 1786.4298844\ttotal: 24.6s\tremaining: 10.5s\n",
      "800:\tlearn: 1773.8193551\ttotal: 27.9s\tremaining: 6.94s\n",
      "900:\tlearn: 1765.2856056\ttotal: 31.3s\tremaining: 3.44s\n",
      "999:\tlearn: 1755.5601703\ttotal: 34.5s\tremaining: 0us\n",
      "0:\tlearn: 3867.9612568\ttotal: 51.2ms\tremaining: 51.2s\n",
      "100:\tlearn: 1953.1718005\ttotal: 3.38s\tremaining: 30.1s\n",
      "200:\tlearn: 1896.4326082\ttotal: 6.91s\tremaining: 27.5s\n",
      "300:\tlearn: 1862.8952474\ttotal: 10.1s\tremaining: 23.4s\n",
      "400:\tlearn: 1836.9841276\ttotal: 13.3s\tremaining: 19.9s\n",
      "500:\tlearn: 1819.2670804\ttotal: 16.5s\tremaining: 16.4s\n",
      "600:\tlearn: 1803.7550950\ttotal: 19.8s\tremaining: 13.2s\n",
      "700:\tlearn: 1791.2700027\ttotal: 23.4s\tremaining: 9.96s\n",
      "800:\tlearn: 1780.6078043\ttotal: 26.9s\tremaining: 6.69s\n",
      "900:\tlearn: 1768.6830585\ttotal: 30.2s\tremaining: 3.32s\n",
      "999:\tlearn: 1759.2444333\ttotal: 33.4s\tremaining: 0us\n",
      "0:\tlearn: 3871.4061571\ttotal: 36.6ms\tremaining: 36.6s\n",
      "100:\tlearn: 1944.0549956\ttotal: 3.46s\tremaining: 30.8s\n",
      "200:\tlearn: 1886.3730939\ttotal: 6.42s\tremaining: 25.5s\n",
      "300:\tlearn: 1855.2960493\ttotal: 9.5s\tremaining: 22.1s\n",
      "400:\tlearn: 1832.7376863\ttotal: 12.5s\tremaining: 18.7s\n",
      "500:\tlearn: 1814.9572472\ttotal: 15.6s\tremaining: 15.6s\n",
      "600:\tlearn: 1797.3117555\ttotal: 19.2s\tremaining: 12.7s\n",
      "700:\tlearn: 1785.5500255\ttotal: 22.4s\tremaining: 9.55s\n",
      "800:\tlearn: 1773.8298168\ttotal: 25.7s\tremaining: 6.39s\n",
      "900:\tlearn: 1763.7443667\ttotal: 29.1s\tremaining: 3.2s\n",
      "999:\tlearn: 1754.8646909\ttotal: 32.5s\tremaining: 0us\n",
      "0:\tlearn: 3883.4640002\ttotal: 37.1ms\tremaining: 37s\n",
      "100:\tlearn: 1939.3667853\ttotal: 3.44s\tremaining: 30.6s\n",
      "200:\tlearn: 1885.2129367\ttotal: 6.63s\tremaining: 26.4s\n",
      "300:\tlearn: 1850.5006507\ttotal: 9.79s\tremaining: 22.7s\n",
      "400:\tlearn: 1825.1302792\ttotal: 13s\tremaining: 19.4s\n",
      "500:\tlearn: 1808.5602264\ttotal: 16.3s\tremaining: 16.2s\n",
      "600:\tlearn: 1793.4893432\ttotal: 19.6s\tremaining: 13s\n",
      "700:\tlearn: 1781.3808067\ttotal: 23s\tremaining: 9.83s\n",
      "800:\tlearn: 1769.4502832\ttotal: 26.2s\tremaining: 6.51s\n",
      "900:\tlearn: 1758.8087853\ttotal: 29.5s\tremaining: 3.25s\n",
      "999:\tlearn: 1750.2433237\ttotal: 33.2s\tremaining: 0us\n",
      "0:\tlearn: 3868.1657457\ttotal: 38.4ms\tremaining: 38.3s\n",
      "100:\tlearn: 1950.0445405\ttotal: 3.2s\tremaining: 28.5s\n",
      "200:\tlearn: 1894.6774790\ttotal: 6.43s\tremaining: 25.6s\n",
      "300:\tlearn: 1856.8565034\ttotal: 9.59s\tremaining: 22.3s\n",
      "400:\tlearn: 1833.8442299\ttotal: 12.6s\tremaining: 18.8s\n",
      "500:\tlearn: 1813.6244070\ttotal: 16s\tremaining: 16s\n",
      "600:\tlearn: 1798.5528739\ttotal: 19.3s\tremaining: 12.8s\n",
      "700:\tlearn: 1785.6859796\ttotal: 22.5s\tremaining: 9.59s\n",
      "800:\tlearn: 1774.3146406\ttotal: 26s\tremaining: 6.45s\n",
      "900:\tlearn: 1762.8559929\ttotal: 29.1s\tremaining: 3.19s\n",
      "999:\tlearn: 1754.2372027\ttotal: 32.6s\tremaining: 0us\n",
      "0:\tlearn: 4228.5227546\ttotal: 9.08ms\tremaining: 9.07s\n",
      "100:\tlearn: 2416.2203772\ttotal: 773ms\tremaining: 6.88s\n",
      "200:\tlearn: 2384.0978298\ttotal: 1.54s\tremaining: 6.13s\n",
      "300:\tlearn: 2372.1325196\ttotal: 2.36s\tremaining: 5.48s\n",
      "400:\tlearn: 2365.4762239\ttotal: 3.12s\tremaining: 4.65s\n",
      "500:\tlearn: 2360.7469636\ttotal: 3.97s\tremaining: 3.96s\n",
      "600:\tlearn: 2357.0233221\ttotal: 4.74s\tremaining: 3.15s\n",
      "700:\tlearn: 2354.0199238\ttotal: 5.52s\tremaining: 2.35s\n",
      "800:\tlearn: 2351.7909995\ttotal: 6.33s\tremaining: 1.57s\n",
      "900:\tlearn: 2349.8909005\ttotal: 7.09s\tremaining: 779ms\n",
      "999:\tlearn: 2348.2537894\ttotal: 7.86s\tremaining: 0us\n",
      "0:\tlearn: 4233.0657764\ttotal: 10ms\tremaining: 9.99s\n",
      "100:\tlearn: 2412.6426495\ttotal: 819ms\tremaining: 7.29s\n",
      "200:\tlearn: 2381.4123559\ttotal: 1.65s\tremaining: 6.58s\n",
      "300:\tlearn: 2369.2543810\ttotal: 2.42s\tremaining: 5.62s\n",
      "400:\tlearn: 2362.6351367\ttotal: 3.17s\tremaining: 4.74s\n",
      "500:\tlearn: 2357.5954264\ttotal: 3.93s\tremaining: 3.92s\n",
      "600:\tlearn: 2354.1191461\ttotal: 4.68s\tremaining: 3.11s\n",
      "700:\tlearn: 2351.3515476\ttotal: 5.57s\tremaining: 2.38s\n",
      "800:\tlearn: 2349.1246359\ttotal: 6.33s\tremaining: 1.57s\n",
      "900:\tlearn: 2347.1577974\ttotal: 7.11s\tremaining: 781ms\n",
      "999:\tlearn: 2345.4070047\ttotal: 7.88s\tremaining: 0us\n",
      "0:\tlearn: 4236.0903105\ttotal: 9.41ms\tremaining: 9.41s\n",
      "100:\tlearn: 2417.8410512\ttotal: 844ms\tremaining: 7.51s\n",
      "200:\tlearn: 2384.6523241\ttotal: 1.62s\tremaining: 6.44s\n",
      "300:\tlearn: 2372.5506186\ttotal: 2.38s\tremaining: 5.53s\n",
      "400:\tlearn: 2366.2959029\ttotal: 3.15s\tremaining: 4.7s\n",
      "500:\tlearn: 2361.9457541\ttotal: 3.93s\tremaining: 3.91s\n",
      "600:\tlearn: 2358.6173400\ttotal: 4.71s\tremaining: 3.13s\n",
      "700:\tlearn: 2355.5729148\ttotal: 5.48s\tremaining: 2.34s\n",
      "800:\tlearn: 2353.3270464\ttotal: 6.3s\tremaining: 1.57s\n",
      "900:\tlearn: 2351.4226014\ttotal: 7.06s\tremaining: 776ms\n",
      "999:\tlearn: 2349.7186552\ttotal: 7.86s\tremaining: 0us\n",
      "0:\tlearn: 4236.2010779\ttotal: 9.71ms\tremaining: 9.7s\n",
      "100:\tlearn: 2415.7613766\ttotal: 787ms\tremaining: 7s\n",
      "200:\tlearn: 2383.8781808\ttotal: 1.57s\tremaining: 6.24s\n",
      "300:\tlearn: 2371.6697234\ttotal: 2.35s\tremaining: 5.45s\n",
      "400:\tlearn: 2365.6626226\ttotal: 3.21s\tremaining: 4.8s\n",
      "500:\tlearn: 2361.4460003\ttotal: 3.98s\tremaining: 3.97s\n",
      "600:\tlearn: 2358.0361693\ttotal: 4.79s\tremaining: 3.18s\n",
      "700:\tlearn: 2355.2709792\ttotal: 5.77s\tremaining: 2.46s\n",
      "800:\tlearn: 2352.9854254\ttotal: 6.54s\tremaining: 1.62s\n",
      "900:\tlearn: 2351.1358475\ttotal: 7.45s\tremaining: 818ms\n",
      "999:\tlearn: 2349.5514926\ttotal: 8.23s\tremaining: 0us\n",
      "0:\tlearn: 4239.2132423\ttotal: 12ms\tremaining: 12s\n",
      "100:\tlearn: 2409.8292413\ttotal: 789ms\tremaining: 7.02s\n",
      "200:\tlearn: 2380.8445797\ttotal: 1.64s\tremaining: 6.54s\n",
      "300:\tlearn: 2369.3579508\ttotal: 2.45s\tremaining: 5.69s\n",
      "400:\tlearn: 2362.9009024\ttotal: 3.23s\tremaining: 4.82s\n",
      "500:\tlearn: 2358.4430159\ttotal: 3.99s\tremaining: 3.97s\n",
      "600:\tlearn: 2355.0796568\ttotal: 4.74s\tremaining: 3.15s\n",
      "700:\tlearn: 2352.4873951\ttotal: 5.51s\tremaining: 2.35s\n",
      "800:\tlearn: 2350.2690126\ttotal: 6.27s\tremaining: 1.56s\n",
      "900:\tlearn: 2348.3888404\ttotal: 7.05s\tremaining: 774ms\n",
      "999:\tlearn: 2346.7929921\ttotal: 7.81s\tremaining: 0us\n",
      "0:\tlearn: 4497.3511394\ttotal: 9.5ms\tremaining: 9.49s\n",
      "100:\tlearn: 2567.1814094\ttotal: 782ms\tremaining: 6.96s\n",
      "200:\tlearn: 2434.8407288\ttotal: 1.56s\tremaining: 6.21s\n",
      "300:\tlearn: 2402.5629073\ttotal: 2.32s\tremaining: 5.38s\n",
      "400:\tlearn: 2389.4669818\ttotal: 3.08s\tremaining: 4.6s\n",
      "500:\tlearn: 2381.2583547\ttotal: 3.84s\tremaining: 3.82s\n",
      "600:\tlearn: 2375.3148117\ttotal: 4.74s\tremaining: 3.15s\n",
      "700:\tlearn: 2371.1636687\ttotal: 5.62s\tremaining: 2.4s\n",
      "800:\tlearn: 2368.1309960\ttotal: 6.43s\tremaining: 1.6s\n",
      "900:\tlearn: 2365.6066030\ttotal: 7.39s\tremaining: 812ms\n",
      "999:\tlearn: 2363.5550922\ttotal: 8.2s\tremaining: 0us\n",
      "0:\tlearn: 4501.1294187\ttotal: 10.8ms\tremaining: 10.8s\n",
      "100:\tlearn: 2568.6484471\ttotal: 796ms\tremaining: 7.08s\n",
      "200:\tlearn: 2434.6765003\ttotal: 1.58s\tremaining: 6.27s\n",
      "300:\tlearn: 2401.3323025\ttotal: 2.42s\tremaining: 5.63s\n",
      "400:\tlearn: 2387.6259068\ttotal: 3.22s\tremaining: 4.81s\n",
      "500:\tlearn: 2379.1763507\ttotal: 4.09s\tremaining: 4.08s\n",
      "600:\tlearn: 2373.0328099\ttotal: 4.87s\tremaining: 3.23s\n",
      "700:\tlearn: 2368.4665937\ttotal: 5.68s\tremaining: 2.42s\n",
      "800:\tlearn: 2365.0166173\ttotal: 6.43s\tremaining: 1.6s\n",
      "900:\tlearn: 2362.5262965\ttotal: 7.19s\tremaining: 790ms\n",
      "999:\tlearn: 2360.4535578\ttotal: 7.95s\tremaining: 0us\n",
      "0:\tlearn: 4500.6838155\ttotal: 10.7ms\tremaining: 10.7s\n",
      "100:\tlearn: 2575.5753850\ttotal: 784ms\tremaining: 6.97s\n",
      "200:\tlearn: 2442.2008609\ttotal: 1.55s\tremaining: 6.16s\n",
      "300:\tlearn: 2409.0852639\ttotal: 2.37s\tremaining: 5.51s\n",
      "400:\tlearn: 2394.3758993\ttotal: 3.13s\tremaining: 4.68s\n",
      "500:\tlearn: 2385.3276041\ttotal: 4.08s\tremaining: 4.06s\n",
      "600:\tlearn: 2378.8679413\ttotal: 5.04s\tremaining: 3.34s\n",
      "700:\tlearn: 2373.9528880\ttotal: 5.8s\tremaining: 2.47s\n",
      "800:\tlearn: 2370.3258553\ttotal: 6.55s\tremaining: 1.63s\n",
      "900:\tlearn: 2367.5925682\ttotal: 7.35s\tremaining: 807ms\n",
      "999:\tlearn: 2365.3826283\ttotal: 8.09s\tremaining: 0us\n",
      "0:\tlearn: 4504.1263240\ttotal: 10.4ms\tremaining: 10.4s\n",
      "100:\tlearn: 2571.0493527\ttotal: 777ms\tremaining: 6.91s\n",
      "200:\tlearn: 2438.5933806\ttotal: 1.54s\tremaining: 6.11s\n",
      "300:\tlearn: 2405.9514202\ttotal: 2.32s\tremaining: 5.38s\n",
      "400:\tlearn: 2392.2726811\ttotal: 3.07s\tremaining: 4.59s\n",
      "500:\tlearn: 2383.7664133\ttotal: 3.83s\tremaining: 3.82s\n",
      "600:\tlearn: 2377.6891617\ttotal: 4.65s\tremaining: 3.09s\n",
      "700:\tlearn: 2373.0756994\ttotal: 5.43s\tremaining: 2.32s\n"
     ]
    },
    {
     "name": "stdout",
     "output_type": "stream",
     "text": [
      "800:\tlearn: 2369.7230440\ttotal: 6.19s\tremaining: 1.54s\n",
      "900:\tlearn: 2367.4619672\ttotal: 6.96s\tremaining: 765ms\n",
      "999:\tlearn: 2365.3527299\ttotal: 7.7s\tremaining: 0us\n",
      "0:\tlearn: 4508.1082104\ttotal: 9.25ms\tremaining: 9.24s\n",
      "100:\tlearn: 2564.8145070\ttotal: 782ms\tremaining: 6.96s\n",
      "200:\tlearn: 2431.4114430\ttotal: 1.58s\tremaining: 6.27s\n",
      "300:\tlearn: 2398.4458699\ttotal: 2.34s\tremaining: 5.44s\n",
      "400:\tlearn: 2385.3819987\ttotal: 3.1s\tremaining: 4.63s\n",
      "500:\tlearn: 2377.6516990\ttotal: 3.96s\tremaining: 3.94s\n",
      "600:\tlearn: 2372.0693862\ttotal: 4.73s\tremaining: 3.14s\n",
      "700:\tlearn: 2367.7872070\ttotal: 5.48s\tremaining: 2.34s\n",
      "800:\tlearn: 2364.5451302\ttotal: 6.24s\tremaining: 1.55s\n",
      "900:\tlearn: 2362.0138830\ttotal: 7s\tremaining: 770ms\n",
      "999:\tlearn: 2359.8873464\ttotal: 7.75s\tremaining: 0us\n",
      "0:\tlearn: 3869.8400212\ttotal: 59.8ms\tremaining: 59.7s\n",
      "100:\tlearn: 1940.7151964\ttotal: 4.04s\tremaining: 36s\n",
      "200:\tlearn: 1885.7966004\ttotal: 7.95s\tremaining: 31.6s\n",
      "300:\tlearn: 1855.8491137\ttotal: 12.6s\tremaining: 29.1s\n",
      "400:\tlearn: 1834.2730551\ttotal: 16.7s\tremaining: 24.9s\n",
      "500:\tlearn: 1819.2703269\ttotal: 20.7s\tremaining: 20.6s\n",
      "600:\tlearn: 1806.1088323\ttotal: 24.5s\tremaining: 16.3s\n",
      "700:\tlearn: 1795.2120854\ttotal: 28.9s\tremaining: 12.3s\n",
      "800:\tlearn: 1785.4886002\ttotal: 33.1s\tremaining: 8.21s\n",
      "900:\tlearn: 1776.1290772\ttotal: 37.2s\tremaining: 4.09s\n",
      "999:\tlearn: 1767.5621630\ttotal: 41.1s\tremaining: 0us\n"
     ]
    },
    {
     "data": {
      "text/html": [
       "<style>#sk-container-id-3 {color: black;background-color: white;}#sk-container-id-3 pre{padding: 0;}#sk-container-id-3 div.sk-toggleable {background-color: white;}#sk-container-id-3 label.sk-toggleable__label {cursor: pointer;display: block;width: 100%;margin-bottom: 0;padding: 0.3em;box-sizing: border-box;text-align: center;}#sk-container-id-3 label.sk-toggleable__label-arrow:before {content: \"▸\";float: left;margin-right: 0.25em;color: #696969;}#sk-container-id-3 label.sk-toggleable__label-arrow:hover:before {color: black;}#sk-container-id-3 div.sk-estimator:hover label.sk-toggleable__label-arrow:before {color: black;}#sk-container-id-3 div.sk-toggleable__content {max-height: 0;max-width: 0;overflow: hidden;text-align: left;background-color: #f0f8ff;}#sk-container-id-3 div.sk-toggleable__content pre {margin: 0.2em;color: black;border-radius: 0.25em;background-color: #f0f8ff;}#sk-container-id-3 input.sk-toggleable__control:checked~div.sk-toggleable__content {max-height: 200px;max-width: 100%;overflow: auto;}#sk-container-id-3 input.sk-toggleable__control:checked~label.sk-toggleable__label-arrow:before {content: \"▾\";}#sk-container-id-3 div.sk-estimator input.sk-toggleable__control:checked~label.sk-toggleable__label {background-color: #d4ebff;}#sk-container-id-3 div.sk-label input.sk-toggleable__control:checked~label.sk-toggleable__label {background-color: #d4ebff;}#sk-container-id-3 input.sk-hidden--visually {border: 0;clip: rect(1px 1px 1px 1px);clip: rect(1px, 1px, 1px, 1px);height: 1px;margin: -1px;overflow: hidden;padding: 0;position: absolute;width: 1px;}#sk-container-id-3 div.sk-estimator {font-family: monospace;background-color: #f0f8ff;border: 1px dotted black;border-radius: 0.25em;box-sizing: border-box;margin-bottom: 0.5em;}#sk-container-id-3 div.sk-estimator:hover {background-color: #d4ebff;}#sk-container-id-3 div.sk-parallel-item::after {content: \"\";width: 100%;border-bottom: 1px solid gray;flex-grow: 1;}#sk-container-id-3 div.sk-label:hover label.sk-toggleable__label {background-color: #d4ebff;}#sk-container-id-3 div.sk-serial::before {content: \"\";position: absolute;border-left: 1px solid gray;box-sizing: border-box;top: 0;bottom: 0;left: 50%;z-index: 0;}#sk-container-id-3 div.sk-serial {display: flex;flex-direction: column;align-items: center;background-color: white;padding-right: 0.2em;padding-left: 0.2em;position: relative;}#sk-container-id-3 div.sk-item {position: relative;z-index: 1;}#sk-container-id-3 div.sk-parallel {display: flex;align-items: stretch;justify-content: center;background-color: white;position: relative;}#sk-container-id-3 div.sk-item::before, #sk-container-id-3 div.sk-parallel-item::before {content: \"\";position: absolute;border-left: 1px solid gray;box-sizing: border-box;top: 0;bottom: 0;left: 50%;z-index: -1;}#sk-container-id-3 div.sk-parallel-item {display: flex;flex-direction: column;z-index: 1;position: relative;background-color: white;}#sk-container-id-3 div.sk-parallel-item:first-child::after {align-self: flex-end;width: 50%;}#sk-container-id-3 div.sk-parallel-item:last-child::after {align-self: flex-start;width: 50%;}#sk-container-id-3 div.sk-parallel-item:only-child::after {width: 0;}#sk-container-id-3 div.sk-dashed-wrapped {border: 1px dashed gray;margin: 0 0.4em 0.5em 0.4em;box-sizing: border-box;padding-bottom: 0.4em;background-color: white;}#sk-container-id-3 div.sk-label label {font-family: monospace;font-weight: bold;display: inline-block;line-height: 1.2em;}#sk-container-id-3 div.sk-label-container {text-align: center;}#sk-container-id-3 div.sk-container {/* jupyter's `normalize.less` sets `[hidden] { display: none; }` but bootstrap.min.css set `[hidden] { display: none !important; }` so we also need the `!important` here to be able to override the default hidden behavior on the sphinx rendered scikit-learn.org. See: https://github.com/scikit-learn/scikit-learn/issues/21755 */display: inline-block !important;position: relative;}#sk-container-id-3 div.sk-text-repr-fallback {display: none;}</style><div id=\"sk-container-id-3\" class=\"sk-top-container\"><div class=\"sk-text-repr-fallback\"><pre>RandomizedSearchCV(cv=5,\n",
       "                   estimator=&lt;catboost.core.CatBoostRegressor object at 0x135e3f790&gt;,\n",
       "                   n_iter=3,\n",
       "                   param_distributions={&#x27;depth&#x27;: [1, 5],\n",
       "                                        &#x27;learning_rate&#x27;: [0.1, 0.3]},\n",
       "                   scoring=&#x27;neg_root_mean_squared_error&#x27;)</pre><b>In a Jupyter environment, please rerun this cell to show the HTML representation or trust the notebook. <br />On GitHub, the HTML representation is unable to render, please try loading this page with nbviewer.org.</b></div><div class=\"sk-container\" hidden><div class=\"sk-item sk-dashed-wrapped\"><div class=\"sk-label-container\"><div class=\"sk-label sk-toggleable\"><input class=\"sk-toggleable__control sk-hidden--visually\" id=\"sk-estimator-id-19\" type=\"checkbox\" ><label for=\"sk-estimator-id-19\" class=\"sk-toggleable__label sk-toggleable__label-arrow\">RandomizedSearchCV</label><div class=\"sk-toggleable__content\"><pre>RandomizedSearchCV(cv=5,\n",
       "                   estimator=&lt;catboost.core.CatBoostRegressor object at 0x135e3f790&gt;,\n",
       "                   n_iter=3,\n",
       "                   param_distributions={&#x27;depth&#x27;: [1, 5],\n",
       "                                        &#x27;learning_rate&#x27;: [0.1, 0.3]},\n",
       "                   scoring=&#x27;neg_root_mean_squared_error&#x27;)</pre></div></div></div><div class=\"sk-parallel\"><div class=\"sk-parallel-item\"><div class=\"sk-item\"><div class=\"sk-label-container\"><div class=\"sk-label sk-toggleable\"><input class=\"sk-toggleable__control sk-hidden--visually\" id=\"sk-estimator-id-20\" type=\"checkbox\" ><label for=\"sk-estimator-id-20\" class=\"sk-toggleable__label sk-toggleable__label-arrow\">estimator: CatBoostRegressor</label><div class=\"sk-toggleable__content\"><pre>&lt;catboost.core.CatBoostRegressor object at 0x135e3f790&gt;</pre></div></div></div><div class=\"sk-serial\"><div class=\"sk-item\"><div class=\"sk-estimator sk-toggleable\"><input class=\"sk-toggleable__control sk-hidden--visually\" id=\"sk-estimator-id-21\" type=\"checkbox\" ><label for=\"sk-estimator-id-21\" class=\"sk-toggleable__label sk-toggleable__label-arrow\">CatBoostRegressor</label><div class=\"sk-toggleable__content\"><pre>&lt;catboost.core.CatBoostRegressor object at 0x135e3f790&gt;</pre></div></div></div></div></div></div></div></div></div></div>"
      ],
      "text/plain": [
       "RandomizedSearchCV(cv=5,\n",
       "                   estimator=<catboost.core.CatBoostRegressor object at 0x135e3f790>,\n",
       "                   n_iter=3,\n",
       "                   param_distributions={'depth': [1, 5],\n",
       "                                        'learning_rate': [0.1, 0.3]},\n",
       "                   scoring='neg_root_mean_squared_error')"
      ]
     },
     "execution_count": 81,
     "metadata": {},
     "output_type": "execute_result"
    }
   ],
   "source": [
    "param_grid = {\n",
    "    'depth': [1, 5],\n",
    "    'learning_rate': [0.1, 0.3]\n",
    "}\n",
    "\n",
    "random_search_catboost = RandomizedSearchCV(\n",
    "    estimator=catboost_model, \n",
    "    param_distributions=param_grid, \n",
    "    scoring='neg_root_mean_squared_error', \n",
    "    cv=5,\n",
    "    n_iter=3\n",
    ")\n",
    "\n",
    "random_search_catboost.fit(X_train, y_train)"
   ]
  },
  {
   "cell_type": "code",
   "execution_count": 82,
   "id": "a3f25dfc",
   "metadata": {},
   "outputs": [],
   "source": [
    "rs.append(random_search_catboost)"
   ]
  },
  {
   "cell_type": "markdown",
   "id": "876e2911",
   "metadata": {},
   "source": [
    "## Время обучения и предсказания каждой из моделей"
   ]
  },
  {
   "cell_type": "markdown",
   "id": "d60d1d72",
   "metadata": {},
   "source": [
    "Создам списки, куда буду записывать результаты работы моделей"
   ]
  },
  {
   "cell_type": "code",
   "execution_count": 83,
   "id": "c2f3d532",
   "metadata": {},
   "outputs": [],
   "source": [
    "RMSE = []\n",
    "model_time_ln_list = []\n",
    "model_time_pr_list = []"
   ]
  },
  {
   "cell_type": "code",
   "execution_count": 84,
   "id": "9090f1e2",
   "metadata": {},
   "outputs": [
    {
     "name": "stdout",
     "output_type": "stream",
     "text": [
      "0:\tlearn: 3869.8400212\ttotal: 47.6ms\tremaining: 47.6s\n",
      "100:\tlearn: 1940.7151964\ttotal: 4.42s\tremaining: 39.3s\n",
      "200:\tlearn: 1885.7966004\ttotal: 8.37s\tremaining: 33.3s\n",
      "300:\tlearn: 1855.8491137\ttotal: 12.2s\tremaining: 28.3s\n",
      "400:\tlearn: 1834.2730551\ttotal: 16.3s\tremaining: 24.4s\n",
      "500:\tlearn: 1819.2703269\ttotal: 20.4s\tremaining: 20.3s\n",
      "600:\tlearn: 1806.1088323\ttotal: 24.3s\tremaining: 16.1s\n",
      "700:\tlearn: 1795.2120854\ttotal: 28.5s\tremaining: 12.1s\n",
      "800:\tlearn: 1785.4886002\ttotal: 32.9s\tremaining: 8.16s\n",
      "900:\tlearn: 1776.1290772\ttotal: 36.9s\tremaining: 4.06s\n",
      "999:\tlearn: 1767.5621630\ttotal: 40.9s\tremaining: 0us\n"
     ]
    }
   ],
   "source": [
    "for r in rs:\n",
    "    RMSE.append(-r.best_score_)\n",
    "    model = r.best_estimator_\n",
    "    start_ln = time()\n",
    "    model.fit(X_train, y_train)\n",
    "    end_ln = time()\n",
    "    model_time_ln = (end_ln - start_ln) / 60\n",
    "    model_time_ln_list.append(model_time_ln)\n",
    "    start_pr = time()\n",
    "    model.predict(X_train)\n",
    "    end_pr = time()\n",
    "    model_time_pr = (end_pr - start_pr) / 60\n",
    "    model_time_pr_list.append(model_time_pr)  "
   ]
  },
  {
   "cell_type": "code",
   "execution_count": 85,
   "id": "ee870a42",
   "metadata": {},
   "outputs": [],
   "source": [
    "models_data = pd.DataFrame(\n",
    "    {'model_name':['LinearRegression', 'LightGBM', 'CatBoost'],\n",
    "     'RMSE': RMSE,\n",
    "     'model_learning_time': model_time_ln_list,\n",
    "     'model_predict_time': model_time_pr_list,\n",
    "     \n",
    "    }\n",
    ")"
   ]
  },
  {
   "cell_type": "code",
   "execution_count": 86,
   "id": "6509c040",
   "metadata": {},
   "outputs": [
    {
     "data": {
      "text/html": [
       "<div>\n",
       "<style scoped>\n",
       "    .dataframe tbody tr th:only-of-type {\n",
       "        vertical-align: middle;\n",
       "    }\n",
       "\n",
       "    .dataframe tbody tr th {\n",
       "        vertical-align: top;\n",
       "    }\n",
       "\n",
       "    .dataframe thead th {\n",
       "        text-align: right;\n",
       "    }\n",
       "</style>\n",
       "<table border=\"1\" class=\"dataframe\">\n",
       "  <thead>\n",
       "    <tr style=\"text-align: right;\">\n",
       "      <th></th>\n",
       "      <th>model_name</th>\n",
       "      <th>RMSE</th>\n",
       "      <th>model_learning_time</th>\n",
       "      <th>model_predict_time</th>\n",
       "    </tr>\n",
       "  </thead>\n",
       "  <tbody>\n",
       "    <tr>\n",
       "      <th>0</th>\n",
       "      <td>LinearRegression</td>\n",
       "      <td>3279.249066</td>\n",
       "      <td>0.007242</td>\n",
       "      <td>0.002943</td>\n",
       "    </tr>\n",
       "    <tr>\n",
       "      <th>1</th>\n",
       "      <td>LightGBM</td>\n",
       "      <td>1909.696293</td>\n",
       "      <td>0.008931</td>\n",
       "      <td>0.009593</td>\n",
       "    </tr>\n",
       "    <tr>\n",
       "      <th>2</th>\n",
       "      <td>CatBoost</td>\n",
       "      <td>1861.147316</td>\n",
       "      <td>0.685904</td>\n",
       "      <td>0.009374</td>\n",
       "    </tr>\n",
       "  </tbody>\n",
       "</table>\n",
       "</div>"
      ],
      "text/plain": [
       "         model_name         RMSE  model_learning_time  model_predict_time\n",
       "0  LinearRegression  3279.249066             0.007242            0.002943\n",
       "1          LightGBM  1909.696293             0.008931            0.009593\n",
       "2          CatBoost  1861.147316             0.685904            0.009374"
      ]
     },
     "execution_count": 86,
     "metadata": {},
     "output_type": "execute_result"
    }
   ],
   "source": [
    "models_data"
   ]
  },
  {
   "cell_type": "code",
   "execution_count": 87,
   "id": "13f1045a",
   "metadata": {},
   "outputs": [
    {
     "data": {
      "image/png": "[encoded data removed]",
      "text/plain": [
       "<Figure size 1600x400 with 3 Axes>"
      ]
     },
     "metadata": {},
     "output_type": "display_data"
    }
   ],
   "source": [
    "fig, axes = plt.subplots(1, 3, figsize=(16, 4))\n",
    "plt.suptitle('Models evaluation result',\n",
    "                 x=0.5,\n",
    "                 y=1.0,\n",
    "                 fontsize=12,\n",
    "                 fontweight='bold'\n",
    "                )        \n",
    "sns.barplot(data=models_data,\n",
    "            x='model_name',\n",
    "            y='RMSE',\n",
    "            palette='YlGn',\n",
    "            ax=axes[0]\n",
    "           )\n",
    "sns.barplot(data=models_data,\n",
    "            x='model_name',\n",
    "            y='model_learning_time',\n",
    "            palette='YlGn',\n",
    "            ax=axes[1]\n",
    "           )\n",
    "sns.barplot(data=models_data,\n",
    "            x='model_name',\n",
    "            y='model_predict_time',\n",
    "            palette='YlGn',\n",
    "            ax=axes[2]\n",
    "           )\n",
    "pass"
   ]
  },
  {
   "cell_type": "markdown",
   "id": "fe96d0e0",
   "metadata": {},
   "source": [
    "**Оценим лучшую модель на тестовой выборке:**"
   ]
  },
  {
   "cell_type": "code",
   "execution_count": 88,
   "id": "822b98b7",
   "metadata": {},
   "outputs": [],
   "source": [
    "model_lgbm = random_search_lgbm.best_estimator_"
   ]
  },
  {
   "cell_type": "code",
   "execution_count": 89,
   "id": "c804d85b",
   "metadata": {},
   "outputs": [
    {
     "name": "stdout",
     "output_type": "stream",
     "text": [
      "RMSE на тестовой выборке:  1888.306713990255\n",
      "Время предсказания на тестовой выборке:  0.004425084590911866\n"
     ]
    }
   ],
   "source": [
    "start_test = time() #замеряем время предсказания\n",
    "RMSE_test = mean_squared_error(y_test, model_lgbm.predict(X_test), squared = False)\n",
    "end_test = time()\n",
    "model_time_test = (end_test - start_test) / 60 \n",
    "print('RMSE на тестовой выборке: ', RMSE_test)\n",
    "print('Время предсказания на тестовой выборке: ', model_time_test)"
   ]
  },
  {
   "cell_type": "markdown",
   "id": "fbc3dfcb",
   "metadata": {},
   "source": [
    "### Вывод по анализу моделей"
   ]
  },
  {
   "cell_type": "markdown",
   "id": "fc8f0b4d",
   "metadata": {},
   "source": [
    "В результате обучения Линейной регрессии, LGBMRegressor, CatBoostRegressor, выявлено, что модель LightGBM является лучшей и дает следующие результаты:\n",
    "\n",
    "- 0.15 минуты время обучения;\n",
    "- 0.03 минуты время предсказания;\n",
    "- метрика RMSE 1826, что соответствует условиям задачи\n",
    "\n",
    "Лучшие гиперпараметры LightGBM:\n",
    "\n",
    "{'max_depth': 6, 'learning_rate': 0.1}\n",
    "\n",
    "**Данная модель рекомендуется заказчику.**"
   ]
  },
  {
   "cell_type": "markdown",
   "id": "7881e78d",
   "metadata": {},
   "source": [
    "## Общий вывод"
   ]
  },
  {
   "cell_type": "markdown",
   "id": "0a6c46a2",
   "metadata": {},
   "source": [
    "1. Заказчиком предоставлен датафрейм размерностью 354,369 строк и 16 колонок\n",
    "\n",
    "2. При загрузке использованн разделитель значений — запятая, а разделитель десятичных значений — точка\n",
    "\n",
    "3. Была произведена предобработка данных со следующими результатами:\n",
    "\n",
    "- Неявных дубликатов не обнаруженно; \n",
    "\n",
    "- Явные дубликаты в количеситве 6,828 шт были удалены;\n",
    "\n",
    "- Пропущеных значения были заполнены по следующему алгоритму:\n",
    "\n",
    "**vehicle_type** - 'no_info',\n",
    "\n",
    "**gearbox** - 'no_info',\n",
    "\n",
    "**model** - 'no_info',\n",
    "\n",
    "**fuel_type** - 'no_info',\n",
    "\n",
    "**repaired** - 'no'\n",
    "\n",
    "- Колонки с датой были преобразованны в короткий формат datetime\n",
    "\n",
    "4. В результате исследовательского анализа и обработки аномальных значений числовых признаков удалось сохранить 91% исходных данных, что является допустимой нормой.\n",
    "\n",
    "- удалены автомобили с нулевым прайсом;\n",
    "- значение power менее 13 л/с заменено на медиану, автомобили с мощьностью более 650 л/с удалены из выборки;\n",
    "- registration_month с нулевыми значениями заполнены медианой;\n",
    "- удалены автомобили с registration_year более 2019 и мене 1910\n",
    "- колонка number_of_pictures удалена из выборки, так как она содержало только нулевые значения\n",
    "\n",
    "В результате анализа категоральных признаков отметим следующее:\n",
    "\n",
    "- наиболее популярные значения vehicle_type: sedan (26%), small (23%), wagon (19%);\n",
    "- 76% автомобилей с механической КПП;\n",
    "- 91% а/м с бензиновым двигателем;\n",
    "- 90% а/м не было в ремонте;\n",
    "- самые популярные модели golf, 3er и неизвестная категория other;\n",
    "- самые популярные бренды volkswagen, opel, bmw\n",
    "\n",
    "5. В результате корреляционного анализа выявленна ожидаемая мультикорреляцию между model и brand, что вполне логично. При обучении модели целесообразно избавится от признака brand.\n",
    "\n",
    "Также, выявленно, что vehicle_type, также очень сильно коррелирует с model\n",
    "\n",
    "С **target** признаком больше всего коррелируют model, registration_year, power, brand. \n",
    "\n",
    "5. В результате обучения Линейной регрессии, LGBMRegressor, CatBoostRegressor, выявлено, что модель LightGBM является лучшей и дает следующие результаты:\n",
    "\n",
    "- 0.15 мин время обучения;\n",
    "- 0.03 минуты время предсказания на тренировочной выборке;\n",
    "- 0.008 мин время предсказания на тестовой выборке;\n",
    "- метрика RMSE 1826 (на тренировочной выборке) и 1804 на тестовой, что соответствует условиям задачи\n",
    "\n",
    "Лучшие гиперпараметры LightGBM:\n",
    "\n",
    "{'max_depth': 6, 'learning_rate': 0.1}\n",
    "\n"
   ]
  },
  {
   "cell_type": "code",
   "execution_count": 90,
   "id": "c3a1ddfa",
   "metadata": {},
   "outputs": [
    {
     "data": {
      "text/html": [
       "<div>\n",
       "<style scoped>\n",
       "    .dataframe tbody tr th:only-of-type {\n",
       "        vertical-align: middle;\n",
       "    }\n",
       "\n",
       "    .dataframe tbody tr th {\n",
       "        vertical-align: top;\n",
       "    }\n",
       "\n",
       "    .dataframe thead th {\n",
       "        text-align: right;\n",
       "    }\n",
       "</style>\n",
       "<table border=\"1\" class=\"dataframe\">\n",
       "  <thead>\n",
       "    <tr style=\"text-align: right;\">\n",
       "      <th></th>\n",
       "      <th>model_name</th>\n",
       "      <th>RMSE</th>\n",
       "      <th>model_learning_time</th>\n",
       "      <th>model_predict_time</th>\n",
       "    </tr>\n",
       "  </thead>\n",
       "  <tbody>\n",
       "    <tr>\n",
       "      <th>0</th>\n",
       "      <td>LinearRegression</td>\n",
       "      <td>3279.249066</td>\n",
       "      <td>0.007242</td>\n",
       "      <td>0.002943</td>\n",
       "    </tr>\n",
       "    <tr>\n",
       "      <th>1</th>\n",
       "      <td>LightGBM</td>\n",
       "      <td>1909.696293</td>\n",
       "      <td>0.008931</td>\n",
       "      <td>0.009593</td>\n",
       "    </tr>\n",
       "    <tr>\n",
       "      <th>2</th>\n",
       "      <td>CatBoost</td>\n",
       "      <td>1861.147316</td>\n",
       "      <td>0.685904</td>\n",
       "      <td>0.009374</td>\n",
       "    </tr>\n",
       "  </tbody>\n",
       "</table>\n",
       "</div>"
      ],
      "text/plain": [
       "         model_name         RMSE  model_learning_time  model_predict_time\n",
       "0  LinearRegression  3279.249066             0.007242            0.002943\n",
       "1          LightGBM  1909.696293             0.008931            0.009593\n",
       "2          CatBoost  1861.147316             0.685904            0.009374"
      ]
     },
     "execution_count": 90,
     "metadata": {},
     "output_type": "execute_result"
    }
   ],
   "source": [
    "models_data"
   ]
  },
  {
   "cell_type": "markdown",
   "id": "560039ce",
   "metadata": {},
   "source": [
    "## Рекомендации заказчику"
   ]
  },
  {
   "cell_type": "markdown",
   "id": "ddc41dab",
   "metadata": {},
   "source": [
    "1. Для определения рыночную стоимость автомобиля, рекомендуется использовать модель LGBMRegressor {'max_depth': 6, 'learning_rate': 0.1}, которая соответствует условиям технического задания:\n",
    "\n",
    "- 0.11 мин время обучения;\n",
    "- 0.008 мин время предсказания;\n",
    "- метрика RMSE 1826 (качество предсказания ниже 2500)\n",
    "\n",
    "2. Для дальнейшего улучшения качества предсказания желательно рассмотреть модель с менее жесткими рамками по времени обучения и предсказания, где будет возможно рассмотреть расширенный набор гиперпараметров.\n",
    "\n",
    "2. Для дальнейшего мониторинга данных и улучшения качества признаков, рекомендуется внести ограничения в заполнение анкеты, исключающие появление аномальных данных (год, цена и тд)"
   ]
  }
 ],
 "metadata": {
  "ExecuteTimeLog": [
   {
    "duration": 7893,
    "start_time": "2024-06-04T10:50:38.650Z"
   },
   {
    "duration": 3,
    "start_time": "2024-06-04T10:50:55.784Z"
   },
   {
    "duration": 3,
    "start_time": "2024-06-04T10:50:56.748Z"
   },
   {
    "duration": 4169,
    "start_time": "2024-06-04T10:50:58.902Z"
   },
   {
    "duration": 17,
    "start_time": "2024-06-04T10:51:04.289Z"
   },
   {
    "duration": 3,
    "start_time": "2024-06-04T10:51:07.696Z"
   },
   {
    "duration": 4,
    "start_time": "2024-06-04T10:51:12.153Z"
   },
   {
    "duration": 12,
    "start_time": "2024-06-04T10:51:13.256Z"
   },
   {
    "duration": 106,
    "start_time": "2024-06-04T10:51:15.882Z"
   },
   {
    "duration": 305,
    "start_time": "2024-06-04T10:51:19.105Z"
   },
   {
    "duration": 13,
    "start_time": "2024-06-04T10:51:20.455Z"
   },
   {
    "duration": 225,
    "start_time": "2024-06-04T10:51:23.487Z"
   },
   {
    "duration": 31,
    "start_time": "2024-06-04T10:51:27.095Z"
   },
   {
    "duration": 3,
    "start_time": "2024-06-04T10:51:27.709Z"
   },
   {
    "duration": 98,
    "start_time": "2024-06-04T10:51:29.283Z"
   },
   {
    "duration": 293,
    "start_time": "2024-06-04T10:51:32.560Z"
   },
   {
    "duration": 3,
    "start_time": "2024-06-04T10:51:33.251Z"
   },
   {
    "duration": 72,
    "start_time": "2024-06-04T10:51:36.834Z"
   },
   {
    "duration": 28,
    "start_time": "2024-06-04T10:51:39.091Z"
   },
   {
    "duration": 76,
    "start_time": "2024-06-04T10:51:39.887Z"
   },
   {
    "duration": 65,
    "start_time": "2024-06-04T10:51:41.221Z"
   },
   {
    "duration": 25,
    "start_time": "2024-06-04T10:51:46.613Z"
   },
   {
    "duration": 3,
    "start_time": "2024-06-04T10:51:48.763Z"
   },
   {
    "duration": 75,
    "start_time": "2024-06-04T10:51:49.489Z"
   },
   {
    "duration": 4,
    "start_time": "2024-06-04T10:51:52.635Z"
   },
   {
    "duration": 1508,
    "start_time": "2024-06-04T10:51:53.420Z"
   },
   {
    "duration": 10,
    "start_time": "2024-06-04T10:52:01.723Z"
   },
   {
    "duration": 33,
    "start_time": "2024-06-04T10:52:02.990Z"
   },
   {
    "duration": 26,
    "start_time": "2024-06-04T10:52:04.199Z"
   },
   {
    "duration": 18,
    "start_time": "2024-06-04T10:52:06.378Z"
   },
   {
    "duration": 27,
    "start_time": "2024-06-04T10:52:17.015Z"
   },
   {
    "duration": 3,
    "start_time": "2024-06-04T10:52:18.850Z"
   },
   {
    "duration": 12,
    "start_time": "2024-06-04T10:52:20.648Z"
   },
   {
    "duration": 180,
    "start_time": "2024-06-04T10:52:23.096Z"
   },
   {
    "duration": 7,
    "start_time": "2024-06-04T10:52:23.905Z"
   },
   {
    "duration": 25,
    "start_time": "2024-06-04T10:52:25.261Z"
   },
   {
    "duration": 3,
    "start_time": "2024-06-04T10:52:26.002Z"
   },
   {
    "duration": 3,
    "start_time": "2024-06-04T10:52:29.573Z"
   },
   {
    "duration": 181,
    "start_time": "2024-06-04T10:52:30.487Z"
   },
   {
    "duration": 21,
    "start_time": "2024-06-04T10:52:32.568Z"
   },
   {
    "duration": 3,
    "start_time": "2024-06-04T10:52:33.214Z"
   },
   {
    "duration": 24,
    "start_time": "2024-06-04T10:52:37.586Z"
   },
   {
    "duration": 1222,
    "start_time": "2024-06-04T10:52:38.432Z"
   },
   {
    "duration": 4,
    "start_time": "2024-06-04T10:52:46.366Z"
   },
   {
    "duration": 4,
    "start_time": "2024-06-04T10:52:48.915Z"
   },
   {
    "duration": 3,
    "start_time": "2024-06-04T10:52:59.338Z"
   },
   {
    "duration": 699,
    "start_time": "2024-06-04T10:53:02.035Z"
   },
   {
    "duration": 29,
    "start_time": "2024-06-04T10:53:08.666Z"
   },
   {
    "duration": 29,
    "start_time": "2024-06-04T10:53:09.448Z"
   },
   {
    "duration": 5917,
    "start_time": "2024-06-04T10:53:15.049Z"
   },
   {
    "duration": 13,
    "start_time": "2024-06-04T10:53:27.597Z"
   },
   {
    "duration": 3,
    "start_time": "2024-06-04T10:53:30.356Z"
   },
   {
    "duration": 11,
    "start_time": "2024-06-04T10:53:36.462Z"
   },
   {
    "duration": 102,
    "start_time": "2024-06-04T10:53:37.201Z"
   },
   {
    "duration": 115,
    "start_time": "2024-06-04T10:53:38.172Z"
   },
   {
    "duration": 3,
    "start_time": "2024-06-04T10:53:38.796Z"
   },
   {
    "duration": 10,
    "start_time": "2024-06-04T10:53:44.954Z"
   },
   {
    "duration": 19,
    "start_time": "2024-06-04T10:53:45.633Z"
   },
   {
    "duration": 4,
    "start_time": "2024-06-04T10:53:46.535Z"
   },
   {
    "duration": 4,
    "start_time": "2024-06-04T10:53:49.098Z"
   },
   {
    "duration": 35,
    "start_time": "2024-06-04T10:53:49.889Z"
   },
   {
    "duration": 3,
    "start_time": "2024-06-04T10:53:51.058Z"
   },
   {
    "duration": 3,
    "start_time": "2024-06-04T10:53:53.029Z"
   },
   {
    "duration": 3,
    "start_time": "2024-06-04T10:53:53.875Z"
   },
   {
    "duration": 2,
    "start_time": "2024-06-04T10:53:56.727Z"
   },
   {
    "duration": 2,
    "start_time": "2024-06-04T10:53:57.511Z"
   },
   {
    "duration": 3,
    "start_time": "2024-06-04T10:53:58.335Z"
   },
   {
    "duration": 3,
    "start_time": "2024-06-04T10:54:00.726Z"
   },
   {
    "duration": 1634,
    "start_time": "2024-06-04T10:54:03.682Z"
   },
   {
    "duration": 12648,
    "start_time": "2024-06-04T10:55:54.056Z"
   },
   {
    "duration": 7581,
    "start_time": "2024-06-04T10:56:22.742Z"
   },
   {
    "duration": 1374,
    "start_time": "2024-06-04T10:56:50.643Z"
   },
   {
    "duration": 4,
    "start_time": "2024-06-04T10:57:21.688Z"
   },
   {
    "duration": 3,
    "start_time": "2024-06-04T10:57:25.333Z"
   },
   {
    "duration": 2,
    "start_time": "2024-06-04T10:57:25.988Z"
   },
   {
    "duration": 1931,
    "start_time": "2024-06-04T10:57:26.651Z"
   },
   {
    "duration": 15,
    "start_time": "2024-06-04T10:57:28.583Z"
   },
   {
    "duration": 1530,
    "start_time": "2024-06-04T10:57:31.879Z"
   },
   {
    "duration": 12,
    "start_time": "2024-06-04T10:57:34.318Z"
   },
   {
    "duration": 3,
    "start_time": "2024-06-04T10:57:35.141Z"
   },
   {
    "duration": 4,
    "start_time": "2024-06-04T10:57:38.101Z"
   },
   {
    "duration": 11,
    "start_time": "2024-06-04T10:57:39.251Z"
   },
   {
    "duration": 122,
    "start_time": "2024-06-04T10:57:42.235Z"
   },
   {
    "duration": 273,
    "start_time": "2024-06-04T10:57:46.337Z"
   },
   {
    "duration": 12,
    "start_time": "2024-06-04T10:57:47.752Z"
   },
   {
    "duration": 202,
    "start_time": "2024-06-04T10:57:50.958Z"
   },
   {
    "duration": 20,
    "start_time": "2024-06-04T10:57:53.098Z"
   },
   {
    "duration": 3,
    "start_time": "2024-06-04T10:57:53.933Z"
   },
   {
    "duration": 104,
    "start_time": "2024-06-04T10:57:54.820Z"
   },
   {
    "duration": 243,
    "start_time": "2024-06-04T10:57:59.088Z"
   },
   {
    "duration": 4,
    "start_time": "2024-06-04T10:57:59.751Z"
   },
   {
    "duration": 71,
    "start_time": "2024-06-04T10:58:03.269Z"
   },
   {
    "duration": 29,
    "start_time": "2024-06-04T10:58:04.770Z"
   },
   {
    "duration": 76,
    "start_time": "2024-06-04T10:58:05.488Z"
   },
   {
    "duration": 85,
    "start_time": "2024-06-04T10:58:06.256Z"
   },
   {
    "duration": 23,
    "start_time": "2024-06-04T10:58:10.432Z"
   },
   {
    "duration": 3,
    "start_time": "2024-06-04T10:58:11.036Z"
   },
   {
    "duration": 79,
    "start_time": "2024-06-04T10:58:12.745Z"
   },
   {
    "duration": 4,
    "start_time": "2024-06-04T10:58:13.722Z"
   },
   {
    "duration": 1899,
    "start_time": "2024-06-04T10:58:14.796Z"
   },
   {
    "duration": 12,
    "start_time": "2024-06-04T10:58:26.221Z"
   },
   {
    "duration": 40,
    "start_time": "2024-06-04T10:58:27.579Z"
   },
   {
    "duration": 32,
    "start_time": "2024-06-04T10:58:28.821Z"
   },
   {
    "duration": 17,
    "start_time": "2024-06-04T10:58:29.738Z"
   },
   {
    "duration": 34,
    "start_time": "2024-06-04T10:58:32.603Z"
   },
   {
    "duration": 4,
    "start_time": "2024-06-04T10:58:33.185Z"
   },
   {
    "duration": 14,
    "start_time": "2024-06-04T10:58:34.891Z"
   },
   {
    "duration": 189,
    "start_time": "2024-06-04T10:58:36.194Z"
   },
   {
    "duration": 7,
    "start_time": "2024-06-04T10:58:36.385Z"
   },
   {
    "duration": 26,
    "start_time": "2024-06-04T10:58:40.015Z"
   },
   {
    "duration": 3,
    "start_time": "2024-06-04T10:58:40.691Z"
   },
   {
    "duration": 2,
    "start_time": "2024-06-04T10:58:42.538Z"
   },
   {
    "duration": 202,
    "start_time": "2024-06-04T10:58:43.271Z"
   },
   {
    "duration": 20,
    "start_time": "2024-06-04T10:58:47.262Z"
   },
   {
    "duration": 4,
    "start_time": "2024-06-04T10:58:47.828Z"
   },
   {
    "duration": 23,
    "start_time": "2024-06-04T10:58:49.068Z"
   },
   {
    "duration": 1523,
    "start_time": "2024-06-04T10:58:49.402Z"
   },
   {
    "duration": 5,
    "start_time": "2024-06-04T10:58:54.611Z"
   },
   {
    "duration": 3,
    "start_time": "2024-06-04T10:58:55.346Z"
   },
   {
    "duration": 693,
    "start_time": "2024-06-04T10:58:57.906Z"
   },
   {
    "duration": 30,
    "start_time": "2024-06-04T10:59:01.120Z"
   },
   {
    "duration": 31,
    "start_time": "2024-06-04T10:59:04.268Z"
   },
   {
    "duration": 6008,
    "start_time": "2024-06-04T10:59:09.299Z"
   },
   {
    "duration": 13,
    "start_time": "2024-06-04T10:59:25.683Z"
   },
   {
    "duration": 12,
    "start_time": "2024-06-04T10:59:29.230Z"
   },
   {
    "duration": 104,
    "start_time": "2024-06-04T10:59:29.829Z"
   },
   {
    "duration": 117,
    "start_time": "2024-06-04T10:59:30.586Z"
   },
   {
    "duration": 3,
    "start_time": "2024-06-04T10:59:31.270Z"
   },
   {
    "duration": 11,
    "start_time": "2024-06-04T10:59:33.116Z"
   },
   {
    "duration": 15,
    "start_time": "2024-06-04T10:59:34.010Z"
   },
   {
    "duration": 3,
    "start_time": "2024-06-04T10:59:36.055Z"
   },
   {
    "duration": 3,
    "start_time": "2024-06-04T10:59:36.626Z"
   },
   {
    "duration": 35,
    "start_time": "2024-06-04T10:59:37.297Z"
   },
   {
    "duration": 3,
    "start_time": "2024-06-04T10:59:40.507Z"
   },
   {
    "duration": 4,
    "start_time": "2024-06-04T10:59:41.181Z"
   },
   {
    "duration": 3,
    "start_time": "2024-06-04T10:59:42.249Z"
   },
   {
    "duration": 3,
    "start_time": "2024-06-04T10:59:43.877Z"
   },
   {
    "duration": 2,
    "start_time": "2024-06-04T10:59:44.928Z"
   },
   {
    "duration": 3,
    "start_time": "2024-06-04T10:59:47.579Z"
   },
   {
    "duration": 2,
    "start_time": "2024-06-04T10:59:47.948Z"
   },
   {
    "duration": 206516,
    "start_time": "2024-06-04T10:59:49.410Z"
   },
   {
    "duration": 41,
    "start_time": "2024-06-04T11:03:23.079Z"
   },
   {
    "duration": 97,
    "start_time": "2024-06-04T11:03:34.053Z"
   },
   {
    "duration": 17,
    "start_time": "2024-06-04T11:03:34.950Z"
   },
   {
    "duration": 179275,
    "start_time": "2024-06-04T11:03:36.750Z"
   },
   {
    "duration": 6,
    "start_time": "2024-06-04T11:06:52.129Z"
   },
   {
    "duration": 10,
    "start_time": "2024-06-04T11:06:53.859Z"
   },
   {
    "duration": 809733,
    "start_time": "2024-06-04T11:07:01.920Z"
   },
   {
    "duration": 13054,
    "start_time": "2024-06-04T15:26:35.928Z"
   },
   {
    "duration": 5406,
    "start_time": "2024-06-04T15:26:51.788Z"
   },
   {
    "duration": 4,
    "start_time": "2024-06-04T15:27:06.282Z"
   },
   {
    "duration": 3,
    "start_time": "2024-06-04T15:27:07.465Z"
   },
   {
    "duration": 2,
    "start_time": "2024-06-04T15:27:09.302Z"
   },
   {
    "duration": 1730,
    "start_time": "2024-06-04T15:27:10.264Z"
   },
   {
    "duration": 21,
    "start_time": "2024-06-04T15:27:16.217Z"
   },
   {
    "duration": 3,
    "start_time": "2024-06-04T15:27:18.495Z"
   },
   {
    "duration": 5,
    "start_time": "2024-06-04T15:27:21.013Z"
   },
   {
    "duration": 13,
    "start_time": "2024-06-04T15:27:21.716Z"
   },
   {
    "duration": 147,
    "start_time": "2024-06-04T15:27:23.453Z"
   },
   {
    "duration": 320,
    "start_time": "2024-06-04T15:27:26.000Z"
   },
   {
    "duration": 13,
    "start_time": "2024-06-04T15:27:26.840Z"
   },
   {
    "duration": 255,
    "start_time": "2024-06-04T15:27:29.546Z"
   },
   {
    "duration": 32,
    "start_time": "2024-06-04T15:27:33.089Z"
   },
   {
    "duration": 3,
    "start_time": "2024-06-04T15:27:33.762Z"
   },
   {
    "duration": 125,
    "start_time": "2024-06-04T15:27:35.258Z"
   },
   {
    "duration": 165,
    "start_time": "2024-06-04T15:30:08.200Z"
   },
   {
    "duration": 21,
    "start_time": "2024-06-04T15:30:20.731Z"
   },
   {
    "duration": 346,
    "start_time": "2024-06-04T15:32:03.576Z"
   },
   {
    "duration": 21,
    "start_time": "2024-06-04T15:32:41.729Z"
   },
   {
    "duration": 362,
    "start_time": "2024-06-04T15:33:37.395Z"
   },
   {
    "duration": 3,
    "start_time": "2024-06-04T15:33:39.458Z"
   },
   {
    "duration": 97,
    "start_time": "2024-06-04T15:33:43.013Z"
   },
   {
    "duration": 47,
    "start_time": "2024-06-04T15:33:46.096Z"
   },
   {
    "duration": 99,
    "start_time": "2024-06-04T15:33:48.365Z"
   },
   {
    "duration": 91,
    "start_time": "2024-06-04T15:33:49.045Z"
   },
   {
    "duration": 26,
    "start_time": "2024-06-04T15:34:00.408Z"
   },
   {
    "duration": 4,
    "start_time": "2024-06-04T15:34:03.456Z"
   },
   {
    "duration": 88,
    "start_time": "2024-06-04T15:34:06.642Z"
   },
   {
    "duration": 5,
    "start_time": "2024-06-04T15:34:08.026Z"
   },
   {
    "duration": 2229,
    "start_time": "2024-06-04T15:34:09.965Z"
   },
   {
    "duration": 29,
    "start_time": "2024-06-04T15:35:45.289Z"
   },
   {
    "duration": 19,
    "start_time": "2024-06-04T15:35:48.175Z"
   },
   {
    "duration": 5,
    "start_time": "2024-06-04T15:37:07.890Z"
   },
   {
    "duration": 34,
    "start_time": "2024-06-04T15:38:12.896Z"
   },
   {
    "duration": 4,
    "start_time": "2024-06-04T15:38:13.559Z"
   },
   {
    "duration": 6,
    "start_time": "2024-06-04T15:38:17.308Z"
   },
   {
    "duration": 15,
    "start_time": "2024-06-04T15:38:23.654Z"
   },
   {
    "duration": 16,
    "start_time": "2024-06-04T15:40:13.358Z"
   },
   {
    "duration": 15,
    "start_time": "2024-06-04T15:40:21.399Z"
   },
   {
    "duration": 19,
    "start_time": "2024-06-04T15:40:26.047Z"
   },
   {
    "duration": 15,
    "start_time": "2024-06-04T15:40:32.970Z"
   },
   {
    "duration": 15,
    "start_time": "2024-06-04T15:41:55.063Z"
   },
   {
    "duration": 17,
    "start_time": "2024-06-04T15:42:17.986Z"
   },
   {
    "duration": 192,
    "start_time": "2024-06-04T15:42:19.173Z"
   },
   {
    "duration": 9,
    "start_time": "2024-06-04T15:42:19.897Z"
   },
   {
    "duration": 28,
    "start_time": "2024-06-04T15:43:39.080Z"
   },
   {
    "duration": 4,
    "start_time": "2024-06-04T15:43:39.661Z"
   },
   {
    "duration": 4,
    "start_time": "2024-06-04T15:43:44.265Z"
   },
   {
    "duration": 196,
    "start_time": "2024-06-04T15:43:46.220Z"
   },
   {
    "duration": 23,
    "start_time": "2024-06-04T15:43:50.686Z"
   },
   {
    "duration": 4,
    "start_time": "2024-06-04T15:43:52.964Z"
   },
   {
    "duration": 22,
    "start_time": "2024-06-04T15:43:54.512Z"
   },
   {
    "duration": 1824,
    "start_time": "2024-06-04T15:43:55.546Z"
   },
   {
    "duration": 7,
    "start_time": "2024-06-04T15:44:08.317Z"
   },
   {
    "duration": 3,
    "start_time": "2024-06-04T15:44:11.206Z"
   },
   {
    "duration": 843,
    "start_time": "2024-06-04T15:44:12.190Z"
   },
   {
    "duration": 38,
    "start_time": "2024-06-04T15:44:22.319Z"
   },
   {
    "duration": 39,
    "start_time": "2024-06-04T15:44:23.201Z"
   },
   {
    "duration": 67,
    "start_time": "2024-06-04T15:46:01.793Z"
   },
   {
    "duration": 3,
    "start_time": "2024-06-04T15:47:53.557Z"
   },
   {
    "duration": 7915,
    "start_time": "2024-06-04T15:47:57.596Z"
   },
   {
    "duration": 70,
    "start_time": "2024-06-04T15:49:53.447Z"
   },
   {
    "duration": 14,
    "start_time": "2024-06-04T15:50:21.548Z"
   },
   {
    "duration": 113,
    "start_time": "2024-06-04T15:50:26.006Z"
   },
   {
    "duration": 113,
    "start_time": "2024-06-04T15:50:28.193Z"
   },
   {
    "duration": 3,
    "start_time": "2024-06-04T15:50:28.907Z"
   },
   {
    "duration": 13472,
    "start_time": "2024-06-04T17:04:54.509Z"
   },
   {
    "duration": 4972,
    "start_time": "2024-06-04T17:05:09.656Z"
   },
   {
    "duration": 4,
    "start_time": "2024-06-04T17:05:14.631Z"
   },
   {
    "duration": 3,
    "start_time": "2024-06-04T17:05:17.779Z"
   },
   {
    "duration": 3,
    "start_time": "2024-06-04T17:05:18.477Z"
   },
   {
    "duration": 1688,
    "start_time": "2024-06-04T17:05:18.768Z"
   },
   {
    "duration": 27,
    "start_time": "2024-06-04T17:05:20.851Z"
   },
   {
    "duration": 3,
    "start_time": "2024-06-04T17:05:25.509Z"
   },
   {
    "duration": 5,
    "start_time": "2024-06-04T17:05:26.631Z"
   },
   {
    "duration": 13,
    "start_time": "2024-06-04T17:05:29.945Z"
   },
   {
    "duration": 158,
    "start_time": "2024-06-04T17:05:30.942Z"
   },
   {
    "duration": 339,
    "start_time": "2024-06-04T17:05:31.279Z"
   },
   {
    "duration": 19,
    "start_time": "2024-06-04T17:05:31.619Z"
   },
   {
    "duration": 285,
    "start_time": "2024-06-04T17:05:31.925Z"
   },
   {
    "duration": 32,
    "start_time": "2024-06-04T17:05:34.442Z"
   },
   {
    "duration": 5,
    "start_time": "2024-06-04T17:05:34.634Z"
   },
   {
    "duration": 121,
    "start_time": "2024-06-04T17:05:34.877Z"
   },
   {
    "duration": 340,
    "start_time": "2024-06-04T17:05:35.089Z"
   },
   {
    "duration": 25,
    "start_time": "2024-06-04T17:05:35.431Z"
   },
   {
    "duration": 323,
    "start_time": "2024-06-04T17:05:38.024Z"
   },
   {
    "duration": 6,
    "start_time": "2024-06-04T17:05:38.349Z"
   },
   {
    "duration": 100,
    "start_time": "2024-06-04T17:05:38.779Z"
   },
   {
    "duration": 36,
    "start_time": "2024-06-04T17:05:41.644Z"
   },
   {
    "duration": 97,
    "start_time": "2024-06-04T17:05:42.309Z"
   },
   {
    "duration": 105,
    "start_time": "2024-06-04T17:05:44.522Z"
   },
   {
    "duration": 27,
    "start_time": "2024-06-04T17:05:56.076Z"
   },
   {
    "duration": 3,
    "start_time": "2024-06-04T17:05:56.969Z"
   },
   {
    "duration": 82,
    "start_time": "2024-06-04T17:05:58.991Z"
   },
   {
    "duration": 6,
    "start_time": "2024-06-04T17:06:00.077Z"
   },
   {
    "duration": 2269,
    "start_time": "2024-06-04T17:06:00.755Z"
   },
   {
    "duration": 13,
    "start_time": "2024-06-04T17:06:09.473Z"
   },
   {
    "duration": 33,
    "start_time": "2024-06-04T17:06:11.521Z"
   },
   {
    "duration": 27,
    "start_time": "2024-06-04T17:06:15.933Z"
   },
   {
    "duration": 20,
    "start_time": "2024-06-04T17:06:16.684Z"
   },
   {
    "duration": 28,
    "start_time": "2024-06-04T17:06:19.436Z"
   },
   {
    "duration": 4,
    "start_time": "2024-06-04T17:06:19.645Z"
   },
   {
    "duration": 6,
    "start_time": "2024-06-04T17:06:20.088Z"
   },
   {
    "duration": 14,
    "start_time": "2024-06-04T17:06:25.562Z"
   },
   {
    "duration": 188,
    "start_time": "2024-06-04T17:06:28.237Z"
   },
   {
    "duration": 8,
    "start_time": "2024-06-04T17:06:29.125Z"
   },
   {
    "duration": 29,
    "start_time": "2024-06-04T17:06:33.469Z"
   },
   {
    "duration": 3,
    "start_time": "2024-06-04T17:06:35.709Z"
   },
   {
    "duration": 3,
    "start_time": "2024-06-04T17:06:37.209Z"
   },
   {
    "duration": 196,
    "start_time": "2024-06-04T17:06:37.988Z"
   },
   {
    "duration": 21,
    "start_time": "2024-06-04T17:06:41.809Z"
   },
   {
    "duration": 4,
    "start_time": "2024-06-04T17:06:43.103Z"
   },
   {
    "duration": 23,
    "start_time": "2024-06-04T17:06:46.736Z"
   },
   {
    "duration": 23,
    "start_time": "2024-06-04T17:07:02.352Z"
   },
   {
    "duration": 1817,
    "start_time": "2024-06-04T17:07:03.149Z"
   },
   {
    "duration": 6,
    "start_time": "2024-06-04T17:07:08.768Z"
   },
   {
    "duration": 3,
    "start_time": "2024-06-04T17:07:11.724Z"
   },
   {
    "duration": 941,
    "start_time": "2024-06-04T17:07:12.472Z"
   },
   {
    "duration": 39,
    "start_time": "2024-06-04T17:07:15.934Z"
   },
   {
    "duration": 40,
    "start_time": "2024-06-04T17:07:16.724Z"
   },
   {
    "duration": 2,
    "start_time": "2024-06-04T17:07:24.868Z"
   },
   {
    "duration": 7671,
    "start_time": "2024-06-04T17:07:29.824Z"
   },
   {
    "duration": 15,
    "start_time": "2024-06-04T17:07:47.758Z"
   },
   {
    "duration": 11,
    "start_time": "2024-06-04T17:07:53.312Z"
   },
   {
    "duration": 101,
    "start_time": "2024-06-04T17:07:57.708Z"
   },
   {
    "duration": 113,
    "start_time": "2024-06-04T17:08:00.524Z"
   },
   {
    "duration": 4,
    "start_time": "2024-06-04T17:08:01.270Z"
   },
   {
    "duration": 10,
    "start_time": "2024-06-04T17:08:07.652Z"
   },
   {
    "duration": 13,
    "start_time": "2024-06-04T17:08:12.240Z"
   },
   {
    "duration": 4,
    "start_time": "2024-06-04T17:08:12.854Z"
   },
   {
    "duration": 3,
    "start_time": "2024-06-04T17:08:13.672Z"
   },
   {
    "duration": 40,
    "start_time": "2024-06-04T17:08:14.404Z"
   },
   {
    "duration": 3,
    "start_time": "2024-06-04T17:08:17.269Z"
   },
   {
    "duration": 15,
    "start_time": "2024-06-04T17:18:45.032Z"
   },
   {
    "duration": 16,
    "start_time": "2024-06-04T17:20:30.924Z"
   },
   {
    "duration": 4,
    "start_time": "2024-06-04T17:20:45.754Z"
   },
   {
    "duration": 5,
    "start_time": "2024-06-04T17:21:03.918Z"
   },
   {
    "duration": 3,
    "start_time": "2024-06-04T17:21:26.476Z"
   },
   {
    "duration": 3,
    "start_time": "2024-06-04T17:21:27.278Z"
   },
   {
    "duration": 4,
    "start_time": "2024-06-04T17:21:37.808Z"
   },
   {
    "duration": 3,
    "start_time": "2024-06-04T17:21:40.550Z"
   },
   {
    "duration": 3,
    "start_time": "2024-06-04T17:21:42.136Z"
   },
   {
    "duration": 3,
    "start_time": "2024-06-04T17:22:02.831Z"
   },
   {
    "duration": 3,
    "start_time": "2024-06-04T17:22:11.423Z"
   },
   {
    "duration": 232682,
    "start_time": "2024-06-04T17:22:15.111Z"
   },
   {
    "duration": 34,
    "start_time": "2024-06-04T17:26:15.424Z"
   },
   {
    "duration": 4,
    "start_time": "2024-06-04T17:27:47.065Z"
   },
   {
    "duration": 97,
    "start_time": "2024-06-04T17:28:00.024Z"
   },
   {
    "duration": 16,
    "start_time": "2024-06-04T17:28:00.953Z"
   },
   {
    "duration": 132,
    "start_time": "2024-06-04T17:28:06.253Z"
   },
   {
    "duration": 2,
    "start_time": "2024-06-04T17:28:16.719Z"
   },
   {
    "duration": 3,
    "start_time": "2024-06-04T17:29:20.282Z"
   },
   {
    "duration": 77001,
    "start_time": "2024-06-04T17:29:33.966Z"
   },
   {
    "duration": 6,
    "start_time": "2024-06-04T17:31:29.262Z"
   },
   {
    "duration": 10,
    "start_time": "2024-06-04T17:31:31.913Z"
   },
   {
    "duration": 3,
    "start_time": "2024-06-04T17:31:58.264Z"
   },
   {
    "duration": 88,
    "start_time": "2024-06-04T17:32:10.973Z"
   },
   {
    "duration": 736820,
    "start_time": "2024-06-04T17:32:25.994Z"
   },
   {
    "duration": 3,
    "start_time": "2024-06-04T17:44:42.816Z"
   },
   {
    "duration": 3,
    "start_time": "2024-06-04T17:48:14.574Z"
   },
   {
    "duration": 4,
    "start_time": "2024-06-04T17:48:21.802Z"
   },
   {
    "duration": 79,
    "start_time": "2024-06-04T17:48:50.112Z"
   },
   {
    "duration": 12,
    "start_time": "2024-06-04T17:49:37.471Z"
   },
   {
    "duration": 3,
    "start_time": "2024-06-04T17:50:18.129Z"
   },
   {
    "duration": 1295,
    "start_time": "2024-06-04T17:50:20.812Z"
   },
   {
    "duration": 3,
    "start_time": "2024-06-04T17:50:53.136Z"
   },
   {
    "duration": 11,
    "start_time": "2024-06-04T17:51:56.631Z"
   },
   {
    "duration": 19,
    "start_time": "2024-06-04T17:52:09.049Z"
   },
   {
    "duration": 6,
    "start_time": "2024-06-04T17:53:11.407Z"
   },
   {
    "duration": 17,
    "start_time": "2024-06-04T17:55:05.099Z"
   },
   {
    "duration": 18550,
    "start_time": "2024-06-04T17:55:47.636Z"
   },
   {
    "duration": 20259,
    "start_time": "2024-06-04T17:56:21.500Z"
   },
   {
    "duration": 4,
    "start_time": "2024-06-04T17:56:51.780Z"
   },
   {
    "duration": 1156,
    "start_time": "2024-06-04T17:57:31.701Z"
   },
   {
    "duration": 19417,
    "start_time": "2024-06-04T17:58:34.841Z"
   },
   {
    "duration": 3,
    "start_time": "2024-06-04T17:58:59.916Z"
   },
   {
    "duration": 3,
    "start_time": "2024-06-04T18:00:21.584Z"
   },
   {
    "duration": 3,
    "start_time": "2024-06-04T18:00:51.178Z"
   },
   {
    "duration": 3,
    "start_time": "2024-06-04T18:01:00.471Z"
   },
   {
    "duration": 3,
    "start_time": "2024-06-04T18:01:06.986Z"
   },
   {
    "duration": 3,
    "start_time": "2024-06-04T18:01:07.650Z"
   },
   {
    "duration": 2,
    "start_time": "2024-06-04T18:01:11.872Z"
   },
   {
    "duration": 4,
    "start_time": "2024-06-04T18:01:14.662Z"
   },
   {
    "duration": 3,
    "start_time": "2024-06-04T18:01:19.176Z"
   },
   {
    "duration": 4,
    "start_time": "2024-06-04T18:01:20.007Z"
   },
   {
    "duration": 2,
    "start_time": "2024-06-04T18:01:46.523Z"
   },
   {
    "duration": 2,
    "start_time": "2024-06-04T18:01:48.303Z"
   },
   {
    "duration": 2,
    "start_time": "2024-06-04T18:01:51.349Z"
   },
   {
    "duration": 4,
    "start_time": "2024-06-04T18:01:55.342Z"
   },
   {
    "duration": 7735,
    "start_time": "2024-06-04T18:04:04.634Z"
   },
   {
    "duration": 5,
    "start_time": "2024-06-04T18:04:21.658Z"
   },
   {
    "duration": 3,
    "start_time": "2024-06-04T18:04:32.929Z"
   },
   {
    "duration": 44,
    "start_time": "2024-06-04T18:05:45.582Z"
   },
   {
    "duration": 9686,
    "start_time": "2024-06-04T18:05:55.082Z"
   },
   {
    "duration": 4,
    "start_time": "2024-06-04T18:06:06.789Z"
   },
   {
    "duration": 2,
    "start_time": "2024-06-04T18:06:58.165Z"
   },
   {
    "duration": 3,
    "start_time": "2024-06-04T18:07:11.450Z"
   },
   {
    "duration": 105166,
    "start_time": "2024-06-04T18:09:00.285Z"
   },
   {
    "duration": 10,
    "start_time": "2024-06-04T18:13:08.118Z"
   },
   {
    "duration": 10,
    "start_time": "2024-06-04T18:13:15.448Z"
   },
   {
    "duration": 3,
    "start_time": "2024-06-04T18:13:37.169Z"
   },
   {
    "duration": 5,
    "start_time": "2024-06-04T18:13:44.036Z"
   },
   {
    "duration": 4,
    "start_time": "2024-06-04T18:13:49.425Z"
   },
   {
    "duration": 3,
    "start_time": "2024-06-04T18:14:10.186Z"
   },
   {
    "duration": 2,
    "start_time": "2024-06-04T18:14:14.226Z"
   },
   {
    "duration": 2,
    "start_time": "2024-06-04T18:14:17.093Z"
   },
   {
    "duration": 3,
    "start_time": "2024-06-04T18:14:21.271Z"
   },
   {
    "duration": 4,
    "start_time": "2024-06-04T18:14:22.185Z"
   },
   {
    "duration": 3,
    "start_time": "2024-06-04T18:18:28.646Z"
   },
   {
    "duration": 5,
    "start_time": "2024-06-04T18:18:35.231Z"
   },
   {
    "duration": 6,
    "start_time": "2024-06-04T18:19:42.442Z"
   },
   {
    "duration": 9,
    "start_time": "2024-06-04T18:19:45.096Z"
   },
   {
    "duration": 630,
    "start_time": "2024-06-04T18:29:56.340Z"
   },
   {
    "duration": 641,
    "start_time": "2024-06-04T18:30:22.121Z"
   },
   {
    "duration": 8,
    "start_time": "2024-06-04T18:34:36.104Z"
   },
   {
    "duration": 44,
    "start_time": "2024-06-04T18:41:52.233Z"
   },
   {
    "duration": 9,
    "start_time": "2024-06-04T18:46:00.646Z"
   },
   {
    "duration": 5,
    "start_time": "2024-06-04T18:46:07.456Z"
   },
   {
    "duration": 2,
    "start_time": "2024-06-04T18:46:08.486Z"
   },
   {
    "duration": 3,
    "start_time": "2024-06-04T18:46:09.956Z"
   },
   {
    "duration": 1595,
    "start_time": "2024-06-04T18:46:19.340Z"
   },
   {
    "duration": 15,
    "start_time": "2024-06-04T18:46:21.223Z"
   },
   {
    "duration": 3,
    "start_time": "2024-06-04T18:46:22.603Z"
   },
   {
    "duration": 4,
    "start_time": "2024-06-04T18:46:26.345Z"
   },
   {
    "duration": 13,
    "start_time": "2024-06-04T18:46:28.368Z"
   },
   {
    "duration": 152,
    "start_time": "2024-06-04T18:46:29.370Z"
   },
   {
    "duration": 246,
    "start_time": "2024-06-04T18:46:32.986Z"
   },
   {
    "duration": 14,
    "start_time": "2024-06-04T18:46:33.687Z"
   },
   {
    "duration": 256,
    "start_time": "2024-06-04T18:46:36.740Z"
   },
   {
    "duration": 30,
    "start_time": "2024-06-04T18:46:39.098Z"
   },
   {
    "duration": 4,
    "start_time": "2024-06-04T18:46:39.741Z"
   },
   {
    "duration": 140,
    "start_time": "2024-06-04T18:46:40.568Z"
   },
   {
    "duration": 334,
    "start_time": "2024-06-04T18:46:41.602Z"
   },
   {
    "duration": 20,
    "start_time": "2024-06-04T18:46:43.425Z"
   },
   {
    "duration": 352,
    "start_time": "2024-06-04T18:46:45.901Z"
   },
   {
    "duration": 4,
    "start_time": "2024-06-04T18:46:46.856Z"
   },
   {
    "duration": 125,
    "start_time": "2024-06-04T18:46:49.966Z"
   },
   {
    "duration": 37,
    "start_time": "2024-06-04T18:46:51.603Z"
   },
   {
    "duration": 98,
    "start_time": "2024-06-04T18:46:52.388Z"
   },
   {
    "duration": 98,
    "start_time": "2024-06-04T18:46:53.989Z"
   },
   {
    "duration": 25,
    "start_time": "2024-06-04T18:47:02.384Z"
   },
   {
    "duration": 4,
    "start_time": "2024-06-04T18:47:03.336Z"
   },
   {
    "duration": 83,
    "start_time": "2024-06-04T18:47:04.192Z"
   },
   {
    "duration": 5,
    "start_time": "2024-06-04T18:47:07.401Z"
   },
   {
    "duration": 2060,
    "start_time": "2024-06-04T18:47:08.411Z"
   },
   {
    "duration": 12,
    "start_time": "2024-06-04T18:47:18.524Z"
   },
   {
    "duration": 34,
    "start_time": "2024-06-04T18:47:19.907Z"
   },
   {
    "duration": 28,
    "start_time": "2024-06-04T18:47:26.608Z"
   },
   {
    "duration": 20,
    "start_time": "2024-06-04T18:47:27.765Z"
   },
   {
    "duration": 25,
    "start_time": "2024-06-04T18:47:56.818Z"
   },
   {
    "duration": 28,
    "start_time": "2024-06-04T18:48:04.320Z"
   },
   {
    "duration": 4,
    "start_time": "2024-06-04T18:48:05.089Z"
   },
   {
    "duration": 6,
    "start_time": "2024-06-04T18:48:07.953Z"
   },
   {
    "duration": 15,
    "start_time": "2024-06-04T18:48:12.023Z"
   },
   {
    "duration": 201,
    "start_time": "2024-06-04T18:48:14.569Z"
   },
   {
    "duration": 9,
    "start_time": "2024-06-04T18:48:15.272Z"
   },
   {
    "duration": 28,
    "start_time": "2024-06-04T18:48:19.315Z"
   },
   {
    "duration": 5,
    "start_time": "2024-06-04T18:48:19.866Z"
   },
   {
    "duration": 2,
    "start_time": "2024-06-04T18:48:23.331Z"
   },
   {
    "duration": 190,
    "start_time": "2024-06-04T18:48:25.603Z"
   },
   {
    "duration": 22,
    "start_time": "2024-06-04T18:48:28.654Z"
   },
   {
    "duration": 4,
    "start_time": "2024-06-04T18:48:31.949Z"
   },
   {
    "duration": 24,
    "start_time": "2024-06-04T18:48:33.236Z"
   },
   {
    "duration": 1884,
    "start_time": "2024-06-04T18:48:34.104Z"
   },
   {
    "duration": 5,
    "start_time": "2024-06-04T18:48:39.616Z"
   },
   {
    "duration": 3,
    "start_time": "2024-06-04T18:48:41.959Z"
   },
   {
    "duration": 755,
    "start_time": "2024-06-04T18:48:42.910Z"
   },
   {
    "duration": 40,
    "start_time": "2024-06-04T18:48:46.569Z"
   },
   {
    "duration": 38,
    "start_time": "2024-06-04T18:48:47.515Z"
   },
   {
    "duration": 3,
    "start_time": "2024-06-04T18:48:55.240Z"
   },
   {
    "duration": 7608,
    "start_time": "2024-06-04T18:48:58.044Z"
   },
   {
    "duration": 15,
    "start_time": "2024-06-04T18:49:12.504Z"
   },
   {
    "duration": 15,
    "start_time": "2024-06-04T18:49:16.243Z"
   },
   {
    "duration": 100,
    "start_time": "2024-06-04T18:49:25.466Z"
   },
   {
    "duration": 156,
    "start_time": "2024-06-04T18:49:26.482Z"
   },
   {
    "duration": 4,
    "start_time": "2024-06-04T18:49:27.189Z"
   },
   {
    "duration": 12,
    "start_time": "2024-06-04T18:49:37.724Z"
   },
   {
    "duration": 14,
    "start_time": "2024-06-04T18:49:38.457Z"
   },
   {
    "duration": 4,
    "start_time": "2024-06-04T18:49:39.506Z"
   },
   {
    "duration": 3,
    "start_time": "2024-06-04T18:49:42.389Z"
   },
   {
    "duration": 37,
    "start_time": "2024-06-04T18:49:43.060Z"
   },
   {
    "duration": 3,
    "start_time": "2024-06-04T18:49:44.496Z"
   },
   {
    "duration": 3,
    "start_time": "2024-06-04T18:49:46.937Z"
   },
   {
    "duration": 5,
    "start_time": "2024-06-04T18:49:55.652Z"
   },
   {
    "duration": 3,
    "start_time": "2024-06-04T18:49:57.913Z"
   },
   {
    "duration": 3,
    "start_time": "2024-06-04T18:49:59.016Z"
   },
   {
    "duration": 3,
    "start_time": "2024-06-04T18:50:04.368Z"
   },
   {
    "duration": 3,
    "start_time": "2024-06-04T18:50:09.199Z"
   },
   {
    "duration": 239543,
    "start_time": "2024-06-04T18:50:12.056Z"
   },
   {
    "duration": 87,
    "start_time": "2024-06-04T18:55:11.984Z"
   },
   {
    "duration": 16,
    "start_time": "2024-06-04T18:55:13.374Z"
   },
   {
    "duration": 3,
    "start_time": "2024-06-04T18:55:17.496Z"
   },
   {
    "duration": 92442,
    "start_time": "2024-06-04T18:55:41.421Z"
   },
   {
    "duration": 3,
    "start_time": "2024-06-04T18:58:25.233Z"
   },
   {
    "duration": 1067308,
    "start_time": "2024-06-04T18:58:40.349Z"
   },
   {
    "duration": 3,
    "start_time": "2024-06-04T19:17:02.806Z"
   },
   {
    "duration": 3,
    "start_time": "2024-06-04T19:17:03.571Z"
   },
   {
    "duration": 1332,
    "start_time": "2024-06-04T19:17:04.355Z"
   },
   {
    "duration": 18794,
    "start_time": "2024-06-04T19:17:08.370Z"
   },
   {
    "duration": 3,
    "start_time": "2024-06-04T19:17:30.640Z"
   },
   {
    "duration": 6738,
    "start_time": "2024-06-04T19:17:34.842Z"
   },
   {
    "duration": 3,
    "start_time": "2024-06-04T19:17:44.674Z"
   },
   {
    "duration": 108252,
    "start_time": "2024-06-04T19:17:46.788Z"
   },
   {
    "duration": 2,
    "start_time": "2024-06-04T19:19:39.831Z"
   },
   {
    "duration": 4,
    "start_time": "2024-06-04T19:19:40.794Z"
   },
   {
    "duration": 4,
    "start_time": "2024-06-04T19:19:47.064Z"
   },
   {
    "duration": 8,
    "start_time": "2024-06-04T19:19:47.978Z"
   },
   {
    "duration": 542,
    "start_time": "2024-06-04T19:20:01.715Z"
   },
   {
    "duration": 12975,
    "start_time": "2024-06-05T16:08:36.319Z"
   },
   {
    "duration": 5229,
    "start_time": "2024-06-05T16:08:58.517Z"
   },
   {
    "duration": 5,
    "start_time": "2024-06-05T16:09:07.388Z"
   },
   {
    "duration": 3,
    "start_time": "2024-06-05T16:09:09.256Z"
   },
   {
    "duration": 2,
    "start_time": "2024-06-05T16:09:10.929Z"
   },
   {
    "duration": 1837,
    "start_time": "2024-06-05T16:09:13.166Z"
   },
   {
    "duration": 20,
    "start_time": "2024-06-05T16:09:16.768Z"
   },
   {
    "duration": 3,
    "start_time": "2024-06-05T16:09:17.350Z"
   },
   {
    "duration": 5,
    "start_time": "2024-06-05T16:09:20.963Z"
   },
   {
    "duration": 13,
    "start_time": "2024-06-05T16:09:21.602Z"
   },
   {
    "duration": 150,
    "start_time": "2024-06-05T16:09:22.536Z"
   },
   {
    "duration": 305,
    "start_time": "2024-06-05T16:09:25.929Z"
   },
   {
    "duration": 14,
    "start_time": "2024-06-05T16:09:26.936Z"
   },
   {
    "duration": 295,
    "start_time": "2024-06-05T16:09:30.466Z"
   },
   {
    "duration": 32,
    "start_time": "2024-06-05T16:09:33.680Z"
   },
   {
    "duration": 4,
    "start_time": "2024-06-05T16:09:34.661Z"
   },
   {
    "duration": 117,
    "start_time": "2024-06-05T16:09:36.967Z"
   },
   {
    "duration": 336,
    "start_time": "2024-06-05T16:09:40.531Z"
   },
   {
    "duration": 20,
    "start_time": "2024-06-05T16:09:41.611Z"
   },
   {
    "duration": 321,
    "start_time": "2024-06-05T16:09:47.670Z"
   },
   {
    "duration": 4,
    "start_time": "2024-06-05T16:09:48.760Z"
   },
   {
    "duration": 96,
    "start_time": "2024-06-05T16:09:52.363Z"
   },
   {
    "duration": 35,
    "start_time": "2024-06-05T16:09:55.113Z"
   },
   {
    "duration": 105,
    "start_time": "2024-06-05T16:09:56.034Z"
   },
   {
    "duration": 94,
    "start_time": "2024-06-05T16:09:58.654Z"
   },
   {
    "duration": 25,
    "start_time": "2024-06-05T16:10:07.467Z"
   },
   {
    "duration": 4,
    "start_time": "2024-06-05T16:10:08.514Z"
   },
   {
    "duration": 83,
    "start_time": "2024-06-05T16:10:09.263Z"
   },
   {
    "duration": 6,
    "start_time": "2024-06-05T16:10:13.961Z"
   },
   {
    "duration": 2365,
    "start_time": "2024-06-05T16:10:16.519Z"
   },
   {
    "duration": 13,
    "start_time": "2024-06-05T16:10:27.033Z"
   },
   {
    "duration": 39,
    "start_time": "2024-06-05T16:10:28.392Z"
   },
   {
    "duration": 28,
    "start_time": "2024-06-05T16:10:38.703Z"
   },
   {
    "duration": 23,
    "start_time": "2024-06-05T16:10:41.064Z"
   },
   {
    "duration": 28,
    "start_time": "2024-06-05T16:10:44.611Z"
   },
   {
    "duration": 4,
    "start_time": "2024-06-05T16:10:45.216Z"
   },
   {
    "duration": 7,
    "start_time": "2024-06-05T16:10:48.281Z"
   },
   {
    "duration": 16,
    "start_time": "2024-06-05T16:11:01.310Z"
   },
   {
    "duration": 203,
    "start_time": "2024-06-05T16:11:02.543Z"
   },
   {
    "duration": 9,
    "start_time": "2024-06-05T16:11:03.429Z"
   },
   {
    "duration": 28,
    "start_time": "2024-06-05T16:11:08.087Z"
   },
   {
    "duration": 4,
    "start_time": "2024-06-05T16:11:08.719Z"
   },
   {
    "duration": 3,
    "start_time": "2024-06-05T16:11:12.496Z"
   },
   {
    "duration": 217,
    "start_time": "2024-06-05T16:11:13.234Z"
   },
   {
    "duration": 25,
    "start_time": "2024-06-05T16:11:17.886Z"
   },
   {
    "duration": 4,
    "start_time": "2024-06-05T16:11:19.459Z"
   },
   {
    "duration": 40,
    "start_time": "2024-06-05T16:11:22.384Z"
   },
   {
    "duration": 1889,
    "start_time": "2024-06-05T16:11:23.654Z"
   },
   {
    "duration": 5,
    "start_time": "2024-06-05T16:11:29.402Z"
   },
   {
    "duration": 4,
    "start_time": "2024-06-05T16:11:32.481Z"
   },
   {
    "duration": 870,
    "start_time": "2024-06-05T16:11:35.197Z"
   },
   {
    "duration": 51,
    "start_time": "2024-06-05T16:11:36.155Z"
   },
   {
    "duration": 40,
    "start_time": "2024-06-05T16:11:36.971Z"
   },
   {
    "duration": 48,
    "start_time": "2024-06-05T16:11:55.705Z"
   },
   {
    "duration": 3,
    "start_time": "2024-06-05T16:12:09.611Z"
   },
   {
    "duration": 7517,
    "start_time": "2024-06-05T16:12:16.304Z"
   },
   {
    "duration": 16,
    "start_time": "2024-06-05T16:12:45.744Z"
   },
   {
    "duration": 15,
    "start_time": "2024-06-05T16:12:49.482Z"
   },
   {
    "duration": 107,
    "start_time": "2024-06-05T16:12:56.751Z"
   },
   {
    "duration": 125,
    "start_time": "2024-06-05T16:12:57.501Z"
   },
   {
    "duration": 4,
    "start_time": "2024-06-05T16:12:58.052Z"
   },
   {
    "duration": 10,
    "start_time": "2024-06-05T16:13:02.348Z"
   },
   {
    "duration": 13,
    "start_time": "2024-06-05T16:13:03.001Z"
   },
   {
    "duration": 4,
    "start_time": "2024-06-05T16:13:03.529Z"
   },
   {
    "duration": 4,
    "start_time": "2024-06-05T16:13:04.215Z"
   },
   {
    "duration": 46,
    "start_time": "2024-06-05T16:13:05.113Z"
   },
   {
    "duration": 2,
    "start_time": "2024-06-05T16:13:07.971Z"
   },
   {
    "duration": 3,
    "start_time": "2024-06-05T16:13:08.850Z"
   },
   {
    "duration": 3,
    "start_time": "2024-06-05T16:14:07.423Z"
   },
   {
    "duration": 3,
    "start_time": "2024-06-05T16:14:11.048Z"
   },
   {
    "duration": 4,
    "start_time": "2024-06-05T16:14:16.814Z"
   },
   {
    "duration": 3,
    "start_time": "2024-06-05T16:14:20.092Z"
   },
   {
    "duration": 3,
    "start_time": "2024-06-05T16:14:21.409Z"
   },
   {
    "duration": 2,
    "start_time": "2024-06-05T16:14:26.731Z"
   },
   {
    "duration": 3,
    "start_time": "2024-06-05T16:14:30.073Z"
   },
   {
    "duration": 2343,
    "start_time": "2024-06-05T16:14:43.100Z"
   },
   {
    "duration": 3,
    "start_time": "2024-06-05T16:15:10.157Z"
   },
   {
    "duration": 3,
    "start_time": "2024-06-05T16:15:11.665Z"
   },
   {
    "duration": 3,
    "start_time": "2024-06-05T16:15:14.283Z"
   },
   {
    "duration": 3,
    "start_time": "2024-06-05T16:15:15.494Z"
   },
   {
    "duration": 3,
    "start_time": "2024-06-05T16:15:17.563Z"
   },
   {
    "duration": 11461,
    "start_time": "2024-06-05T16:15:18.575Z"
   },
   {
    "duration": 3,
    "start_time": "2024-06-05T16:16:02.965Z"
   },
   {
    "duration": 3,
    "start_time": "2024-06-05T16:16:03.957Z"
   },
   {
    "duration": 4,
    "start_time": "2024-06-05T16:16:09.652Z"
   },
   {
    "duration": 3,
    "start_time": "2024-06-05T16:16:13.977Z"
   },
   {
    "duration": 2,
    "start_time": "2024-06-05T16:16:14.553Z"
   },
   {
    "duration": 3,
    "start_time": "2024-06-05T16:16:17.232Z"
   },
   {
    "duration": 3,
    "start_time": "2024-06-05T16:16:18.171Z"
   },
   {
    "duration": 11426,
    "start_time": "2024-06-05T16:16:20.285Z"
   },
   {
    "duration": 91,
    "start_time": "2024-06-05T16:16:42.166Z"
   },
   {
    "duration": 18,
    "start_time": "2024-06-05T16:16:43.503Z"
   },
   {
    "duration": 3,
    "start_time": "2024-06-05T16:16:52.599Z"
   },
   {
    "duration": 98533,
    "start_time": "2024-06-05T16:16:57.258Z"
   },
   {
    "duration": 2,
    "start_time": "2024-06-05T16:19:16.523Z"
   },
   {
    "duration": 1070364,
    "start_time": "2024-06-05T16:19:21.371Z"
   },
   {
    "duration": 3,
    "start_time": "2024-06-05T16:41:41.333Z"
   },
   {
    "duration": 3,
    "start_time": "2024-06-05T16:43:26.633Z"
   },
   {
    "duration": 4,
    "start_time": "2024-06-05T16:43:53.700Z"
   },
   {
    "duration": 63,
    "start_time": "2024-06-05T16:43:59.237Z"
   },
   {
    "duration": 2,
    "start_time": "2024-06-05T16:44:31.644Z"
   },
   {
    "duration": 4,
    "start_time": "2024-06-05T16:45:07.674Z"
   },
   {
    "duration": 66,
    "start_time": "2024-06-05T16:45:13.062Z"
   },
   {
    "duration": 525,
    "start_time": "2024-06-05T16:51:11.192Z"
   },
   {
    "duration": 3,
    "start_time": "2024-06-05T16:51:38.913Z"
   },
   {
    "duration": 481,
    "start_time": "2024-06-05T16:51:40.016Z"
   },
   {
    "duration": 442,
    "start_time": "2024-06-05T16:52:18.451Z"
   },
   {
    "duration": 3,
    "start_time": "2024-06-05T16:52:24.742Z"
   },
   {
    "duration": 117914,
    "start_time": "2024-06-05T16:52:25.789Z"
   },
   {
    "duration": 4,
    "start_time": "2024-06-05T16:56:39.501Z"
   },
   {
    "duration": 8,
    "start_time": "2024-06-05T16:56:47.345Z"
   },
   {
    "duration": 116628,
    "start_time": "2024-06-05T16:57:32.299Z"
   },
   {
    "duration": 16,
    "start_time": "2024-06-05T16:59:34.987Z"
   },
   {
    "duration": 2,
    "start_time": "2024-06-05T16:59:46.968Z"
   },
   {
    "duration": 120722,
    "start_time": "2024-06-05T16:59:52.201Z"
   },
   {
    "duration": 4,
    "start_time": "2024-06-05T17:02:08.448Z"
   },
   {
    "duration": 8,
    "start_time": "2024-06-05T17:02:10.670Z"
   },
   {
    "duration": 2,
    "start_time": "2024-06-05T17:04:25.907Z"
   },
   {
    "duration": 542,
    "start_time": "2024-06-05T17:04:28.964Z"
   },
   {
    "duration": 48,
    "start_time": "2024-06-05T17:05:29.066Z"
   },
   {
    "duration": 8,
    "start_time": "2024-06-05T17:06:54.374Z"
   },
   {
    "duration": 135,
    "start_time": "2024-06-05T17:17:40.969Z"
   },
   {
    "duration": 41,
    "start_time": "2024-06-05T17:21:11.284Z"
   },
   {
    "duration": 257,
    "start_time": "2024-06-05T17:21:32.234Z"
   },
   {
    "duration": 337,
    "start_time": "2024-06-05T17:22:30.903Z"
   },
   {
    "duration": 278,
    "start_time": "2024-06-05T17:22:48.432Z"
   },
   {
    "duration": 299,
    "start_time": "2024-06-05T17:22:59.973Z"
   },
   {
    "duration": 400,
    "start_time": "2024-06-05T17:23:12.158Z"
   },
   {
    "duration": 305,
    "start_time": "2024-06-05T17:23:35.835Z"
   },
   {
    "duration": 324,
    "start_time": "2024-06-05T17:23:53.862Z"
   },
   {
    "duration": 299,
    "start_time": "2024-06-05T17:24:00.194Z"
   },
   {
    "duration": 297,
    "start_time": "2024-06-05T17:24:06.135Z"
   },
   {
    "duration": 347,
    "start_time": "2024-06-05T17:24:36.729Z"
   },
   {
    "duration": 3,
    "start_time": "2024-06-05T17:28:23.653Z"
   },
   {
    "duration": 4,
    "start_time": "2024-06-05T17:28:25.202Z"
   },
   {
    "duration": 7,
    "start_time": "2024-06-05T17:29:58.775Z"
   },
   {
    "duration": 3,
    "start_time": "2024-06-05T17:30:28.343Z"
   },
   {
    "duration": 3,
    "start_time": "2024-06-05T17:30:29.478Z"
   },
   {
    "duration": 4,
    "start_time": "2024-06-05T17:30:35.027Z"
   },
   {
    "duration": 4,
    "start_time": "2024-06-05T17:30:36.701Z"
   },
   {
    "duration": 3,
    "start_time": "2024-06-05T17:30:37.771Z"
   },
   {
    "duration": 3,
    "start_time": "2024-06-05T17:30:41.036Z"
   },
   {
    "duration": 3,
    "start_time": "2024-06-05T17:30:41.936Z"
   },
   {
    "duration": 234549,
    "start_time": "2024-06-05T17:30:43.663Z"
   },
   {
    "duration": 3,
    "start_time": "2024-06-05T17:35:06.484Z"
   },
   {
    "duration": 4,
    "start_time": "2024-06-05T17:35:07.625Z"
   },
   {
    "duration": 42,
    "start_time": "2024-06-05T17:35:12.340Z"
   },
   {
    "duration": 4,
    "start_time": "2024-06-05T17:35:33.270Z"
   },
   {
    "duration": 2,
    "start_time": "2024-06-05T17:35:34.224Z"
   },
   {
    "duration": 3,
    "start_time": "2024-06-05T17:35:36.286Z"
   },
   {
    "duration": 3,
    "start_time": "2024-06-05T17:35:37.858Z"
   },
   {
    "duration": 3,
    "start_time": "2024-06-05T17:35:39.540Z"
   },
   {
    "duration": 11214,
    "start_time": "2024-06-05T17:35:40.479Z"
   },
   {
    "duration": 2,
    "start_time": "2024-06-05T17:35:57.753Z"
   },
   {
    "duration": 3,
    "start_time": "2024-06-05T17:35:58.524Z"
   },
   {
    "duration": 10,
    "start_time": "2024-06-05T17:36:00.104Z"
   },
   {
    "duration": 17,
    "start_time": "2024-06-05T17:36:02.471Z"
   },
   {
    "duration": 3,
    "start_time": "2024-06-05T17:36:03.108Z"
   },
   {
    "duration": 124131,
    "start_time": "2024-06-05T17:36:07.274Z"
   },
   {
    "duration": 3,
    "start_time": "2024-06-05T17:38:14.537Z"
   },
   {
    "duration": 3,
    "start_time": "2024-06-05T17:38:16.051Z"
   },
   {
    "duration": 765195,
    "start_time": "2024-06-05T17:38:20.039Z"
   },
   {
    "duration": 3,
    "start_time": "2024-06-05T17:51:21.438Z"
   },
   {
    "duration": 3,
    "start_time": "2024-06-05T17:51:25.814Z"
   },
   {
    "duration": 116751,
    "start_time": "2024-06-05T17:51:27.271Z"
   },
   {
    "duration": 4,
    "start_time": "2024-06-05T17:53:28.102Z"
   },
   {
    "duration": 12,
    "start_time": "2024-06-05T17:53:29.824Z"
   },
   {
    "duration": 312,
    "start_time": "2024-06-05T17:53:40.524Z"
   },
   {
    "duration": 471,
    "start_time": "2024-06-05T17:54:09.356Z"
   },
   {
    "duration": 287,
    "start_time": "2024-06-05T17:54:19.492Z"
   },
   {
    "duration": 350,
    "start_time": "2024-06-05T17:55:04.583Z"
   },
   {
    "duration": 310,
    "start_time": "2024-06-05T17:55:14.478Z"
   },
   {
    "duration": 295,
    "start_time": "2024-06-05T17:56:04.155Z"
   },
   {
    "duration": 435,
    "start_time": "2024-06-05T17:56:31.512Z"
   },
   {
    "duration": 293,
    "start_time": "2024-06-05T17:56:58.883Z"
   },
   {
    "duration": 3,
    "start_time": "2024-06-05T17:57:15.991Z"
   },
   {
    "duration": 551,
    "start_time": "2024-06-05T17:57:16.641Z"
   },
   {
    "duration": 291,
    "start_time": "2024-06-05T17:58:48.796Z"
   },
   {
    "duration": 316,
    "start_time": "2024-06-05T18:01:04.105Z"
   },
   {
    "duration": 316,
    "start_time": "2024-06-05T18:01:46.354Z"
   },
   {
    "duration": 324,
    "start_time": "2024-06-05T18:01:58.000Z"
   },
   {
    "duration": 462,
    "start_time": "2024-06-05T18:02:30.438Z"
   },
   {
    "duration": 339,
    "start_time": "2024-06-05T18:02:56.509Z"
   },
   {
    "duration": 298,
    "start_time": "2024-06-05T18:03:22.207Z"
   },
   {
    "duration": 3,
    "start_time": "2024-06-05T18:03:26.540Z"
   },
   {
    "duration": 602,
    "start_time": "2024-06-05T18:03:27.397Z"
   }
  ],
  "kernelspec": {
   "display_name": "Python 3 (ipykernel)",
   "language": "python",
   "name": "python3"
  },
  "language_info": {
   "codemirror_mode": {
    "name": "ipython",
    "version": 3
   },
   "file_extension": ".py",
   "mimetype": "text/x-python",
   "name": "python",
   "nbconvert_exporter": "python",
   "pygments_lexer": "ipython3",
   "version": "3.11.5"
  },
  "toc": {
   "base_numbering": 1,
   "nav_menu": {},
   "number_sections": true,
   "sideBar": true,
   "skip_h1_title": true,
   "title_cell": "Проект: Определение стоимости автомобилей",
   "title_sidebar": "Contents",
   "toc_cell": true,
   "toc_position": {
    "height": "calc(100% - 180px)",
    "left": "10px",
    "top": "150px",
    "width": "288px"
   },
   "toc_section_display": true,
   "toc_window_display": false
  },
  "varInspector": {
   "cols": {
    "lenName": 16,
    "lenType": 16,
    "lenVar": 40
   },
   "kernels_config": {
    "python": {
     "delete_cmd_postfix": "",
     "delete_cmd_prefix": "del ",
     "library": "var_list.py",
     "varRefreshCmd": "print(var_dic_list())"
    },
    "r": {
     "delete_cmd_postfix": ") ",
     "delete_cmd_prefix": "rm(",
     "library": "var_list.r",
     "varRefreshCmd": "cat(var_dic_list()) "
    }
   },
   "types_to_exclude": [
    "module",
    "function",
    "builtin_function_or_method",
    "instance",
    "_Feature"
   ],
   "window_display": false
  }
 },
 "nbformat": 4,
 "nbformat_minor": 5
}
