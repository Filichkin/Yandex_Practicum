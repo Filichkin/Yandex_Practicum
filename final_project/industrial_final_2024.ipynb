{
 "cells": [
  {
   "cell_type": "markdown",
   "id": "7b3170f7",
   "metadata": {
    "toc": true
   },
   "source": [
    "<h1>Описание проекта: промышленность<span class=\"tocSkip\"></span></h1>\n",
    "<div class=\"toc\"><ul class=\"toc-item\"><li><span><a href=\"#Цель-проекта\" data-toc-modified-id=\"Цель-проекта-1\"><span class=\"toc-item-num\">1&nbsp;&nbsp;</span>Цель проекта</a></span></li><li><span><a href=\"#Описание-этапа-обработки\" data-toc-modified-id=\"Описание-этапа-обработки-2\"><span class=\"toc-item-num\">2&nbsp;&nbsp;</span>Описание этапа обработки</a></span></li><li><span><a href=\"#Описание-данных\" data-toc-modified-id=\"Описание-данных-3\"><span class=\"toc-item-num\">3&nbsp;&nbsp;</span>Описание данных</a></span></li><li><span><a href=\"#Загрузка-и-подготовка-данных\" data-toc-modified-id=\"Загрузка-и-подготовка-данных-4\"><span class=\"toc-item-num\">4&nbsp;&nbsp;</span>Загрузка и подготовка данных</a></span><ul class=\"toc-item\"><li><span><a href=\"#Вывод-по-загрузке-данных\" data-toc-modified-id=\"Вывод-по-загрузке-данных-4.1\"><span class=\"toc-item-num\">4.1&nbsp;&nbsp;</span>Вывод по загрузке данных</a></span></li></ul></li><li><span><a href=\"#Исследовательский-анализ\" data-toc-modified-id=\"Исследовательский-анализ-5\"><span class=\"toc-item-num\">5&nbsp;&nbsp;</span>Исследовательский анализ</a></span><ul class=\"toc-item\"><li><span><a href=\"#Вывод-по-итогам-исследовательского-анализа-данных\" data-toc-modified-id=\"Вывод-по-итогам-исследовательского-анализа-данных-5.1\"><span class=\"toc-item-num\">5.1&nbsp;&nbsp;</span>Вывод по итогам исследовательского анализа данных</a></span></li><li><span><a href=\"#Вопросы-заказчику-по-итогам-исследовательского-анализа-данных\" data-toc-modified-id=\"Вопросы-заказчику-по-итогам-исследовательского-анализа-данных-5.2\"><span class=\"toc-item-num\">5.2&nbsp;&nbsp;</span>Вопросы заказчику по итогам исследовательского анализа данных</a></span></li></ul></li><li><span><a href=\"#Предобработка-данных\" data-toc-modified-id=\"Предобработка-данных-6\"><span class=\"toc-item-num\">6&nbsp;&nbsp;</span>Предобработка данных</a></span><ul class=\"toc-item\"><li><span><a href=\"#Вывод-по-предобработке-данных\" data-toc-modified-id=\"Вывод-по-предобработке-данных-6.1\"><span class=\"toc-item-num\">6.1&nbsp;&nbsp;</span>Вывод по предобработке данных</a></span></li></ul></li><li><span><a href=\"#Объединение-таблиц\" data-toc-modified-id=\"Объединение-таблиц-7\"><span class=\"toc-item-num\">7&nbsp;&nbsp;</span>Объединение таблиц</a></span><ul class=\"toc-item\"><li><span><a href=\"#Вывод-по-объединению-таблиц\" data-toc-modified-id=\"Вывод-по-объединению-таблиц-7.1\"><span class=\"toc-item-num\">7.1&nbsp;&nbsp;</span>Вывод по объединению таблиц</a></span></li></ul></li><li><span><a href=\"#Корреляция-данных\" data-toc-modified-id=\"Корреляция-данных-8\"><span class=\"toc-item-num\">8&nbsp;&nbsp;</span>Корреляция данных</a></span></li><li><span><a href=\"#Подготовка-данных-и-обучение-моделей\" data-toc-modified-id=\"Подготовка-данных-и-обучение-моделей-9\"><span class=\"toc-item-num\">9&nbsp;&nbsp;</span>Подготовка данных и обучение моделей</a></span><ul class=\"toc-item\"><li><span><a href=\"#Проверка-лучшей-модели-на-тестовой-выборке\" data-toc-modified-id=\"Проверка-лучшей-модели-на-тестовой-выборке-9.1\"><span class=\"toc-item-num\">9.1&nbsp;&nbsp;</span>Проверка лучшей модели на тестовой выборке</a></span></li><li><span><a href=\"#Расчет-метрики-r2-на-тестовой-выборке\" data-toc-modified-id=\"Расчет-метрики-r2-на-тестовой-выборке-9.2\"><span class=\"toc-item-num\">9.2&nbsp;&nbsp;</span>Расчет метрики r2 на тестовой выборке</a></span></li><li><span><a href=\"#Cравнение-с-константной-моделью-DummyRegressor\" data-toc-modified-id=\"Cравнение-с-константной-моделью-DummyRegressor-9.3\"><span class=\"toc-item-num\">9.3&nbsp;&nbsp;</span>Cравнение с константной моделью DummyRegressor</a></span></li><li><span><a href=\"#Оценка-важности-признаков-у-лучшей-модели\" data-toc-modified-id=\"Оценка-важности-признаков-у-лучшей-модели-9.4\"><span class=\"toc-item-num\">9.4&nbsp;&nbsp;</span>Оценка важности признаков у лучшей модели</a></span></li><li><span><a href=\"#Вывод-по-обучению-моделей\" data-toc-modified-id=\"Вывод-по-обучению-моделей-9.5\"><span class=\"toc-item-num\">9.5&nbsp;&nbsp;</span>Вывод по обучению моделей</a></span></li></ul></li><li><span><a href=\"#Итоговый-вывод-к-проекту\" data-toc-modified-id=\"Итоговый-вывод-к-проекту-10\"><span class=\"toc-item-num\">10&nbsp;&nbsp;</span>Итоговый вывод к проекту</a></span></li></ul></div>"
   ]
  },
  {
   "cell_type": "markdown",
   "id": "783269c2",
   "metadata": {},
   "source": [
    "Чтобы оптимизировать производственные расходы, металлургический комбинат «Стальная птица» решил уменьшить потребление электроэнергии на этапе обработки стали. Для этого комбинату нужно контролировать температуру сплава. Ваша задача — построить модель, которая будет её предсказывать.\n",
    "\n",
    "Заказчик хочет использовать разработанную модель для имитации технологического процесса. Ниже расскажем о деталях этого процесса. Их важно знать, прежде чем генерировать новые признаки."
   ]
  },
  {
   "cell_type": "markdown",
   "id": "646b2d1f",
   "metadata": {},
   "source": [
    "### Цель проекта"
   ]
  },
  {
   "cell_type": "markdown",
   "id": "0a9636da",
   "metadata": {},
   "source": [
    "Оптимизация производственных расходов металлургического комбината, с помощью построения модели машинного обучения, которая предсказывает температуру сплава.\n",
    "\n",
    "Модель позволит снизить затраты на электричество, обслуживание и ремонты.\n",
    "\n",
    "- Целевая переменная target - последняя температура по всей партии \n",
    "- Целевая метрика - MAE (нужно получить не более 6.8 на тесте)"
   ]
  },
  {
   "cell_type": "markdown",
   "id": "6c991b90",
   "metadata": {},
   "source": [
    "### Описание этапа обработки"
   ]
  },
  {
   "cell_type": "markdown",
   "id": "d6270309",
   "metadata": {},
   "source": [
    "Сталь обрабатывают в металлическом ковше вместимостью около 100 тонн. Чтобы ковш выдерживал высокие температуры, изнутри его облицовывают огнеупорным кирпичом. Расплавленную сталь заливают в ковш и подогревают до нужной температуры графитовыми электродами. Они установлены в крышке ковша.\n",
    "\n",
    "Из сплава выводится сера (этот процесс — десульфурация), добавлением примесей корректируется химический состав и отбираются пробы. Сталь легируют — изменяют её состав — подавая куски сплава из бункера для сыпучих материалов или проволоку через специальный трайб-аппарат (от англ. tribe — «масса»).\n",
    "\n",
    "Перед тем как первый раз ввести легирующие добавки, измеряют температуру стали и производят её химический анализ. Потом температуру на несколько минут повышают, добавляют легирующие материалы и продувают сплав инертным газом. Затем его перемешивают и снова проводят измерения. Такой цикл повторяется до достижения целевого химического состава и оптимальной температуры плавки.\n",
    "\n",
    "Тогда расплавленная сталь отправляется на доводку металла или поступает в машину непрерывной разливки. Оттуда готовый продукт выходит в виде заготовок-слябов (от англ. slab — «плита»)."
   ]
  },
  {
   "cell_type": "markdown",
   "id": "5edbf1c4",
   "metadata": {},
   "source": [
    "### Описание данных"
   ]
  },
  {
   "cell_type": "markdown",
   "id": "6b347ef4",
   "metadata": {},
   "source": [
    "Данные состоят из нескольких файлов, полученных из разных источников:\n",
    "    \n",
    "- data_arc_new.csv — данные об электродах;\n",
    "\n",
    "- data_bulk_new.csv — данные о подаче сыпучих материалов (объём);\n",
    "\n",
    "- data_bulk_time_new.csv — данные о подаче сыпучих материалов (время);\n",
    "\n",
    "- data_gas_new.csv — данные о продувке сплава газом;\n",
    "\n",
    "- data_temp_new.csv — результаты измерения температуры;\n",
    "\n",
    "- data_wire_new.csv — данные о проволочных материалах (объём);\n",
    "\n",
    "- data_wire_time_new.csv — данные о проволочных материалах (время).\n",
    "\n",
    "Во всех файлах столбец key содержит номер партии. В файлах может быть несколько строк с одинаковым значением **key**: они соответствуют разным итерациям обработки."
   ]
  },
  {
   "cell_type": "markdown",
   "id": "faf98466",
   "metadata": {},
   "source": [
    "### Загрузка и подготовка данных"
   ]
  },
  {
   "cell_type": "code",
   "execution_count": 1,
   "id": "112e3c8e",
   "metadata": {},
   "outputs": [],
   "source": [
    "import pandas as pd\n",
    "import numpy as np\n",
    "import math\n",
    "import seaborn as sns\n",
    "import matplotlib.pyplot as plt\n",
    "import catboost\n",
    "import lightgbm\n",
    "\n",
    "from lightgbm import LGBMRegressor\n",
    "from catboost import CatBoostRegressor, Pool\n",
    "from sklearn.linear_model import LinearRegression\n",
    "from sklearn.dummy import DummyRegressor\n",
    "from sklearn.metrics import mean_absolute_error, r2_score\n",
    "from sklearn.model_selection import train_test_split, RandomizedSearchCV\n",
    "from sklearn.pipeline import Pipeline\n",
    "from sklearn.compose import ColumnTransformer\n",
    "from sklearn.impute import SimpleImputer\n",
    "from sklearn.preprocessing import StandardScaler, MinMaxScaler\n",
    "\n",
    "try:\n",
    "    import missingno as msno\n",
    "except:\n",
    "    !pip install missingno -q\n",
    "    import missingno as msno\n",
    "\n",
    "import warnings\n",
    "warnings.filterwarnings('ignore', category=DeprecationWarning)\n",
    "pd.set_option('display.max_columns', None)"
   ]
  },
  {
   "cell_type": "code",
   "execution_count": 2,
   "id": "f39a4fa7",
   "metadata": {},
   "outputs": [],
   "source": [
    "RANDOM_STATE = 50824"
   ]
  },
  {
   "cell_type": "code",
   "execution_count": 3,
   "id": "9f523b3f",
   "metadata": {},
   "outputs": [],
   "source": [
    "def file_download(file_name):\n",
    "    try:\n",
    "        data = pd.read_csv(f'/Users/alexfil/Desktop/Practicum/Projects/Final/data/{file_name}')\n",
    "    except:\n",
    "        data = pd.read_csv(f'https://code.s3.yandex.net/datasets/{file_name}')\n",
    "    return data"
   ]
  },
  {
   "cell_type": "markdown",
   "id": "69e6df59",
   "metadata": {},
   "source": [
    "**Файл data_arc_new.csv — данные об электродах**"
   ]
  },
  {
   "cell_type": "markdown",
   "id": "7913adaf",
   "metadata": {},
   "source": [
    "- key — номер партии;\n",
    "- Начало нагрева дугой — время начала нагрева;\n",
    "- Конец нагрева дугой — время окончания нагрева;\n",
    "- Активная мощность — значение активной мощности;\n",
    "- Реактивная мощность — значение реактивной мощности."
   ]
  },
  {
   "cell_type": "markdown",
   "id": "7e06c134",
   "metadata": {},
   "source": [
    "**Активная мощность** — это электрическая энергия, которая идёт на выполнение полезной работы (обогрев, освещение и пр.). Её принято измерять в ваттах и киловаттах (Вт, кВт).\n",
    "\n",
    "**Реактивная мощность** — это электрическая энергия, которая накапливается в электрических цепях, но не участвует в выполнении полезной работы. Она идёт на разогрев проводников и возвращается в электрическую сеть."
   ]
  },
  {
   "cell_type": "code",
   "execution_count": 4,
   "id": "12859369",
   "metadata": {},
   "outputs": [
    {
     "data": {
      "text/plain": [
       "(14876, 5)"
      ]
     },
     "metadata": {},
     "output_type": "display_data"
    },
    {
     "data": {
      "text/html": [
       "<div>\n",
       "<style scoped>\n",
       "    .dataframe tbody tr th:only-of-type {\n",
       "        vertical-align: middle;\n",
       "    }\n",
       "\n",
       "    .dataframe tbody tr th {\n",
       "        vertical-align: top;\n",
       "    }\n",
       "\n",
       "    .dataframe thead th {\n",
       "        text-align: right;\n",
       "    }\n",
       "</style>\n",
       "<table border=\"1\" class=\"dataframe\">\n",
       "  <thead>\n",
       "    <tr style=\"text-align: right;\">\n",
       "      <th></th>\n",
       "      <th>key</th>\n",
       "      <th>Начало нагрева дугой</th>\n",
       "      <th>Конец нагрева дугой</th>\n",
       "      <th>Активная мощность</th>\n",
       "      <th>Реактивная мощность</th>\n",
       "    </tr>\n",
       "  </thead>\n",
       "  <tbody>\n",
       "    <tr>\n",
       "      <th>0</th>\n",
       "      <td>1</td>\n",
       "      <td>2019-05-03 11:02:14</td>\n",
       "      <td>2019-05-03 11:06:02</td>\n",
       "      <td>0.305130</td>\n",
       "      <td>0.211253</td>\n",
       "    </tr>\n",
       "    <tr>\n",
       "      <th>1</th>\n",
       "      <td>1</td>\n",
       "      <td>2019-05-03 11:07:28</td>\n",
       "      <td>2019-05-03 11:10:33</td>\n",
       "      <td>0.765658</td>\n",
       "      <td>0.477438</td>\n",
       "    </tr>\n",
       "    <tr>\n",
       "      <th>2</th>\n",
       "      <td>1</td>\n",
       "      <td>2019-05-03 11:11:44</td>\n",
       "      <td>2019-05-03 11:14:36</td>\n",
       "      <td>0.580313</td>\n",
       "      <td>0.430460</td>\n",
       "    </tr>\n",
       "    <tr>\n",
       "      <th>3</th>\n",
       "      <td>1</td>\n",
       "      <td>2019-05-03 11:18:14</td>\n",
       "      <td>2019-05-03 11:24:19</td>\n",
       "      <td>0.518496</td>\n",
       "      <td>0.379979</td>\n",
       "    </tr>\n",
       "    <tr>\n",
       "      <th>4</th>\n",
       "      <td>1</td>\n",
       "      <td>2019-05-03 11:26:09</td>\n",
       "      <td>2019-05-03 11:28:37</td>\n",
       "      <td>0.867133</td>\n",
       "      <td>0.643691</td>\n",
       "    </tr>\n",
       "  </tbody>\n",
       "</table>\n",
       "</div>"
      ],
      "text/plain": [
       "   key Начало нагрева дугой  Конец нагрева дугой  Активная мощность   \n",
       "0    1  2019-05-03 11:02:14  2019-05-03 11:06:02           0.305130  \\\n",
       "1    1  2019-05-03 11:07:28  2019-05-03 11:10:33           0.765658   \n",
       "2    1  2019-05-03 11:11:44  2019-05-03 11:14:36           0.580313   \n",
       "3    1  2019-05-03 11:18:14  2019-05-03 11:24:19           0.518496   \n",
       "4    1  2019-05-03 11:26:09  2019-05-03 11:28:37           0.867133   \n",
       "\n",
       "   Реактивная мощность  \n",
       "0             0.211253  \n",
       "1             0.477438  \n",
       "2             0.430460  \n",
       "3             0.379979  \n",
       "4             0.643691  "
      ]
     },
     "execution_count": 4,
     "metadata": {},
     "output_type": "execute_result"
    }
   ],
   "source": [
    "data_arc = file_download('data_arc_new.csv')\n",
    "display(data_arc.shape)\n",
    "data_arc.head(5)"
   ]
  },
  {
   "cell_type": "markdown",
   "id": "cf9c950b",
   "metadata": {},
   "source": [
    "**Файл data_bulk_new.csv - данные о подаче сыпучих материалов (объём)**"
   ]
  },
  {
   "cell_type": "markdown",
   "id": "45d17949",
   "metadata": {},
   "source": [
    "- key — номер партии;\n",
    "- Bulk 1 … Bulk 15 — объём подаваемого материала."
   ]
  },
  {
   "cell_type": "code",
   "execution_count": 5,
   "id": "29d8221d",
   "metadata": {},
   "outputs": [
    {
     "data": {
      "text/plain": [
       "(3129, 16)"
      ]
     },
     "metadata": {},
     "output_type": "display_data"
    },
    {
     "data": {
      "text/html": [
       "<div>\n",
       "<style scoped>\n",
       "    .dataframe tbody tr th:only-of-type {\n",
       "        vertical-align: middle;\n",
       "    }\n",
       "\n",
       "    .dataframe tbody tr th {\n",
       "        vertical-align: top;\n",
       "    }\n",
       "\n",
       "    .dataframe thead th {\n",
       "        text-align: right;\n",
       "    }\n",
       "</style>\n",
       "<table border=\"1\" class=\"dataframe\">\n",
       "  <thead>\n",
       "    <tr style=\"text-align: right;\">\n",
       "      <th></th>\n",
       "      <th>key</th>\n",
       "      <th>Bulk 1</th>\n",
       "      <th>Bulk 2</th>\n",
       "      <th>Bulk 3</th>\n",
       "      <th>Bulk 4</th>\n",
       "      <th>Bulk 5</th>\n",
       "      <th>Bulk 6</th>\n",
       "      <th>Bulk 7</th>\n",
       "      <th>Bulk 8</th>\n",
       "      <th>Bulk 9</th>\n",
       "      <th>Bulk 10</th>\n",
       "      <th>Bulk 11</th>\n",
       "      <th>Bulk 12</th>\n",
       "      <th>Bulk 13</th>\n",
       "      <th>Bulk 14</th>\n",
       "      <th>Bulk 15</th>\n",
       "    </tr>\n",
       "  </thead>\n",
       "  <tbody>\n",
       "    <tr>\n",
       "      <th>0</th>\n",
       "      <td>1</td>\n",
       "      <td>NaN</td>\n",
       "      <td>NaN</td>\n",
       "      <td>NaN</td>\n",
       "      <td>43.0</td>\n",
       "      <td>NaN</td>\n",
       "      <td>NaN</td>\n",
       "      <td>NaN</td>\n",
       "      <td>NaN</td>\n",
       "      <td>NaN</td>\n",
       "      <td>NaN</td>\n",
       "      <td>NaN</td>\n",
       "      <td>206.0</td>\n",
       "      <td>NaN</td>\n",
       "      <td>150.0</td>\n",
       "      <td>154.0</td>\n",
       "    </tr>\n",
       "    <tr>\n",
       "      <th>1</th>\n",
       "      <td>2</td>\n",
       "      <td>NaN</td>\n",
       "      <td>NaN</td>\n",
       "      <td>NaN</td>\n",
       "      <td>73.0</td>\n",
       "      <td>NaN</td>\n",
       "      <td>NaN</td>\n",
       "      <td>NaN</td>\n",
       "      <td>NaN</td>\n",
       "      <td>NaN</td>\n",
       "      <td>NaN</td>\n",
       "      <td>NaN</td>\n",
       "      <td>206.0</td>\n",
       "      <td>NaN</td>\n",
       "      <td>149.0</td>\n",
       "      <td>154.0</td>\n",
       "    </tr>\n",
       "    <tr>\n",
       "      <th>2</th>\n",
       "      <td>3</td>\n",
       "      <td>NaN</td>\n",
       "      <td>NaN</td>\n",
       "      <td>NaN</td>\n",
       "      <td>34.0</td>\n",
       "      <td>NaN</td>\n",
       "      <td>NaN</td>\n",
       "      <td>NaN</td>\n",
       "      <td>NaN</td>\n",
       "      <td>NaN</td>\n",
       "      <td>NaN</td>\n",
       "      <td>NaN</td>\n",
       "      <td>205.0</td>\n",
       "      <td>NaN</td>\n",
       "      <td>152.0</td>\n",
       "      <td>153.0</td>\n",
       "    </tr>\n",
       "    <tr>\n",
       "      <th>3</th>\n",
       "      <td>4</td>\n",
       "      <td>NaN</td>\n",
       "      <td>NaN</td>\n",
       "      <td>NaN</td>\n",
       "      <td>81.0</td>\n",
       "      <td>NaN</td>\n",
       "      <td>NaN</td>\n",
       "      <td>NaN</td>\n",
       "      <td>NaN</td>\n",
       "      <td>NaN</td>\n",
       "      <td>NaN</td>\n",
       "      <td>NaN</td>\n",
       "      <td>207.0</td>\n",
       "      <td>NaN</td>\n",
       "      <td>153.0</td>\n",
       "      <td>154.0</td>\n",
       "    </tr>\n",
       "    <tr>\n",
       "      <th>4</th>\n",
       "      <td>5</td>\n",
       "      <td>NaN</td>\n",
       "      <td>NaN</td>\n",
       "      <td>NaN</td>\n",
       "      <td>78.0</td>\n",
       "      <td>NaN</td>\n",
       "      <td>NaN</td>\n",
       "      <td>NaN</td>\n",
       "      <td>NaN</td>\n",
       "      <td>NaN</td>\n",
       "      <td>NaN</td>\n",
       "      <td>NaN</td>\n",
       "      <td>203.0</td>\n",
       "      <td>NaN</td>\n",
       "      <td>151.0</td>\n",
       "      <td>152.0</td>\n",
       "    </tr>\n",
       "  </tbody>\n",
       "</table>\n",
       "</div>"
      ],
      "text/plain": [
       "   key  Bulk 1  Bulk 2  Bulk 3  Bulk 4  Bulk 5  Bulk 6  Bulk 7  Bulk 8   \n",
       "0    1     NaN     NaN     NaN    43.0     NaN     NaN     NaN     NaN  \\\n",
       "1    2     NaN     NaN     NaN    73.0     NaN     NaN     NaN     NaN   \n",
       "2    3     NaN     NaN     NaN    34.0     NaN     NaN     NaN     NaN   \n",
       "3    4     NaN     NaN     NaN    81.0     NaN     NaN     NaN     NaN   \n",
       "4    5     NaN     NaN     NaN    78.0     NaN     NaN     NaN     NaN   \n",
       "\n",
       "   Bulk 9  Bulk 10  Bulk 11  Bulk 12  Bulk 13  Bulk 14  Bulk 15  \n",
       "0     NaN      NaN      NaN    206.0      NaN    150.0    154.0  \n",
       "1     NaN      NaN      NaN    206.0      NaN    149.0    154.0  \n",
       "2     NaN      NaN      NaN    205.0      NaN    152.0    153.0  \n",
       "3     NaN      NaN      NaN    207.0      NaN    153.0    154.0  \n",
       "4     NaN      NaN      NaN    203.0      NaN    151.0    152.0  "
      ]
     },
     "execution_count": 5,
     "metadata": {},
     "output_type": "execute_result"
    }
   ],
   "source": [
    "data_bulk = file_download('data_bulk_new.csv')\n",
    "display(data_bulk.shape)\n",
    "data_bulk.head(5)"
   ]
  },
  {
   "cell_type": "markdown",
   "id": "bae6eae3",
   "metadata": {},
   "source": [
    "**Файл data_bulk_time_new.csv - данные о подаче сыпучих материалов (время)**"
   ]
  },
  {
   "cell_type": "markdown",
   "id": "92c8ffcd",
   "metadata": {},
   "source": [
    "- key — номер партии;\n",
    "- Bulk 1 … Bulk 15 — время подачи материала."
   ]
  },
  {
   "cell_type": "code",
   "execution_count": 6,
   "id": "68cbaffb",
   "metadata": {},
   "outputs": [
    {
     "data": {
      "text/plain": [
       "(3129, 16)"
      ]
     },
     "metadata": {},
     "output_type": "display_data"
    },
    {
     "data": {
      "text/html": [
       "<div>\n",
       "<style scoped>\n",
       "    .dataframe tbody tr th:only-of-type {\n",
       "        vertical-align: middle;\n",
       "    }\n",
       "\n",
       "    .dataframe tbody tr th {\n",
       "        vertical-align: top;\n",
       "    }\n",
       "\n",
       "    .dataframe thead th {\n",
       "        text-align: right;\n",
       "    }\n",
       "</style>\n",
       "<table border=\"1\" class=\"dataframe\">\n",
       "  <thead>\n",
       "    <tr style=\"text-align: right;\">\n",
       "      <th></th>\n",
       "      <th>key</th>\n",
       "      <th>Bulk 1</th>\n",
       "      <th>Bulk 2</th>\n",
       "      <th>Bulk 3</th>\n",
       "      <th>Bulk 4</th>\n",
       "      <th>Bulk 5</th>\n",
       "      <th>Bulk 6</th>\n",
       "      <th>Bulk 7</th>\n",
       "      <th>Bulk 8</th>\n",
       "      <th>Bulk 9</th>\n",
       "      <th>Bulk 10</th>\n",
       "      <th>Bulk 11</th>\n",
       "      <th>Bulk 12</th>\n",
       "      <th>Bulk 13</th>\n",
       "      <th>Bulk 14</th>\n",
       "      <th>Bulk 15</th>\n",
       "    </tr>\n",
       "  </thead>\n",
       "  <tbody>\n",
       "    <tr>\n",
       "      <th>0</th>\n",
       "      <td>1</td>\n",
       "      <td>NaN</td>\n",
       "      <td>NaN</td>\n",
       "      <td>NaN</td>\n",
       "      <td>2019-05-03 11:28:48</td>\n",
       "      <td>NaN</td>\n",
       "      <td>NaN</td>\n",
       "      <td>NaN</td>\n",
       "      <td>NaN</td>\n",
       "      <td>NaN</td>\n",
       "      <td>NaN</td>\n",
       "      <td>NaN</td>\n",
       "      <td>2019-05-03 11:24:31</td>\n",
       "      <td>NaN</td>\n",
       "      <td>2019-05-03 11:14:50</td>\n",
       "      <td>2019-05-03 11:10:43</td>\n",
       "    </tr>\n",
       "    <tr>\n",
       "      <th>1</th>\n",
       "      <td>2</td>\n",
       "      <td>NaN</td>\n",
       "      <td>NaN</td>\n",
       "      <td>NaN</td>\n",
       "      <td>2019-05-03 11:36:50</td>\n",
       "      <td>NaN</td>\n",
       "      <td>NaN</td>\n",
       "      <td>NaN</td>\n",
       "      <td>NaN</td>\n",
       "      <td>NaN</td>\n",
       "      <td>NaN</td>\n",
       "      <td>NaN</td>\n",
       "      <td>2019-05-03 11:53:30</td>\n",
       "      <td>NaN</td>\n",
       "      <td>2019-05-03 11:48:37</td>\n",
       "      <td>2019-05-03 11:44:39</td>\n",
       "    </tr>\n",
       "    <tr>\n",
       "      <th>2</th>\n",
       "      <td>3</td>\n",
       "      <td>NaN</td>\n",
       "      <td>NaN</td>\n",
       "      <td>NaN</td>\n",
       "      <td>2019-05-03 12:32:39</td>\n",
       "      <td>NaN</td>\n",
       "      <td>NaN</td>\n",
       "      <td>NaN</td>\n",
       "      <td>NaN</td>\n",
       "      <td>NaN</td>\n",
       "      <td>NaN</td>\n",
       "      <td>NaN</td>\n",
       "      <td>2019-05-03 12:27:13</td>\n",
       "      <td>NaN</td>\n",
       "      <td>2019-05-03 12:21:01</td>\n",
       "      <td>2019-05-03 12:16:16</td>\n",
       "    </tr>\n",
       "    <tr>\n",
       "      <th>3</th>\n",
       "      <td>4</td>\n",
       "      <td>NaN</td>\n",
       "      <td>NaN</td>\n",
       "      <td>NaN</td>\n",
       "      <td>2019-05-03 12:43:22</td>\n",
       "      <td>NaN</td>\n",
       "      <td>NaN</td>\n",
       "      <td>NaN</td>\n",
       "      <td>NaN</td>\n",
       "      <td>NaN</td>\n",
       "      <td>NaN</td>\n",
       "      <td>NaN</td>\n",
       "      <td>2019-05-03 12:58:00</td>\n",
       "      <td>NaN</td>\n",
       "      <td>2019-05-03 12:51:11</td>\n",
       "      <td>2019-05-03 12:46:36</td>\n",
       "    </tr>\n",
       "    <tr>\n",
       "      <th>4</th>\n",
       "      <td>5</td>\n",
       "      <td>NaN</td>\n",
       "      <td>NaN</td>\n",
       "      <td>NaN</td>\n",
       "      <td>2019-05-03 13:30:47</td>\n",
       "      <td>NaN</td>\n",
       "      <td>NaN</td>\n",
       "      <td>NaN</td>\n",
       "      <td>NaN</td>\n",
       "      <td>NaN</td>\n",
       "      <td>NaN</td>\n",
       "      <td>NaN</td>\n",
       "      <td>2019-05-03 13:30:47</td>\n",
       "      <td>NaN</td>\n",
       "      <td>2019-05-03 13:34:12</td>\n",
       "      <td>2019-05-03 13:30:47</td>\n",
       "    </tr>\n",
       "  </tbody>\n",
       "</table>\n",
       "</div>"
      ],
      "text/plain": [
       "   key Bulk 1 Bulk 2 Bulk 3               Bulk 4 Bulk 5 Bulk 6 Bulk 7 Bulk 8   \n",
       "0    1    NaN    NaN    NaN  2019-05-03 11:28:48    NaN    NaN    NaN    NaN  \\\n",
       "1    2    NaN    NaN    NaN  2019-05-03 11:36:50    NaN    NaN    NaN    NaN   \n",
       "2    3    NaN    NaN    NaN  2019-05-03 12:32:39    NaN    NaN    NaN    NaN   \n",
       "3    4    NaN    NaN    NaN  2019-05-03 12:43:22    NaN    NaN    NaN    NaN   \n",
       "4    5    NaN    NaN    NaN  2019-05-03 13:30:47    NaN    NaN    NaN    NaN   \n",
       "\n",
       "  Bulk 9 Bulk 10 Bulk 11              Bulk 12 Bulk 13              Bulk 14   \n",
       "0    NaN     NaN     NaN  2019-05-03 11:24:31     NaN  2019-05-03 11:14:50  \\\n",
       "1    NaN     NaN     NaN  2019-05-03 11:53:30     NaN  2019-05-03 11:48:37   \n",
       "2    NaN     NaN     NaN  2019-05-03 12:27:13     NaN  2019-05-03 12:21:01   \n",
       "3    NaN     NaN     NaN  2019-05-03 12:58:00     NaN  2019-05-03 12:51:11   \n",
       "4    NaN     NaN     NaN  2019-05-03 13:30:47     NaN  2019-05-03 13:34:12   \n",
       "\n",
       "               Bulk 15  \n",
       "0  2019-05-03 11:10:43  \n",
       "1  2019-05-03 11:44:39  \n",
       "2  2019-05-03 12:16:16  \n",
       "3  2019-05-03 12:46:36  \n",
       "4  2019-05-03 13:30:47  "
      ]
     },
     "execution_count": 6,
     "metadata": {},
     "output_type": "execute_result"
    }
   ],
   "source": [
    "data_bulk_time = file_download('data_bulk_time_new.csv')\n",
    "display(data_bulk_time.shape)\n",
    "data_bulk_time.head(5)"
   ]
  },
  {
   "cell_type": "markdown",
   "id": "6b94da40",
   "metadata": {},
   "source": [
    "**Файл data_gas_new.csv — данные о продувке сплава газом**"
   ]
  },
  {
   "cell_type": "markdown",
   "id": "e7058fff",
   "metadata": {},
   "source": [
    "- key — номер партии;\n",
    "- Газ 1 — объём подаваемого газа."
   ]
  },
  {
   "cell_type": "code",
   "execution_count": 7,
   "id": "27e08dfa",
   "metadata": {},
   "outputs": [
    {
     "data": {
      "text/plain": [
       "(3239, 2)"
      ]
     },
     "metadata": {},
     "output_type": "display_data"
    },
    {
     "data": {
      "text/html": [
       "<div>\n",
       "<style scoped>\n",
       "    .dataframe tbody tr th:only-of-type {\n",
       "        vertical-align: middle;\n",
       "    }\n",
       "\n",
       "    .dataframe tbody tr th {\n",
       "        vertical-align: top;\n",
       "    }\n",
       "\n",
       "    .dataframe thead th {\n",
       "        text-align: right;\n",
       "    }\n",
       "</style>\n",
       "<table border=\"1\" class=\"dataframe\">\n",
       "  <thead>\n",
       "    <tr style=\"text-align: right;\">\n",
       "      <th></th>\n",
       "      <th>key</th>\n",
       "      <th>Газ 1</th>\n",
       "    </tr>\n",
       "  </thead>\n",
       "  <tbody>\n",
       "    <tr>\n",
       "      <th>0</th>\n",
       "      <td>1</td>\n",
       "      <td>29.749986</td>\n",
       "    </tr>\n",
       "    <tr>\n",
       "      <th>1</th>\n",
       "      <td>2</td>\n",
       "      <td>12.555561</td>\n",
       "    </tr>\n",
       "    <tr>\n",
       "      <th>2</th>\n",
       "      <td>3</td>\n",
       "      <td>28.554793</td>\n",
       "    </tr>\n",
       "    <tr>\n",
       "      <th>3</th>\n",
       "      <td>4</td>\n",
       "      <td>18.841219</td>\n",
       "    </tr>\n",
       "    <tr>\n",
       "      <th>4</th>\n",
       "      <td>5</td>\n",
       "      <td>5.413692</td>\n",
       "    </tr>\n",
       "  </tbody>\n",
       "</table>\n",
       "</div>"
      ],
      "text/plain": [
       "   key      Газ 1\n",
       "0    1  29.749986\n",
       "1    2  12.555561\n",
       "2    3  28.554793\n",
       "3    4  18.841219\n",
       "4    5   5.413692"
      ]
     },
     "execution_count": 7,
     "metadata": {},
     "output_type": "execute_result"
    }
   ],
   "source": [
    "data_gas = file_download('data_gas_new.csv')\n",
    "display(data_gas.shape)\n",
    "data_gas.head(5)"
   ]
  },
  {
   "cell_type": "markdown",
   "id": "951083a1",
   "metadata": {},
   "source": [
    "**Файл data_temp_new.csv — результаты измерения температуры**"
   ]
  },
  {
   "cell_type": "markdown",
   "id": "002b02c1",
   "metadata": {},
   "source": [
    "- key — номер партии;\n",
    "- Время замера — время замера;\n",
    "- Температура — значение температуры."
   ]
  },
  {
   "cell_type": "code",
   "execution_count": 8,
   "id": "2a6409c1",
   "metadata": {},
   "outputs": [
    {
     "data": {
      "text/plain": [
       "(18092, 3)"
      ]
     },
     "metadata": {},
     "output_type": "display_data"
    },
    {
     "data": {
      "text/html": [
       "<div>\n",
       "<style scoped>\n",
       "    .dataframe tbody tr th:only-of-type {\n",
       "        vertical-align: middle;\n",
       "    }\n",
       "\n",
       "    .dataframe tbody tr th {\n",
       "        vertical-align: top;\n",
       "    }\n",
       "\n",
       "    .dataframe thead th {\n",
       "        text-align: right;\n",
       "    }\n",
       "</style>\n",
       "<table border=\"1\" class=\"dataframe\">\n",
       "  <thead>\n",
       "    <tr style=\"text-align: right;\">\n",
       "      <th></th>\n",
       "      <th>key</th>\n",
       "      <th>Время замера</th>\n",
       "      <th>Температура</th>\n",
       "    </tr>\n",
       "  </thead>\n",
       "  <tbody>\n",
       "    <tr>\n",
       "      <th>0</th>\n",
       "      <td>1</td>\n",
       "      <td>2019-05-03 11:02:04</td>\n",
       "      <td>1571.0</td>\n",
       "    </tr>\n",
       "    <tr>\n",
       "      <th>1</th>\n",
       "      <td>1</td>\n",
       "      <td>2019-05-03 11:07:18</td>\n",
       "      <td>1604.0</td>\n",
       "    </tr>\n",
       "    <tr>\n",
       "      <th>2</th>\n",
       "      <td>1</td>\n",
       "      <td>2019-05-03 11:11:34</td>\n",
       "      <td>1618.0</td>\n",
       "    </tr>\n",
       "    <tr>\n",
       "      <th>3</th>\n",
       "      <td>1</td>\n",
       "      <td>2019-05-03 11:18:04</td>\n",
       "      <td>1601.0</td>\n",
       "    </tr>\n",
       "    <tr>\n",
       "      <th>4</th>\n",
       "      <td>1</td>\n",
       "      <td>2019-05-03 11:25:59</td>\n",
       "      <td>1606.0</td>\n",
       "    </tr>\n",
       "  </tbody>\n",
       "</table>\n",
       "</div>"
      ],
      "text/plain": [
       "   key         Время замера  Температура\n",
       "0    1  2019-05-03 11:02:04       1571.0\n",
       "1    1  2019-05-03 11:07:18       1604.0\n",
       "2    1  2019-05-03 11:11:34       1618.0\n",
       "3    1  2019-05-03 11:18:04       1601.0\n",
       "4    1  2019-05-03 11:25:59       1606.0"
      ]
     },
     "execution_count": 8,
     "metadata": {},
     "output_type": "execute_result"
    }
   ],
   "source": [
    "data_temp = file_download('data_temp_new.csv')\n",
    "display(data_temp.shape)\n",
    "data_temp.head(5)"
   ]
  },
  {
   "cell_type": "markdown",
   "id": "722b150f",
   "metadata": {},
   "source": [
    "**Файл data_wire_new.csv — данные о проволочных материалах (объём)**"
   ]
  },
  {
   "cell_type": "markdown",
   "id": "f9765250",
   "metadata": {},
   "source": [
    "- key — номер партии;\n",
    "- Wire 1 … Wire 9 — объём подаваемых проволочных материалов."
   ]
  },
  {
   "cell_type": "code",
   "execution_count": 9,
   "id": "a1d1a7dc",
   "metadata": {},
   "outputs": [
    {
     "data": {
      "text/plain": [
       "(3081, 10)"
      ]
     },
     "metadata": {},
     "output_type": "display_data"
    },
    {
     "data": {
      "text/html": [
       "<div>\n",
       "<style scoped>\n",
       "    .dataframe tbody tr th:only-of-type {\n",
       "        vertical-align: middle;\n",
       "    }\n",
       "\n",
       "    .dataframe tbody tr th {\n",
       "        vertical-align: top;\n",
       "    }\n",
       "\n",
       "    .dataframe thead th {\n",
       "        text-align: right;\n",
       "    }\n",
       "</style>\n",
       "<table border=\"1\" class=\"dataframe\">\n",
       "  <thead>\n",
       "    <tr style=\"text-align: right;\">\n",
       "      <th></th>\n",
       "      <th>key</th>\n",
       "      <th>Wire 1</th>\n",
       "      <th>Wire 2</th>\n",
       "      <th>Wire 3</th>\n",
       "      <th>Wire 4</th>\n",
       "      <th>Wire 5</th>\n",
       "      <th>Wire 6</th>\n",
       "      <th>Wire 7</th>\n",
       "      <th>Wire 8</th>\n",
       "      <th>Wire 9</th>\n",
       "    </tr>\n",
       "  </thead>\n",
       "  <tbody>\n",
       "    <tr>\n",
       "      <th>0</th>\n",
       "      <td>1</td>\n",
       "      <td>60.059998</td>\n",
       "      <td>NaN</td>\n",
       "      <td>NaN</td>\n",
       "      <td>NaN</td>\n",
       "      <td>NaN</td>\n",
       "      <td>NaN</td>\n",
       "      <td>NaN</td>\n",
       "      <td>NaN</td>\n",
       "      <td>NaN</td>\n",
       "    </tr>\n",
       "    <tr>\n",
       "      <th>1</th>\n",
       "      <td>2</td>\n",
       "      <td>96.052315</td>\n",
       "      <td>NaN</td>\n",
       "      <td>NaN</td>\n",
       "      <td>NaN</td>\n",
       "      <td>NaN</td>\n",
       "      <td>NaN</td>\n",
       "      <td>NaN</td>\n",
       "      <td>NaN</td>\n",
       "      <td>NaN</td>\n",
       "    </tr>\n",
       "    <tr>\n",
       "      <th>2</th>\n",
       "      <td>3</td>\n",
       "      <td>91.160157</td>\n",
       "      <td>NaN</td>\n",
       "      <td>NaN</td>\n",
       "      <td>NaN</td>\n",
       "      <td>NaN</td>\n",
       "      <td>NaN</td>\n",
       "      <td>NaN</td>\n",
       "      <td>NaN</td>\n",
       "      <td>NaN</td>\n",
       "    </tr>\n",
       "    <tr>\n",
       "      <th>3</th>\n",
       "      <td>4</td>\n",
       "      <td>89.063515</td>\n",
       "      <td>NaN</td>\n",
       "      <td>NaN</td>\n",
       "      <td>NaN</td>\n",
       "      <td>NaN</td>\n",
       "      <td>NaN</td>\n",
       "      <td>NaN</td>\n",
       "      <td>NaN</td>\n",
       "      <td>NaN</td>\n",
       "    </tr>\n",
       "    <tr>\n",
       "      <th>4</th>\n",
       "      <td>5</td>\n",
       "      <td>89.238236</td>\n",
       "      <td>9.11456</td>\n",
       "      <td>NaN</td>\n",
       "      <td>NaN</td>\n",
       "      <td>NaN</td>\n",
       "      <td>NaN</td>\n",
       "      <td>NaN</td>\n",
       "      <td>NaN</td>\n",
       "      <td>NaN</td>\n",
       "    </tr>\n",
       "  </tbody>\n",
       "</table>\n",
       "</div>"
      ],
      "text/plain": [
       "   key     Wire 1   Wire 2  Wire 3  Wire 4  Wire 5  Wire 6  Wire 7  Wire 8   \n",
       "0    1  60.059998      NaN     NaN     NaN     NaN     NaN     NaN     NaN  \\\n",
       "1    2  96.052315      NaN     NaN     NaN     NaN     NaN     NaN     NaN   \n",
       "2    3  91.160157      NaN     NaN     NaN     NaN     NaN     NaN     NaN   \n",
       "3    4  89.063515      NaN     NaN     NaN     NaN     NaN     NaN     NaN   \n",
       "4    5  89.238236  9.11456     NaN     NaN     NaN     NaN     NaN     NaN   \n",
       "\n",
       "   Wire 9  \n",
       "0     NaN  \n",
       "1     NaN  \n",
       "2     NaN  \n",
       "3     NaN  \n",
       "4     NaN  "
      ]
     },
     "execution_count": 9,
     "metadata": {},
     "output_type": "execute_result"
    }
   ],
   "source": [
    "data_wire = file_download('data_wire_new.csv')\n",
    "display(data_wire.shape)\n",
    "data_wire.head(5)"
   ]
  },
  {
   "cell_type": "markdown",
   "id": "76ec1f29",
   "metadata": {},
   "source": [
    "**Файл data_wire_time_new.csv — данные о проволочных материалах (время)**"
   ]
  },
  {
   "cell_type": "markdown",
   "id": "81132b00",
   "metadata": {},
   "source": [
    "- key — номер партии;\n",
    "- Wire 1 … Wire 9 — время подачи проволочных материалов."
   ]
  },
  {
   "cell_type": "code",
   "execution_count": 10,
   "id": "87951b0b",
   "metadata": {},
   "outputs": [
    {
     "data": {
      "text/plain": [
       "(3081, 10)"
      ]
     },
     "metadata": {},
     "output_type": "display_data"
    },
    {
     "data": {
      "text/html": [
       "<div>\n",
       "<style scoped>\n",
       "    .dataframe tbody tr th:only-of-type {\n",
       "        vertical-align: middle;\n",
       "    }\n",
       "\n",
       "    .dataframe tbody tr th {\n",
       "        vertical-align: top;\n",
       "    }\n",
       "\n",
       "    .dataframe thead th {\n",
       "        text-align: right;\n",
       "    }\n",
       "</style>\n",
       "<table border=\"1\" class=\"dataframe\">\n",
       "  <thead>\n",
       "    <tr style=\"text-align: right;\">\n",
       "      <th></th>\n",
       "      <th>key</th>\n",
       "      <th>Wire 1</th>\n",
       "      <th>Wire 2</th>\n",
       "      <th>Wire 3</th>\n",
       "      <th>Wire 4</th>\n",
       "      <th>Wire 5</th>\n",
       "      <th>Wire 6</th>\n",
       "      <th>Wire 7</th>\n",
       "      <th>Wire 8</th>\n",
       "      <th>Wire 9</th>\n",
       "    </tr>\n",
       "  </thead>\n",
       "  <tbody>\n",
       "    <tr>\n",
       "      <th>0</th>\n",
       "      <td>1</td>\n",
       "      <td>2019-05-03 11:06:19</td>\n",
       "      <td>NaN</td>\n",
       "      <td>NaN</td>\n",
       "      <td>NaN</td>\n",
       "      <td>NaN</td>\n",
       "      <td>NaN</td>\n",
       "      <td>NaN</td>\n",
       "      <td>NaN</td>\n",
       "      <td>NaN</td>\n",
       "    </tr>\n",
       "    <tr>\n",
       "      <th>1</th>\n",
       "      <td>2</td>\n",
       "      <td>2019-05-03 11:36:50</td>\n",
       "      <td>NaN</td>\n",
       "      <td>NaN</td>\n",
       "      <td>NaN</td>\n",
       "      <td>NaN</td>\n",
       "      <td>NaN</td>\n",
       "      <td>NaN</td>\n",
       "      <td>NaN</td>\n",
       "      <td>NaN</td>\n",
       "    </tr>\n",
       "    <tr>\n",
       "      <th>2</th>\n",
       "      <td>3</td>\n",
       "      <td>2019-05-03 12:11:46</td>\n",
       "      <td>NaN</td>\n",
       "      <td>NaN</td>\n",
       "      <td>NaN</td>\n",
       "      <td>NaN</td>\n",
       "      <td>NaN</td>\n",
       "      <td>NaN</td>\n",
       "      <td>NaN</td>\n",
       "      <td>NaN</td>\n",
       "    </tr>\n",
       "    <tr>\n",
       "      <th>3</th>\n",
       "      <td>4</td>\n",
       "      <td>2019-05-03 12:43:22</td>\n",
       "      <td>NaN</td>\n",
       "      <td>NaN</td>\n",
       "      <td>NaN</td>\n",
       "      <td>NaN</td>\n",
       "      <td>NaN</td>\n",
       "      <td>NaN</td>\n",
       "      <td>NaN</td>\n",
       "      <td>NaN</td>\n",
       "    </tr>\n",
       "    <tr>\n",
       "      <th>4</th>\n",
       "      <td>5</td>\n",
       "      <td>2019-05-03 13:20:44</td>\n",
       "      <td>2019-05-03 13:15:34</td>\n",
       "      <td>NaN</td>\n",
       "      <td>NaN</td>\n",
       "      <td>NaN</td>\n",
       "      <td>NaN</td>\n",
       "      <td>NaN</td>\n",
       "      <td>NaN</td>\n",
       "      <td>NaN</td>\n",
       "    </tr>\n",
       "  </tbody>\n",
       "</table>\n",
       "</div>"
      ],
      "text/plain": [
       "   key               Wire 1               Wire 2 Wire 3 Wire 4 Wire 5 Wire 6   \n",
       "0    1  2019-05-03 11:06:19                  NaN    NaN    NaN    NaN    NaN  \\\n",
       "1    2  2019-05-03 11:36:50                  NaN    NaN    NaN    NaN    NaN   \n",
       "2    3  2019-05-03 12:11:46                  NaN    NaN    NaN    NaN    NaN   \n",
       "3    4  2019-05-03 12:43:22                  NaN    NaN    NaN    NaN    NaN   \n",
       "4    5  2019-05-03 13:20:44  2019-05-03 13:15:34    NaN    NaN    NaN    NaN   \n",
       "\n",
       "  Wire 7 Wire 8 Wire 9  \n",
       "0    NaN    NaN    NaN  \n",
       "1    NaN    NaN    NaN  \n",
       "2    NaN    NaN    NaN  \n",
       "3    NaN    NaN    NaN  \n",
       "4    NaN    NaN    NaN  "
      ]
     },
     "execution_count": 10,
     "metadata": {},
     "output_type": "execute_result"
    }
   ],
   "source": [
    "data_wire_time = file_download('data_wire_time_new.csv')\n",
    "display(data_wire_time.shape)\n",
    "data_wire_time.head(5)"
   ]
  },
  {
   "cell_type": "markdown",
   "id": "29232844",
   "metadata": {},
   "source": [
    "#### Вывод по загрузке данных"
   ]
  },
  {
   "cell_type": "markdown",
   "id": "93ee7a18",
   "metadata": {},
   "source": [
    "1. Загружено 7 датасетов предоставленных заказчиком\n",
    "\n",
    "2. Загруженные данные соответствуют описанию\n",
    "\n",
    "3. Размерности датасетов отличаются друг от друга и требуют исследовательского анализа"
   ]
  },
  {
   "cell_type": "markdown",
   "id": "867ad908",
   "metadata": {},
   "source": [
    "### Исследовательский анализ"
   ]
  },
  {
   "cell_type": "code",
   "execution_count": 11,
   "id": "d26f30a2",
   "metadata": {},
   "outputs": [],
   "source": [
    "def res_analysis(data):\n",
    "    display(data.info())\n",
    "    display(data.loc[:, ~data.columns.isin(['key'])].describe().round(2))\n",
    "    display('Количество явных дубликатов:', data.duplicated().sum())\n",
    "    display('Доля пропушенных значений:', data.isna().sum() / data.shape[0] * 100.00)\n",
    "    display('Диаграмма ненулевых значений:')\n",
    "    msno.bar(data, figsize=(8, 3), fontsize=8)"
   ]
  },
  {
   "cell_type": "code",
   "execution_count": 12,
   "id": "74aac8c1",
   "metadata": {},
   "outputs": [],
   "source": [
    "def hist_plot(df, figsize):\n",
    "    count_list = df.loc[:, ~df.columns.isin(['key'])].select_dtypes(include='number').columns.tolist()\n",
    "    row = math.ceil(len(count_list))\n",
    "    fig, axes = plt.subplots(row, 2, figsize=(12, figsize))\n",
    "    plt.suptitle('Распределение по количественным признакам',\n",
    "                 x=0.5,\n",
    "                 y=0.9,\n",
    "                 fontsize=12,\n",
    "                 fontweight='bold')    \n",
    "    for i, j in enumerate(count_list):\n",
    "        sns.histplot(data = df, x=j, ax=axes[i, 0],\n",
    "                     kde=True,\n",
    "                     line_kws = {'linestyle':'dashed',\n",
    "                                 'linewidth':'1'},\n",
    "                     color='#9BCD9B')\n",
    "        sns.boxplot(data = df, x=j, ax=axes[i, 1],\n",
    "                     color='#9BCD9B',\n",
    "                     linewidth=0.5,\n",
    "                     width=0.5,\n",
    "                     medianprops={\"color\": \"r\", \"linewidth\": 1})"
   ]
  },
  {
   "cell_type": "markdown",
   "id": "ee4ddc03",
   "metadata": {},
   "source": [
    "**Файл data_arc_new.csv — данные об электродах**"
   ]
  },
  {
   "cell_type": "code",
   "execution_count": 13,
   "id": "09cba332",
   "metadata": {},
   "outputs": [
    {
     "name": "stdout",
     "output_type": "stream",
     "text": [
      "<class 'pandas.core.frame.DataFrame'>\n",
      "RangeIndex: 14876 entries, 0 to 14875\n",
      "Data columns (total 5 columns):\n",
      " #   Column                Non-Null Count  Dtype  \n",
      "---  ------                --------------  -----  \n",
      " 0   key                   14876 non-null  int64  \n",
      " 1   Начало нагрева дугой  14876 non-null  object \n",
      " 2   Конец нагрева дугой   14876 non-null  object \n",
      " 3   Активная мощность     14876 non-null  float64\n",
      " 4   Реактивная мощность   14876 non-null  float64\n",
      "dtypes: float64(2), int64(1), object(2)\n",
      "memory usage: 581.2+ KB\n"
     ]
    },
    {
     "data": {
      "text/plain": [
       "None"
      ]
     },
     "metadata": {},
     "output_type": "display_data"
    },
    {
     "data": {
      "text/html": [
       "<div>\n",
       "<style scoped>\n",
       "    .dataframe tbody tr th:only-of-type {\n",
       "        vertical-align: middle;\n",
       "    }\n",
       "\n",
       "    .dataframe tbody tr th {\n",
       "        vertical-align: top;\n",
       "    }\n",
       "\n",
       "    .dataframe thead th {\n",
       "        text-align: right;\n",
       "    }\n",
       "</style>\n",
       "<table border=\"1\" class=\"dataframe\">\n",
       "  <thead>\n",
       "    <tr style=\"text-align: right;\">\n",
       "      <th></th>\n",
       "      <th>Активная мощность</th>\n",
       "      <th>Реактивная мощность</th>\n",
       "    </tr>\n",
       "  </thead>\n",
       "  <tbody>\n",
       "    <tr>\n",
       "      <th>count</th>\n",
       "      <td>14876.00</td>\n",
       "      <td>14876.00</td>\n",
       "    </tr>\n",
       "    <tr>\n",
       "      <th>mean</th>\n",
       "      <td>0.66</td>\n",
       "      <td>0.44</td>\n",
       "    </tr>\n",
       "    <tr>\n",
       "      <th>std</th>\n",
       "      <td>0.26</td>\n",
       "      <td>5.87</td>\n",
       "    </tr>\n",
       "    <tr>\n",
       "      <th>min</th>\n",
       "      <td>0.22</td>\n",
       "      <td>-715.48</td>\n",
       "    </tr>\n",
       "    <tr>\n",
       "      <th>25%</th>\n",
       "      <td>0.47</td>\n",
       "      <td>0.34</td>\n",
       "    </tr>\n",
       "    <tr>\n",
       "      <th>50%</th>\n",
       "      <td>0.60</td>\n",
       "      <td>0.44</td>\n",
       "    </tr>\n",
       "    <tr>\n",
       "      <th>75%</th>\n",
       "      <td>0.83</td>\n",
       "      <td>0.61</td>\n",
       "    </tr>\n",
       "    <tr>\n",
       "      <th>max</th>\n",
       "      <td>1.46</td>\n",
       "      <td>1.27</td>\n",
       "    </tr>\n",
       "  </tbody>\n",
       "</table>\n",
       "</div>"
      ],
      "text/plain": [
       "       Активная мощность  Реактивная мощность\n",
       "count           14876.00             14876.00\n",
       "mean                0.66                 0.44\n",
       "std                 0.26                 5.87\n",
       "min                 0.22              -715.48\n",
       "25%                 0.47                 0.34\n",
       "50%                 0.60                 0.44\n",
       "75%                 0.83                 0.61\n",
       "max                 1.46                 1.27"
      ]
     },
     "metadata": {},
     "output_type": "display_data"
    },
    {
     "data": {
      "text/plain": [
       "'Количество явных дубликатов:'"
      ]
     },
     "metadata": {},
     "output_type": "display_data"
    },
    {
     "data": {
      "text/plain": [
       "0"
      ]
     },
     "metadata": {},
     "output_type": "display_data"
    },
    {
     "data": {
      "text/plain": [
       "'Доля пропушенных значений:'"
      ]
     },
     "metadata": {},
     "output_type": "display_data"
    },
    {
     "data": {
      "text/plain": [
       "key                     0.0\n",
       "Начало нагрева дугой    0.0\n",
       "Конец нагрева дугой     0.0\n",
       "Активная мощность       0.0\n",
       "Реактивная мощность     0.0\n",
       "dtype: float64"
      ]
     },
     "metadata": {},
     "output_type": "display_data"
    },
    {
     "data": {
      "text/plain": [
       "'Диаграмма ненулевых значений:'"
      ]
     },
     "metadata": {},
     "output_type": "display_data"
    },
    {
     "data": {
      "image/png": "[encoded data removed]",
      "text/plain": [
       "<Figure size 800x300 with 3 Axes>"
      ]
     },
     "metadata": {},
     "output_type": "display_data"
    }
   ],
   "source": [
    "res_analysis(data_arc)"
   ]
  },
  {
   "cell_type": "code",
   "execution_count": 14,
   "id": "341637db",
   "metadata": {},
   "outputs": [
    {
     "data": {
      "image/png": "[encoded data removed]",
      "text/plain": [
       "<Figure size 1200x800 with 4 Axes>"
      ]
     },
     "metadata": {},
     "output_type": "display_data"
    }
   ],
   "source": [
    "hist_plot(data_arc, 8)"
   ]
  },
  {
   "cell_type": "markdown",
   "id": "3cbe6206",
   "metadata": {},
   "source": [
    "**Файл data_bulk_new.csv - данные о подаче сыпучих материалов (объём)**"
   ]
  },
  {
   "cell_type": "code",
   "execution_count": 15,
   "id": "27fd6785",
   "metadata": {},
   "outputs": [
    {
     "name": "stdout",
     "output_type": "stream",
     "text": [
      "<class 'pandas.core.frame.DataFrame'>\n",
      "RangeIndex: 3129 entries, 0 to 3128\n",
      "Data columns (total 16 columns):\n",
      " #   Column   Non-Null Count  Dtype  \n",
      "---  ------   --------------  -----  \n",
      " 0   key      3129 non-null   int64  \n",
      " 1   Bulk 1   252 non-null    float64\n",
      " 2   Bulk 2   22 non-null     float64\n",
      " 3   Bulk 3   1298 non-null   float64\n",
      " 4   Bulk 4   1014 non-null   float64\n",
      " 5   Bulk 5   77 non-null     float64\n",
      " 6   Bulk 6   576 non-null    float64\n",
      " 7   Bulk 7   25 non-null     float64\n",
      " 8   Bulk 8   1 non-null      float64\n",
      " 9   Bulk 9   19 non-null     float64\n",
      " 10  Bulk 10  176 non-null    float64\n",
      " 11  Bulk 11  177 non-null    float64\n",
      " 12  Bulk 12  2450 non-null   float64\n",
      " 13  Bulk 13  18 non-null     float64\n",
      " 14  Bulk 14  2806 non-null   float64\n",
      " 15  Bulk 15  2248 non-null   float64\n",
      "dtypes: float64(15), int64(1)\n",
      "memory usage: 391.3 KB\n"
     ]
    },
    {
     "data": {
      "text/plain": [
       "None"
      ]
     },
     "metadata": {},
     "output_type": "display_data"
    },
    {
     "data": {
      "text/html": [
       "<div>\n",
       "<style scoped>\n",
       "    .dataframe tbody tr th:only-of-type {\n",
       "        vertical-align: middle;\n",
       "    }\n",
       "\n",
       "    .dataframe tbody tr th {\n",
       "        vertical-align: top;\n",
       "    }\n",
       "\n",
       "    .dataframe thead th {\n",
       "        text-align: right;\n",
       "    }\n",
       "</style>\n",
       "<table border=\"1\" class=\"dataframe\">\n",
       "  <thead>\n",
       "    <tr style=\"text-align: right;\">\n",
       "      <th></th>\n",
       "      <th>Bulk 1</th>\n",
       "      <th>Bulk 2</th>\n",
       "      <th>Bulk 3</th>\n",
       "      <th>Bulk 4</th>\n",
       "      <th>Bulk 5</th>\n",
       "      <th>Bulk 6</th>\n",
       "      <th>Bulk 7</th>\n",
       "      <th>Bulk 8</th>\n",
       "      <th>Bulk 9</th>\n",
       "      <th>Bulk 10</th>\n",
       "      <th>Bulk 11</th>\n",
       "      <th>Bulk 12</th>\n",
       "      <th>Bulk 13</th>\n",
       "      <th>Bulk 14</th>\n",
       "      <th>Bulk 15</th>\n",
       "    </tr>\n",
       "  </thead>\n",
       "  <tbody>\n",
       "    <tr>\n",
       "      <th>count</th>\n",
       "      <td>252.00</td>\n",
       "      <td>22.00</td>\n",
       "      <td>1298.00</td>\n",
       "      <td>1014.00</td>\n",
       "      <td>77.00</td>\n",
       "      <td>576.00</td>\n",
       "      <td>25.00</td>\n",
       "      <td>1.0</td>\n",
       "      <td>19.00</td>\n",
       "      <td>176.00</td>\n",
       "      <td>177.00</td>\n",
       "      <td>2450.00</td>\n",
       "      <td>18.00</td>\n",
       "      <td>2806.00</td>\n",
       "      <td>2248.00</td>\n",
       "    </tr>\n",
       "    <tr>\n",
       "      <th>mean</th>\n",
       "      <td>39.24</td>\n",
       "      <td>253.05</td>\n",
       "      <td>113.88</td>\n",
       "      <td>104.39</td>\n",
       "      <td>107.03</td>\n",
       "      <td>118.93</td>\n",
       "      <td>305.60</td>\n",
       "      <td>49.0</td>\n",
       "      <td>76.32</td>\n",
       "      <td>83.28</td>\n",
       "      <td>76.82</td>\n",
       "      <td>260.47</td>\n",
       "      <td>181.11</td>\n",
       "      <td>170.28</td>\n",
       "      <td>160.51</td>\n",
       "    </tr>\n",
       "    <tr>\n",
       "      <th>std</th>\n",
       "      <td>18.28</td>\n",
       "      <td>21.18</td>\n",
       "      <td>75.48</td>\n",
       "      <td>48.18</td>\n",
       "      <td>81.79</td>\n",
       "      <td>72.06</td>\n",
       "      <td>191.02</td>\n",
       "      <td>NaN</td>\n",
       "      <td>21.72</td>\n",
       "      <td>26.06</td>\n",
       "      <td>59.66</td>\n",
       "      <td>120.65</td>\n",
       "      <td>46.09</td>\n",
       "      <td>65.87</td>\n",
       "      <td>51.77</td>\n",
       "    </tr>\n",
       "    <tr>\n",
       "      <th>min</th>\n",
       "      <td>10.00</td>\n",
       "      <td>228.00</td>\n",
       "      <td>6.00</td>\n",
       "      <td>12.00</td>\n",
       "      <td>11.00</td>\n",
       "      <td>17.00</td>\n",
       "      <td>47.00</td>\n",
       "      <td>49.0</td>\n",
       "      <td>63.00</td>\n",
       "      <td>24.00</td>\n",
       "      <td>8.00</td>\n",
       "      <td>53.00</td>\n",
       "      <td>151.00</td>\n",
       "      <td>16.00</td>\n",
       "      <td>1.00</td>\n",
       "    </tr>\n",
       "    <tr>\n",
       "      <th>25%</th>\n",
       "      <td>27.00</td>\n",
       "      <td>242.00</td>\n",
       "      <td>58.00</td>\n",
       "      <td>72.00</td>\n",
       "      <td>70.00</td>\n",
       "      <td>69.75</td>\n",
       "      <td>155.00</td>\n",
       "      <td>49.0</td>\n",
       "      <td>66.00</td>\n",
       "      <td>64.00</td>\n",
       "      <td>25.00</td>\n",
       "      <td>204.00</td>\n",
       "      <td>153.25</td>\n",
       "      <td>119.00</td>\n",
       "      <td>105.00</td>\n",
       "    </tr>\n",
       "    <tr>\n",
       "      <th>50%</th>\n",
       "      <td>31.00</td>\n",
       "      <td>251.50</td>\n",
       "      <td>97.50</td>\n",
       "      <td>102.00</td>\n",
       "      <td>86.00</td>\n",
       "      <td>100.00</td>\n",
       "      <td>298.00</td>\n",
       "      <td>49.0</td>\n",
       "      <td>68.00</td>\n",
       "      <td>86.50</td>\n",
       "      <td>64.00</td>\n",
       "      <td>208.00</td>\n",
       "      <td>155.50</td>\n",
       "      <td>151.00</td>\n",
       "      <td>160.00</td>\n",
       "    </tr>\n",
       "    <tr>\n",
       "      <th>75%</th>\n",
       "      <td>46.00</td>\n",
       "      <td>257.75</td>\n",
       "      <td>152.00</td>\n",
       "      <td>133.00</td>\n",
       "      <td>132.00</td>\n",
       "      <td>157.00</td>\n",
       "      <td>406.00</td>\n",
       "      <td>49.0</td>\n",
       "      <td>70.50</td>\n",
       "      <td>102.00</td>\n",
       "      <td>106.00</td>\n",
       "      <td>316.00</td>\n",
       "      <td>203.50</td>\n",
       "      <td>205.75</td>\n",
       "      <td>205.00</td>\n",
       "    </tr>\n",
       "    <tr>\n",
       "      <th>max</th>\n",
       "      <td>185.00</td>\n",
       "      <td>325.00</td>\n",
       "      <td>454.00</td>\n",
       "      <td>281.00</td>\n",
       "      <td>603.00</td>\n",
       "      <td>503.00</td>\n",
       "      <td>772.00</td>\n",
       "      <td>49.0</td>\n",
       "      <td>147.00</td>\n",
       "      <td>159.00</td>\n",
       "      <td>313.00</td>\n",
       "      <td>1849.00</td>\n",
       "      <td>305.00</td>\n",
       "      <td>636.00</td>\n",
       "      <td>405.00</td>\n",
       "    </tr>\n",
       "  </tbody>\n",
       "</table>\n",
       "</div>"
      ],
      "text/plain": [
       "       Bulk 1  Bulk 2   Bulk 3   Bulk 4  Bulk 5  Bulk 6  Bulk 7  Bulk 8   \n",
       "count  252.00   22.00  1298.00  1014.00   77.00  576.00   25.00     1.0  \\\n",
       "mean    39.24  253.05   113.88   104.39  107.03  118.93  305.60    49.0   \n",
       "std     18.28   21.18    75.48    48.18   81.79   72.06  191.02     NaN   \n",
       "min     10.00  228.00     6.00    12.00   11.00   17.00   47.00    49.0   \n",
       "25%     27.00  242.00    58.00    72.00   70.00   69.75  155.00    49.0   \n",
       "50%     31.00  251.50    97.50   102.00   86.00  100.00  298.00    49.0   \n",
       "75%     46.00  257.75   152.00   133.00  132.00  157.00  406.00    49.0   \n",
       "max    185.00  325.00   454.00   281.00  603.00  503.00  772.00    49.0   \n",
       "\n",
       "       Bulk 9  Bulk 10  Bulk 11  Bulk 12  Bulk 13  Bulk 14  Bulk 15  \n",
       "count   19.00   176.00   177.00  2450.00    18.00  2806.00  2248.00  \n",
       "mean    76.32    83.28    76.82   260.47   181.11   170.28   160.51  \n",
       "std     21.72    26.06    59.66   120.65    46.09    65.87    51.77  \n",
       "min     63.00    24.00     8.00    53.00   151.00    16.00     1.00  \n",
       "25%     66.00    64.00    25.00   204.00   153.25   119.00   105.00  \n",
       "50%     68.00    86.50    64.00   208.00   155.50   151.00   160.00  \n",
       "75%     70.50   102.00   106.00   316.00   203.50   205.75   205.00  \n",
       "max    147.00   159.00   313.00  1849.00   305.00   636.00   405.00  "
      ]
     },
     "metadata": {},
     "output_type": "display_data"
    },
    {
     "data": {
      "text/plain": [
       "'Количество явных дубликатов:'"
      ]
     },
     "metadata": {},
     "output_type": "display_data"
    },
    {
     "data": {
      "text/plain": [
       "0"
      ]
     },
     "metadata": {},
     "output_type": "display_data"
    },
    {
     "data": {
      "text/plain": [
       "'Доля пропушенных значений:'"
      ]
     },
     "metadata": {},
     "output_type": "display_data"
    },
    {
     "data": {
      "text/plain": [
       "key         0.000000\n",
       "Bulk 1     91.946309\n",
       "Bulk 2     99.296900\n",
       "Bulk 3     58.517098\n",
       "Bulk 4     67.593480\n",
       "Bulk 5     97.539150\n",
       "Bulk 6     81.591563\n",
       "Bulk 7     99.201023\n",
       "Bulk 8     99.968041\n",
       "Bulk 9     99.392777\n",
       "Bulk 10    94.375200\n",
       "Bulk 11    94.343241\n",
       "Bulk 12    21.700224\n",
       "Bulk 13    99.424736\n",
       "Bulk 14    10.322787\n",
       "Bulk 15    28.155960\n",
       "dtype: float64"
      ]
     },
     "metadata": {},
     "output_type": "display_data"
    },
    {
     "data": {
      "text/plain": [
       "'Диаграмма ненулевых значений:'"
      ]
     },
     "metadata": {},
     "output_type": "display_data"
    },
    {
     "data": {
      "image/png": "[encoded data removed]",
      "text/plain": [
       "<Figure size 800x300 with 3 Axes>"
      ]
     },
     "metadata": {},
     "output_type": "display_data"
    }
   ],
   "source": [
    "res_analysis(data_bulk)"
   ]
  },
  {
   "cell_type": "code",
   "execution_count": 16,
   "id": "e381d4bd",
   "metadata": {},
   "outputs": [
    {
     "data": {
      "image/png": "[encoded data removed]",
      "text/plain": [
       "<Figure size 1000x600 with 2 Axes>"
      ]
     },
     "metadata": {},
     "output_type": "display_data"
    }
   ],
   "source": [
    "msno.heatmap(data_bulk, figsize=(10, 6), fontsize=8);"
   ]
  },
  {
   "cell_type": "markdown",
   "id": "0830c193",
   "metadata": {},
   "source": [
    "**Файл data_bulk_time_new.csv - данные о подаче сыпучих материалов (время)**"
   ]
  },
  {
   "cell_type": "code",
   "execution_count": 17,
   "id": "be6501f2",
   "metadata": {},
   "outputs": [
    {
     "name": "stdout",
     "output_type": "stream",
     "text": [
      "<class 'pandas.core.frame.DataFrame'>\n",
      "RangeIndex: 3129 entries, 0 to 3128\n",
      "Data columns (total 16 columns):\n",
      " #   Column   Non-Null Count  Dtype \n",
      "---  ------   --------------  ----- \n",
      " 0   key      3129 non-null   int64 \n",
      " 1   Bulk 1   252 non-null    object\n",
      " 2   Bulk 2   22 non-null     object\n",
      " 3   Bulk 3   1298 non-null   object\n",
      " 4   Bulk 4   1014 non-null   object\n",
      " 5   Bulk 5   77 non-null     object\n",
      " 6   Bulk 6   576 non-null    object\n",
      " 7   Bulk 7   25 non-null     object\n",
      " 8   Bulk 8   1 non-null      object\n",
      " 9   Bulk 9   19 non-null     object\n",
      " 10  Bulk 10  176 non-null    object\n",
      " 11  Bulk 11  177 non-null    object\n",
      " 12  Bulk 12  2450 non-null   object\n",
      " 13  Bulk 13  18 non-null     object\n",
      " 14  Bulk 14  2806 non-null   object\n",
      " 15  Bulk 15  2248 non-null   object\n",
      "dtypes: int64(1), object(15)\n",
      "memory usage: 391.3+ KB\n"
     ]
    },
    {
     "data": {
      "text/plain": [
       "None"
      ]
     },
     "metadata": {},
     "output_type": "display_data"
    },
    {
     "data": {
      "text/html": [
       "<div>\n",
       "<style scoped>\n",
       "    .dataframe tbody tr th:only-of-type {\n",
       "        vertical-align: middle;\n",
       "    }\n",
       "\n",
       "    .dataframe tbody tr th {\n",
       "        vertical-align: top;\n",
       "    }\n",
       "\n",
       "    .dataframe thead th {\n",
       "        text-align: right;\n",
       "    }\n",
       "</style>\n",
       "<table border=\"1\" class=\"dataframe\">\n",
       "  <thead>\n",
       "    <tr style=\"text-align: right;\">\n",
       "      <th></th>\n",
       "      <th>Bulk 1</th>\n",
       "      <th>Bulk 2</th>\n",
       "      <th>Bulk 3</th>\n",
       "      <th>Bulk 4</th>\n",
       "      <th>Bulk 5</th>\n",
       "      <th>Bulk 6</th>\n",
       "      <th>Bulk 7</th>\n",
       "      <th>Bulk 8</th>\n",
       "      <th>Bulk 9</th>\n",
       "      <th>Bulk 10</th>\n",
       "      <th>Bulk 11</th>\n",
       "      <th>Bulk 12</th>\n",
       "      <th>Bulk 13</th>\n",
       "      <th>Bulk 14</th>\n",
       "      <th>Bulk 15</th>\n",
       "    </tr>\n",
       "  </thead>\n",
       "  <tbody>\n",
       "    <tr>\n",
       "      <th>count</th>\n",
       "      <td>252</td>\n",
       "      <td>22</td>\n",
       "      <td>1298</td>\n",
       "      <td>1014</td>\n",
       "      <td>77</td>\n",
       "      <td>576</td>\n",
       "      <td>25</td>\n",
       "      <td>1</td>\n",
       "      <td>19</td>\n",
       "      <td>176</td>\n",
       "      <td>177</td>\n",
       "      <td>2450</td>\n",
       "      <td>18</td>\n",
       "      <td>2806</td>\n",
       "      <td>2248</td>\n",
       "    </tr>\n",
       "    <tr>\n",
       "      <th>unique</th>\n",
       "      <td>252</td>\n",
       "      <td>22</td>\n",
       "      <td>1298</td>\n",
       "      <td>1014</td>\n",
       "      <td>77</td>\n",
       "      <td>576</td>\n",
       "      <td>25</td>\n",
       "      <td>1</td>\n",
       "      <td>19</td>\n",
       "      <td>176</td>\n",
       "      <td>177</td>\n",
       "      <td>2450</td>\n",
       "      <td>18</td>\n",
       "      <td>2806</td>\n",
       "      <td>2248</td>\n",
       "    </tr>\n",
       "    <tr>\n",
       "      <th>top</th>\n",
       "      <td>2019-05-03 17:42:46</td>\n",
       "      <td>2019-05-07 15:39:35</td>\n",
       "      <td>2019-05-03 20:40:25</td>\n",
       "      <td>2019-05-03 11:28:48</td>\n",
       "      <td>2019-05-07 15:19:17</td>\n",
       "      <td>2019-05-03 19:09:15</td>\n",
       "      <td>2019-05-07 18:11:01</td>\n",
       "      <td>2019-07-08 17:14:53</td>\n",
       "      <td>2019-05-14 11:57:58</td>\n",
       "      <td>2019-05-06 07:54:02</td>\n",
       "      <td>2019-05-05 23:43:24</td>\n",
       "      <td>2019-05-03 11:24:31</td>\n",
       "      <td>2019-05-05 02:10:21</td>\n",
       "      <td>2019-05-03 11:14:50</td>\n",
       "      <td>2019-05-03 11:10:43</td>\n",
       "    </tr>\n",
       "    <tr>\n",
       "      <th>freq</th>\n",
       "      <td>1</td>\n",
       "      <td>1</td>\n",
       "      <td>1</td>\n",
       "      <td>1</td>\n",
       "      <td>1</td>\n",
       "      <td>1</td>\n",
       "      <td>1</td>\n",
       "      <td>1</td>\n",
       "      <td>1</td>\n",
       "      <td>1</td>\n",
       "      <td>1</td>\n",
       "      <td>1</td>\n",
       "      <td>1</td>\n",
       "      <td>1</td>\n",
       "      <td>1</td>\n",
       "    </tr>\n",
       "  </tbody>\n",
       "</table>\n",
       "</div>"
      ],
      "text/plain": [
       "                     Bulk 1               Bulk 2               Bulk 3   \n",
       "count                   252                   22                 1298  \\\n",
       "unique                  252                   22                 1298   \n",
       "top     2019-05-03 17:42:46  2019-05-07 15:39:35  2019-05-03 20:40:25   \n",
       "freq                      1                    1                    1   \n",
       "\n",
       "                     Bulk 4               Bulk 5               Bulk 6   \n",
       "count                  1014                   77                  576  \\\n",
       "unique                 1014                   77                  576   \n",
       "top     2019-05-03 11:28:48  2019-05-07 15:19:17  2019-05-03 19:09:15   \n",
       "freq                      1                    1                    1   \n",
       "\n",
       "                     Bulk 7               Bulk 8               Bulk 9   \n",
       "count                    25                    1                   19  \\\n",
       "unique                   25                    1                   19   \n",
       "top     2019-05-07 18:11:01  2019-07-08 17:14:53  2019-05-14 11:57:58   \n",
       "freq                      1                    1                    1   \n",
       "\n",
       "                    Bulk 10              Bulk 11              Bulk 12   \n",
       "count                   176                  177                 2450  \\\n",
       "unique                  176                  177                 2450   \n",
       "top     2019-05-06 07:54:02  2019-05-05 23:43:24  2019-05-03 11:24:31   \n",
       "freq                      1                    1                    1   \n",
       "\n",
       "                    Bulk 13              Bulk 14              Bulk 15  \n",
       "count                    18                 2806                 2248  \n",
       "unique                   18                 2806                 2248  \n",
       "top     2019-05-05 02:10:21  2019-05-03 11:14:50  2019-05-03 11:10:43  \n",
       "freq                      1                    1                    1  "
      ]
     },
     "metadata": {},
     "output_type": "display_data"
    },
    {
     "data": {
      "text/plain": [
       "'Количество явных дубликатов:'"
      ]
     },
     "metadata": {},
     "output_type": "display_data"
    },
    {
     "data": {
      "text/plain": [
       "0"
      ]
     },
     "metadata": {},
     "output_type": "display_data"
    },
    {
     "data": {
      "text/plain": [
       "'Доля пропушенных значений:'"
      ]
     },
     "metadata": {},
     "output_type": "display_data"
    },
    {
     "data": {
      "text/plain": [
       "key         0.000000\n",
       "Bulk 1     91.946309\n",
       "Bulk 2     99.296900\n",
       "Bulk 3     58.517098\n",
       "Bulk 4     67.593480\n",
       "Bulk 5     97.539150\n",
       "Bulk 6     81.591563\n",
       "Bulk 7     99.201023\n",
       "Bulk 8     99.968041\n",
       "Bulk 9     99.392777\n",
       "Bulk 10    94.375200\n",
       "Bulk 11    94.343241\n",
       "Bulk 12    21.700224\n",
       "Bulk 13    99.424736\n",
       "Bulk 14    10.322787\n",
       "Bulk 15    28.155960\n",
       "dtype: float64"
      ]
     },
     "metadata": {},
     "output_type": "display_data"
    },
    {
     "data": {
      "text/plain": [
       "'Диаграмма ненулевых значений:'"
      ]
     },
     "metadata": {},
     "output_type": "display_data"
    },
    {
     "data": {
      "image/png": "[encoded data removed]",
      "text/plain": [
       "<Figure size 800x300 with 3 Axes>"
      ]
     },
     "metadata": {},
     "output_type": "display_data"
    }
   ],
   "source": [
    "res_analysis(data_bulk_time)"
   ]
  },
  {
   "cell_type": "markdown",
   "id": "a3039db9",
   "metadata": {},
   "source": [
    "**Файл data_gas_new.csv — данные о продувке сплава газом**"
   ]
  },
  {
   "cell_type": "code",
   "execution_count": 18,
   "id": "e8a5cab1",
   "metadata": {},
   "outputs": [
    {
     "name": "stdout",
     "output_type": "stream",
     "text": [
      "<class 'pandas.core.frame.DataFrame'>\n",
      "RangeIndex: 3239 entries, 0 to 3238\n",
      "Data columns (total 2 columns):\n",
      " #   Column  Non-Null Count  Dtype  \n",
      "---  ------  --------------  -----  \n",
      " 0   key     3239 non-null   int64  \n",
      " 1   Газ 1   3239 non-null   float64\n",
      "dtypes: float64(1), int64(1)\n",
      "memory usage: 50.7 KB\n"
     ]
    },
    {
     "data": {
      "text/plain": [
       "None"
      ]
     },
     "metadata": {},
     "output_type": "display_data"
    },
    {
     "data": {
      "text/html": [
       "<div>\n",
       "<style scoped>\n",
       "    .dataframe tbody tr th:only-of-type {\n",
       "        vertical-align: middle;\n",
       "    }\n",
       "\n",
       "    .dataframe tbody tr th {\n",
       "        vertical-align: top;\n",
       "    }\n",
       "\n",
       "    .dataframe thead th {\n",
       "        text-align: right;\n",
       "    }\n",
       "</style>\n",
       "<table border=\"1\" class=\"dataframe\">\n",
       "  <thead>\n",
       "    <tr style=\"text-align: right;\">\n",
       "      <th></th>\n",
       "      <th>Газ 1</th>\n",
       "    </tr>\n",
       "  </thead>\n",
       "  <tbody>\n",
       "    <tr>\n",
       "      <th>count</th>\n",
       "      <td>3239.00</td>\n",
       "    </tr>\n",
       "    <tr>\n",
       "      <th>mean</th>\n",
       "      <td>11.00</td>\n",
       "    </tr>\n",
       "    <tr>\n",
       "      <th>std</th>\n",
       "      <td>6.22</td>\n",
       "    </tr>\n",
       "    <tr>\n",
       "      <th>min</th>\n",
       "      <td>0.01</td>\n",
       "    </tr>\n",
       "    <tr>\n",
       "      <th>25%</th>\n",
       "      <td>7.04</td>\n",
       "    </tr>\n",
       "    <tr>\n",
       "      <th>50%</th>\n",
       "      <td>9.84</td>\n",
       "    </tr>\n",
       "    <tr>\n",
       "      <th>75%</th>\n",
       "      <td>13.77</td>\n",
       "    </tr>\n",
       "    <tr>\n",
       "      <th>max</th>\n",
       "      <td>78.00</td>\n",
       "    </tr>\n",
       "  </tbody>\n",
       "</table>\n",
       "</div>"
      ],
      "text/plain": [
       "         Газ 1\n",
       "count  3239.00\n",
       "mean     11.00\n",
       "std       6.22\n",
       "min       0.01\n",
       "25%       7.04\n",
       "50%       9.84\n",
       "75%      13.77\n",
       "max      78.00"
      ]
     },
     "metadata": {},
     "output_type": "display_data"
    },
    {
     "data": {
      "text/plain": [
       "'Количество явных дубликатов:'"
      ]
     },
     "metadata": {},
     "output_type": "display_data"
    },
    {
     "data": {
      "text/plain": [
       "0"
      ]
     },
     "metadata": {},
     "output_type": "display_data"
    },
    {
     "data": {
      "text/plain": [
       "'Доля пропушенных значений:'"
      ]
     },
     "metadata": {},
     "output_type": "display_data"
    },
    {
     "data": {
      "text/plain": [
       "key      0.0\n",
       "Газ 1    0.0\n",
       "dtype: float64"
      ]
     },
     "metadata": {},
     "output_type": "display_data"
    },
    {
     "data": {
      "text/plain": [
       "'Диаграмма ненулевых значений:'"
      ]
     },
     "metadata": {},
     "output_type": "display_data"
    },
    {
     "data": {
      "image/png": "[encoded data removed]",
      "text/plain": [
       "<Figure size 800x300 with 3 Axes>"
      ]
     },
     "metadata": {},
     "output_type": "display_data"
    }
   ],
   "source": [
    "res_analysis(data_gas)"
   ]
  },
  {
   "cell_type": "code",
   "execution_count": 19,
   "id": "7dfd0b6b",
   "metadata": {},
   "outputs": [
    {
     "data": {
      "image/png": "[encoded data removed]",
      "text/plain": [
       "<Figure size 1200x400 with 2 Axes>"
      ]
     },
     "metadata": {},
     "output_type": "display_data"
    }
   ],
   "source": [
    "fig, axes = plt.subplots(1, 2, figsize=(12, 4))\n",
    "plt.suptitle('Распределение по количественным признакам',\n",
    "                 x=0.5,\n",
    "                 y=0.93,\n",
    "                 fontsize=12,\n",
    "                 fontweight='bold')    \n",
    "    \n",
    "sns.histplot(data_gas, x='Газ 1', ax=axes[0],\n",
    "                     kde=True,\n",
    "                     line_kws = {'linestyle':'dashed',\n",
    "                                 'linewidth':'1'},\n",
    "                     color='#9BCD9B')\n",
    "sns.boxplot(data_gas, x='Газ 1', ax=axes[1],\n",
    "                     color='#9BCD9B',\n",
    "                     linewidth=0.5,\n",
    "                     width=0.5,\n",
    "                     medianprops={\"color\": \"r\", \"linewidth\": 1});"
   ]
  },
  {
   "cell_type": "markdown",
   "id": "7ff88054",
   "metadata": {},
   "source": [
    "**Файл data_temp_new.csv — результаты измерения температуры**"
   ]
  },
  {
   "cell_type": "code",
   "execution_count": 20,
   "id": "39f83c6d",
   "metadata": {},
   "outputs": [
    {
     "name": "stdout",
     "output_type": "stream",
     "text": [
      "<class 'pandas.core.frame.DataFrame'>\n",
      "RangeIndex: 18092 entries, 0 to 18091\n",
      "Data columns (total 3 columns):\n",
      " #   Column        Non-Null Count  Dtype  \n",
      "---  ------        --------------  -----  \n",
      " 0   key           18092 non-null  int64  \n",
      " 1   Время замера  18092 non-null  object \n",
      " 2   Температура   14665 non-null  float64\n",
      "dtypes: float64(1), int64(1), object(1)\n",
      "memory usage: 424.2+ KB\n"
     ]
    },
    {
     "data": {
      "text/plain": [
       "None"
      ]
     },
     "metadata": {},
     "output_type": "display_data"
    },
    {
     "data": {
      "text/html": [
       "<div>\n",
       "<style scoped>\n",
       "    .dataframe tbody tr th:only-of-type {\n",
       "        vertical-align: middle;\n",
       "    }\n",
       "\n",
       "    .dataframe tbody tr th {\n",
       "        vertical-align: top;\n",
       "    }\n",
       "\n",
       "    .dataframe thead th {\n",
       "        text-align: right;\n",
       "    }\n",
       "</style>\n",
       "<table border=\"1\" class=\"dataframe\">\n",
       "  <thead>\n",
       "    <tr style=\"text-align: right;\">\n",
       "      <th></th>\n",
       "      <th>Температура</th>\n",
       "    </tr>\n",
       "  </thead>\n",
       "  <tbody>\n",
       "    <tr>\n",
       "      <th>count</th>\n",
       "      <td>14665.00</td>\n",
       "    </tr>\n",
       "    <tr>\n",
       "      <th>mean</th>\n",
       "      <td>1590.72</td>\n",
       "    </tr>\n",
       "    <tr>\n",
       "      <th>std</th>\n",
       "      <td>20.39</td>\n",
       "    </tr>\n",
       "    <tr>\n",
       "      <th>min</th>\n",
       "      <td>1191.00</td>\n",
       "    </tr>\n",
       "    <tr>\n",
       "      <th>25%</th>\n",
       "      <td>1580.00</td>\n",
       "    </tr>\n",
       "    <tr>\n",
       "      <th>50%</th>\n",
       "      <td>1590.00</td>\n",
       "    </tr>\n",
       "    <tr>\n",
       "      <th>75%</th>\n",
       "      <td>1599.00</td>\n",
       "    </tr>\n",
       "    <tr>\n",
       "      <th>max</th>\n",
       "      <td>1705.00</td>\n",
       "    </tr>\n",
       "  </tbody>\n",
       "</table>\n",
       "</div>"
      ],
      "text/plain": [
       "       Температура\n",
       "count     14665.00\n",
       "mean       1590.72\n",
       "std          20.39\n",
       "min        1191.00\n",
       "25%        1580.00\n",
       "50%        1590.00\n",
       "75%        1599.00\n",
       "max        1705.00"
      ]
     },
     "metadata": {},
     "output_type": "display_data"
    },
    {
     "data": {
      "text/plain": [
       "'Количество явных дубликатов:'"
      ]
     },
     "metadata": {},
     "output_type": "display_data"
    },
    {
     "data": {
      "text/plain": [
       "0"
      ]
     },
     "metadata": {},
     "output_type": "display_data"
    },
    {
     "data": {
      "text/plain": [
       "'Доля пропушенных значений:'"
      ]
     },
     "metadata": {},
     "output_type": "display_data"
    },
    {
     "data": {
      "text/plain": [
       "key              0.000000\n",
       "Время замера     0.000000\n",
       "Температура     18.942074\n",
       "dtype: float64"
      ]
     },
     "metadata": {},
     "output_type": "display_data"
    },
    {
     "data": {
      "text/plain": [
       "'Диаграмма ненулевых значений:'"
      ]
     },
     "metadata": {},
     "output_type": "display_data"
    },
    {
     "data": {
      "image/png": "[encoded data removed]",
      "text/plain": [
       "<Figure size 800x300 with 3 Axes>"
      ]
     },
     "metadata": {},
     "output_type": "display_data"
    }
   ],
   "source": [
    "res_analysis(data_temp)"
   ]
  },
  {
   "cell_type": "code",
   "execution_count": 21,
   "id": "c4dc26b6",
   "metadata": {},
   "outputs": [
    {
     "data": {
      "image/png": "[encoded data removed]",
      "text/plain": [
       "<Figure size 1200x400 with 2 Axes>"
      ]
     },
     "metadata": {},
     "output_type": "display_data"
    }
   ],
   "source": [
    "fig, axes = plt.subplots(1, 2, figsize=(12, 4))\n",
    "plt.suptitle('Распределение по количественным признакам',\n",
    "                 x=0.5,\n",
    "                 y=0.93,\n",
    "                 fontsize=12,\n",
    "                 fontweight='bold')    \n",
    "    \n",
    "sns.histplot(data_temp, x='Температура', ax=axes[0],\n",
    "                     kde=True,\n",
    "                     line_kws = {'linestyle':'dashed',\n",
    "                                 'linewidth':'1'},\n",
    "                     color='#9BCD9B')\n",
    "sns.boxplot(data_temp, x='Температура', ax=axes[1],\n",
    "                     color='#9BCD9B',\n",
    "                     linewidth=0.5,\n",
    "                     width=0.5,\n",
    "                     medianprops={\"color\": \"r\", \"linewidth\": 1});"
   ]
  },
  {
   "cell_type": "markdown",
   "id": "cd5495a4",
   "metadata": {},
   "source": [
    "**Файл data_wire_new.csv — данные о проволочных материалах (объём)**"
   ]
  },
  {
   "cell_type": "code",
   "execution_count": 22,
   "id": "e6b615eb",
   "metadata": {},
   "outputs": [
    {
     "name": "stdout",
     "output_type": "stream",
     "text": [
      "<class 'pandas.core.frame.DataFrame'>\n",
      "RangeIndex: 3081 entries, 0 to 3080\n",
      "Data columns (total 10 columns):\n",
      " #   Column  Non-Null Count  Dtype  \n",
      "---  ------  --------------  -----  \n",
      " 0   key     3081 non-null   int64  \n",
      " 1   Wire 1  3055 non-null   float64\n",
      " 2   Wire 2  1079 non-null   float64\n",
      " 3   Wire 3  63 non-null     float64\n",
      " 4   Wire 4  14 non-null     float64\n",
      " 5   Wire 5  1 non-null      float64\n",
      " 6   Wire 6  73 non-null     float64\n",
      " 7   Wire 7  11 non-null     float64\n",
      " 8   Wire 8  19 non-null     float64\n",
      " 9   Wire 9  29 non-null     float64\n",
      "dtypes: float64(9), int64(1)\n",
      "memory usage: 240.8 KB\n"
     ]
    },
    {
     "data": {
      "text/plain": [
       "None"
      ]
     },
     "metadata": {},
     "output_type": "display_data"
    },
    {
     "data": {
      "text/html": [
       "<div>\n",
       "<style scoped>\n",
       "    .dataframe tbody tr th:only-of-type {\n",
       "        vertical-align: middle;\n",
       "    }\n",
       "\n",
       "    .dataframe tbody tr th {\n",
       "        vertical-align: top;\n",
       "    }\n",
       "\n",
       "    .dataframe thead th {\n",
       "        text-align: right;\n",
       "    }\n",
       "</style>\n",
       "<table border=\"1\" class=\"dataframe\">\n",
       "  <thead>\n",
       "    <tr style=\"text-align: right;\">\n",
       "      <th></th>\n",
       "      <th>Wire 1</th>\n",
       "      <th>Wire 2</th>\n",
       "      <th>Wire 3</th>\n",
       "      <th>Wire 4</th>\n",
       "      <th>Wire 5</th>\n",
       "      <th>Wire 6</th>\n",
       "      <th>Wire 7</th>\n",
       "      <th>Wire 8</th>\n",
       "      <th>Wire 9</th>\n",
       "    </tr>\n",
       "  </thead>\n",
       "  <tbody>\n",
       "    <tr>\n",
       "      <th>count</th>\n",
       "      <td>3055.00</td>\n",
       "      <td>1079.00</td>\n",
       "      <td>63.00</td>\n",
       "      <td>14.00</td>\n",
       "      <td>1.00</td>\n",
       "      <td>73.00</td>\n",
       "      <td>11.00</td>\n",
       "      <td>19.00</td>\n",
       "      <td>29.00</td>\n",
       "    </tr>\n",
       "    <tr>\n",
       "      <th>mean</th>\n",
       "      <td>100.90</td>\n",
       "      <td>50.58</td>\n",
       "      <td>189.48</td>\n",
       "      <td>57.44</td>\n",
       "      <td>15.13</td>\n",
       "      <td>48.02</td>\n",
       "      <td>10.04</td>\n",
       "      <td>53.63</td>\n",
       "      <td>34.16</td>\n",
       "    </tr>\n",
       "    <tr>\n",
       "      <th>std</th>\n",
       "      <td>42.01</td>\n",
       "      <td>39.32</td>\n",
       "      <td>99.51</td>\n",
       "      <td>28.82</td>\n",
       "      <td>NaN</td>\n",
       "      <td>33.92</td>\n",
       "      <td>8.61</td>\n",
       "      <td>16.88</td>\n",
       "      <td>19.93</td>\n",
       "    </tr>\n",
       "    <tr>\n",
       "      <th>min</th>\n",
       "      <td>1.92</td>\n",
       "      <td>0.03</td>\n",
       "      <td>0.14</td>\n",
       "      <td>24.15</td>\n",
       "      <td>15.13</td>\n",
       "      <td>0.03</td>\n",
       "      <td>0.23</td>\n",
       "      <td>45.08</td>\n",
       "      <td>4.62</td>\n",
       "    </tr>\n",
       "    <tr>\n",
       "      <th>25%</th>\n",
       "      <td>72.12</td>\n",
       "      <td>20.19</td>\n",
       "      <td>95.14</td>\n",
       "      <td>40.81</td>\n",
       "      <td>15.13</td>\n",
       "      <td>25.05</td>\n",
       "      <td>6.76</td>\n",
       "      <td>46.09</td>\n",
       "      <td>22.06</td>\n",
       "    </tr>\n",
       "    <tr>\n",
       "      <th>50%</th>\n",
       "      <td>100.16</td>\n",
       "      <td>40.14</td>\n",
       "      <td>235.19</td>\n",
       "      <td>45.23</td>\n",
       "      <td>15.13</td>\n",
       "      <td>42.08</td>\n",
       "      <td>9.02</td>\n",
       "      <td>46.28</td>\n",
       "      <td>30.07</td>\n",
       "    </tr>\n",
       "    <tr>\n",
       "      <th>75%</th>\n",
       "      <td>126.06</td>\n",
       "      <td>70.23</td>\n",
       "      <td>276.25</td>\n",
       "      <td>76.12</td>\n",
       "      <td>15.13</td>\n",
       "      <td>64.21</td>\n",
       "      <td>11.89</td>\n",
       "      <td>48.09</td>\n",
       "      <td>43.86</td>\n",
       "    </tr>\n",
       "    <tr>\n",
       "      <th>max</th>\n",
       "      <td>330.31</td>\n",
       "      <td>282.78</td>\n",
       "      <td>385.01</td>\n",
       "      <td>113.23</td>\n",
       "      <td>15.13</td>\n",
       "      <td>180.45</td>\n",
       "      <td>32.85</td>\n",
       "      <td>102.76</td>\n",
       "      <td>90.05</td>\n",
       "    </tr>\n",
       "  </tbody>\n",
       "</table>\n",
       "</div>"
      ],
      "text/plain": [
       "        Wire 1   Wire 2  Wire 3  Wire 4  Wire 5  Wire 6  Wire 7  Wire 8   \n",
       "count  3055.00  1079.00   63.00   14.00    1.00   73.00   11.00   19.00  \\\n",
       "mean    100.90    50.58  189.48   57.44   15.13   48.02   10.04   53.63   \n",
       "std      42.01    39.32   99.51   28.82     NaN   33.92    8.61   16.88   \n",
       "min       1.92     0.03    0.14   24.15   15.13    0.03    0.23   45.08   \n",
       "25%      72.12    20.19   95.14   40.81   15.13   25.05    6.76   46.09   \n",
       "50%     100.16    40.14  235.19   45.23   15.13   42.08    9.02   46.28   \n",
       "75%     126.06    70.23  276.25   76.12   15.13   64.21   11.89   48.09   \n",
       "max     330.31   282.78  385.01  113.23   15.13  180.45   32.85  102.76   \n",
       "\n",
       "       Wire 9  \n",
       "count   29.00  \n",
       "mean    34.16  \n",
       "std     19.93  \n",
       "min      4.62  \n",
       "25%     22.06  \n",
       "50%     30.07  \n",
       "75%     43.86  \n",
       "max     90.05  "
      ]
     },
     "metadata": {},
     "output_type": "display_data"
    },
    {
     "data": {
      "text/plain": [
       "'Количество явных дубликатов:'"
      ]
     },
     "metadata": {},
     "output_type": "display_data"
    },
    {
     "data": {
      "text/plain": [
       "0"
      ]
     },
     "metadata": {},
     "output_type": "display_data"
    },
    {
     "data": {
      "text/plain": [
       "'Доля пропушенных значений:'"
      ]
     },
     "metadata": {},
     "output_type": "display_data"
    },
    {
     "data": {
      "text/plain": [
       "key        0.000000\n",
       "Wire 1     0.843882\n",
       "Wire 2    64.978903\n",
       "Wire 3    97.955209\n",
       "Wire 4    99.545602\n",
       "Wire 5    99.967543\n",
       "Wire 6    97.630639\n",
       "Wire 7    99.642973\n",
       "Wire 8    99.383317\n",
       "Wire 9    99.058747\n",
       "dtype: float64"
      ]
     },
     "metadata": {},
     "output_type": "display_data"
    },
    {
     "data": {
      "text/plain": [
       "'Диаграмма ненулевых значений:'"
      ]
     },
     "metadata": {},
     "output_type": "display_data"
    },
    {
     "data": {
      "image/png": "[encoded data removed]",
      "text/plain": [
       "<Figure size 800x300 with 3 Axes>"
      ]
     },
     "metadata": {},
     "output_type": "display_data"
    }
   ],
   "source": [
    "res_analysis(data_wire)"
   ]
  },
  {
   "cell_type": "markdown",
   "id": "5ff795d8",
   "metadata": {},
   "source": [
    "**Файл data_wire_time_new.csv — данные о проволочных материалах (время)**"
   ]
  },
  {
   "cell_type": "code",
   "execution_count": 23,
   "id": "d0011762",
   "metadata": {},
   "outputs": [
    {
     "name": "stdout",
     "output_type": "stream",
     "text": [
      "<class 'pandas.core.frame.DataFrame'>\n",
      "RangeIndex: 3081 entries, 0 to 3080\n",
      "Data columns (total 10 columns):\n",
      " #   Column  Non-Null Count  Dtype \n",
      "---  ------  --------------  ----- \n",
      " 0   key     3081 non-null   int64 \n",
      " 1   Wire 1  3055 non-null   object\n",
      " 2   Wire 2  1079 non-null   object\n",
      " 3   Wire 3  63 non-null     object\n",
      " 4   Wire 4  14 non-null     object\n",
      " 5   Wire 5  1 non-null      object\n",
      " 6   Wire 6  73 non-null     object\n",
      " 7   Wire 7  11 non-null     object\n",
      " 8   Wire 8  19 non-null     object\n",
      " 9   Wire 9  29 non-null     object\n",
      "dtypes: int64(1), object(9)\n",
      "memory usage: 240.8+ KB\n"
     ]
    },
    {
     "data": {
      "text/plain": [
       "None"
      ]
     },
     "metadata": {},
     "output_type": "display_data"
    },
    {
     "data": {
      "text/html": [
       "<div>\n",
       "<style scoped>\n",
       "    .dataframe tbody tr th:only-of-type {\n",
       "        vertical-align: middle;\n",
       "    }\n",
       "\n",
       "    .dataframe tbody tr th {\n",
       "        vertical-align: top;\n",
       "    }\n",
       "\n",
       "    .dataframe thead th {\n",
       "        text-align: right;\n",
       "    }\n",
       "</style>\n",
       "<table border=\"1\" class=\"dataframe\">\n",
       "  <thead>\n",
       "    <tr style=\"text-align: right;\">\n",
       "      <th></th>\n",
       "      <th>Wire 1</th>\n",
       "      <th>Wire 2</th>\n",
       "      <th>Wire 3</th>\n",
       "      <th>Wire 4</th>\n",
       "      <th>Wire 5</th>\n",
       "      <th>Wire 6</th>\n",
       "      <th>Wire 7</th>\n",
       "      <th>Wire 8</th>\n",
       "      <th>Wire 9</th>\n",
       "    </tr>\n",
       "  </thead>\n",
       "  <tbody>\n",
       "    <tr>\n",
       "      <th>count</th>\n",
       "      <td>3055</td>\n",
       "      <td>1079</td>\n",
       "      <td>63</td>\n",
       "      <td>14</td>\n",
       "      <td>1</td>\n",
       "      <td>73</td>\n",
       "      <td>11</td>\n",
       "      <td>19</td>\n",
       "      <td>29</td>\n",
       "    </tr>\n",
       "    <tr>\n",
       "      <th>unique</th>\n",
       "      <td>3055</td>\n",
       "      <td>1079</td>\n",
       "      <td>63</td>\n",
       "      <td>14</td>\n",
       "      <td>1</td>\n",
       "      <td>73</td>\n",
       "      <td>11</td>\n",
       "      <td>19</td>\n",
       "      <td>29</td>\n",
       "    </tr>\n",
       "    <tr>\n",
       "      <th>top</th>\n",
       "      <td>2019-05-03 11:06:19</td>\n",
       "      <td>2019-05-03 13:15:34</td>\n",
       "      <td>2019-05-04 04:34:27</td>\n",
       "      <td>2019-05-07 15:19:17</td>\n",
       "      <td>2019-08-13 06:14:30</td>\n",
       "      <td>2019-05-07 14:46:05</td>\n",
       "      <td>2019-07-27 05:49:05</td>\n",
       "      <td>2019-05-14 11:29:24</td>\n",
       "      <td>2019-05-04 17:21:27</td>\n",
       "    </tr>\n",
       "    <tr>\n",
       "      <th>freq</th>\n",
       "      <td>1</td>\n",
       "      <td>1</td>\n",
       "      <td>1</td>\n",
       "      <td>1</td>\n",
       "      <td>1</td>\n",
       "      <td>1</td>\n",
       "      <td>1</td>\n",
       "      <td>1</td>\n",
       "      <td>1</td>\n",
       "    </tr>\n",
       "  </tbody>\n",
       "</table>\n",
       "</div>"
      ],
      "text/plain": [
       "                     Wire 1               Wire 2               Wire 3   \n",
       "count                  3055                 1079                   63  \\\n",
       "unique                 3055                 1079                   63   \n",
       "top     2019-05-03 11:06:19  2019-05-03 13:15:34  2019-05-04 04:34:27   \n",
       "freq                      1                    1                    1   \n",
       "\n",
       "                     Wire 4               Wire 5               Wire 6   \n",
       "count                    14                    1                   73  \\\n",
       "unique                   14                    1                   73   \n",
       "top     2019-05-07 15:19:17  2019-08-13 06:14:30  2019-05-07 14:46:05   \n",
       "freq                      1                    1                    1   \n",
       "\n",
       "                     Wire 7               Wire 8               Wire 9  \n",
       "count                    11                   19                   29  \n",
       "unique                   11                   19                   29  \n",
       "top     2019-07-27 05:49:05  2019-05-14 11:29:24  2019-05-04 17:21:27  \n",
       "freq                      1                    1                    1  "
      ]
     },
     "metadata": {},
     "output_type": "display_data"
    },
    {
     "data": {
      "text/plain": [
       "'Количество явных дубликатов:'"
      ]
     },
     "metadata": {},
     "output_type": "display_data"
    },
    {
     "data": {
      "text/plain": [
       "0"
      ]
     },
     "metadata": {},
     "output_type": "display_data"
    },
    {
     "data": {
      "text/plain": [
       "'Доля пропушенных значений:'"
      ]
     },
     "metadata": {},
     "output_type": "display_data"
    },
    {
     "data": {
      "text/plain": [
       "key        0.000000\n",
       "Wire 1     0.843882\n",
       "Wire 2    64.978903\n",
       "Wire 3    97.955209\n",
       "Wire 4    99.545602\n",
       "Wire 5    99.967543\n",
       "Wire 6    97.630639\n",
       "Wire 7    99.642973\n",
       "Wire 8    99.383317\n",
       "Wire 9    99.058747\n",
       "dtype: float64"
      ]
     },
     "metadata": {},
     "output_type": "display_data"
    },
    {
     "data": {
      "text/plain": [
       "'Диаграмма ненулевых значений:'"
      ]
     },
     "metadata": {},
     "output_type": "display_data"
    },
    {
     "data": {
      "image/png": "[encoded data removed]",
      "text/plain": [
       "<Figure size 800x300 with 3 Axes>"
      ]
     },
     "metadata": {},
     "output_type": "display_data"
    }
   ],
   "source": [
    "res_analysis(data_wire_time)"
   ]
  },
  {
   "cell_type": "markdown",
   "id": "3b1a52d7",
   "metadata": {},
   "source": [
    "#### Вывод по итогам исследовательского анализа данных"
   ]
  },
  {
   "cell_type": "markdown",
   "id": "d6ab8159",
   "metadata": {},
   "source": [
    "**Файл data_arc_new.csv — данные об электродах**\n",
    "\n",
    "1. Датасет содержит 14876 значения\n",
    "\n",
    "2. Явные дубликаты отсутствуют\n",
    "\n",
    "3. Пропущенные значения отсутствуют\n",
    "\n",
    "4. Активная мощность имеет минимальное значение 0.22, максимальное значение 1.46, среднее значение 0.66, медиана 0.60. Значения в диапазоне 1.4 - 1.5 рассматриваются на диаграмме распределения, как выбросы. Диграмма выглядит, как нормальное распределение скошенное вправо\n",
    "\n",
    "5. Реактивная мощность имеет минимальное значение -715.48 (аномальное значение, которое по рекомендациям заказчика может быть исключено при дальнейшем анализе), максимальное значение 1.27, среднее значение 0.44, медиана 0.44\n",
    "\n",
    "**Файл data_bulk_new.csv - данные о подаче сыпучих материалов (объём)**\n",
    "\n",
    "1. Датасет содержит 3129 значения\n",
    "\n",
    "2. Явные дубликаты отсутствуют\n",
    "\n",
    "3. Пропущенные значения присутствуют в каждом столбце, согласно тепловой карте пропуске в столбце 12 наиболее связанны с пропусками в стобцах 14 и 15, также пропуски в столбце 2 связанны со столбцами 7 и 5. Остальные столбцы практически не связанны друг с другом. По \n",
    "\n",
    "4. Возможно их заполнить нулями и после объединения данных целесообразно проверить корреляцию target\n",
    "\n",
    "**Файл data_bulk_time_new.csv - данные о подаче сыпучих материалов (время)**\n",
    "\n",
    "1. Датасет содержит 3129 значения\n",
    "\n",
    "2. Явные дубликаты отсутствуют\n",
    "\n",
    "3. Пропущенные значения присутствуют в каждом столбце, диаграмма схожа с данными о пропусках в данных о подаче сыпучих материалов\n",
    "\n",
    "4. По рекомендациям заказчика данный датасет содержит контрольную информации и для дальнейшего анализа может не использоваться\n",
    "\n",
    "**Файл data_gas_new.csv — данные о продувке сплава газом**\n",
    "\n",
    "1. Датасет содержит 3239 значения\n",
    "\n",
    "2. Явные дубликаты отсутствуют\n",
    "\n",
    "3. Пропущенные значения отсутствуют\n",
    "\n",
    "4. Объем подаваемого газа имеет минимальное значение 0.01, максимальное значение 78, среднее значение 11, медиана 9.84. Значения от 24 рассматриваются на диаграмме распределения, как выбросы. Данный вопрос необходимо уточнить у заказчика.\n",
    "\n",
    "**Файл data_temp_new.csv — результаты измерения температуры**\n",
    "\n",
    "1. Датасет содержит 18092 значения\n",
    "\n",
    "2. Явные дубликаты отсутствуют\n",
    "\n",
    "3. Пропущенные значения в столбце температура в количестве 3427, которые по рекомендациям заказчика должны быть удалены \n",
    "\n",
    "4. Температура имеет минимальное значение 1191, максимальное значение 1705, среднее значение 1590.72, медиана 1590. Значения с одним замером температуры, а также ниже  среднего значения плавления стали (1500) необходимо удалить по рекомендациям заказчика\n",
    "\n",
    "**Файл data_wire_new.csv — данные о проволочных материалах (объём)**\n",
    "\n",
    "1. Датасет содержит 3081 значение\n",
    "\n",
    "2. Явные дубликаты отсутствуют\n",
    "\n",
    "3. Пропущенные значения есть в каждом столбце, в дальнейшем необходимо уточнить замену данных нулями\n",
    "\n",
    "**Файл data_wire_time_new.csv — данные о проволочных материалах (время)**\n",
    "\n",
    "\n",
    "1. Датасет содержит 3081 значение\n",
    "\n",
    "2. Явные дубликаты отсутствуют\n",
    "\n",
    "3. Пропущенные значения есть в каждом столбце, пропуски идентичны данным о проволочных материалах (объём)\n",
    "\n",
    "4. По рекомендациям заказчика данный датасет содержит контрольную информации и для дальнейшего анализа может не использоваться"
   ]
  },
  {
   "cell_type": "markdown",
   "id": "7ae46d7a",
   "metadata": {},
   "source": [
    "#### Вопросы заказчику по итогам исследовательского анализа данных"
   ]
  },
  {
   "cell_type": "markdown",
   "id": "e6922e78",
   "metadata": {},
   "source": [
    "1. Необходимо рассмотреть исключение отрицательных значений реактивной мощности\n",
    "\n",
    "2. Переведем значения даты и время в соответствующий формат\n",
    "\n",
    "3. Расчет полной мощности и добавление как отдельного признака (формула квадратный корень из суммы двух мощностей)\n",
    "\n",
    "4. Добавление информации по времени нагрева\n",
    "\n",
    "5. Добавление признака полной энергии (произведение полной мощности на время нагрева)\n",
    "\n",
    "6. Объединим данные в таблице по ключам ковшей и сохраним данные по сумме значения энергии, мощностей, времени нагревания, а также посчитаем количество циклов включения нагрева\n",
    "\n",
    "7. Удалим столб ws с данными по добавкам с пропусками более 80%\n",
    "\n",
    "8. Заполнение пропусков сыпучих материаллов нулями, так как их возможно не применяли\n",
    "\n",
    "9. Исключение данных о подаче сыпучих материалов (время)\n",
    "\n",
    "10. Удаление значения замеров температуры, которые меньше средней температуры плавления стали 1500 градусов\n",
    "\n",
    "11. Удаление пропущенных значений замеров температуры\n",
    "\n",
    "12. Заполнение пропусков в данных о проволочных материалах нулями, а также удаление столбцов с пропусками более 80%\n",
    "13. Исключение данные о проволочных материалах (время)"
   ]
  },
  {
   "cell_type": "markdown",
   "id": "33dbf855",
   "metadata": {},
   "source": [
    "Итог: для дальнейшего анализа необходимо рассмотреть 5 таблиц, также сгенерировать новые признаки: полная мощность, время нагрева, полная энергия, количество циклов нагрева. С последующим корреляционным анализом и исключением мультиколлинеарных признаков"
   ]
  },
  {
   "cell_type": "markdown",
   "id": "94969500",
   "metadata": {},
   "source": [
    "### Предобработка данных"
   ]
  },
  {
   "cell_type": "markdown",
   "id": "3a439e25",
   "metadata": {},
   "source": [
    "В данном разделе выполняется предобработка 5-ти датасетов, рекомендованных заказчиком для постраения задачи, также учитываются все рекомендации по исключению аномальных значений и заполнению пропусков."
   ]
  },
  {
   "cell_type": "markdown",
   "id": "69dfc614",
   "metadata": {},
   "source": [
    "**Файл data_arc_new.csv — данные об электродах**"
   ]
  },
  {
   "cell_type": "code",
   "execution_count": 24,
   "id": "b8745a52",
   "metadata": {},
   "outputs": [
    {
     "data": {
      "text/html": [
       "<div>\n",
       "<style scoped>\n",
       "    .dataframe tbody tr th:only-of-type {\n",
       "        vertical-align: middle;\n",
       "    }\n",
       "\n",
       "    .dataframe tbody tr th {\n",
       "        vertical-align: top;\n",
       "    }\n",
       "\n",
       "    .dataframe thead th {\n",
       "        text-align: right;\n",
       "    }\n",
       "</style>\n",
       "<table border=\"1\" class=\"dataframe\">\n",
       "  <thead>\n",
       "    <tr style=\"text-align: right;\">\n",
       "      <th></th>\n",
       "      <th>key</th>\n",
       "      <th>Начало нагрева дугой</th>\n",
       "      <th>Конец нагрева дугой</th>\n",
       "      <th>Активная мощность</th>\n",
       "      <th>Реактивная мощность</th>\n",
       "    </tr>\n",
       "  </thead>\n",
       "  <tbody>\n",
       "    <tr>\n",
       "      <th>0</th>\n",
       "      <td>1</td>\n",
       "      <td>2019-05-03 11:02:14</td>\n",
       "      <td>2019-05-03 11:06:02</td>\n",
       "      <td>0.305130</td>\n",
       "      <td>0.211253</td>\n",
       "    </tr>\n",
       "    <tr>\n",
       "      <th>1</th>\n",
       "      <td>1</td>\n",
       "      <td>2019-05-03 11:07:28</td>\n",
       "      <td>2019-05-03 11:10:33</td>\n",
       "      <td>0.765658</td>\n",
       "      <td>0.477438</td>\n",
       "    </tr>\n",
       "    <tr>\n",
       "      <th>2</th>\n",
       "      <td>1</td>\n",
       "      <td>2019-05-03 11:11:44</td>\n",
       "      <td>2019-05-03 11:14:36</td>\n",
       "      <td>0.580313</td>\n",
       "      <td>0.430460</td>\n",
       "    </tr>\n",
       "    <tr>\n",
       "      <th>3</th>\n",
       "      <td>1</td>\n",
       "      <td>2019-05-03 11:18:14</td>\n",
       "      <td>2019-05-03 11:24:19</td>\n",
       "      <td>0.518496</td>\n",
       "      <td>0.379979</td>\n",
       "    </tr>\n",
       "    <tr>\n",
       "      <th>4</th>\n",
       "      <td>1</td>\n",
       "      <td>2019-05-03 11:26:09</td>\n",
       "      <td>2019-05-03 11:28:37</td>\n",
       "      <td>0.867133</td>\n",
       "      <td>0.643691</td>\n",
       "    </tr>\n",
       "  </tbody>\n",
       "</table>\n",
       "</div>"
      ],
      "text/plain": [
       "   key Начало нагрева дугой  Конец нагрева дугой  Активная мощность   \n",
       "0    1  2019-05-03 11:02:14  2019-05-03 11:06:02           0.305130  \\\n",
       "1    1  2019-05-03 11:07:28  2019-05-03 11:10:33           0.765658   \n",
       "2    1  2019-05-03 11:11:44  2019-05-03 11:14:36           0.580313   \n",
       "3    1  2019-05-03 11:18:14  2019-05-03 11:24:19           0.518496   \n",
       "4    1  2019-05-03 11:26:09  2019-05-03 11:28:37           0.867133   \n",
       "\n",
       "   Реактивная мощность  \n",
       "0             0.211253  \n",
       "1             0.477438  \n",
       "2             0.430460  \n",
       "3             0.379979  \n",
       "4             0.643691  "
      ]
     },
     "execution_count": 24,
     "metadata": {},
     "output_type": "execute_result"
    }
   ],
   "source": [
    "data_arc.head(5)"
   ]
  },
  {
   "cell_type": "markdown",
   "id": "0e4d07a9",
   "metadata": {},
   "source": [
    "Переименуем столбцы и приведем к формату даты:"
   ]
  },
  {
   "cell_type": "code",
   "execution_count": 25,
   "id": "523d880e",
   "metadata": {},
   "outputs": [],
   "source": [
    "data_arc = data_arc.rename(\n",
    "    columns={\n",
    "        'Начало нагрева дугой':'start_heating',\n",
    "        'Конец нагрева дугой': 'finish_heating',\n",
    "        'Активная мощность': 'active_power',\n",
    "        'Реактивная мощность': 'reactive_power',\n",
    "    }\n",
    ")"
   ]
  },
  {
   "cell_type": "code",
   "execution_count": 26,
   "id": "5b9f4858",
   "metadata": {},
   "outputs": [],
   "source": [
    "data_arc['start_heating'] = pd.to_datetime(data_arc['start_heating'], format='%Y-%m-%d %H:%M:%S')\n",
    "data_arc['finish_heating'] = pd.to_datetime(data_arc['finish_heating'], format='%Y-%m-%d %H:%M:%S')"
   ]
  },
  {
   "cell_type": "markdown",
   "id": "3ed15ac7",
   "metadata": {},
   "source": [
    "Удалим данные партий с отрицательной реактивной мощностью:"
   ]
  },
  {
   "cell_type": "code",
   "execution_count": 27,
   "id": "fb486746",
   "metadata": {},
   "outputs": [
    {
     "data": {
      "text/html": [
       "<div>\n",
       "<style scoped>\n",
       "    .dataframe tbody tr th:only-of-type {\n",
       "        vertical-align: middle;\n",
       "    }\n",
       "\n",
       "    .dataframe tbody tr th {\n",
       "        vertical-align: top;\n",
       "    }\n",
       "\n",
       "    .dataframe thead th {\n",
       "        text-align: right;\n",
       "    }\n",
       "</style>\n",
       "<table border=\"1\" class=\"dataframe\">\n",
       "  <thead>\n",
       "    <tr style=\"text-align: right;\">\n",
       "      <th></th>\n",
       "      <th>key</th>\n",
       "      <th>start_heating</th>\n",
       "      <th>finish_heating</th>\n",
       "      <th>active_power</th>\n",
       "      <th>reactive_power</th>\n",
       "    </tr>\n",
       "  </thead>\n",
       "  <tbody>\n",
       "    <tr>\n",
       "      <th>9780</th>\n",
       "      <td>2116</td>\n",
       "      <td>2019-07-28 02:22:08</td>\n",
       "      <td>2019-07-28 02:23:57</td>\n",
       "      <td>0.705344</td>\n",
       "      <td>-715.479924</td>\n",
       "    </tr>\n",
       "  </tbody>\n",
       "</table>\n",
       "</div>"
      ],
      "text/plain": [
       "       key       start_heating      finish_heating  active_power   \n",
       "9780  2116 2019-07-28 02:22:08 2019-07-28 02:23:57      0.705344  \\\n",
       "\n",
       "      reactive_power  \n",
       "9780     -715.479924  "
      ]
     },
     "execution_count": 27,
     "metadata": {},
     "output_type": "execute_result"
    }
   ],
   "source": [
    "data_arc.query('reactive_power < 0')"
   ]
  },
  {
   "cell_type": "code",
   "execution_count": 28,
   "id": "b2a6aba1",
   "metadata": {},
   "outputs": [
    {
     "data": {
      "text/html": [
       "<div>\n",
       "<style scoped>\n",
       "    .dataframe tbody tr th:only-of-type {\n",
       "        vertical-align: middle;\n",
       "    }\n",
       "\n",
       "    .dataframe tbody tr th {\n",
       "        vertical-align: top;\n",
       "    }\n",
       "\n",
       "    .dataframe thead th {\n",
       "        text-align: right;\n",
       "    }\n",
       "</style>\n",
       "<table border=\"1\" class=\"dataframe\">\n",
       "  <thead>\n",
       "    <tr style=\"text-align: right;\">\n",
       "      <th></th>\n",
       "      <th>key</th>\n",
       "      <th>start_heating</th>\n",
       "      <th>finish_heating</th>\n",
       "      <th>active_power</th>\n",
       "      <th>reactive_power</th>\n",
       "    </tr>\n",
       "  </thead>\n",
       "  <tbody>\n",
       "    <tr>\n",
       "      <th>9778</th>\n",
       "      <td>2116</td>\n",
       "      <td>2019-07-28 02:07:12</td>\n",
       "      <td>2019-07-28 02:09:14</td>\n",
       "      <td>0.787549</td>\n",
       "      <td>0.693881</td>\n",
       "    </tr>\n",
       "    <tr>\n",
       "      <th>9779</th>\n",
       "      <td>2116</td>\n",
       "      <td>2019-07-28 02:13:10</td>\n",
       "      <td>2019-07-28 02:15:25</td>\n",
       "      <td>0.580263</td>\n",
       "      <td>0.411498</td>\n",
       "    </tr>\n",
       "    <tr>\n",
       "      <th>9780</th>\n",
       "      <td>2116</td>\n",
       "      <td>2019-07-28 02:22:08</td>\n",
       "      <td>2019-07-28 02:23:57</td>\n",
       "      <td>0.705344</td>\n",
       "      <td>-715.479924</td>\n",
       "    </tr>\n",
       "    <tr>\n",
       "      <th>9781</th>\n",
       "      <td>2116</td>\n",
       "      <td>2019-07-28 02:29:11</td>\n",
       "      <td>2019-07-28 02:30:18</td>\n",
       "      <td>0.563641</td>\n",
       "      <td>0.408513</td>\n",
       "    </tr>\n",
       "  </tbody>\n",
       "</table>\n",
       "</div>"
      ],
      "text/plain": [
       "       key       start_heating      finish_heating  active_power   \n",
       "9778  2116 2019-07-28 02:07:12 2019-07-28 02:09:14      0.787549  \\\n",
       "9779  2116 2019-07-28 02:13:10 2019-07-28 02:15:25      0.580263   \n",
       "9780  2116 2019-07-28 02:22:08 2019-07-28 02:23:57      0.705344   \n",
       "9781  2116 2019-07-28 02:29:11 2019-07-28 02:30:18      0.563641   \n",
       "\n",
       "      reactive_power  \n",
       "9778        0.693881  \n",
       "9779        0.411498  \n",
       "9780     -715.479924  \n",
       "9781        0.408513  "
      ]
     },
     "execution_count": 28,
     "metadata": {},
     "output_type": "execute_result"
    }
   ],
   "source": [
    "data_arc.query('key == 2116')"
   ]
  },
  {
   "cell_type": "code",
   "execution_count": 29,
   "id": "bf4d4da2",
   "metadata": {},
   "outputs": [
    {
     "data": {
      "text/plain": [
       "(14872, 5)"
      ]
     },
     "execution_count": 29,
     "metadata": {},
     "output_type": "execute_result"
    }
   ],
   "source": [
    "data_arc = data_arc.query('key != 2116')\n",
    "data_arc.shape"
   ]
  },
  {
   "cell_type": "markdown",
   "id": "e8ca6bdf",
   "metadata": {},
   "source": [
    "Произведем расчет полной мощности и добавим в новый столбец:"
   ]
  },
  {
   "cell_type": "code",
   "execution_count": 30,
   "id": "d758047e",
   "metadata": {},
   "outputs": [],
   "source": [
    "data_arc['full_power'] = (data_arc['active_power']**2 + data_arc['reactive_power']**2)**0.5"
   ]
  },
  {
   "cell_type": "markdown",
   "id": "b2f981ce",
   "metadata": {},
   "source": [
    "Произведем расчет времени нагрева в секундах, а также полной энергии:"
   ]
  },
  {
   "cell_type": "code",
   "execution_count": 31,
   "id": "f5c5d062",
   "metadata": {},
   "outputs": [],
   "source": [
    "data_arc['heating_time'] = (data_arc['finish_heating'] - data_arc['start_heating']).dt.seconds\n",
    "data_arc['full_energy'] = data_arc['full_power'] * data_arc['heating_time']"
   ]
  },
  {
   "cell_type": "code",
   "execution_count": 32,
   "id": "03b63849",
   "metadata": {},
   "outputs": [
    {
     "data": {
      "text/html": [
       "<div>\n",
       "<style scoped>\n",
       "    .dataframe tbody tr th:only-of-type {\n",
       "        vertical-align: middle;\n",
       "    }\n",
       "\n",
       "    .dataframe tbody tr th {\n",
       "        vertical-align: top;\n",
       "    }\n",
       "\n",
       "    .dataframe thead th {\n",
       "        text-align: right;\n",
       "    }\n",
       "</style>\n",
       "<table border=\"1\" class=\"dataframe\">\n",
       "  <thead>\n",
       "    <tr style=\"text-align: right;\">\n",
       "      <th></th>\n",
       "      <th>key</th>\n",
       "      <th>start_heating</th>\n",
       "      <th>finish_heating</th>\n",
       "      <th>active_power</th>\n",
       "      <th>reactive_power</th>\n",
       "      <th>full_power</th>\n",
       "      <th>heating_time</th>\n",
       "      <th>full_energy</th>\n",
       "    </tr>\n",
       "  </thead>\n",
       "  <tbody>\n",
       "    <tr>\n",
       "      <th>0</th>\n",
       "      <td>1</td>\n",
       "      <td>2019-05-03 11:02:14</td>\n",
       "      <td>2019-05-03 11:06:02</td>\n",
       "      <td>0.305130</td>\n",
       "      <td>0.211253</td>\n",
       "      <td>0.371123</td>\n",
       "      <td>228</td>\n",
       "      <td>84.616003</td>\n",
       "    </tr>\n",
       "    <tr>\n",
       "      <th>1</th>\n",
       "      <td>1</td>\n",
       "      <td>2019-05-03 11:07:28</td>\n",
       "      <td>2019-05-03 11:10:33</td>\n",
       "      <td>0.765658</td>\n",
       "      <td>0.477438</td>\n",
       "      <td>0.902319</td>\n",
       "      <td>185</td>\n",
       "      <td>166.928978</td>\n",
       "    </tr>\n",
       "    <tr>\n",
       "      <th>2</th>\n",
       "      <td>1</td>\n",
       "      <td>2019-05-03 11:11:44</td>\n",
       "      <td>2019-05-03 11:14:36</td>\n",
       "      <td>0.580313</td>\n",
       "      <td>0.430460</td>\n",
       "      <td>0.722536</td>\n",
       "      <td>172</td>\n",
       "      <td>124.276277</td>\n",
       "    </tr>\n",
       "    <tr>\n",
       "      <th>3</th>\n",
       "      <td>1</td>\n",
       "      <td>2019-05-03 11:18:14</td>\n",
       "      <td>2019-05-03 11:24:19</td>\n",
       "      <td>0.518496</td>\n",
       "      <td>0.379979</td>\n",
       "      <td>0.642824</td>\n",
       "      <td>365</td>\n",
       "      <td>234.630603</td>\n",
       "    </tr>\n",
       "    <tr>\n",
       "      <th>4</th>\n",
       "      <td>1</td>\n",
       "      <td>2019-05-03 11:26:09</td>\n",
       "      <td>2019-05-03 11:28:37</td>\n",
       "      <td>0.867133</td>\n",
       "      <td>0.643691</td>\n",
       "      <td>1.079934</td>\n",
       "      <td>148</td>\n",
       "      <td>159.830252</td>\n",
       "    </tr>\n",
       "  </tbody>\n",
       "</table>\n",
       "</div>"
      ],
      "text/plain": [
       "   key       start_heating      finish_heating  active_power  reactive_power   \n",
       "0    1 2019-05-03 11:02:14 2019-05-03 11:06:02      0.305130        0.211253  \\\n",
       "1    1 2019-05-03 11:07:28 2019-05-03 11:10:33      0.765658        0.477438   \n",
       "2    1 2019-05-03 11:11:44 2019-05-03 11:14:36      0.580313        0.430460   \n",
       "3    1 2019-05-03 11:18:14 2019-05-03 11:24:19      0.518496        0.379979   \n",
       "4    1 2019-05-03 11:26:09 2019-05-03 11:28:37      0.867133        0.643691   \n",
       "\n",
       "   full_power  heating_time  full_energy  \n",
       "0    0.371123           228    84.616003  \n",
       "1    0.902319           185   166.928978  \n",
       "2    0.722536           172   124.276277  \n",
       "3    0.642824           365   234.630603  \n",
       "4    1.079934           148   159.830252  "
      ]
     },
     "execution_count": 32,
     "metadata": {},
     "output_type": "execute_result"
    }
   ],
   "source": [
    "data_arc.head(5)"
   ]
  },
  {
   "cell_type": "code",
   "execution_count": 33,
   "id": "ab47ed45",
   "metadata": {},
   "outputs": [
    {
     "data": {
      "image/png": "[encoded data removed]",
      "text/plain": [
       "<Figure size 800x400 with 1 Axes>"
      ]
     },
     "metadata": {},
     "output_type": "display_data"
    }
   ],
   "source": [
    "fig, ax = plt.subplots(figsize=(8, 4))\n",
    "sns.boxplot(data=data_arc.iloc[:,1:-2])\n",
    "plt.xlabel('Тип мощности')\n",
    "plt.ylabel('Мощность')\n",
    "plt.title('Распределение мощности');"
   ]
  },
  {
   "cell_type": "markdown",
   "id": "da9ebd92",
   "metadata": {},
   "source": [
    "Для дальнейшего анализа целесообразно объединить данные по номеру партии, построив сводную таблицу с расчетом и сумм энергии, мощностей, времени нагревания, а также произведем расчет количество циклов нагрева:"
   ]
  },
  {
   "cell_type": "code",
   "execution_count": 34,
   "id": "aa8ad287",
   "metadata": {},
   "outputs": [],
   "source": [
    "data_arc = data_arc.pivot_table(\n",
    "    index='key', \n",
    "    values=['active_power',\n",
    "            'reactive_power',\n",
    "            'full_power',\n",
    "            'heating_time',\n",
    "            'full_energy',\n",
    "            'start_heating'\n",
    "           ], \n",
    "    aggfunc={'active_power': 'sum', \n",
    "             'reactive_power': 'sum', \n",
    "             'full_power': 'sum', \n",
    "             'heating_time': 'sum', \n",
    "             'full_energy': 'sum',\n",
    "             'start_heating' : 'count'\n",
    "            }\n",
    ").reset_index().rename(\n",
    "    columns={\n",
    "        'start_heating':'number_of_heating'\n",
    "    }\n",
    ")"
   ]
  },
  {
   "cell_type": "code",
   "execution_count": 35,
   "id": "08740ecb",
   "metadata": {},
   "outputs": [
    {
     "data": {
      "text/plain": [
       "Index(['key', 'active_power', 'full_energy', 'full_power', 'heating_time',\n",
       "       'reactive_power', 'number_of_heating'],\n",
       "      dtype='object')"
      ]
     },
     "execution_count": 35,
     "metadata": {},
     "output_type": "execute_result"
    }
   ],
   "source": [
    "data_arc.columns"
   ]
  },
  {
   "cell_type": "code",
   "execution_count": 36,
   "id": "2f7f9128",
   "metadata": {},
   "outputs": [],
   "source": [
    "data_arc = data_arc[['key',\n",
    "          'active_power',\n",
    "          'reactive_power',\n",
    "          'full_power',\n",
    "          'heating_time',\n",
    "          'full_energy',\n",
    "          'number_of_heating']\n",
    "        ]"
   ]
  },
  {
   "cell_type": "code",
   "execution_count": 37,
   "id": "7668912d",
   "metadata": {},
   "outputs": [
    {
     "data": {
      "text/plain": [
       "(3213, 7)"
      ]
     },
     "metadata": {},
     "output_type": "display_data"
    },
    {
     "data": {
      "text/html": [
       "<div>\n",
       "<style scoped>\n",
       "    .dataframe tbody tr th:only-of-type {\n",
       "        vertical-align: middle;\n",
       "    }\n",
       "\n",
       "    .dataframe tbody tr th {\n",
       "        vertical-align: top;\n",
       "    }\n",
       "\n",
       "    .dataframe thead th {\n",
       "        text-align: right;\n",
       "    }\n",
       "</style>\n",
       "<table border=\"1\" class=\"dataframe\">\n",
       "  <thead>\n",
       "    <tr style=\"text-align: right;\">\n",
       "      <th></th>\n",
       "      <th>key</th>\n",
       "      <th>active_power</th>\n",
       "      <th>reactive_power</th>\n",
       "      <th>full_power</th>\n",
       "      <th>heating_time</th>\n",
       "      <th>full_energy</th>\n",
       "      <th>number_of_heating</th>\n",
       "    </tr>\n",
       "  </thead>\n",
       "  <tbody>\n",
       "    <tr>\n",
       "      <th>0</th>\n",
       "      <td>1</td>\n",
       "      <td>3.036730</td>\n",
       "      <td>2.142821</td>\n",
       "      <td>3.718736</td>\n",
       "      <td>1098</td>\n",
       "      <td>770.282114</td>\n",
       "      <td>5</td>\n",
       "    </tr>\n",
       "    <tr>\n",
       "      <th>1</th>\n",
       "      <td>2</td>\n",
       "      <td>2.139408</td>\n",
       "      <td>1.453357</td>\n",
       "      <td>2.588349</td>\n",
       "      <td>811</td>\n",
       "      <td>481.760005</td>\n",
       "      <td>4</td>\n",
       "    </tr>\n",
       "    <tr>\n",
       "      <th>2</th>\n",
       "      <td>3</td>\n",
       "      <td>4.063641</td>\n",
       "      <td>2.937457</td>\n",
       "      <td>5.019223</td>\n",
       "      <td>655</td>\n",
       "      <td>722.837668</td>\n",
       "      <td>5</td>\n",
       "    </tr>\n",
       "    <tr>\n",
       "      <th>3</th>\n",
       "      <td>4</td>\n",
       "      <td>2.706489</td>\n",
       "      <td>2.056992</td>\n",
       "      <td>3.400038</td>\n",
       "      <td>741</td>\n",
       "      <td>683.455597</td>\n",
       "      <td>4</td>\n",
       "    </tr>\n",
       "    <tr>\n",
       "      <th>4</th>\n",
       "      <td>5</td>\n",
       "      <td>2.252950</td>\n",
       "      <td>1.687991</td>\n",
       "      <td>2.816980</td>\n",
       "      <td>869</td>\n",
       "      <td>512.169934</td>\n",
       "      <td>4</td>\n",
       "    </tr>\n",
       "  </tbody>\n",
       "</table>\n",
       "</div>"
      ],
      "text/plain": [
       "   key  active_power  reactive_power  full_power  heating_time  full_energy   \n",
       "0    1      3.036730        2.142821    3.718736          1098   770.282114  \\\n",
       "1    2      2.139408        1.453357    2.588349           811   481.760005   \n",
       "2    3      4.063641        2.937457    5.019223           655   722.837668   \n",
       "3    4      2.706489        2.056992    3.400038           741   683.455597   \n",
       "4    5      2.252950        1.687991    2.816980           869   512.169934   \n",
       "\n",
       "   number_of_heating  \n",
       "0                  5  \n",
       "1                  4  \n",
       "2                  5  \n",
       "3                  4  \n",
       "4                  4  "
      ]
     },
     "execution_count": 37,
     "metadata": {},
     "output_type": "execute_result"
    }
   ],
   "source": [
    "display(data_arc.shape)\n",
    "data_arc.head(5)"
   ]
  },
  {
   "cell_type": "markdown",
   "id": "9a2e2f36",
   "metadata": {},
   "source": [
    "**Файл data_bulk_new.csv - данные о подаче сыпучих материалов (объём)**"
   ]
  },
  {
   "cell_type": "code",
   "execution_count": 38,
   "id": "9ef1e81e",
   "metadata": {},
   "outputs": [
    {
     "data": {
      "text/html": [
       "<div>\n",
       "<style scoped>\n",
       "    .dataframe tbody tr th:only-of-type {\n",
       "        vertical-align: middle;\n",
       "    }\n",
       "\n",
       "    .dataframe tbody tr th {\n",
       "        vertical-align: top;\n",
       "    }\n",
       "\n",
       "    .dataframe thead th {\n",
       "        text-align: right;\n",
       "    }\n",
       "</style>\n",
       "<table border=\"1\" class=\"dataframe\">\n",
       "  <thead>\n",
       "    <tr style=\"text-align: right;\">\n",
       "      <th></th>\n",
       "      <th>key</th>\n",
       "      <th>Bulk 1</th>\n",
       "      <th>Bulk 2</th>\n",
       "      <th>Bulk 3</th>\n",
       "      <th>Bulk 4</th>\n",
       "      <th>Bulk 5</th>\n",
       "      <th>Bulk 6</th>\n",
       "      <th>Bulk 7</th>\n",
       "      <th>Bulk 8</th>\n",
       "      <th>Bulk 9</th>\n",
       "      <th>Bulk 10</th>\n",
       "      <th>Bulk 11</th>\n",
       "      <th>Bulk 12</th>\n",
       "      <th>Bulk 13</th>\n",
       "      <th>Bulk 14</th>\n",
       "      <th>Bulk 15</th>\n",
       "    </tr>\n",
       "  </thead>\n",
       "  <tbody>\n",
       "    <tr>\n",
       "      <th>0</th>\n",
       "      <td>1</td>\n",
       "      <td>NaN</td>\n",
       "      <td>NaN</td>\n",
       "      <td>NaN</td>\n",
       "      <td>43.0</td>\n",
       "      <td>NaN</td>\n",
       "      <td>NaN</td>\n",
       "      <td>NaN</td>\n",
       "      <td>NaN</td>\n",
       "      <td>NaN</td>\n",
       "      <td>NaN</td>\n",
       "      <td>NaN</td>\n",
       "      <td>206.0</td>\n",
       "      <td>NaN</td>\n",
       "      <td>150.0</td>\n",
       "      <td>154.0</td>\n",
       "    </tr>\n",
       "    <tr>\n",
       "      <th>1</th>\n",
       "      <td>2</td>\n",
       "      <td>NaN</td>\n",
       "      <td>NaN</td>\n",
       "      <td>NaN</td>\n",
       "      <td>73.0</td>\n",
       "      <td>NaN</td>\n",
       "      <td>NaN</td>\n",
       "      <td>NaN</td>\n",
       "      <td>NaN</td>\n",
       "      <td>NaN</td>\n",
       "      <td>NaN</td>\n",
       "      <td>NaN</td>\n",
       "      <td>206.0</td>\n",
       "      <td>NaN</td>\n",
       "      <td>149.0</td>\n",
       "      <td>154.0</td>\n",
       "    </tr>\n",
       "    <tr>\n",
       "      <th>2</th>\n",
       "      <td>3</td>\n",
       "      <td>NaN</td>\n",
       "      <td>NaN</td>\n",
       "      <td>NaN</td>\n",
       "      <td>34.0</td>\n",
       "      <td>NaN</td>\n",
       "      <td>NaN</td>\n",
       "      <td>NaN</td>\n",
       "      <td>NaN</td>\n",
       "      <td>NaN</td>\n",
       "      <td>NaN</td>\n",
       "      <td>NaN</td>\n",
       "      <td>205.0</td>\n",
       "      <td>NaN</td>\n",
       "      <td>152.0</td>\n",
       "      <td>153.0</td>\n",
       "    </tr>\n",
       "    <tr>\n",
       "      <th>3</th>\n",
       "      <td>4</td>\n",
       "      <td>NaN</td>\n",
       "      <td>NaN</td>\n",
       "      <td>NaN</td>\n",
       "      <td>81.0</td>\n",
       "      <td>NaN</td>\n",
       "      <td>NaN</td>\n",
       "      <td>NaN</td>\n",
       "      <td>NaN</td>\n",
       "      <td>NaN</td>\n",
       "      <td>NaN</td>\n",
       "      <td>NaN</td>\n",
       "      <td>207.0</td>\n",
       "      <td>NaN</td>\n",
       "      <td>153.0</td>\n",
       "      <td>154.0</td>\n",
       "    </tr>\n",
       "    <tr>\n",
       "      <th>4</th>\n",
       "      <td>5</td>\n",
       "      <td>NaN</td>\n",
       "      <td>NaN</td>\n",
       "      <td>NaN</td>\n",
       "      <td>78.0</td>\n",
       "      <td>NaN</td>\n",
       "      <td>NaN</td>\n",
       "      <td>NaN</td>\n",
       "      <td>NaN</td>\n",
       "      <td>NaN</td>\n",
       "      <td>NaN</td>\n",
       "      <td>NaN</td>\n",
       "      <td>203.0</td>\n",
       "      <td>NaN</td>\n",
       "      <td>151.0</td>\n",
       "      <td>152.0</td>\n",
       "    </tr>\n",
       "  </tbody>\n",
       "</table>\n",
       "</div>"
      ],
      "text/plain": [
       "   key  Bulk 1  Bulk 2  Bulk 3  Bulk 4  Bulk 5  Bulk 6  Bulk 7  Bulk 8   \n",
       "0    1     NaN     NaN     NaN    43.0     NaN     NaN     NaN     NaN  \\\n",
       "1    2     NaN     NaN     NaN    73.0     NaN     NaN     NaN     NaN   \n",
       "2    3     NaN     NaN     NaN    34.0     NaN     NaN     NaN     NaN   \n",
       "3    4     NaN     NaN     NaN    81.0     NaN     NaN     NaN     NaN   \n",
       "4    5     NaN     NaN     NaN    78.0     NaN     NaN     NaN     NaN   \n",
       "\n",
       "   Bulk 9  Bulk 10  Bulk 11  Bulk 12  Bulk 13  Bulk 14  Bulk 15  \n",
       "0     NaN      NaN      NaN    206.0      NaN    150.0    154.0  \n",
       "1     NaN      NaN      NaN    206.0      NaN    149.0    154.0  \n",
       "2     NaN      NaN      NaN    205.0      NaN    152.0    153.0  \n",
       "3     NaN      NaN      NaN    207.0      NaN    153.0    154.0  \n",
       "4     NaN      NaN      NaN    203.0      NaN    151.0    152.0  "
      ]
     },
     "execution_count": 38,
     "metadata": {},
     "output_type": "execute_result"
    }
   ],
   "source": [
    "data_bulk.head(5)"
   ]
  },
  {
   "cell_type": "code",
   "execution_count": 39,
   "id": "e5958b98",
   "metadata": {},
   "outputs": [],
   "source": [
    "data_bulk.columns = data_bulk.columns.str.lower().str.replace(' ', '_')"
   ]
  },
  {
   "cell_type": "code",
   "execution_count": 40,
   "id": "2d8a7dd8",
   "metadata": {},
   "outputs": [
    {
     "data": {
      "text/html": [
       "<div>\n",
       "<style scoped>\n",
       "    .dataframe tbody tr th:only-of-type {\n",
       "        vertical-align: middle;\n",
       "    }\n",
       "\n",
       "    .dataframe tbody tr th {\n",
       "        vertical-align: top;\n",
       "    }\n",
       "\n",
       "    .dataframe thead th {\n",
       "        text-align: right;\n",
       "    }\n",
       "</style>\n",
       "<table border=\"1\" class=\"dataframe\">\n",
       "  <thead>\n",
       "    <tr style=\"text-align: right;\">\n",
       "      <th></th>\n",
       "      <th>key</th>\n",
       "      <th>bulk_1</th>\n",
       "      <th>bulk_2</th>\n",
       "      <th>bulk_3</th>\n",
       "      <th>bulk_4</th>\n",
       "      <th>bulk_5</th>\n",
       "      <th>bulk_6</th>\n",
       "      <th>bulk_7</th>\n",
       "      <th>bulk_8</th>\n",
       "      <th>bulk_9</th>\n",
       "      <th>bulk_10</th>\n",
       "      <th>bulk_11</th>\n",
       "      <th>bulk_12</th>\n",
       "      <th>bulk_13</th>\n",
       "      <th>bulk_14</th>\n",
       "      <th>bulk_15</th>\n",
       "    </tr>\n",
       "  </thead>\n",
       "  <tbody>\n",
       "    <tr>\n",
       "      <th>0</th>\n",
       "      <td>1</td>\n",
       "      <td>NaN</td>\n",
       "      <td>NaN</td>\n",
       "      <td>NaN</td>\n",
       "      <td>43.0</td>\n",
       "      <td>NaN</td>\n",
       "      <td>NaN</td>\n",
       "      <td>NaN</td>\n",
       "      <td>NaN</td>\n",
       "      <td>NaN</td>\n",
       "      <td>NaN</td>\n",
       "      <td>NaN</td>\n",
       "      <td>206.0</td>\n",
       "      <td>NaN</td>\n",
       "      <td>150.0</td>\n",
       "      <td>154.0</td>\n",
       "    </tr>\n",
       "  </tbody>\n",
       "</table>\n",
       "</div>"
      ],
      "text/plain": [
       "   key  bulk_1  bulk_2  bulk_3  bulk_4  bulk_5  bulk_6  bulk_7  bulk_8   \n",
       "0    1     NaN     NaN     NaN    43.0     NaN     NaN     NaN     NaN  \\\n",
       "\n",
       "   bulk_9  bulk_10  bulk_11  bulk_12  bulk_13  bulk_14  bulk_15  \n",
       "0     NaN      NaN      NaN    206.0      NaN    150.0    154.0  "
      ]
     },
     "execution_count": 40,
     "metadata": {},
     "output_type": "execute_result"
    }
   ],
   "source": [
    "data_bulk.head(1)"
   ]
  },
  {
   "cell_type": "markdown",
   "id": "c238da15",
   "metadata": {},
   "source": [
    "По рекомендациям заказчика удалим признаки, в которых изначально имеется более 80% пропущенных значений, также заполним оставшиеся пропущенные значения нулями. Все столбцы, кроме bulk_12, bulk_14"
   ]
  },
  {
   "cell_type": "code",
   "execution_count": 41,
   "id": "a430ed90",
   "metadata": {},
   "outputs": [],
   "source": [
    "data_bulk = data_bulk.drop(['bulk_1', 'bulk_2',\n",
    "                            'bulk_3', 'bulk_4',\n",
    "                            'bulk_5', 'bulk_6',\n",
    "                            'bulk_7', 'bulk_8',\n",
    "                            'bulk_9', 'bulk_10',\n",
    "                            'bulk_11', 'bulk_13', 'bulk_15'], axis=1)\n",
    "data_bulk = data_bulk.fillna(0)"
   ]
  },
  {
   "cell_type": "code",
   "execution_count": 42,
   "id": "f25b57d9",
   "metadata": {},
   "outputs": [
    {
     "data": {
      "text/plain": [
       "(3129, 3)"
      ]
     },
     "metadata": {},
     "output_type": "display_data"
    },
    {
     "data": {
      "text/html": [
       "<div>\n",
       "<style scoped>\n",
       "    .dataframe tbody tr th:only-of-type {\n",
       "        vertical-align: middle;\n",
       "    }\n",
       "\n",
       "    .dataframe tbody tr th {\n",
       "        vertical-align: top;\n",
       "    }\n",
       "\n",
       "    .dataframe thead th {\n",
       "        text-align: right;\n",
       "    }\n",
       "</style>\n",
       "<table border=\"1\" class=\"dataframe\">\n",
       "  <thead>\n",
       "    <tr style=\"text-align: right;\">\n",
       "      <th></th>\n",
       "      <th>key</th>\n",
       "      <th>bulk_12</th>\n",
       "      <th>bulk_14</th>\n",
       "    </tr>\n",
       "  </thead>\n",
       "  <tbody>\n",
       "    <tr>\n",
       "      <th>0</th>\n",
       "      <td>1</td>\n",
       "      <td>206.0</td>\n",
       "      <td>150.0</td>\n",
       "    </tr>\n",
       "    <tr>\n",
       "      <th>1</th>\n",
       "      <td>2</td>\n",
       "      <td>206.0</td>\n",
       "      <td>149.0</td>\n",
       "    </tr>\n",
       "    <tr>\n",
       "      <th>2</th>\n",
       "      <td>3</td>\n",
       "      <td>205.0</td>\n",
       "      <td>152.0</td>\n",
       "    </tr>\n",
       "    <tr>\n",
       "      <th>3</th>\n",
       "      <td>4</td>\n",
       "      <td>207.0</td>\n",
       "      <td>153.0</td>\n",
       "    </tr>\n",
       "    <tr>\n",
       "      <th>4</th>\n",
       "      <td>5</td>\n",
       "      <td>203.0</td>\n",
       "      <td>151.0</td>\n",
       "    </tr>\n",
       "  </tbody>\n",
       "</table>\n",
       "</div>"
      ],
      "text/plain": [
       "   key  bulk_12  bulk_14\n",
       "0    1    206.0    150.0\n",
       "1    2    206.0    149.0\n",
       "2    3    205.0    152.0\n",
       "3    4    207.0    153.0\n",
       "4    5    203.0    151.0"
      ]
     },
     "metadata": {},
     "output_type": "display_data"
    },
    {
     "data": {
      "text/plain": [
       "key        0\n",
       "bulk_12    0\n",
       "bulk_14    0\n",
       "dtype: int64"
      ]
     },
     "metadata": {},
     "output_type": "display_data"
    }
   ],
   "source": [
    "display(data_bulk.shape)\n",
    "display(data_bulk.head(5))\n",
    "display(data_bulk.isna().sum())"
   ]
  },
  {
   "cell_type": "code",
   "execution_count": 43,
   "id": "2d7a2991",
   "metadata": {},
   "outputs": [
    {
     "data": {
      "image/png": "[encoded data removed]",
      "text/plain": [
       "<Figure size 1000x400 with 1 Axes>"
      ]
     },
     "metadata": {},
     "output_type": "display_data"
    }
   ],
   "source": [
    "fig, ax = plt.subplots(figsize=(10, 4))\n",
    "sns.boxplot(data=data_bulk.iloc[:,1:3], orient='h')\n",
    "plt.ylabel('Сыпучий материал')\n",
    "plt.xlabel('Объем')\n",
    "plt.title('Распределение объема сыпучих материалов');"
   ]
  },
  {
   "cell_type": "markdown",
   "id": "dc378156",
   "metadata": {},
   "source": [
    "**Вывод:**\n",
    "\n",
    "В результате предобработки данных датасета о подаче сыпучих материалов (объём):\n",
    "\n",
    "1. По рекомендациям заказчика удалены признаки, в которых изначально имеется более 80% пропущенных значений, также заполним оставшиеся пропущенные значения нулями. Все столбцы, кроме bulk_12, bulk_14\n",
    "2. Пропущенные значения заполнены нулями"
   ]
  },
  {
   "cell_type": "markdown",
   "id": "25cf59f5",
   "metadata": {},
   "source": [
    "**Файл data_gas_new.csv — данные о продувке сплава газом**"
   ]
  },
  {
   "cell_type": "code",
   "execution_count": 44,
   "id": "58fdf051",
   "metadata": {},
   "outputs": [
    {
     "data": {
      "text/html": [
       "<div>\n",
       "<style scoped>\n",
       "    .dataframe tbody tr th:only-of-type {\n",
       "        vertical-align: middle;\n",
       "    }\n",
       "\n",
       "    .dataframe tbody tr th {\n",
       "        vertical-align: top;\n",
       "    }\n",
       "\n",
       "    .dataframe thead th {\n",
       "        text-align: right;\n",
       "    }\n",
       "</style>\n",
       "<table border=\"1\" class=\"dataframe\">\n",
       "  <thead>\n",
       "    <tr style=\"text-align: right;\">\n",
       "      <th></th>\n",
       "      <th>key</th>\n",
       "      <th>Газ 1</th>\n",
       "    </tr>\n",
       "  </thead>\n",
       "  <tbody>\n",
       "    <tr>\n",
       "      <th>0</th>\n",
       "      <td>1</td>\n",
       "      <td>29.749986</td>\n",
       "    </tr>\n",
       "    <tr>\n",
       "      <th>1</th>\n",
       "      <td>2</td>\n",
       "      <td>12.555561</td>\n",
       "    </tr>\n",
       "    <tr>\n",
       "      <th>2</th>\n",
       "      <td>3</td>\n",
       "      <td>28.554793</td>\n",
       "    </tr>\n",
       "    <tr>\n",
       "      <th>3</th>\n",
       "      <td>4</td>\n",
       "      <td>18.841219</td>\n",
       "    </tr>\n",
       "    <tr>\n",
       "      <th>4</th>\n",
       "      <td>5</td>\n",
       "      <td>5.413692</td>\n",
       "    </tr>\n",
       "  </tbody>\n",
       "</table>\n",
       "</div>"
      ],
      "text/plain": [
       "   key      Газ 1\n",
       "0    1  29.749986\n",
       "1    2  12.555561\n",
       "2    3  28.554793\n",
       "3    4  18.841219\n",
       "4    5   5.413692"
      ]
     },
     "execution_count": 44,
     "metadata": {},
     "output_type": "execute_result"
    }
   ],
   "source": [
    "data_gas.head(5)"
   ]
  },
  {
   "cell_type": "code",
   "execution_count": 45,
   "id": "b30979ab",
   "metadata": {},
   "outputs": [],
   "source": [
    "data_gas = data_gas.rename(\n",
    "    columns={\n",
    "        'Газ 1':'gas_1'\n",
    "    }\n",
    ")"
   ]
  },
  {
   "cell_type": "code",
   "execution_count": 46,
   "id": "878fa6cd",
   "metadata": {},
   "outputs": [
    {
     "data": {
      "text/html": [
       "<div>\n",
       "<style scoped>\n",
       "    .dataframe tbody tr th:only-of-type {\n",
       "        vertical-align: middle;\n",
       "    }\n",
       "\n",
       "    .dataframe tbody tr th {\n",
       "        vertical-align: top;\n",
       "    }\n",
       "\n",
       "    .dataframe thead th {\n",
       "        text-align: right;\n",
       "    }\n",
       "</style>\n",
       "<table border=\"1\" class=\"dataframe\">\n",
       "  <thead>\n",
       "    <tr style=\"text-align: right;\">\n",
       "      <th></th>\n",
       "      <th>key</th>\n",
       "      <th>gas_1</th>\n",
       "    </tr>\n",
       "  </thead>\n",
       "  <tbody>\n",
       "    <tr>\n",
       "      <th>0</th>\n",
       "      <td>1</td>\n",
       "      <td>29.749986</td>\n",
       "    </tr>\n",
       "    <tr>\n",
       "      <th>1</th>\n",
       "      <td>2</td>\n",
       "      <td>12.555561</td>\n",
       "    </tr>\n",
       "  </tbody>\n",
       "</table>\n",
       "</div>"
      ],
      "text/plain": [
       "   key      gas_1\n",
       "0    1  29.749986\n",
       "1    2  12.555561"
      ]
     },
     "execution_count": 46,
     "metadata": {},
     "output_type": "execute_result"
    }
   ],
   "source": [
    "data_gas.head(2)"
   ]
  },
  {
   "cell_type": "markdown",
   "id": "a26430e5",
   "metadata": {},
   "source": [
    "**Файл data_temp_new.csv — результаты измерения температуры**"
   ]
  },
  {
   "cell_type": "code",
   "execution_count": 47,
   "id": "1fb94238",
   "metadata": {},
   "outputs": [
    {
     "data": {
      "text/html": [
       "<div>\n",
       "<style scoped>\n",
       "    .dataframe tbody tr th:only-of-type {\n",
       "        vertical-align: middle;\n",
       "    }\n",
       "\n",
       "    .dataframe tbody tr th {\n",
       "        vertical-align: top;\n",
       "    }\n",
       "\n",
       "    .dataframe thead th {\n",
       "        text-align: right;\n",
       "    }\n",
       "</style>\n",
       "<table border=\"1\" class=\"dataframe\">\n",
       "  <thead>\n",
       "    <tr style=\"text-align: right;\">\n",
       "      <th></th>\n",
       "      <th>key</th>\n",
       "      <th>Время замера</th>\n",
       "      <th>Температура</th>\n",
       "    </tr>\n",
       "  </thead>\n",
       "  <tbody>\n",
       "    <tr>\n",
       "      <th>0</th>\n",
       "      <td>1</td>\n",
       "      <td>2019-05-03 11:02:04</td>\n",
       "      <td>1571.0</td>\n",
       "    </tr>\n",
       "    <tr>\n",
       "      <th>1</th>\n",
       "      <td>1</td>\n",
       "      <td>2019-05-03 11:07:18</td>\n",
       "      <td>1604.0</td>\n",
       "    </tr>\n",
       "    <tr>\n",
       "      <th>2</th>\n",
       "      <td>1</td>\n",
       "      <td>2019-05-03 11:11:34</td>\n",
       "      <td>1618.0</td>\n",
       "    </tr>\n",
       "    <tr>\n",
       "      <th>3</th>\n",
       "      <td>1</td>\n",
       "      <td>2019-05-03 11:18:04</td>\n",
       "      <td>1601.0</td>\n",
       "    </tr>\n",
       "    <tr>\n",
       "      <th>4</th>\n",
       "      <td>1</td>\n",
       "      <td>2019-05-03 11:25:59</td>\n",
       "      <td>1606.0</td>\n",
       "    </tr>\n",
       "  </tbody>\n",
       "</table>\n",
       "</div>"
      ],
      "text/plain": [
       "   key         Время замера  Температура\n",
       "0    1  2019-05-03 11:02:04       1571.0\n",
       "1    1  2019-05-03 11:07:18       1604.0\n",
       "2    1  2019-05-03 11:11:34       1618.0\n",
       "3    1  2019-05-03 11:18:04       1601.0\n",
       "4    1  2019-05-03 11:25:59       1606.0"
      ]
     },
     "execution_count": 47,
     "metadata": {},
     "output_type": "execute_result"
    }
   ],
   "source": [
    "data_temp.head(5)"
   ]
  },
  {
   "cell_type": "markdown",
   "id": "6d4e8f48",
   "metadata": {},
   "source": [
    "Переименуем столбцы и приведем к формату даты:"
   ]
  },
  {
   "cell_type": "code",
   "execution_count": 48,
   "id": "4526a428",
   "metadata": {},
   "outputs": [],
   "source": [
    "data_temp = data_temp.rename(\n",
    "    columns={\n",
    "        'Время замера':'measuring_time',\n",
    "        'Температура': 'temperature'\n",
    "    }\n",
    ")\n",
    "data_temp['measuring_time'] = pd.to_datetime(data_temp['measuring_time'], format='%Y-%m-%d %H:%M:%S')"
   ]
  },
  {
   "cell_type": "code",
   "execution_count": 49,
   "id": "683bd512",
   "metadata": {},
   "outputs": [
    {
     "data": {
      "text/html": [
       "<div>\n",
       "<style scoped>\n",
       "    .dataframe tbody tr th:only-of-type {\n",
       "        vertical-align: middle;\n",
       "    }\n",
       "\n",
       "    .dataframe tbody tr th {\n",
       "        vertical-align: top;\n",
       "    }\n",
       "\n",
       "    .dataframe thead th {\n",
       "        text-align: right;\n",
       "    }\n",
       "</style>\n",
       "<table border=\"1\" class=\"dataframe\">\n",
       "  <thead>\n",
       "    <tr style=\"text-align: right;\">\n",
       "      <th></th>\n",
       "      <th>key</th>\n",
       "      <th>measuring_time</th>\n",
       "      <th>temperature</th>\n",
       "    </tr>\n",
       "  </thead>\n",
       "  <tbody>\n",
       "    <tr>\n",
       "      <th>0</th>\n",
       "      <td>1</td>\n",
       "      <td>2019-05-03 11:02:04</td>\n",
       "      <td>1571.0</td>\n",
       "    </tr>\n",
       "    <tr>\n",
       "      <th>1</th>\n",
       "      <td>1</td>\n",
       "      <td>2019-05-03 11:07:18</td>\n",
       "      <td>1604.0</td>\n",
       "    </tr>\n",
       "    <tr>\n",
       "      <th>2</th>\n",
       "      <td>1</td>\n",
       "      <td>2019-05-03 11:11:34</td>\n",
       "      <td>1618.0</td>\n",
       "    </tr>\n",
       "    <tr>\n",
       "      <th>3</th>\n",
       "      <td>1</td>\n",
       "      <td>2019-05-03 11:18:04</td>\n",
       "      <td>1601.0</td>\n",
       "    </tr>\n",
       "    <tr>\n",
       "      <th>4</th>\n",
       "      <td>1</td>\n",
       "      <td>2019-05-03 11:25:59</td>\n",
       "      <td>1606.0</td>\n",
       "    </tr>\n",
       "  </tbody>\n",
       "</table>\n",
       "</div>"
      ],
      "text/plain": [
       "   key      measuring_time  temperature\n",
       "0    1 2019-05-03 11:02:04       1571.0\n",
       "1    1 2019-05-03 11:07:18       1604.0\n",
       "2    1 2019-05-03 11:11:34       1618.0\n",
       "3    1 2019-05-03 11:18:04       1601.0\n",
       "4    1 2019-05-03 11:25:59       1606.0"
      ]
     },
     "execution_count": 49,
     "metadata": {},
     "output_type": "execute_result"
    }
   ],
   "source": [
    "data_temp.head(5)"
   ]
  },
  {
   "cell_type": "markdown",
   "id": "53d83bb1",
   "metadata": {},
   "source": [
    "Удалим партии с температурой менее 1500, партии где один замер температуры и партии с пропущенными значениями:"
   ]
  },
  {
   "cell_type": "code",
   "execution_count": 50,
   "id": "abcb7724",
   "metadata": {},
   "outputs": [
    {
     "data": {
      "text/html": [
       "<div>\n",
       "<style scoped>\n",
       "    .dataframe tbody tr th:only-of-type {\n",
       "        vertical-align: middle;\n",
       "    }\n",
       "\n",
       "    .dataframe tbody tr th {\n",
       "        vertical-align: top;\n",
       "    }\n",
       "\n",
       "    .dataframe thead th {\n",
       "        text-align: right;\n",
       "    }\n",
       "</style>\n",
       "<table border=\"1\" class=\"dataframe\">\n",
       "  <thead>\n",
       "    <tr style=\"text-align: right;\">\n",
       "      <th></th>\n",
       "      <th>key</th>\n",
       "      <th>measuring_time</th>\n",
       "      <th>temperature</th>\n",
       "    </tr>\n",
       "  </thead>\n",
       "  <tbody>\n",
       "    <tr>\n",
       "      <th>4883</th>\n",
       "      <td>867</td>\n",
       "      <td>2019-06-06 08:03:39</td>\n",
       "      <td>1191.0</td>\n",
       "    </tr>\n",
       "    <tr>\n",
       "      <th>6784</th>\n",
       "      <td>1214</td>\n",
       "      <td>2019-06-18 08:01:03</td>\n",
       "      <td>1208.0</td>\n",
       "    </tr>\n",
       "    <tr>\n",
       "      <th>9050</th>\n",
       "      <td>1619</td>\n",
       "      <td>2019-07-03 02:34:41</td>\n",
       "      <td>1218.0</td>\n",
       "    </tr>\n",
       "    <tr>\n",
       "      <th>11495</th>\n",
       "      <td>2052</td>\n",
       "      <td>2019-07-25 08:49:15</td>\n",
       "      <td>1227.0</td>\n",
       "    </tr>\n",
       "    <tr>\n",
       "      <th>14283</th>\n",
       "      <td>2561</td>\n",
       "      <td>2019-08-12 18:49:29</td>\n",
       "      <td>1204.0</td>\n",
       "    </tr>\n",
       "  </tbody>\n",
       "</table>\n",
       "</div>"
      ],
      "text/plain": [
       "        key      measuring_time  temperature\n",
       "4883    867 2019-06-06 08:03:39       1191.0\n",
       "6784   1214 2019-06-18 08:01:03       1208.0\n",
       "9050   1619 2019-07-03 02:34:41       1218.0\n",
       "11495  2052 2019-07-25 08:49:15       1227.0\n",
       "14283  2561 2019-08-12 18:49:29       1204.0"
      ]
     },
     "execution_count": 50,
     "metadata": {},
     "output_type": "execute_result"
    }
   ],
   "source": [
    "data_temp.query('temperature < 1500')"
   ]
  },
  {
   "cell_type": "code",
   "execution_count": 51,
   "id": "e872fbbb",
   "metadata": {},
   "outputs": [
    {
     "data": {
      "text/plain": [
       "[867, 1214, 1619, 2052, 2561]"
      ]
     },
     "execution_count": 51,
     "metadata": {},
     "output_type": "execute_result"
    }
   ],
   "source": [
    "delete_keys = data_temp.query('temperature < 1500')['key'].tolist()\n",
    "delete_keys"
   ]
  },
  {
   "cell_type": "code",
   "execution_count": 52,
   "id": "1efdd57b",
   "metadata": {},
   "outputs": [],
   "source": [
    "delete_keys += data_temp[data_temp['temperature'].isna()]['key'].unique().tolist()"
   ]
  },
  {
   "cell_type": "code",
   "execution_count": 53,
   "id": "0fbec32b",
   "metadata": {},
   "outputs": [],
   "source": [
    "keys_quantity = data_temp.pivot_table(index='key',\n",
    "                                      values=['temperature'],\n",
    "                                      aggfunc='count').reset_index()"
   ]
  },
  {
   "cell_type": "code",
   "execution_count": 54,
   "id": "aed310a5",
   "metadata": {},
   "outputs": [],
   "source": [
    "delete_keys += keys_quantity.query('temperature < 2')['key'].tolist()"
   ]
  },
  {
   "cell_type": "code",
   "execution_count": 55,
   "id": "69112c80",
   "metadata": {},
   "outputs": [
    {
     "data": {
      "text/plain": [
       "1485"
      ]
     },
     "execution_count": 55,
     "metadata": {},
     "output_type": "execute_result"
    }
   ],
   "source": [
    "len(delete_keys)"
   ]
  },
  {
   "cell_type": "code",
   "execution_count": 56,
   "id": "76db16bd",
   "metadata": {},
   "outputs": [
    {
     "data": {
      "text/plain": [
       "(13903, 3)"
      ]
     },
     "execution_count": 56,
     "metadata": {},
     "output_type": "execute_result"
    }
   ],
   "source": [
    "data_temp = data_temp.query('key not in @delete_keys')\n",
    "data_temp.shape"
   ]
  },
  {
   "cell_type": "code",
   "execution_count": 57,
   "id": "3c579c12",
   "metadata": {},
   "outputs": [
    {
     "data": {
      "text/html": [
       "<div>\n",
       "<style scoped>\n",
       "    .dataframe tbody tr th:only-of-type {\n",
       "        vertical-align: middle;\n",
       "    }\n",
       "\n",
       "    .dataframe tbody tr th {\n",
       "        vertical-align: top;\n",
       "    }\n",
       "\n",
       "    .dataframe thead th {\n",
       "        text-align: right;\n",
       "    }\n",
       "</style>\n",
       "<table border=\"1\" class=\"dataframe\">\n",
       "  <thead>\n",
       "    <tr style=\"text-align: right;\">\n",
       "      <th></th>\n",
       "      <th>key</th>\n",
       "      <th>measuring_time</th>\n",
       "      <th>temperature</th>\n",
       "    </tr>\n",
       "  </thead>\n",
       "  <tbody>\n",
       "    <tr>\n",
       "      <th>0</th>\n",
       "      <td>1</td>\n",
       "      <td>2019-05-03 11:02:04</td>\n",
       "      <td>1571.0</td>\n",
       "    </tr>\n",
       "    <tr>\n",
       "      <th>1</th>\n",
       "      <td>1</td>\n",
       "      <td>2019-05-03 11:07:18</td>\n",
       "      <td>1604.0</td>\n",
       "    </tr>\n",
       "  </tbody>\n",
       "</table>\n",
       "</div>"
      ],
      "text/plain": [
       "   key      measuring_time  temperature\n",
       "0    1 2019-05-03 11:02:04       1571.0\n",
       "1    1 2019-05-03 11:07:18       1604.0"
      ]
     },
     "execution_count": 57,
     "metadata": {},
     "output_type": "execute_result"
    }
   ],
   "source": [
    "data_temp.head(2)"
   ]
  },
  {
   "cell_type": "markdown",
   "id": "778aa4c9",
   "metadata": {},
   "source": [
    "Определение начальной и конечной температур замеров:"
   ]
  },
  {
   "cell_type": "code",
   "execution_count": 58,
   "id": "4e3bfaef",
   "metadata": {},
   "outputs": [
    {
     "data": {
      "text/html": [
       "<div>\n",
       "<style scoped>\n",
       "    .dataframe tbody tr th:only-of-type {\n",
       "        vertical-align: middle;\n",
       "    }\n",
       "\n",
       "    .dataframe tbody tr th {\n",
       "        vertical-align: top;\n",
       "    }\n",
       "\n",
       "    .dataframe thead th {\n",
       "        text-align: right;\n",
       "    }\n",
       "</style>\n",
       "<table border=\"1\" class=\"dataframe\">\n",
       "  <thead>\n",
       "    <tr style=\"text-align: right;\">\n",
       "      <th></th>\n",
       "      <th>key</th>\n",
       "      <th>first_temperture</th>\n",
       "      <th>last_temperature</th>\n",
       "    </tr>\n",
       "  </thead>\n",
       "  <tbody>\n",
       "    <tr>\n",
       "      <th>0</th>\n",
       "      <td>1</td>\n",
       "      <td>1571.0</td>\n",
       "      <td>1613.0</td>\n",
       "    </tr>\n",
       "    <tr>\n",
       "      <th>1</th>\n",
       "      <td>2</td>\n",
       "      <td>1581.0</td>\n",
       "      <td>1602.0</td>\n",
       "    </tr>\n",
       "    <tr>\n",
       "      <th>2</th>\n",
       "      <td>3</td>\n",
       "      <td>1596.0</td>\n",
       "      <td>1599.0</td>\n",
       "    </tr>\n",
       "    <tr>\n",
       "      <th>3</th>\n",
       "      <td>4</td>\n",
       "      <td>1601.0</td>\n",
       "      <td>1625.0</td>\n",
       "    </tr>\n",
       "    <tr>\n",
       "      <th>4</th>\n",
       "      <td>5</td>\n",
       "      <td>1576.0</td>\n",
       "      <td>1602.0</td>\n",
       "    </tr>\n",
       "  </tbody>\n",
       "</table>\n",
       "</div>"
      ],
      "text/plain": [
       "   key  first_temperture  last_temperature\n",
       "0    1            1571.0            1613.0\n",
       "1    2            1581.0            1602.0\n",
       "2    3            1596.0            1599.0\n",
       "3    4            1601.0            1625.0\n",
       "4    5            1576.0            1602.0"
      ]
     },
     "execution_count": 58,
     "metadata": {},
     "output_type": "execute_result"
    }
   ],
   "source": [
    "data_temp = data_temp.sort_values(\n",
    "    by='measuring_time').pivot_table(\n",
    "    index='key', values=['temperature'], aggfunc=['first', 'last']\n",
    ").reset_index()\n",
    "data_temp.columns = ['key', 'first_temperture', 'last_temperature']\n",
    "data_temp.head(5)"
   ]
  },
  {
   "cell_type": "code",
   "execution_count": 59,
   "id": "5270ed4e",
   "metadata": {},
   "outputs": [
    {
     "data": {
      "text/plain": [
       "(2471, 3)"
      ]
     },
     "execution_count": 59,
     "metadata": {},
     "output_type": "execute_result"
    }
   ],
   "source": [
    "data_temp.shape"
   ]
  },
  {
   "cell_type": "code",
   "execution_count": 60,
   "id": "f945410c",
   "metadata": {},
   "outputs": [
    {
     "data": {
      "image/png": "[encoded data removed]",
      "text/plain": [
       "<Figure size 1000x400 with 1 Axes>"
      ]
     },
     "metadata": {},
     "output_type": "display_data"
    }
   ],
   "source": [
    "fig, ax = plt.subplots(figsize=(10, 4))\n",
    "sns.boxplot(data=data_temp.iloc[:,1:3], orient='h')\n",
    "plt.ylabel('Тип температуры')\n",
    "plt.xlabel('Температура')\n",
    "plt.title('Распределение начальной и конечной температуры');"
   ]
  },
  {
   "cell_type": "markdown",
   "id": "76d3d3e1",
   "metadata": {},
   "source": [
    "**Файл data_wire_new.csv — данные о проволочных материалах (объём)**"
   ]
  },
  {
   "cell_type": "code",
   "execution_count": 61,
   "id": "0db2dd6e",
   "metadata": {},
   "outputs": [
    {
     "data": {
      "text/html": [
       "<div>\n",
       "<style scoped>\n",
       "    .dataframe tbody tr th:only-of-type {\n",
       "        vertical-align: middle;\n",
       "    }\n",
       "\n",
       "    .dataframe tbody tr th {\n",
       "        vertical-align: top;\n",
       "    }\n",
       "\n",
       "    .dataframe thead th {\n",
       "        text-align: right;\n",
       "    }\n",
       "</style>\n",
       "<table border=\"1\" class=\"dataframe\">\n",
       "  <thead>\n",
       "    <tr style=\"text-align: right;\">\n",
       "      <th></th>\n",
       "      <th>key</th>\n",
       "      <th>Wire 1</th>\n",
       "      <th>Wire 2</th>\n",
       "      <th>Wire 3</th>\n",
       "      <th>Wire 4</th>\n",
       "      <th>Wire 5</th>\n",
       "      <th>Wire 6</th>\n",
       "      <th>Wire 7</th>\n",
       "      <th>Wire 8</th>\n",
       "      <th>Wire 9</th>\n",
       "    </tr>\n",
       "  </thead>\n",
       "  <tbody>\n",
       "    <tr>\n",
       "      <th>0</th>\n",
       "      <td>1</td>\n",
       "      <td>60.059998</td>\n",
       "      <td>NaN</td>\n",
       "      <td>NaN</td>\n",
       "      <td>NaN</td>\n",
       "      <td>NaN</td>\n",
       "      <td>NaN</td>\n",
       "      <td>NaN</td>\n",
       "      <td>NaN</td>\n",
       "      <td>NaN</td>\n",
       "    </tr>\n",
       "    <tr>\n",
       "      <th>1</th>\n",
       "      <td>2</td>\n",
       "      <td>96.052315</td>\n",
       "      <td>NaN</td>\n",
       "      <td>NaN</td>\n",
       "      <td>NaN</td>\n",
       "      <td>NaN</td>\n",
       "      <td>NaN</td>\n",
       "      <td>NaN</td>\n",
       "      <td>NaN</td>\n",
       "      <td>NaN</td>\n",
       "    </tr>\n",
       "    <tr>\n",
       "      <th>2</th>\n",
       "      <td>3</td>\n",
       "      <td>91.160157</td>\n",
       "      <td>NaN</td>\n",
       "      <td>NaN</td>\n",
       "      <td>NaN</td>\n",
       "      <td>NaN</td>\n",
       "      <td>NaN</td>\n",
       "      <td>NaN</td>\n",
       "      <td>NaN</td>\n",
       "      <td>NaN</td>\n",
       "    </tr>\n",
       "    <tr>\n",
       "      <th>3</th>\n",
       "      <td>4</td>\n",
       "      <td>89.063515</td>\n",
       "      <td>NaN</td>\n",
       "      <td>NaN</td>\n",
       "      <td>NaN</td>\n",
       "      <td>NaN</td>\n",
       "      <td>NaN</td>\n",
       "      <td>NaN</td>\n",
       "      <td>NaN</td>\n",
       "      <td>NaN</td>\n",
       "    </tr>\n",
       "    <tr>\n",
       "      <th>4</th>\n",
       "      <td>5</td>\n",
       "      <td>89.238236</td>\n",
       "      <td>9.11456</td>\n",
       "      <td>NaN</td>\n",
       "      <td>NaN</td>\n",
       "      <td>NaN</td>\n",
       "      <td>NaN</td>\n",
       "      <td>NaN</td>\n",
       "      <td>NaN</td>\n",
       "      <td>NaN</td>\n",
       "    </tr>\n",
       "  </tbody>\n",
       "</table>\n",
       "</div>"
      ],
      "text/plain": [
       "   key     Wire 1   Wire 2  Wire 3  Wire 4  Wire 5  Wire 6  Wire 7  Wire 8   \n",
       "0    1  60.059998      NaN     NaN     NaN     NaN     NaN     NaN     NaN  \\\n",
       "1    2  96.052315      NaN     NaN     NaN     NaN     NaN     NaN     NaN   \n",
       "2    3  91.160157      NaN     NaN     NaN     NaN     NaN     NaN     NaN   \n",
       "3    4  89.063515      NaN     NaN     NaN     NaN     NaN     NaN     NaN   \n",
       "4    5  89.238236  9.11456     NaN     NaN     NaN     NaN     NaN     NaN   \n",
       "\n",
       "   Wire 9  \n",
       "0     NaN  \n",
       "1     NaN  \n",
       "2     NaN  \n",
       "3     NaN  \n",
       "4     NaN  "
      ]
     },
     "execution_count": 61,
     "metadata": {},
     "output_type": "execute_result"
    }
   ],
   "source": [
    "data_wire.head(5)"
   ]
  },
  {
   "cell_type": "code",
   "execution_count": 62,
   "id": "2eb470c2",
   "metadata": {},
   "outputs": [
    {
     "data": {
      "text/html": [
       "<div>\n",
       "<style scoped>\n",
       "    .dataframe tbody tr th:only-of-type {\n",
       "        vertical-align: middle;\n",
       "    }\n",
       "\n",
       "    .dataframe tbody tr th {\n",
       "        vertical-align: top;\n",
       "    }\n",
       "\n",
       "    .dataframe thead th {\n",
       "        text-align: right;\n",
       "    }\n",
       "</style>\n",
       "<table border=\"1\" class=\"dataframe\">\n",
       "  <thead>\n",
       "    <tr style=\"text-align: right;\">\n",
       "      <th></th>\n",
       "      <th>key</th>\n",
       "      <th>wire_1</th>\n",
       "      <th>wire_2</th>\n",
       "      <th>wire_3</th>\n",
       "      <th>wire_4</th>\n",
       "      <th>wire_5</th>\n",
       "      <th>wire_6</th>\n",
       "      <th>wire_7</th>\n",
       "      <th>wire_8</th>\n",
       "      <th>wire_9</th>\n",
       "    </tr>\n",
       "  </thead>\n",
       "  <tbody>\n",
       "    <tr>\n",
       "      <th>0</th>\n",
       "      <td>1</td>\n",
       "      <td>60.059998</td>\n",
       "      <td>NaN</td>\n",
       "      <td>NaN</td>\n",
       "      <td>NaN</td>\n",
       "      <td>NaN</td>\n",
       "      <td>NaN</td>\n",
       "      <td>NaN</td>\n",
       "      <td>NaN</td>\n",
       "      <td>NaN</td>\n",
       "    </tr>\n",
       "    <tr>\n",
       "      <th>1</th>\n",
       "      <td>2</td>\n",
       "      <td>96.052315</td>\n",
       "      <td>NaN</td>\n",
       "      <td>NaN</td>\n",
       "      <td>NaN</td>\n",
       "      <td>NaN</td>\n",
       "      <td>NaN</td>\n",
       "      <td>NaN</td>\n",
       "      <td>NaN</td>\n",
       "      <td>NaN</td>\n",
       "    </tr>\n",
       "  </tbody>\n",
       "</table>\n",
       "</div>"
      ],
      "text/plain": [
       "   key     wire_1  wire_2  wire_3  wire_4  wire_5  wire_6  wire_7  wire_8   \n",
       "0    1  60.059998     NaN     NaN     NaN     NaN     NaN     NaN     NaN  \\\n",
       "1    2  96.052315     NaN     NaN     NaN     NaN     NaN     NaN     NaN   \n",
       "\n",
       "   wire_9  \n",
       "0     NaN  \n",
       "1     NaN  "
      ]
     },
     "execution_count": 62,
     "metadata": {},
     "output_type": "execute_result"
    }
   ],
   "source": [
    "data_wire.columns = data_wire.columns.str.lower().str.replace(' ', '_')\n",
    "data_wire.head(2)"
   ]
  },
  {
   "cell_type": "markdown",
   "id": "00f46a8a",
   "metadata": {},
   "source": [
    "По рекомендациям заказчика удалим признаки, в которых изначально имеется более 80% пропущенных значений, также заполним оставшиеся пропущенные значения нулями. Все столбцы, кроме wire_1"
   ]
  },
  {
   "cell_type": "code",
   "execution_count": 63,
   "id": "cf694237",
   "metadata": {},
   "outputs": [
    {
     "data": {
      "text/plain": [
       "Index(['key', 'wire_1', 'wire_2', 'wire_3', 'wire_4', 'wire_5', 'wire_6',\n",
       "       'wire_7', 'wire_8', 'wire_9'],\n",
       "      dtype='object')"
      ]
     },
     "execution_count": 63,
     "metadata": {},
     "output_type": "execute_result"
    }
   ],
   "source": [
    "data_wire.columns"
   ]
  },
  {
   "cell_type": "code",
   "execution_count": 64,
   "id": "5f0f8e30",
   "metadata": {},
   "outputs": [],
   "source": [
    "data_wire = data_wire.drop(['wire_2', 'wire_3', 'wire_4',\n",
    "                            'wire_5', 'wire_6', 'wire_7',\n",
    "                            'wire_8', 'wire_9'], axis=1)\n",
    "data_wire = data_wire.fillna(0)"
   ]
  },
  {
   "cell_type": "code",
   "execution_count": 65,
   "id": "789422c2",
   "metadata": {},
   "outputs": [
    {
     "data": {
      "text/plain": [
       "(3081, 2)"
      ]
     },
     "metadata": {},
     "output_type": "display_data"
    },
    {
     "data": {
      "text/html": [
       "<div>\n",
       "<style scoped>\n",
       "    .dataframe tbody tr th:only-of-type {\n",
       "        vertical-align: middle;\n",
       "    }\n",
       "\n",
       "    .dataframe tbody tr th {\n",
       "        vertical-align: top;\n",
       "    }\n",
       "\n",
       "    .dataframe thead th {\n",
       "        text-align: right;\n",
       "    }\n",
       "</style>\n",
       "<table border=\"1\" class=\"dataframe\">\n",
       "  <thead>\n",
       "    <tr style=\"text-align: right;\">\n",
       "      <th></th>\n",
       "      <th>key</th>\n",
       "      <th>wire_1</th>\n",
       "    </tr>\n",
       "  </thead>\n",
       "  <tbody>\n",
       "    <tr>\n",
       "      <th>0</th>\n",
       "      <td>1</td>\n",
       "      <td>60.059998</td>\n",
       "    </tr>\n",
       "    <tr>\n",
       "      <th>1</th>\n",
       "      <td>2</td>\n",
       "      <td>96.052315</td>\n",
       "    </tr>\n",
       "    <tr>\n",
       "      <th>2</th>\n",
       "      <td>3</td>\n",
       "      <td>91.160157</td>\n",
       "    </tr>\n",
       "    <tr>\n",
       "      <th>3</th>\n",
       "      <td>4</td>\n",
       "      <td>89.063515</td>\n",
       "    </tr>\n",
       "    <tr>\n",
       "      <th>4</th>\n",
       "      <td>5</td>\n",
       "      <td>89.238236</td>\n",
       "    </tr>\n",
       "  </tbody>\n",
       "</table>\n",
       "</div>"
      ],
      "text/plain": [
       "   key     wire_1\n",
       "0    1  60.059998\n",
       "1    2  96.052315\n",
       "2    3  91.160157\n",
       "3    4  89.063515\n",
       "4    5  89.238236"
      ]
     },
     "metadata": {},
     "output_type": "display_data"
    },
    {
     "data": {
      "text/plain": [
       "key       0\n",
       "wire_1    0\n",
       "dtype: int64"
      ]
     },
     "metadata": {},
     "output_type": "display_data"
    }
   ],
   "source": [
    "display(data_wire.shape)\n",
    "display(data_wire.head(5))\n",
    "display(data_wire.isna().sum())"
   ]
  },
  {
   "cell_type": "code",
   "execution_count": 66,
   "id": "e0dc55bf",
   "metadata": {},
   "outputs": [
    {
     "data": {
      "image/png": "[encoded data removed]",
      "text/plain": [
       "<Figure size 1000x400 with 1 Axes>"
      ]
     },
     "metadata": {},
     "output_type": "display_data"
    }
   ],
   "source": [
    "fig, ax = plt.subplots(figsize=(10, 4))\n",
    "sns.boxplot(data=data_wire.iloc[:,1:2], orient='h')\n",
    "plt.ylabel('Тип проволочного материала')\n",
    "plt.xlabel('Объем')\n",
    "plt.title('Распределение объема проволочного материала');"
   ]
  },
  {
   "cell_type": "markdown",
   "id": "b93ecacc",
   "metadata": {},
   "source": [
    "####  Вывод по предобработке данных"
   ]
  },
  {
   "cell_type": "markdown",
   "id": "0ab9d212",
   "metadata": {},
   "source": [
    "**Файл data_arc_new.csv — данные об электродах**\n",
    "\n",
    "1. Переименнованны столбцы по правилам PEP8\n",
    "\n",
    "2. Удалены данные партий с отрицательной реактивной мощностью:\n",
    "\n",
    "3. Произведен расчет полной мощности и добавлен в новый столбец\n",
    "\n",
    "4. Произведен расчет времени нагрева в секундах, а также полной энергии, данные добавлены в новые столбцы\n",
    "\n",
    "5. Объединенны данные по номеру партии, в сводной таблице с расчетом и сумм энергии, мощностей, времени нагревания, а также произведем расчет количество циклов нагрева\n",
    "\n",
    "6. В результате полной предобработки данных датасета с данными об электродах, получили новый датафрем размерностью 3213 строку и 7 столбцов, содержащий новые признаки:\n",
    "\n",
    "- 'full_power' - полная мощность;\n",
    "- 'heating_time' - время нагрева (секунды);\n",
    "- 'full_energy' - полная энергия;\n",
    "- 'number_of_heating' количество циклов нагрева каждой партии\n",
    "\n",
    "**Файл data_bulk_new.csv - данные о подаче сыпучих материалов (объём)**\n",
    "\n",
    "1. Переименнованны столбцы по правилам PEP8\n",
    "\n",
    "2. По рекомендациям заказчика удаленны признаки, в которых изначально имеется более 80% пропущенных значений, также заполненны оставшиеся пропущенные значения нулями. Все столбцы, кроме bulk_12, bulk_14\n",
    "\n",
    "3. В результате полной предобработки данных датасета, получили новый датафрем размерностью 3129 строку и 3 столбца\n",
    "\n",
    "\n",
    "**Файл data_gas_new.csv — данные о продувке сплава газом**\n",
    "\n",
    "1. Переименнованны столбцы по правилам PEP8\n",
    "\n",
    "2. Явные дополнительные преобразования не требуется, анализ выбросов по реколмендации заказчика произведем после создания тренировочной выборки\n",
    "\n",
    "**Файл data_temp_new.csv — результаты измерения температуры**\n",
    "\n",
    "1. Переименнованны столбцы по правилам PEP8\n",
    "\n",
    "2. Удалены партии с температурой менее 1500, партии где один замер температуры и партии с пропущенными значениями:\n",
    "\n",
    "3. Выполнено определение начальной и конечной температур замеров:\n",
    "\n",
    "4. В результате полной предобработки данных датасета, получили новый датафрем размерностью 2471 строку и 3 столбца\n",
    "\n",
    "\n",
    "**Файл data_wire_new.csv — данные о проволочных материалах (объём)**\n",
    "\n",
    "1. Переименнованны столбцы по правилам PEP8\n",
    "\n",
    "2. По рекомендациям заказчика удаленны признаки, в которых изначально имеется более 80% пропущенных значений, также заполним оставшиеся пропущенные значения нулями. Все столбцы, кроме wire_1\n",
    "\n",
    "3. В результате полной предобработки данных датасета, получили новый датафрем размерностью 3081 строку и 2 столбца\n"
   ]
  },
  {
   "cell_type": "markdown",
   "id": "cebde721",
   "metadata": {},
   "source": [
    "### Объединение таблиц"
   ]
  },
  {
   "cell_type": "markdown",
   "id": "e24d264a",
   "metadata": {},
   "source": [
    "Используем объединение данных по ключу методом INNER (т.е. берем только те партии, которые представлены во всех таблицах). В объединённом датафрейме должно остаться не более 2332 ключей."
   ]
  },
  {
   "cell_type": "code",
   "execution_count": 67,
   "id": "f9f347e6",
   "metadata": {},
   "outputs": [],
   "source": [
    "data = data_arc.merge(data_bulk, on='key', how='inner').merge(data_gas, on='key', how='inner'). \\\n",
    "merge(data_temp, on='key', how='inner').merge(data_wire, on='key', how='inner')"
   ]
  },
  {
   "cell_type": "code",
   "execution_count": 68,
   "id": "0c6ad466",
   "metadata": {},
   "outputs": [
    {
     "data": {
      "text/plain": [
       "(2324, 13)"
      ]
     },
     "execution_count": 68,
     "metadata": {},
     "output_type": "execute_result"
    }
   ],
   "source": [
    "data.shape"
   ]
  },
  {
   "cell_type": "code",
   "execution_count": 69,
   "id": "cf57b30e",
   "metadata": {},
   "outputs": [
    {
     "data": {
      "text/html": [
       "<div>\n",
       "<style scoped>\n",
       "    .dataframe tbody tr th:only-of-type {\n",
       "        vertical-align: middle;\n",
       "    }\n",
       "\n",
       "    .dataframe tbody tr th {\n",
       "        vertical-align: top;\n",
       "    }\n",
       "\n",
       "    .dataframe thead th {\n",
       "        text-align: right;\n",
       "    }\n",
       "</style>\n",
       "<table border=\"1\" class=\"dataframe\">\n",
       "  <thead>\n",
       "    <tr style=\"text-align: right;\">\n",
       "      <th></th>\n",
       "      <th>key</th>\n",
       "      <th>active_power</th>\n",
       "      <th>reactive_power</th>\n",
       "      <th>full_power</th>\n",
       "      <th>heating_time</th>\n",
       "      <th>full_energy</th>\n",
       "      <th>number_of_heating</th>\n",
       "      <th>bulk_12</th>\n",
       "      <th>bulk_14</th>\n",
       "      <th>gas_1</th>\n",
       "      <th>first_temperture</th>\n",
       "      <th>last_temperature</th>\n",
       "      <th>wire_1</th>\n",
       "    </tr>\n",
       "  </thead>\n",
       "  <tbody>\n",
       "    <tr>\n",
       "      <th>0</th>\n",
       "      <td>1</td>\n",
       "      <td>3.036730</td>\n",
       "      <td>2.142821</td>\n",
       "      <td>3.718736</td>\n",
       "      <td>1098</td>\n",
       "      <td>770.282114</td>\n",
       "      <td>5</td>\n",
       "      <td>206.0</td>\n",
       "      <td>150.0</td>\n",
       "      <td>29.749986</td>\n",
       "      <td>1571.0</td>\n",
       "      <td>1613.0</td>\n",
       "      <td>60.059998</td>\n",
       "    </tr>\n",
       "    <tr>\n",
       "      <th>1</th>\n",
       "      <td>2</td>\n",
       "      <td>2.139408</td>\n",
       "      <td>1.453357</td>\n",
       "      <td>2.588349</td>\n",
       "      <td>811</td>\n",
       "      <td>481.760005</td>\n",
       "      <td>4</td>\n",
       "      <td>206.0</td>\n",
       "      <td>149.0</td>\n",
       "      <td>12.555561</td>\n",
       "      <td>1581.0</td>\n",
       "      <td>1602.0</td>\n",
       "      <td>96.052315</td>\n",
       "    </tr>\n",
       "    <tr>\n",
       "      <th>2</th>\n",
       "      <td>3</td>\n",
       "      <td>4.063641</td>\n",
       "      <td>2.937457</td>\n",
       "      <td>5.019223</td>\n",
       "      <td>655</td>\n",
       "      <td>722.837668</td>\n",
       "      <td>5</td>\n",
       "      <td>205.0</td>\n",
       "      <td>152.0</td>\n",
       "      <td>28.554793</td>\n",
       "      <td>1596.0</td>\n",
       "      <td>1599.0</td>\n",
       "      <td>91.160157</td>\n",
       "    </tr>\n",
       "    <tr>\n",
       "      <th>3</th>\n",
       "      <td>4</td>\n",
       "      <td>2.706489</td>\n",
       "      <td>2.056992</td>\n",
       "      <td>3.400038</td>\n",
       "      <td>741</td>\n",
       "      <td>683.455597</td>\n",
       "      <td>4</td>\n",
       "      <td>207.0</td>\n",
       "      <td>153.0</td>\n",
       "      <td>18.841219</td>\n",
       "      <td>1601.0</td>\n",
       "      <td>1625.0</td>\n",
       "      <td>89.063515</td>\n",
       "    </tr>\n",
       "    <tr>\n",
       "      <th>4</th>\n",
       "      <td>5</td>\n",
       "      <td>2.252950</td>\n",
       "      <td>1.687991</td>\n",
       "      <td>2.816980</td>\n",
       "      <td>869</td>\n",
       "      <td>512.169934</td>\n",
       "      <td>4</td>\n",
       "      <td>203.0</td>\n",
       "      <td>151.0</td>\n",
       "      <td>5.413692</td>\n",
       "      <td>1576.0</td>\n",
       "      <td>1602.0</td>\n",
       "      <td>89.238236</td>\n",
       "    </tr>\n",
       "  </tbody>\n",
       "</table>\n",
       "</div>"
      ],
      "text/plain": [
       "   key  active_power  reactive_power  full_power  heating_time  full_energy   \n",
       "0    1      3.036730        2.142821    3.718736          1098   770.282114  \\\n",
       "1    2      2.139408        1.453357    2.588349           811   481.760005   \n",
       "2    3      4.063641        2.937457    5.019223           655   722.837668   \n",
       "3    4      2.706489        2.056992    3.400038           741   683.455597   \n",
       "4    5      2.252950        1.687991    2.816980           869   512.169934   \n",
       "\n",
       "   number_of_heating  bulk_12  bulk_14      gas_1  first_temperture   \n",
       "0                  5    206.0    150.0  29.749986            1571.0  \\\n",
       "1                  4    206.0    149.0  12.555561            1581.0   \n",
       "2                  5    205.0    152.0  28.554793            1596.0   \n",
       "3                  4    207.0    153.0  18.841219            1601.0   \n",
       "4                  4    203.0    151.0   5.413692            1576.0   \n",
       "\n",
       "   last_temperature     wire_1  \n",
       "0            1613.0  60.059998  \n",
       "1            1602.0  96.052315  \n",
       "2            1599.0  91.160157  \n",
       "3            1625.0  89.063515  \n",
       "4            1602.0  89.238236  "
      ]
     },
     "execution_count": 69,
     "metadata": {},
     "output_type": "execute_result"
    }
   ],
   "source": [
    "data.head(5)"
   ]
  },
  {
   "cell_type": "code",
   "execution_count": 70,
   "id": "e81c009d",
   "metadata": {},
   "outputs": [
    {
     "data": {
      "text/html": [
       "<div>\n",
       "<style scoped>\n",
       "    .dataframe tbody tr th:only-of-type {\n",
       "        vertical-align: middle;\n",
       "    }\n",
       "\n",
       "    .dataframe tbody tr th {\n",
       "        vertical-align: top;\n",
       "    }\n",
       "\n",
       "    .dataframe thead th {\n",
       "        text-align: right;\n",
       "    }\n",
       "</style>\n",
       "<table border=\"1\" class=\"dataframe\">\n",
       "  <thead>\n",
       "    <tr style=\"text-align: right;\">\n",
       "      <th></th>\n",
       "      <th>key</th>\n",
       "      <th>active_power</th>\n",
       "      <th>reactive_power</th>\n",
       "      <th>full_power</th>\n",
       "      <th>heating_time</th>\n",
       "      <th>full_energy</th>\n",
       "      <th>number_of_heating</th>\n",
       "      <th>bulk_12</th>\n",
       "      <th>bulk_14</th>\n",
       "      <th>gas_1</th>\n",
       "      <th>first_temperture</th>\n",
       "      <th>last_temperature</th>\n",
       "      <th>wire_1</th>\n",
       "    </tr>\n",
       "  </thead>\n",
       "  <tbody>\n",
       "    <tr>\n",
       "      <th>2319</th>\n",
       "      <td>2495</td>\n",
       "      <td>3.168133</td>\n",
       "      <td>2.210936</td>\n",
       "      <td>3.868721</td>\n",
       "      <td>723</td>\n",
       "      <td>694.177326</td>\n",
       "      <td>4</td>\n",
       "      <td>256.0</td>\n",
       "      <td>129.0</td>\n",
       "      <td>7.125735</td>\n",
       "      <td>1570.0</td>\n",
       "      <td>1591.0</td>\n",
       "      <td>89.150879</td>\n",
       "    </tr>\n",
       "    <tr>\n",
       "      <th>2320</th>\n",
       "      <td>2496</td>\n",
       "      <td>4.174918</td>\n",
       "      <td>2.872031</td>\n",
       "      <td>5.070316</td>\n",
       "      <td>940</td>\n",
       "      <td>815.818538</td>\n",
       "      <td>6</td>\n",
       "      <td>256.0</td>\n",
       "      <td>129.0</td>\n",
       "      <td>9.412616</td>\n",
       "      <td>1554.0</td>\n",
       "      <td>1591.0</td>\n",
       "      <td>114.179527</td>\n",
       "    </tr>\n",
       "    <tr>\n",
       "      <th>2321</th>\n",
       "      <td>2497</td>\n",
       "      <td>3.605239</td>\n",
       "      <td>2.452092</td>\n",
       "      <td>4.360918</td>\n",
       "      <td>569</td>\n",
       "      <td>823.020520</td>\n",
       "      <td>3</td>\n",
       "      <td>230.0</td>\n",
       "      <td>124.0</td>\n",
       "      <td>6.271699</td>\n",
       "      <td>1571.0</td>\n",
       "      <td>1589.0</td>\n",
       "      <td>94.086723</td>\n",
       "    </tr>\n",
       "    <tr>\n",
       "      <th>2322</th>\n",
       "      <td>2498</td>\n",
       "      <td>3.202310</td>\n",
       "      <td>2.239820</td>\n",
       "      <td>3.909917</td>\n",
       "      <td>750</td>\n",
       "      <td>581.810739</td>\n",
       "      <td>5</td>\n",
       "      <td>206.0</td>\n",
       "      <td>129.0</td>\n",
       "      <td>14.953657</td>\n",
       "      <td>1591.0</td>\n",
       "      <td>1594.0</td>\n",
       "      <td>118.110717</td>\n",
       "    </tr>\n",
       "    <tr>\n",
       "      <th>2323</th>\n",
       "      <td>2499</td>\n",
       "      <td>1.737084</td>\n",
       "      <td>1.296836</td>\n",
       "      <td>2.169252</td>\n",
       "      <td>883</td>\n",
       "      <td>532.386183</td>\n",
       "      <td>4</td>\n",
       "      <td>233.0</td>\n",
       "      <td>126.0</td>\n",
       "      <td>11.336151</td>\n",
       "      <td>1569.0</td>\n",
       "      <td>1603.0</td>\n",
       "      <td>110.160958</td>\n",
       "    </tr>\n",
       "  </tbody>\n",
       "</table>\n",
       "</div>"
      ],
      "text/plain": [
       "       key  active_power  reactive_power  full_power  heating_time   \n",
       "2319  2495      3.168133        2.210936    3.868721           723  \\\n",
       "2320  2496      4.174918        2.872031    5.070316           940   \n",
       "2321  2497      3.605239        2.452092    4.360918           569   \n",
       "2322  2498      3.202310        2.239820    3.909917           750   \n",
       "2323  2499      1.737084        1.296836    2.169252           883   \n",
       "\n",
       "      full_energy  number_of_heating  bulk_12  bulk_14      gas_1   \n",
       "2319   694.177326                  4    256.0    129.0   7.125735  \\\n",
       "2320   815.818538                  6    256.0    129.0   9.412616   \n",
       "2321   823.020520                  3    230.0    124.0   6.271699   \n",
       "2322   581.810739                  5    206.0    129.0  14.953657   \n",
       "2323   532.386183                  4    233.0    126.0  11.336151   \n",
       "\n",
       "      first_temperture  last_temperature      wire_1  \n",
       "2319            1570.0            1591.0   89.150879  \n",
       "2320            1554.0            1591.0  114.179527  \n",
       "2321            1571.0            1589.0   94.086723  \n",
       "2322            1591.0            1594.0  118.110717  \n",
       "2323            1569.0            1603.0  110.160958  "
      ]
     },
     "execution_count": 70,
     "metadata": {},
     "output_type": "execute_result"
    }
   ],
   "source": [
    "data.tail(5)"
   ]
  },
  {
   "cell_type": "markdown",
   "id": "54700ce7",
   "metadata": {},
   "source": [
    "#### Вывод по объединению таблиц\n",
    "\n",
    "1. В результате проверочных операций не должно оставаться ключей, с номерами более чем 2500, что подтвержено методом df.tail().\n",
    "\n",
    "2. Итоговый датафрейм состоит из 2324 строк и 13 столбцов, что также соответствует рекомендациям заказчика (не более 2332 ключей)"
   ]
  },
  {
   "cell_type": "markdown",
   "id": "5cb89a59",
   "metadata": {},
   "source": [
    "### Корреляция данных"
   ]
  },
  {
   "cell_type": "markdown",
   "id": "3aaafb32",
   "metadata": {},
   "source": [
    "Удалим столбец 'key'"
   ]
  },
  {
   "cell_type": "code",
   "execution_count": 71,
   "id": "bd6b9f3a",
   "metadata": {},
   "outputs": [],
   "source": [
    "data = data.drop('key', axis=1)"
   ]
  },
  {
   "cell_type": "code",
   "execution_count": 72,
   "id": "21073642",
   "metadata": {},
   "outputs": [
    {
     "data": {
      "text/html": [
       "<div>\n",
       "<style scoped>\n",
       "    .dataframe tbody tr th:only-of-type {\n",
       "        vertical-align: middle;\n",
       "    }\n",
       "\n",
       "    .dataframe tbody tr th {\n",
       "        vertical-align: top;\n",
       "    }\n",
       "\n",
       "    .dataframe thead th {\n",
       "        text-align: right;\n",
       "    }\n",
       "</style>\n",
       "<table border=\"1\" class=\"dataframe\">\n",
       "  <thead>\n",
       "    <tr style=\"text-align: right;\">\n",
       "      <th></th>\n",
       "      <th>active_power</th>\n",
       "      <th>reactive_power</th>\n",
       "      <th>full_power</th>\n",
       "      <th>heating_time</th>\n",
       "      <th>full_energy</th>\n",
       "      <th>number_of_heating</th>\n",
       "      <th>bulk_12</th>\n",
       "      <th>bulk_14</th>\n",
       "      <th>gas_1</th>\n",
       "      <th>first_temperture</th>\n",
       "      <th>last_temperature</th>\n",
       "      <th>wire_1</th>\n",
       "    </tr>\n",
       "  </thead>\n",
       "  <tbody>\n",
       "    <tr>\n",
       "      <th>0</th>\n",
       "      <td>3.036730</td>\n",
       "      <td>2.142821</td>\n",
       "      <td>3.718736</td>\n",
       "      <td>1098</td>\n",
       "      <td>770.282114</td>\n",
       "      <td>5</td>\n",
       "      <td>206.0</td>\n",
       "      <td>150.0</td>\n",
       "      <td>29.749986</td>\n",
       "      <td>1571.0</td>\n",
       "      <td>1613.0</td>\n",
       "      <td>60.059998</td>\n",
       "    </tr>\n",
       "    <tr>\n",
       "      <th>1</th>\n",
       "      <td>2.139408</td>\n",
       "      <td>1.453357</td>\n",
       "      <td>2.588349</td>\n",
       "      <td>811</td>\n",
       "      <td>481.760005</td>\n",
       "      <td>4</td>\n",
       "      <td>206.0</td>\n",
       "      <td>149.0</td>\n",
       "      <td>12.555561</td>\n",
       "      <td>1581.0</td>\n",
       "      <td>1602.0</td>\n",
       "      <td>96.052315</td>\n",
       "    </tr>\n",
       "    <tr>\n",
       "      <th>2</th>\n",
       "      <td>4.063641</td>\n",
       "      <td>2.937457</td>\n",
       "      <td>5.019223</td>\n",
       "      <td>655</td>\n",
       "      <td>722.837668</td>\n",
       "      <td>5</td>\n",
       "      <td>205.0</td>\n",
       "      <td>152.0</td>\n",
       "      <td>28.554793</td>\n",
       "      <td>1596.0</td>\n",
       "      <td>1599.0</td>\n",
       "      <td>91.160157</td>\n",
       "    </tr>\n",
       "    <tr>\n",
       "      <th>3</th>\n",
       "      <td>2.706489</td>\n",
       "      <td>2.056992</td>\n",
       "      <td>3.400038</td>\n",
       "      <td>741</td>\n",
       "      <td>683.455597</td>\n",
       "      <td>4</td>\n",
       "      <td>207.0</td>\n",
       "      <td>153.0</td>\n",
       "      <td>18.841219</td>\n",
       "      <td>1601.0</td>\n",
       "      <td>1625.0</td>\n",
       "      <td>89.063515</td>\n",
       "    </tr>\n",
       "    <tr>\n",
       "      <th>4</th>\n",
       "      <td>2.252950</td>\n",
       "      <td>1.687991</td>\n",
       "      <td>2.816980</td>\n",
       "      <td>869</td>\n",
       "      <td>512.169934</td>\n",
       "      <td>4</td>\n",
       "      <td>203.0</td>\n",
       "      <td>151.0</td>\n",
       "      <td>5.413692</td>\n",
       "      <td>1576.0</td>\n",
       "      <td>1602.0</td>\n",
       "      <td>89.238236</td>\n",
       "    </tr>\n",
       "  </tbody>\n",
       "</table>\n",
       "</div>"
      ],
      "text/plain": [
       "   active_power  reactive_power  full_power  heating_time  full_energy   \n",
       "0      3.036730        2.142821    3.718736          1098   770.282114  \\\n",
       "1      2.139408        1.453357    2.588349           811   481.760005   \n",
       "2      4.063641        2.937457    5.019223           655   722.837668   \n",
       "3      2.706489        2.056992    3.400038           741   683.455597   \n",
       "4      2.252950        1.687991    2.816980           869   512.169934   \n",
       "\n",
       "   number_of_heating  bulk_12  bulk_14      gas_1  first_temperture   \n",
       "0                  5    206.0    150.0  29.749986            1571.0  \\\n",
       "1                  4    206.0    149.0  12.555561            1581.0   \n",
       "2                  5    205.0    152.0  28.554793            1596.0   \n",
       "3                  4    207.0    153.0  18.841219            1601.0   \n",
       "4                  4    203.0    151.0   5.413692            1576.0   \n",
       "\n",
       "   last_temperature     wire_1  \n",
       "0            1613.0  60.059998  \n",
       "1            1602.0  96.052315  \n",
       "2            1599.0  91.160157  \n",
       "3            1625.0  89.063515  \n",
       "4            1602.0  89.238236  "
      ]
     },
     "execution_count": 72,
     "metadata": {},
     "output_type": "execute_result"
    }
   ],
   "source": [
    "data.head(5)"
   ]
  },
  {
   "cell_type": "code",
   "execution_count": 73,
   "id": "aaeee236",
   "metadata": {},
   "outputs": [
    {
     "data": {
      "text/plain": [
       "(2324, 12)"
      ]
     },
     "execution_count": 73,
     "metadata": {},
     "output_type": "execute_result"
    }
   ],
   "source": [
    "data.shape"
   ]
  },
  {
   "cell_type": "code",
   "execution_count": 74,
   "id": "dcc2e037",
   "metadata": {},
   "outputs": [
    {
     "data": {
      "image/png": "[encoded data removed]",
      "text/plain": [
       "<Figure size 700x700 with 2 Axes>"
      ]
     },
     "metadata": {},
     "output_type": "display_data"
    }
   ],
   "source": [
    "plt.figure(figsize=(7, 7))\n",
    "plt.title('Корреляция признаков', fontsize=14)\n",
    "plt.rcParams.update({'font.size': 7})\n",
    "sns.heatmap(data.corr(method='spearman'), annot = True, cmap='PuBuGn', fmt ='.2f')\n",
    "\n",
    "plt.show()"
   ]
  },
  {
   "cell_type": "markdown",
   "id": "c0a5f8bc",
   "metadata": {},
   "source": [
    "Как видно из тепловой  карты корреляции, максимиально коррелируют с целевым признаком 'last_temperature':\n",
    "\n",
    "- активная мощность 'active_power';\n",
    "- полная мощность 'full_power';\n",
    "- время нагрева 'heating_time';\n",
    "- полная энергия 'full_energy';\n",
    "- количество циклов нагрева 'number_of_heating';\n",
    "- добавка 'bulk_12';\n",
    "- первичная температура 'first_temperature';\n",
    "- проволока 'wire_1'"
   ]
  },
  {
   "cell_type": "markdown",
   "id": "9054682f",
   "metadata": {},
   "source": [
    "Удалим лишние столбцы, для которых коэффициент корреляции больше 0,9."
   ]
  },
  {
   "cell_type": "code",
   "execution_count": 75,
   "id": "68a9b190",
   "metadata": {},
   "outputs": [],
   "source": [
    "data = data.drop(['active_power', 'reactive_power'], axis=1)"
   ]
  },
  {
   "cell_type": "code",
   "execution_count": 76,
   "id": "ae757b78",
   "metadata": {},
   "outputs": [
    {
     "data": {
      "text/plain": [
       "0"
      ]
     },
     "execution_count": 76,
     "metadata": {},
     "output_type": "execute_result"
    }
   ],
   "source": [
    "data.duplicated().sum()"
   ]
  },
  {
   "cell_type": "code",
   "execution_count": 77,
   "id": "c5d4d0f4",
   "metadata": {},
   "outputs": [
    {
     "data": {
      "image/png": "[encoded data removed]",
      "text/plain": [
       "<Figure size 800x800 with 12 Axes>"
      ]
     },
     "metadata": {},
     "output_type": "display_data"
    }
   ],
   "source": [
    "data.hist(figsize=(8, 8), bins=20)\n",
    "plt.suptitle('Гистограммы распределения признаков итогового датасета', fontsize=12);"
   ]
  },
  {
   "cell_type": "markdown",
   "id": "38777264",
   "metadata": {},
   "source": [
    "### Подготовка данных и обучение моделей"
   ]
  },
  {
   "cell_type": "markdown",
   "id": "b494b816",
   "metadata": {},
   "source": [
    "На кросс-валидацию отводим 75% данных, на тест 25 % "
   ]
  },
  {
   "cell_type": "code",
   "execution_count": 78,
   "id": "f581bc06",
   "metadata": {},
   "outputs": [],
   "source": [
    "X = data.drop('last_temperature', axis=1)\n",
    "y = data['last_temperature']\n",
    "\n",
    "\n",
    "X_train, X_test, y_train, y_test = train_test_split(\n",
    "    X, \n",
    "    y, \n",
    "    test_size=0.25, \n",
    "    random_state=RANDOM_STATE\n",
    ")"
   ]
  },
  {
   "cell_type": "markdown",
   "id": "2df8b785",
   "metadata": {},
   "source": [
    "Размер выборок:"
   ]
  },
  {
   "cell_type": "code",
   "execution_count": 79,
   "id": "81967d09",
   "metadata": {},
   "outputs": [
    {
     "data": {
      "text/plain": [
       "(1743, 9)"
      ]
     },
     "metadata": {},
     "output_type": "display_data"
    },
    {
     "data": {
      "text/plain": [
       "(581, 9)"
      ]
     },
     "metadata": {},
     "output_type": "display_data"
    },
    {
     "data": {
      "text/plain": [
       "(1743,)"
      ]
     },
     "metadata": {},
     "output_type": "display_data"
    },
    {
     "data": {
      "text/plain": [
       "(581,)"
      ]
     },
     "metadata": {},
     "output_type": "display_data"
    }
   ],
   "source": [
    "display(X_train.shape)\n",
    "display(X_test.shape)\n",
    "display(y_train.shape)\n",
    "display(y_test.shape)"
   ]
  },
  {
   "cell_type": "markdown",
   "id": "3852bf48",
   "metadata": {},
   "source": [
    "Пайплайн для удобства подготовки данных:"
   ]
  },
  {
   "cell_type": "code",
   "execution_count": 80,
   "id": "29d09309",
   "metadata": {},
   "outputs": [],
   "source": [
    "num_columns = X.columns.tolist()"
   ]
  },
  {
   "cell_type": "code",
   "execution_count": 81,
   "id": "8e85acab",
   "metadata": {},
   "outputs": [],
   "source": [
    "data_preprocessor = ColumnTransformer(\n",
    "    [\n",
    "        ('num', StandardScaler(), num_columns)\n",
    "    ]\n",
    ")"
   ]
  },
  {
   "cell_type": "code",
   "execution_count": 82,
   "id": "74f45ffa",
   "metadata": {},
   "outputs": [],
   "source": [
    "pipe_final = Pipeline([\n",
    "    ('preprocessor', data_preprocessor),\n",
    "    ('models', LinearRegression()\n",
    "    )\n",
    "])"
   ]
  },
  {
   "cell_type": "code",
   "execution_count": 83,
   "id": "57600b9c",
   "metadata": {},
   "outputs": [],
   "source": [
    "param_grid = [\n",
    "    \n",
    "    {\n",
    "        'models': [LinearRegression()],  \n",
    "        'preprocessor__num': [StandardScaler(), MinMaxScaler(), 'passthrough']  \n",
    "    },\n",
    "    \n",
    "    {\n",
    "        'models': [LGBMRegressor(verbose=-1, random_state=RANDOM_STATE)],\n",
    "        'models__max_depth': [2, 5, 8, 10, 12],\n",
    "        'models__num_leaves': [2, 3, 5, 7, 10],\n",
    "        'preprocessor__num': [StandardScaler(), MinMaxScaler(), 'passthrough']  \n",
    "    },\n",
    "    \n",
    "    {\n",
    "        'models': [CatBoostRegressor(iterations=200,\n",
    "                                     verbose=False,\n",
    "                                     random_state = RANDOM_STATE)],\n",
    "        'models__depth': [3, 5, 7],\n",
    "        'models__learning_rate': [0.01, 0.1, 0.5],\n",
    "        'models__l2_leaf_reg': [1, 3, 5, 7, 9],\n",
    "        'preprocessor__num': [StandardScaler(), MinMaxScaler(), 'passthrough']  \n",
    "    }\n",
    "]"
   ]
  },
  {
   "cell_type": "code",
   "execution_count": 84,
   "id": "e71ce5e6",
   "metadata": {},
   "outputs": [],
   "source": [
    "randomized_search = RandomizedSearchCV(\n",
    "    pipe_final,\n",
    "    param_grid,\n",
    "    cv=5,\n",
    "    n_iter=5,\n",
    "    scoring='neg_mean_absolute_error',\n",
    "    random_state=RANDOM_STATE,\n",
    "    n_jobs=-1\n",
    ")"
   ]
  },
  {
   "cell_type": "code",
   "execution_count": 85,
   "id": "791a6765",
   "metadata": {},
   "outputs": [
    {
     "data": {
      "text/html": [
       "<style>#sk-container-id-1 {color: black;background-color: white;}#sk-container-id-1 pre{padding: 0;}#sk-container-id-1 div.sk-toggleable {background-color: white;}#sk-container-id-1 label.sk-toggleable__label {cursor: pointer;display: block;width: 100%;margin-bottom: 0;padding: 0.3em;box-sizing: border-box;text-align: center;}#sk-container-id-1 label.sk-toggleable__label-arrow:before {content: \"▸\";float: left;margin-right: 0.25em;color: #696969;}#sk-container-id-1 label.sk-toggleable__label-arrow:hover:before {color: black;}#sk-container-id-1 div.sk-estimator:hover label.sk-toggleable__label-arrow:before {color: black;}#sk-container-id-1 div.sk-toggleable__content {max-height: 0;max-width: 0;overflow: hidden;text-align: left;background-color: #f0f8ff;}#sk-container-id-1 div.sk-toggleable__content pre {margin: 0.2em;color: black;border-radius: 0.25em;background-color: #f0f8ff;}#sk-container-id-1 input.sk-toggleable__control:checked~div.sk-toggleable__content {max-height: 200px;max-width: 100%;overflow: auto;}#sk-container-id-1 input.sk-toggleable__control:checked~label.sk-toggleable__label-arrow:before {content: \"▾\";}#sk-container-id-1 div.sk-estimator input.sk-toggleable__control:checked~label.sk-toggleable__label {background-color: #d4ebff;}#sk-container-id-1 div.sk-label input.sk-toggleable__control:checked~label.sk-toggleable__label {background-color: #d4ebff;}#sk-container-id-1 input.sk-hidden--visually {border: 0;clip: rect(1px 1px 1px 1px);clip: rect(1px, 1px, 1px, 1px);height: 1px;margin: -1px;overflow: hidden;padding: 0;position: absolute;width: 1px;}#sk-container-id-1 div.sk-estimator {font-family: monospace;background-color: #f0f8ff;border: 1px dotted black;border-radius: 0.25em;box-sizing: border-box;margin-bottom: 0.5em;}#sk-container-id-1 div.sk-estimator:hover {background-color: #d4ebff;}#sk-container-id-1 div.sk-parallel-item::after {content: \"\";width: 100%;border-bottom: 1px solid gray;flex-grow: 1;}#sk-container-id-1 div.sk-label:hover label.sk-toggleable__label {background-color: #d4ebff;}#sk-container-id-1 div.sk-serial::before {content: \"\";position: absolute;border-left: 1px solid gray;box-sizing: border-box;top: 0;bottom: 0;left: 50%;z-index: 0;}#sk-container-id-1 div.sk-serial {display: flex;flex-direction: column;align-items: center;background-color: white;padding-right: 0.2em;padding-left: 0.2em;position: relative;}#sk-container-id-1 div.sk-item {position: relative;z-index: 1;}#sk-container-id-1 div.sk-parallel {display: flex;align-items: stretch;justify-content: center;background-color: white;position: relative;}#sk-container-id-1 div.sk-item::before, #sk-container-id-1 div.sk-parallel-item::before {content: \"\";position: absolute;border-left: 1px solid gray;box-sizing: border-box;top: 0;bottom: 0;left: 50%;z-index: -1;}#sk-container-id-1 div.sk-parallel-item {display: flex;flex-direction: column;z-index: 1;position: relative;background-color: white;}#sk-container-id-1 div.sk-parallel-item:first-child::after {align-self: flex-end;width: 50%;}#sk-container-id-1 div.sk-parallel-item:last-child::after {align-self: flex-start;width: 50%;}#sk-container-id-1 div.sk-parallel-item:only-child::after {width: 0;}#sk-container-id-1 div.sk-dashed-wrapped {border: 1px dashed gray;margin: 0 0.4em 0.5em 0.4em;box-sizing: border-box;padding-bottom: 0.4em;background-color: white;}#sk-container-id-1 div.sk-label label {font-family: monospace;font-weight: bold;display: inline-block;line-height: 1.2em;}#sk-container-id-1 div.sk-label-container {text-align: center;}#sk-container-id-1 div.sk-container {/* jupyter's `normalize.less` sets `[hidden] { display: none; }` but bootstrap.min.css set `[hidden] { display: none !important; }` so we also need the `!important` here to be able to override the default hidden behavior on the sphinx rendered scikit-learn.org. See: https://github.com/scikit-learn/scikit-learn/issues/21755 */display: inline-block !important;position: relative;}#sk-container-id-1 div.sk-text-repr-fallback {display: none;}</style><div id=\"sk-container-id-1\" class=\"sk-top-container\"><div class=\"sk-text-repr-fallback\"><pre>RandomizedSearchCV(cv=5,\n",
       "                   estimator=Pipeline(steps=[(&#x27;preprocessor&#x27;,\n",
       "                                              ColumnTransformer(transformers=[(&#x27;num&#x27;,\n",
       "                                                                               StandardScaler(),\n",
       "                                                                               [&#x27;full_power&#x27;,\n",
       "                                                                                &#x27;heating_time&#x27;,\n",
       "                                                                                &#x27;full_energy&#x27;,\n",
       "                                                                                &#x27;number_of_heating&#x27;,\n",
       "                                                                                &#x27;bulk_12&#x27;,\n",
       "                                                                                &#x27;bulk_14&#x27;,\n",
       "                                                                                &#x27;gas_1&#x27;,\n",
       "                                                                                &#x27;first_temperture&#x27;,\n",
       "                                                                                &#x27;wire_1&#x27;])])),\n",
       "                                             (&#x27;models&#x27;, LinearRegression())]),\n",
       "                   n_iter=5, n_jobs=-1,\n",
       "                   param_distributions=[{&#x27;models&#x27;: [LinearRegression()],\n",
       "                                         &#x27;...\n",
       "                                         &#x27;preprocessor__num&#x27;: [StandardScaler(),\n",
       "                                                               MinMaxScaler(),\n",
       "                                                               &#x27;passthrough&#x27;]},\n",
       "                                        {&#x27;models&#x27;: [&lt;catboost.core.CatBoostRegressor object at 0x147ecf950&gt;],\n",
       "                                         &#x27;models__depth&#x27;: [3, 5, 7],\n",
       "                                         &#x27;models__l2_leaf_reg&#x27;: [1, 3, 5, 7, 9],\n",
       "                                         &#x27;models__learning_rate&#x27;: [0.01, 0.1,\n",
       "                                                                   0.5],\n",
       "                                         &#x27;preprocessor__num&#x27;: [StandardScaler(),\n",
       "                                                               MinMaxScaler(),\n",
       "                                                               &#x27;passthrough&#x27;]}],\n",
       "                   random_state=50824, scoring=&#x27;neg_mean_absolute_error&#x27;)</pre><b>In a Jupyter environment, please rerun this cell to show the HTML representation or trust the notebook. <br />On GitHub, the HTML representation is unable to render, please try loading this page with nbviewer.org.</b></div><div class=\"sk-container\" hidden><div class=\"sk-item sk-dashed-wrapped\"><div class=\"sk-label-container\"><div class=\"sk-label sk-toggleable\"><input class=\"sk-toggleable__control sk-hidden--visually\" id=\"sk-estimator-id-1\" type=\"checkbox\" ><label for=\"sk-estimator-id-1\" class=\"sk-toggleable__label sk-toggleable__label-arrow\">RandomizedSearchCV</label><div class=\"sk-toggleable__content\"><pre>RandomizedSearchCV(cv=5,\n",
       "                   estimator=Pipeline(steps=[(&#x27;preprocessor&#x27;,\n",
       "                                              ColumnTransformer(transformers=[(&#x27;num&#x27;,\n",
       "                                                                               StandardScaler(),\n",
       "                                                                               [&#x27;full_power&#x27;,\n",
       "                                                                                &#x27;heating_time&#x27;,\n",
       "                                                                                &#x27;full_energy&#x27;,\n",
       "                                                                                &#x27;number_of_heating&#x27;,\n",
       "                                                                                &#x27;bulk_12&#x27;,\n",
       "                                                                                &#x27;bulk_14&#x27;,\n",
       "                                                                                &#x27;gas_1&#x27;,\n",
       "                                                                                &#x27;first_temperture&#x27;,\n",
       "                                                                                &#x27;wire_1&#x27;])])),\n",
       "                                             (&#x27;models&#x27;, LinearRegression())]),\n",
       "                   n_iter=5, n_jobs=-1,\n",
       "                   param_distributions=[{&#x27;models&#x27;: [LinearRegression()],\n",
       "                                         &#x27;...\n",
       "                                         &#x27;preprocessor__num&#x27;: [StandardScaler(),\n",
       "                                                               MinMaxScaler(),\n",
       "                                                               &#x27;passthrough&#x27;]},\n",
       "                                        {&#x27;models&#x27;: [&lt;catboost.core.CatBoostRegressor object at 0x147ecf950&gt;],\n",
       "                                         &#x27;models__depth&#x27;: [3, 5, 7],\n",
       "                                         &#x27;models__l2_leaf_reg&#x27;: [1, 3, 5, 7, 9],\n",
       "                                         &#x27;models__learning_rate&#x27;: [0.01, 0.1,\n",
       "                                                                   0.5],\n",
       "                                         &#x27;preprocessor__num&#x27;: [StandardScaler(),\n",
       "                                                               MinMaxScaler(),\n",
       "                                                               &#x27;passthrough&#x27;]}],\n",
       "                   random_state=50824, scoring=&#x27;neg_mean_absolute_error&#x27;)</pre></div></div></div><div class=\"sk-parallel\"><div class=\"sk-parallel-item\"><div class=\"sk-item\"><div class=\"sk-label-container\"><div class=\"sk-label sk-toggleable\"><input class=\"sk-toggleable__control sk-hidden--visually\" id=\"sk-estimator-id-2\" type=\"checkbox\" ><label for=\"sk-estimator-id-2\" class=\"sk-toggleable__label sk-toggleable__label-arrow\">estimator: Pipeline</label><div class=\"sk-toggleable__content\"><pre>Pipeline(steps=[(&#x27;preprocessor&#x27;,\n",
       "                 ColumnTransformer(transformers=[(&#x27;num&#x27;, StandardScaler(),\n",
       "                                                  [&#x27;full_power&#x27;, &#x27;heating_time&#x27;,\n",
       "                                                   &#x27;full_energy&#x27;,\n",
       "                                                   &#x27;number_of_heating&#x27;,\n",
       "                                                   &#x27;bulk_12&#x27;, &#x27;bulk_14&#x27;,\n",
       "                                                   &#x27;gas_1&#x27;, &#x27;first_temperture&#x27;,\n",
       "                                                   &#x27;wire_1&#x27;])])),\n",
       "                (&#x27;models&#x27;, LinearRegression())])</pre></div></div></div><div class=\"sk-serial\"><div class=\"sk-item\"><div class=\"sk-serial\"><div class=\"sk-item sk-dashed-wrapped\"><div class=\"sk-label-container\"><div class=\"sk-label sk-toggleable\"><input class=\"sk-toggleable__control sk-hidden--visually\" id=\"sk-estimator-id-3\" type=\"checkbox\" ><label for=\"sk-estimator-id-3\" class=\"sk-toggleable__label sk-toggleable__label-arrow\">preprocessor: ColumnTransformer</label><div class=\"sk-toggleable__content\"><pre>ColumnTransformer(transformers=[(&#x27;num&#x27;, StandardScaler(),\n",
       "                                 [&#x27;full_power&#x27;, &#x27;heating_time&#x27;, &#x27;full_energy&#x27;,\n",
       "                                  &#x27;number_of_heating&#x27;, &#x27;bulk_12&#x27;, &#x27;bulk_14&#x27;,\n",
       "                                  &#x27;gas_1&#x27;, &#x27;first_temperture&#x27;, &#x27;wire_1&#x27;])])</pre></div></div></div><div class=\"sk-parallel\"><div class=\"sk-parallel-item\"><div class=\"sk-item\"><div class=\"sk-label-container\"><div class=\"sk-label sk-toggleable\"><input class=\"sk-toggleable__control sk-hidden--visually\" id=\"sk-estimator-id-4\" type=\"checkbox\" ><label for=\"sk-estimator-id-4\" class=\"sk-toggleable__label sk-toggleable__label-arrow\">num</label><div class=\"sk-toggleable__content\"><pre>[&#x27;full_power&#x27;, &#x27;heating_time&#x27;, &#x27;full_energy&#x27;, &#x27;number_of_heating&#x27;, &#x27;bulk_12&#x27;, &#x27;bulk_14&#x27;, &#x27;gas_1&#x27;, &#x27;first_temperture&#x27;, &#x27;wire_1&#x27;]</pre></div></div></div><div class=\"sk-serial\"><div class=\"sk-item\"><div class=\"sk-estimator sk-toggleable\"><input class=\"sk-toggleable__control sk-hidden--visually\" id=\"sk-estimator-id-5\" type=\"checkbox\" ><label for=\"sk-estimator-id-5\" class=\"sk-toggleable__label sk-toggleable__label-arrow\">StandardScaler</label><div class=\"sk-toggleable__content\"><pre>StandardScaler()</pre></div></div></div></div></div></div></div></div><div class=\"sk-item\"><div class=\"sk-estimator sk-toggleable\"><input class=\"sk-toggleable__control sk-hidden--visually\" id=\"sk-estimator-id-6\" type=\"checkbox\" ><label for=\"sk-estimator-id-6\" class=\"sk-toggleable__label sk-toggleable__label-arrow\">LinearRegression</label><div class=\"sk-toggleable__content\"><pre>LinearRegression()</pre></div></div></div></div></div></div></div></div></div></div></div></div>"
      ],
      "text/plain": [
       "RandomizedSearchCV(cv=5,\n",
       "                   estimator=Pipeline(steps=[('preprocessor',\n",
       "                                              ColumnTransformer(transformers=[('num',\n",
       "                                                                               StandardScaler(),\n",
       "                                                                               ['full_power',\n",
       "                                                                                'heating_time',\n",
       "                                                                                'full_energy',\n",
       "                                                                                'number_of_heating',\n",
       "                                                                                'bulk_12',\n",
       "                                                                                'bulk_14',\n",
       "                                                                                'gas_1',\n",
       "                                                                                'first_temperture',\n",
       "                                                                                'wire_1'])])),\n",
       "                                             ('models', LinearRegression())]),\n",
       "                   n_iter=5, n_jobs=-1,\n",
       "                   param_distributions=[{'models': [LinearRegression()],\n",
       "                                         '...\n",
       "                                         'preprocessor__num': [StandardScaler(),\n",
       "                                                               MinMaxScaler(),\n",
       "                                                               'passthrough']},\n",
       "                                        {'models': [<catboost.core.CatBoostRegressor object at 0x147ecf950>],\n",
       "                                         'models__depth': [3, 5, 7],\n",
       "                                         'models__l2_leaf_reg': [1, 3, 5, 7, 9],\n",
       "                                         'models__learning_rate': [0.01, 0.1,\n",
       "                                                                   0.5],\n",
       "                                         'preprocessor__num': [StandardScaler(),\n",
       "                                                               MinMaxScaler(),\n",
       "                                                               'passthrough']}],\n",
       "                   random_state=50824, scoring='neg_mean_absolute_error')"
      ]
     },
     "execution_count": 85,
     "metadata": {},
     "output_type": "execute_result"
    }
   ],
   "source": [
    "randomized_search.fit(X_train, y_train)"
   ]
  },
  {
   "cell_type": "code",
   "execution_count": 86,
   "id": "0fb15b53",
   "metadata": {},
   "outputs": [
    {
     "name": "stdout",
     "output_type": "stream",
     "text": [
      "Лучшая модель и её параметры:\n",
      "\n",
      " Pipeline(steps=[('preprocessor',\n",
      "                 ColumnTransformer(transformers=[('num', StandardScaler(),\n",
      "                                                  ['full_power', 'heating_time',\n",
      "                                                   'full_energy',\n",
      "                                                   'number_of_heating',\n",
      "                                                   'bulk_12', 'bulk_14',\n",
      "                                                   'gas_1', 'first_temperture',\n",
      "                                                   'wire_1'])])),\n",
      "                ('models',\n",
      "                 <catboost.core.CatBoostRegressor object at 0x147834d10>)])\n",
      "Метрика лучшей модели на кросс-валидации: 6.479063722590939\n"
     ]
    }
   ],
   "source": [
    "print('Лучшая модель и её параметры:\\n\\n', randomized_search.best_estimator_)\n",
    "print ('Метрика лучшей модели на кросс-валидации:', -randomized_search.best_score_)"
   ]
  },
  {
   "cell_type": "code",
   "execution_count": 87,
   "id": "dcd247a7",
   "metadata": {},
   "outputs": [],
   "source": [
    "result = pd.DataFrame(randomized_search.cv_results_)\n",
    "result = result[\n",
    "    ['rank_test_score', 'param_models', 'mean_test_score', 'params']\n",
    "    ].sort_values('rank_test_score') "
   ]
  },
  {
   "cell_type": "code",
   "execution_count": 88,
   "id": "3fe8f02f",
   "metadata": {},
   "outputs": [
    {
     "data": {
      "text/html": [
       "<div>\n",
       "<style scoped>\n",
       "    .dataframe tbody tr th:only-of-type {\n",
       "        vertical-align: middle;\n",
       "    }\n",
       "\n",
       "    .dataframe tbody tr th {\n",
       "        vertical-align: top;\n",
       "    }\n",
       "\n",
       "    .dataframe thead th {\n",
       "        text-align: right;\n",
       "    }\n",
       "</style>\n",
       "<table border=\"1\" class=\"dataframe\">\n",
       "  <thead>\n",
       "    <tr style=\"text-align: right;\">\n",
       "      <th></th>\n",
       "      <th>rank_test_score</th>\n",
       "      <th>param_models</th>\n",
       "      <th>mean_test_score</th>\n",
       "      <th>params</th>\n",
       "    </tr>\n",
       "  </thead>\n",
       "  <tbody>\n",
       "    <tr>\n",
       "      <th>3</th>\n",
       "      <td>1</td>\n",
       "      <td>&lt;catboost.core.CatBoostRegressor object at 0x147ecf950&gt;</td>\n",
       "      <td>-6.479064</td>\n",
       "      <td>{'preprocessor__num': StandardScaler(), 'models__learning_rate': 0.1, 'models__l2_leaf_reg': 7, 'models__depth': 5, 'models': &lt;catboost.core.CatBoostRegressor object at 0x147ecf950&gt;}</td>\n",
       "    </tr>\n",
       "    <tr>\n",
       "      <th>2</th>\n",
       "      <td>2</td>\n",
       "      <td>LGBMRegressor(random_state=50824, verbose=-1)</td>\n",
       "      <td>-6.590896</td>\n",
       "      <td>{'preprocessor__num': 'passthrough', 'models__num_leaves': 7, 'models__max_depth': 5, 'models': LGBMRegressor(random_state=50824, verbose=-1)}</td>\n",
       "    </tr>\n",
       "    <tr>\n",
       "      <th>0</th>\n",
       "      <td>3</td>\n",
       "      <td>LGBMRegressor(random_state=50824, verbose=-1)</td>\n",
       "      <td>-6.814238</td>\n",
       "      <td>{'preprocessor__num': MinMaxScaler(), 'models__num_leaves': 2, 'models__max_depth': 2, 'models': LGBMRegressor(random_state=50824, verbose=-1)}</td>\n",
       "    </tr>\n",
       "    <tr>\n",
       "      <th>1</th>\n",
       "      <td>4</td>\n",
       "      <td>&lt;catboost.core.CatBoostRegressor object at 0x147ecf950&gt;</td>\n",
       "      <td>-6.985702</td>\n",
       "      <td>{'preprocessor__num': MinMaxScaler(), 'models__learning_rate': 0.01, 'models__l2_leaf_reg': 3, 'models__depth': 3, 'models': &lt;catboost.core.CatBoostRegressor object at 0x147ecf950&gt;}</td>\n",
       "    </tr>\n",
       "    <tr>\n",
       "      <th>4</th>\n",
       "      <td>5</td>\n",
       "      <td>&lt;catboost.core.CatBoostRegressor object at 0x147ecf950&gt;</td>\n",
       "      <td>-7.235732</td>\n",
       "      <td>{'preprocessor__num': 'passthrough', 'models__learning_rate': 0.5, 'models__l2_leaf_reg': 3, 'models__depth': 7, 'models': &lt;catboost.core.CatBoostRegressor object at 0x147ecf950&gt;}</td>\n",
       "    </tr>\n",
       "  </tbody>\n",
       "</table>\n",
       "</div>"
      ],
      "text/plain": [
       "   rank_test_score                                             param_models   \n",
       "3                1  <catboost.core.CatBoostRegressor object at 0x147ecf950>  \\\n",
       "2                2            LGBMRegressor(random_state=50824, verbose=-1)   \n",
       "0                3            LGBMRegressor(random_state=50824, verbose=-1)   \n",
       "1                4  <catboost.core.CatBoostRegressor object at 0x147ecf950>   \n",
       "4                5  <catboost.core.CatBoostRegressor object at 0x147ecf950>   \n",
       "\n",
       "   mean_test_score   \n",
       "3        -6.479064  \\\n",
       "2        -6.590896   \n",
       "0        -6.814238   \n",
       "1        -6.985702   \n",
       "4        -7.235732   \n",
       "\n",
       "                                                                                                                                                                                   params  \n",
       "3  {'preprocessor__num': StandardScaler(), 'models__learning_rate': 0.1, 'models__l2_leaf_reg': 7, 'models__depth': 5, 'models': <catboost.core.CatBoostRegressor object at 0x147ecf950>}  \n",
       "2                                          {'preprocessor__num': 'passthrough', 'models__num_leaves': 7, 'models__max_depth': 5, 'models': LGBMRegressor(random_state=50824, verbose=-1)}  \n",
       "0                                         {'preprocessor__num': MinMaxScaler(), 'models__num_leaves': 2, 'models__max_depth': 2, 'models': LGBMRegressor(random_state=50824, verbose=-1)}  \n",
       "1   {'preprocessor__num': MinMaxScaler(), 'models__learning_rate': 0.01, 'models__l2_leaf_reg': 3, 'models__depth': 3, 'models': <catboost.core.CatBoostRegressor object at 0x147ecf950>}  \n",
       "4     {'preprocessor__num': 'passthrough', 'models__learning_rate': 0.5, 'models__l2_leaf_reg': 3, 'models__depth': 7, 'models': <catboost.core.CatBoostRegressor object at 0x147ecf950>}  "
      ]
     },
     "execution_count": 88,
     "metadata": {},
     "output_type": "execute_result"
    }
   ],
   "source": [
    "pd.set_option('display.max_colwidth', None)\n",
    "result"
   ]
  },
  {
   "cell_type": "markdown",
   "id": "2c04307f",
   "metadata": {},
   "source": [
    "#### Проверка лучшей модели на тестовой выборке"
   ]
  },
  {
   "cell_type": "code",
   "execution_count": 89,
   "id": "731cc921",
   "metadata": {},
   "outputs": [
    {
     "data": {
      "text/plain": [
       "{'preprocessor__num': StandardScaler(),\n",
       " 'models__learning_rate': 0.1,\n",
       " 'models__l2_leaf_reg': 7,\n",
       " 'models__depth': 5,\n",
       " 'models': <catboost.core.CatBoostRegressor at 0x147ecf950>}"
      ]
     },
     "execution_count": 89,
     "metadata": {},
     "output_type": "execute_result"
    }
   ],
   "source": [
    "best_model = randomized_search.best_estimator_\n",
    "best_model_preprocessor = randomized_search.best_estimator_['preprocessor']\n",
    "randomized_search.best_params_"
   ]
  },
  {
   "cell_type": "code",
   "execution_count": 90,
   "id": "e9cc48ba",
   "metadata": {},
   "outputs": [
    {
     "name": "stdout",
     "output_type": "stream",
     "text": [
      "MAE на тестовой выборке: 6.54\n"
     ]
    }
   ],
   "source": [
    "predict_test = best_model.predict(X_test)\n",
    "MAE_score = mean_absolute_error(y_test, predict_test)\n",
    "\n",
    "print(f'MAE на тестовой выборке: {MAE_score:.2f}')"
   ]
  },
  {
   "cell_type": "markdown",
   "id": "3703378e",
   "metadata": {},
   "source": [
    "#### Расчет метрики r2 на тестовой выборке"
   ]
  },
  {
   "cell_type": "code",
   "execution_count": 91,
   "id": "9b0e33cc",
   "metadata": {},
   "outputs": [
    {
     "name": "stdout",
     "output_type": "stream",
     "text": [
      "r2 на тестовой выборке: 0.39\n"
     ]
    }
   ],
   "source": [
    "r2 = r2_score(y_test, predict_test)\n",
    "\n",
    "print(f'r2 на тестовой выборке: {r2:.2f}')"
   ]
  },
  {
   "cell_type": "markdown",
   "id": "41b4e26b",
   "metadata": {},
   "source": [
    "Данное значение r2 говорит, что прогноз модели лучше, чем среднеее арифметическое фактических целевых значений, но модель не идельна и будет вести себя среднее с неизвестным набором данных."
   ]
  },
  {
   "cell_type": "markdown",
   "id": "0d5051d6",
   "metadata": {},
   "source": [
    "#### Cравнение с константной моделью DummyRegressor"
   ]
  },
  {
   "cell_type": "code",
   "execution_count": 92,
   "id": "a051fa7d",
   "metadata": {},
   "outputs": [
    {
     "name": "stdout",
     "output_type": "stream",
     "text": [
      "MAE констатной модели на тестовой выборке: 8.27\n"
     ]
    }
   ],
   "source": [
    "constant_model = DummyRegressor(strategy='median')\n",
    "constant_model.fit(X_train, y_train)\n",
    "constant_predict_test = constant_model.predict(X_test)\n",
    "constant_MAE_score = mean_absolute_error(y_test, constant_predict_test)\n",
    "\n",
    "print(f'MAE констатной модели на тестовой выборке: {constant_MAE_score:.2f}')"
   ]
  },
  {
   "cell_type": "markdown",
   "id": "f7e9a5ab",
   "metadata": {},
   "source": [
    "Метрика CatBoostRegressor  лучше, чем на константной модели"
   ]
  },
  {
   "cell_type": "markdown",
   "id": "6cf5fa01",
   "metadata": {},
   "source": [
    "#### Оценка важности признаков у лучшей модели "
   ]
  },
  {
   "cell_type": "code",
   "execution_count": 93,
   "id": "d3ed48e1",
   "metadata": {},
   "outputs": [],
   "source": [
    "feature_importance = pd.Series(\n",
    "    randomized_search.best_estimator_._final_estimator.feature_importances_,\n",
    "    index=X_test.columns\n",
    ").sort_values(ascending=False)"
   ]
  },
  {
   "cell_type": "code",
   "execution_count": 94,
   "id": "672b1c01",
   "metadata": {},
   "outputs": [
    {
     "data": {
      "image/png": "[encoded data removed]",
      "text/plain": [
       "<Figure size 800x400 with 1 Axes>"
      ]
     },
     "metadata": {},
     "output_type": "display_data"
    }
   ],
   "source": [
    "plt.figure(figsize=(8,4))\n",
    "\n",
    "plot_data = feature_importance.sort_values(ascending=False)\n",
    "\n",
    "sns.barplot(x=plot_data, y=plot_data.index)\n",
    "\n",
    "plt.title('Важность признаков')\n",
    "plt.xlabel('Критерий важности')\n",
    "plt.ylabel('Названия признаков')\n",
    "plt.show()"
   ]
  },
  {
   "cell_type": "markdown",
   "id": "2dbf86e7",
   "metadata": {},
   "source": [
    "**Вывод по важности признаков:**\n",
    "\n",
    "- Наиболее важным признаками являются первичная температура и время нагрева\n",
    "- Также существенное влияние оказывают объем сыпучего материала 'bulk_12' и объем проволоки 'wire_1'\n",
    "- Минимально значимый признак - количество циклов нагрева "
   ]
  },
  {
   "cell_type": "markdown",
   "id": "ba5e8052",
   "metadata": {},
   "source": [
    "#### Вывод по обучению моделей"
   ]
  },
  {
   "cell_type": "markdown",
   "id": "86081f26",
   "metadata": {},
   "source": [
    "1. Для обучения и оценки моделей данные были разбиты в следующих проворциях: кросс-валидация 75%, тест 25 %\n",
    "\n",
    "2. Для проекта использовались модели LGBMRegressor и CatBoostRegressor, с подготовкой данных с помощью Pipeline\n",
    "\n",
    "3. Лучшей моделью по итогам кросс-валидиации является CatBoostRegressor\n",
    "\n",
    "4. Метрика лучшей модели на кросс-валидации: МАЕ = 6.48\n",
    "\n",
    "5. Параметры лучшей модели: RANDOM_STATE = 50824, 'preprocessor__num': StandardScaler(), 'models__learning_rate': 0.1, 'models__l2_leaf_reg': 7, 'models__depth': 5\n",
    "\n",
    "6. Метрика лучшей модели на тестовой выборке MAE = 6.54, что соответствует требованиям заказчика\n",
    "\n",
    "7. Метрика r2 на тестовой выборке равна 0.39, данное значение говорит, что прогноз модели лучше, чем среднеее арифметическое фактических целевых значений, но модель не идельна и будет вести себя среднее с неизвестным набором данных\n",
    "\n",
    "8. MAE констатной модели DummyRegressor на тестовой выборке: 8.27, что хуже CatBoostRegressor\n",
    "\n",
    "9. Наиболее важным признаками являются первичная температура и время нагрева, также существенное влияние оказывают объем сыпучего материала 'bulk_12' и объем проволоки 'wire_1'. Минимально значимый признак - количество циклов нагрева."
   ]
  },
  {
   "cell_type": "markdown",
   "id": "a40ecfb6",
   "metadata": {},
   "source": [
    "### Итоговый вывод к проекту "
   ]
  },
  {
   "cell_type": "markdown",
   "id": "c355984a",
   "metadata": {},
   "source": [
    "**Целью данного проекта** являлась оптимизация производственных расходов металлургического комбината, с помощью построения модели машинного обучения, которая предсказывает температуру сплава.\n",
    "\n",
    "Данная модель позволит снизить затраты на электричество, обслуживание и ремонты.\n",
    "\n",
    "- Целевая переменная target - последняя температура по всей партии \n",
    "- Целевая метрика - MAE (нужно получить не более 6.8 на тесте)"
   ]
  },
  {
   "cell_type": "markdown",
   "id": "a027cc04",
   "metadata": {},
   "source": [
    "Для решения данной задачи заказчиком было предоставлено семь датасетов:\n",
    "\n",
    "- data_arc_new.csv — данные об электродах;\n",
    "\n",
    "- data_bulk_new.csv — данные о подаче сыпучих материалов (объём);\n",
    "\n",
    "- data_bulk_time_new.csv — данные о подаче сыпучих материалов (время);\n",
    "\n",
    "- data_gas_new.csv — данные о продувке сплава газом;\n",
    "\n",
    "- data_temp_new.csv — результаты измерения температуры;\n",
    "\n",
    "- data_wire_new.csv — данные о проволочных материалах (объём);\n",
    "\n",
    "- data_wire_time_new.csv — данные о проволочных материалах (время).\n",
    "\n",
    "После загрузки данных, был произведен исследовательский анализ данных, сформированны вопросы заказчику, которые обсуждались в рамках совещания.\n",
    "\n",
    "**Итог:** для дальнейшего анализа и предобработи рассмотренно 5 таблиц:\n",
    "\n",
    "**Файл data_arc_new.csv — данные об электродах**\n",
    "\n",
    "1. Переименнованны столбцы по правилам PEP8\n",
    "\n",
    "2. Удалены данные партий с отрицательной реактивной мощностью:\n",
    "\n",
    "3. Произведен расчет полной мощности и добавлен в новый столбец\n",
    "\n",
    "4. Произведен расчет времени нагрева в секундах, а также полной энергии, данные добавлены в новые столбцы\n",
    "\n",
    "5. Объединенны данные по номеру партии, в сводной таблице с расчетом и сумм энергии, мощностей, времени нагревания, а также произведем расчет количество циклов нагрева\n",
    "\n",
    "6. В результате полной предобработки данных датасета с данными об электродах, получили новый датафрем размерностью 3213 строку и 7 столбцов, содержащий новые признаки:\n",
    "\n",
    "- 'full_power' - полная мощность;\n",
    "- 'heating_time' - время нагрева (секунды);\n",
    "- 'full_energy' - полная энергия;\n",
    "- 'number_of_heating' количество циклов нагрева каждой партии\n",
    "\n",
    "**Файл data_bulk_new.csv - данные о подаче сыпучих материалов (объём)**\n",
    "\n",
    "1. Переименнованны столбцы по правилам PEP8\n",
    "\n",
    "2. По рекомендациям заказчика удаленны признаки, в которых изначально имеется более 80% пропущенных значений, также заполненны оставшиеся пропущенные значения нулями. Все столбцы, кроме bulk_12, bulk_14\n",
    "\n",
    "3. В результате полной предобработки данных датасета, получили новый датафрем размерностью 3129 строку и 3 столбца\n",
    "\n",
    "\n",
    "**Файл data_gas_new.csv — данные о продувке сплава газом**\n",
    "\n",
    "1. Переименнованны столбцы по правилам PEP8\n",
    "\n",
    "2. Явные дополнительные преобразования не требуется, анализ выбросов по реколмендации заказчика произведем после создания тренировочной выборки\n",
    "\n",
    "**Файл data_temp_new.csv — результаты измерения температуры**\n",
    "\n",
    "1. Переименнованны столбцы по правилам PEP8\n",
    "\n",
    "2. Удалены партии с температурой менее 1500, партии где один замер температуры и партии с пропущенными значениями:\n",
    "\n",
    "3. Выполнено определение начальной и конечной температур замеров:\n",
    "\n",
    "4. В результате полной предобработки данных датасета, получили новый датафрем размерностью 2471 строку и 3 столбца\n",
    "\n",
    "\n",
    "**Файл data_wire_new.csv — данные о проволочных материалах (объём)**\n",
    "\n",
    "1. Переименнованны столбцы по правилам PEP8\n",
    "\n",
    "2. По рекомендациям заказчика удаленны признаки, в которых изначально имеется более 80% пропущенных значений, также заполним оставшиеся пропущенные значения нулями. Все столбцы, кроме wire_1\n",
    "\n",
    "3. В результате полной предобработки данных датасета, получили новый датафрем размерностью 3081 строку и 2 столбца\n",
    "\n"
   ]
  },
  {
   "cell_type": "markdown",
   "id": "6dfb7365",
   "metadata": {},
   "source": [
    "Предобработанные данные 5-ти датасетов были объединены по ключу 'key' методом INNER\n",
    "\n",
    "Итоговый датафрейм состоит из 2324 строк и 13 столбцов, что также соответствует рекомендациям заказчика (не более 2332 ключей)"
   ]
  },
  {
   "cell_type": "markdown",
   "id": "7b4fd084",
   "metadata": {},
   "source": [
    "Согласно данным из тепловой  карты корреляции, выявленно, что максимиально коррелируют с целевым признаком **'last_temperature':**\n",
    "\n",
    "- активная мощность 'active_power';\n",
    "- полная мощность 'full_power';\n",
    "- время нагрева 'heating_time';\n",
    "- полная энергия 'full_energy';\n",
    "- количество циклов нагрева 'number_of_heating';\n",
    "- добавка 'bulk_12';\n",
    "- первичная температура 'first_temperature';\n",
    "- проволока 'wire_1'"
   ]
  },
  {
   "cell_type": "markdown",
   "id": "177dd07f",
   "metadata": {},
   "source": [
    "**Разработка и обучение моделей:**\n",
    "\n",
    "*Признаки моделей: 'full_power', 'heating_time', 'full_energy', 'number_of_heating', 'Bulk 12', 'Bulk 14', 'gas_1', 'first_temperture', 'Wire 1'*\n",
    "\n",
    "1. Для обучения и оценки моделей данные были разбиты в следующих проворциях: кросс-валидация 75%, тест 25 %\n",
    "\n",
    "2. Для проекта использовались модели LGBMRegressor и CatBoostRegressor, с подготовкой данных с помощью Pipeline\n",
    "\n",
    "3. Лучшей моделью по итогам кросс-валидиации является **CatBoostRegressor**\n",
    "\n",
    "4. Метрика лучшей модели на кросс-валидации: **МАЕ = 6.48**\n",
    "\n",
    "5. Параметры лучшей модели: RANDOM_STATE = 50824, 'preprocessor__num': StandardScaler(), 'models__learning_rate': 0.1, 'models__l2_leaf_reg': 7, 'models__depth': 5\n",
    "\n",
    "6. Метрика лучшей модели на тестовой выборке **MAE = 6.54**, что соответствует требованиям заказчика\n",
    "\n",
    "7. **Метрика r2 на тестовой выборке равна 0.39**, данное значение говорит, что прогноз модели лучше, чем среднеее арифметическое фактических целевых значений, но модель не идельна и будет вести себя среднее с неизвестным набором данных\n",
    "\n",
    "8. Метрика констатной модели **DummyRegressor** на тестовой выборке: **МАЕ = 8.27**, что хуже CatBoostRegressor\n",
    "\n",
    "9. Наиболее важным признаками являются первичная температура и время нагрева, также существенное влияние оказывают объем сыпучего материала 'bulk_12' и объем проволоки 'wire_1'. Минимально значимый признак - количество циклов нагрева."
   ]
  },
  {
   "cell_type": "markdown",
   "id": "03eaf44f",
   "metadata": {},
   "source": [
    "**Рекомендации заказчику**\n",
    "\n",
    "Для улучшения результатов решения задачи рассмотреть следующие шаги:\n",
    "\n",
    "- рассмотреть применение нейронных сетей для постоения прогноза целевого признака, что должно уменьшить ошибку и улучшить метрику\n",
    "\n",
    "- рассмотреть исключение (возможно) аномальных значений признаков в объединенном датасете, что должно улучшить обучение модели и предсказание на новых данных"
   ]
  },
  {
   "cell_type": "code",
   "execution_count": null,
   "id": "4e125ec7",
   "metadata": {},
   "outputs": [],
   "source": []
  }
 ],
 "metadata": {
  "ExecuteTimeLog": [
   {
    "duration": 77319,
    "start_time": "2024-08-07T11:38:05.131Z"
   },
   {
    "duration": 11511,
    "start_time": "2024-08-07T11:39:34.146Z"
   },
   {
    "duration": 2774,
    "start_time": "2024-08-07T11:39:51.886Z"
   },
   {
    "duration": 3285,
    "start_time": "2024-08-07T11:40:28.586Z"
   },
   {
    "duration": 3,
    "start_time": "2024-08-07T11:40:34.906Z"
   },
   {
    "duration": 3,
    "start_time": "2024-08-07T11:40:35.815Z"
   },
   {
    "duration": 152,
    "start_time": "2024-08-07T11:40:40.815Z"
   },
   {
    "duration": 93,
    "start_time": "2024-08-07T11:40:44.816Z"
   },
   {
    "duration": 113,
    "start_time": "2024-08-07T11:40:48.730Z"
   },
   {
    "duration": 95,
    "start_time": "2024-08-07T11:40:53.170Z"
   },
   {
    "duration": 119,
    "start_time": "2024-08-07T11:40:56.895Z"
   },
   {
    "duration": 89,
    "start_time": "2024-08-07T11:40:59.245Z"
   },
   {
    "duration": 773,
    "start_time": "2024-08-07T11:41:02.770Z"
   },
   {
    "duration": 5,
    "start_time": "2024-08-07T11:41:08.550Z"
   },
   {
    "duration": 6,
    "start_time": "2024-08-07T11:41:10.741Z"
   },
   {
    "duration": 8,
    "start_time": "2024-08-07T11:41:21.272Z"
   },
   {
    "duration": 854,
    "start_time": "2024-08-07T11:41:23.292Z"
   },
   {
    "duration": 50447,
    "start_time": "2024-08-07T11:41:27.595Z"
   },
   {
    "duration": 1087,
    "start_time": "2024-08-07T11:42:33.365Z"
   },
   {
    "duration": 796,
    "start_time": "2024-08-07T11:42:37.021Z"
   },
   {
    "duration": 1110,
    "start_time": "2024-08-07T11:42:48.941Z"
   },
   {
    "duration": 601,
    "start_time": "2024-08-07T11:42:54.050Z"
   },
   {
    "duration": 381,
    "start_time": "2024-08-07T11:42:57.200Z"
   },
   {
    "duration": 553,
    "start_time": "2024-08-07T11:43:00.807Z"
   },
   {
    "duration": 5245,
    "start_time": "2024-08-07T11:43:07.116Z"
   },
   {
    "duration": 866,
    "start_time": "2024-08-07T11:43:18.406Z"
   },
   {
    "duration": 760,
    "start_time": "2024-08-07T11:43:23.405Z"
   },
   {
    "duration": 20,
    "start_time": "2024-08-07T11:45:29.521Z"
   },
   {
    "duration": 4,
    "start_time": "2024-08-07T11:45:32.905Z"
   },
   {
    "duration": 12,
    "start_time": "2024-08-07T11:45:33.675Z"
   },
   {
    "duration": 13,
    "start_time": "2024-08-07T11:45:34.815Z"
   },
   {
    "duration": 11,
    "start_time": "2024-08-07T11:45:35.612Z"
   },
   {
    "duration": 6,
    "start_time": "2024-08-07T11:45:38.006Z"
   },
   {
    "duration": 6,
    "start_time": "2024-08-07T11:45:39.451Z"
   },
   {
    "duration": 6,
    "start_time": "2024-08-07T11:45:40.516Z"
   },
   {
    "duration": 11,
    "start_time": "2024-08-07T11:45:41.321Z"
   },
   {
    "duration": 163,
    "start_time": "2024-08-07T11:45:43.350Z"
   },
   {
    "duration": 16,
    "start_time": "2024-08-07T11:45:45.462Z"
   },
   {
    "duration": 4,
    "start_time": "2024-08-07T11:45:46.600Z"
   },
   {
    "duration": 4,
    "start_time": "2024-08-07T11:45:47.505Z"
   },
   {
    "duration": 11,
    "start_time": "2024-08-07T11:45:48.856Z"
   },
   {
    "duration": 16,
    "start_time": "2024-08-07T11:45:50.545Z"
   },
   {
    "duration": 3,
    "start_time": "2024-08-07T11:45:51.461Z"
   },
   {
    "duration": 14,
    "start_time": "2024-08-07T11:45:53.345Z"
   },
   {
    "duration": 5,
    "start_time": "2024-08-07T11:45:55.181Z"
   },
   {
    "duration": 16,
    "start_time": "2024-08-07T11:45:55.916Z"
   },
   {
    "duration": 137,
    "start_time": "2024-08-07T11:45:57.875Z"
   },
   {
    "duration": 7,
    "start_time": "2024-08-07T11:46:01.952Z"
   },
   {
    "duration": 3,
    "start_time": "2024-08-07T11:46:02.811Z"
   },
   {
    "duration": 7,
    "start_time": "2024-08-07T11:46:03.366Z"
   },
   {
    "duration": 8,
    "start_time": "2024-08-07T11:46:04.930Z"
   },
   {
    "duration": 13,
    "start_time": "2024-08-07T11:46:07.490Z"
   },
   {
    "duration": 11,
    "start_time": "2024-08-07T11:46:08.611Z"
   },
   {
    "duration": 9,
    "start_time": "2024-08-07T11:46:10.181Z"
   },
   {
    "duration": 7,
    "start_time": "2024-08-07T11:46:11.210Z"
   },
   {
    "duration": 5,
    "start_time": "2024-08-07T11:46:12.837Z"
   },
   {
    "duration": 9,
    "start_time": "2024-08-07T11:46:13.600Z"
   },
   {
    "duration": 6,
    "start_time": "2024-08-07T11:46:14.367Z"
   },
   {
    "duration": 4,
    "start_time": "2024-08-07T11:46:15.135Z"
   },
   {
    "duration": 6,
    "start_time": "2024-08-07T11:46:15.831Z"
   },
   {
    "duration": 10,
    "start_time": "2024-08-07T11:46:16.530Z"
   },
   {
    "duration": 21,
    "start_time": "2024-08-07T11:46:19.155Z"
   },
   {
    "duration": 4,
    "start_time": "2024-08-07T11:46:20.106Z"
   },
   {
    "duration": 260,
    "start_time": "2024-08-07T11:46:20.886Z"
   },
   {
    "duration": 17,
    "start_time": "2024-08-07T11:46:24.615Z"
   },
   {
    "duration": 12,
    "start_time": "2024-08-07T11:46:26.797Z"
   },
   {
    "duration": 5,
    "start_time": "2024-08-07T11:46:32.572Z"
   },
   {
    "duration": 5,
    "start_time": "2024-08-07T11:46:33.351Z"
   },
   {
    "duration": 12,
    "start_time": "2024-08-07T11:46:34.246Z"
   },
   {
    "duration": 119,
    "start_time": "2024-08-07T11:46:36.690Z"
   },
   {
    "duration": 18,
    "start_time": "2024-08-07T11:46:42.766Z"
   },
   {
    "duration": 4,
    "start_time": "2024-08-07T11:46:43.420Z"
   },
   {
    "duration": 16,
    "start_time": "2024-08-07T11:46:44.481Z"
   },
   {
    "duration": 15,
    "start_time": "2024-08-07T11:46:45.476Z"
   },
   {
    "duration": 4,
    "start_time": "2024-08-07T11:46:52.181Z"
   },
   {
    "duration": 14,
    "start_time": "2024-08-07T11:46:53.961Z"
   },
   {
    "duration": 4,
    "start_time": "2024-08-07T11:46:54.890Z"
   },
   {
    "duration": 1235,
    "start_time": "2024-08-07T11:46:55.386Z"
   },
   {
    "duration": 4,
    "start_time": "2024-08-07T11:47:06.485Z"
   },
   {
    "duration": 8,
    "start_time": "2024-08-07T11:47:07.476Z"
   },
   {
    "duration": 1038,
    "start_time": "2024-08-07T11:47:10.114Z"
   },
   {
    "duration": 8,
    "start_time": "2024-08-07T11:47:16.541Z"
   },
   {
    "duration": 7,
    "start_time": "2024-08-07T11:47:22.856Z"
   },
   {
    "duration": 3,
    "start_time": "2024-08-07T11:47:28.085Z"
   },
   {
    "duration": 2,
    "start_time": "2024-08-07T11:47:28.866Z"
   },
   {
    "duration": 2,
    "start_time": "2024-08-07T11:47:33.361Z"
   },
   {
    "duration": 4,
    "start_time": "2024-08-07T11:47:34.371Z"
   },
   {
    "duration": 3,
    "start_time": "2024-08-07T11:47:36.985Z"
   },
   {
    "duration": 3,
    "start_time": "2024-08-07T11:47:59.026Z"
   },
   {
    "duration": 17733,
    "start_time": "2024-08-07T11:48:04.000Z"
   },
   {
    "duration": 6,
    "start_time": "2024-08-07T11:48:25.910Z"
   },
   {
    "duration": 7,
    "start_time": "2024-08-07T11:48:28.335Z"
   },
   {
    "duration": 12,
    "start_time": "2024-08-07T11:48:29.090Z"
   },
   {
    "duration": 7,
    "start_time": "2024-08-07T11:48:33.987Z"
   },
   {
    "duration": 8,
    "start_time": "2024-08-07T11:48:38.251Z"
   },
   {
    "duration": 5,
    "start_time": "2024-08-07T11:48:40.310Z"
   },
   {
    "duration": 6,
    "start_time": "2024-08-07T11:48:44.416Z"
   },
   {
    "duration": 3,
    "start_time": "2024-08-07T11:48:48.656Z"
   },
   {
    "duration": 188,
    "start_time": "2024-08-07T11:48:49.525Z"
   }
  ],
  "kernelspec": {
   "display_name": "Python 3 (ipykernel)",
   "language": "python",
   "name": "python3"
  },
  "language_info": {
   "codemirror_mode": {
    "name": "ipython",
    "version": 3
   },
   "file_extension": ".py",
   "mimetype": "text/x-python",
   "name": "python",
   "nbconvert_exporter": "python",
   "pygments_lexer": "ipython3",
   "version": "3.11.5"
  },
  "toc": {
   "base_numbering": 1,
   "nav_menu": {},
   "number_sections": true,
   "sideBar": true,
   "skip_h1_title": true,
   "title_cell": "Описание проекта: промышленность",
   "title_sidebar": "Contents",
   "toc_cell": true,
   "toc_position": {
    "height": "calc(100% - 180px)",
    "left": "10px",
    "top": "150px",
    "width": "165px"
   },
   "toc_section_display": true,
   "toc_window_display": true
  },
  "varInspector": {
   "cols": {
    "lenName": 16,
    "lenType": 16,
    "lenVar": 40
   },
   "kernels_config": {
    "python": {
     "delete_cmd_postfix": "",
     "delete_cmd_prefix": "del ",
     "library": "var_list.py",
     "varRefreshCmd": "print(var_dic_list())"
    },
    "r": {
     "delete_cmd_postfix": ") ",
     "delete_cmd_prefix": "rm(",
     "library": "var_list.r",
     "varRefreshCmd": "cat(var_dic_list()) "
    }
   },
   "types_to_exclude": [
    "module",
    "function",
    "builtin_function_or_method",
    "instance",
    "_Feature"
   ],
   "window_display": false
  }
 },
 "nbformat": 4,
 "nbformat_minor": 5
}
